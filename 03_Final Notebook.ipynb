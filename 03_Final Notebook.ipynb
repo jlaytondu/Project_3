{
 "cells": [
  {
   "cell_type": "markdown",
   "metadata": {
    "slideshow": {
     "slide_type": "slide"
    }
   },
   "source": [
    "# Project 3 - Housing Price Prediction\n",
    "## Weston Eckloff, Sana Khan, and Joanna Layton"
   ]
  },
  {
   "cell_type": "markdown",
   "metadata": {
    "slideshow": {
     "slide_type": "subslide"
    }
   },
   "source": [
    "Overview: We will be using a housing dataset for Ames, Iowa from a Kaggle Competition to predict housing prices. The challenge with this project is that it has been preporcessed with 79 variables/features of a residential home. Using creative feature enigineering in combination with advanced regression our goal is to predict the final price of each home."
   ]
  },
  {
   "cell_type": "markdown",
   "metadata": {
    "slideshow": {
     "slide_type": "subslide"
    }
   },
   "source": [
    "# Import Dependencies"
   ]
  },
  {
   "cell_type": "code",
   "execution_count": 1,
   "metadata": {
    "slideshow": {
     "slide_type": "fragment"
    }
   },
   "outputs": [],
   "source": [
    "from numpy.random import seed\n",
    "seed(1)"
   ]
  },
  {
   "cell_type": "code",
   "execution_count": 2,
   "metadata": {
    "slideshow": {
     "slide_type": "fragment"
    }
   },
   "outputs": [],
   "source": [
    "%matplotlib inline\n",
    "import matplotlib.pyplot as plt\n",
    "import numpy as np\n",
    "import sklearn\n",
    "import sklearn.datasets\n",
    "import pandas as pd\n",
    "from sqlalchemy import create_engine\n",
    "import psycopg2"
   ]
  },
  {
   "cell_type": "markdown",
   "metadata": {
    "slideshow": {
     "slide_type": "subslide"
    }
   },
   "source": [
    "# Extract"
   ]
  },
  {
   "cell_type": "code",
   "execution_count": 3,
   "metadata": {
    "slideshow": {
     "slide_type": "fragment"
    }
   },
   "outputs": [
    {
     "data": {
      "text/html": [
       "<div>\n",
       "<style scoped>\n",
       "    .dataframe tbody tr th:only-of-type {\n",
       "        vertical-align: middle;\n",
       "    }\n",
       "\n",
       "    .dataframe tbody tr th {\n",
       "        vertical-align: top;\n",
       "    }\n",
       "\n",
       "    .dataframe thead th {\n",
       "        text-align: right;\n",
       "    }\n",
       "</style>\n",
       "<table border=\"1\" class=\"dataframe\">\n",
       "  <thead>\n",
       "    <tr style=\"text-align: right;\">\n",
       "      <th></th>\n",
       "      <th>Id</th>\n",
       "      <th>MSSubClass</th>\n",
       "      <th>MSZoning</th>\n",
       "      <th>LotFrontage</th>\n",
       "      <th>LotArea</th>\n",
       "      <th>Street</th>\n",
       "      <th>Alley</th>\n",
       "      <th>LotShape</th>\n",
       "      <th>LandContour</th>\n",
       "      <th>Utilities</th>\n",
       "      <th>...</th>\n",
       "      <th>ScreenPorch</th>\n",
       "      <th>PoolArea</th>\n",
       "      <th>PoolQC</th>\n",
       "      <th>Fence</th>\n",
       "      <th>MiscFeature</th>\n",
       "      <th>MiscVal</th>\n",
       "      <th>MoSold</th>\n",
       "      <th>YrSold</th>\n",
       "      <th>SaleType</th>\n",
       "      <th>SaleCondition</th>\n",
       "    </tr>\n",
       "  </thead>\n",
       "  <tbody>\n",
       "    <tr>\n",
       "      <th>0</th>\n",
       "      <td>1461</td>\n",
       "      <td>20</td>\n",
       "      <td>RH</td>\n",
       "      <td>80.0</td>\n",
       "      <td>11622</td>\n",
       "      <td>Pave</td>\n",
       "      <td>NaN</td>\n",
       "      <td>Reg</td>\n",
       "      <td>Lvl</td>\n",
       "      <td>AllPub</td>\n",
       "      <td>...</td>\n",
       "      <td>120</td>\n",
       "      <td>0</td>\n",
       "      <td>NaN</td>\n",
       "      <td>MnPrv</td>\n",
       "      <td>NaN</td>\n",
       "      <td>0</td>\n",
       "      <td>6</td>\n",
       "      <td>2010</td>\n",
       "      <td>WD</td>\n",
       "      <td>Normal</td>\n",
       "    </tr>\n",
       "    <tr>\n",
       "      <th>1</th>\n",
       "      <td>1462</td>\n",
       "      <td>20</td>\n",
       "      <td>RL</td>\n",
       "      <td>81.0</td>\n",
       "      <td>14267</td>\n",
       "      <td>Pave</td>\n",
       "      <td>NaN</td>\n",
       "      <td>IR1</td>\n",
       "      <td>Lvl</td>\n",
       "      <td>AllPub</td>\n",
       "      <td>...</td>\n",
       "      <td>0</td>\n",
       "      <td>0</td>\n",
       "      <td>NaN</td>\n",
       "      <td>NaN</td>\n",
       "      <td>Gar2</td>\n",
       "      <td>12500</td>\n",
       "      <td>6</td>\n",
       "      <td>2010</td>\n",
       "      <td>WD</td>\n",
       "      <td>Normal</td>\n",
       "    </tr>\n",
       "    <tr>\n",
       "      <th>2</th>\n",
       "      <td>1463</td>\n",
       "      <td>60</td>\n",
       "      <td>RL</td>\n",
       "      <td>74.0</td>\n",
       "      <td>13830</td>\n",
       "      <td>Pave</td>\n",
       "      <td>NaN</td>\n",
       "      <td>IR1</td>\n",
       "      <td>Lvl</td>\n",
       "      <td>AllPub</td>\n",
       "      <td>...</td>\n",
       "      <td>0</td>\n",
       "      <td>0</td>\n",
       "      <td>NaN</td>\n",
       "      <td>MnPrv</td>\n",
       "      <td>NaN</td>\n",
       "      <td>0</td>\n",
       "      <td>3</td>\n",
       "      <td>2010</td>\n",
       "      <td>WD</td>\n",
       "      <td>Normal</td>\n",
       "    </tr>\n",
       "    <tr>\n",
       "      <th>3</th>\n",
       "      <td>1464</td>\n",
       "      <td>60</td>\n",
       "      <td>RL</td>\n",
       "      <td>78.0</td>\n",
       "      <td>9978</td>\n",
       "      <td>Pave</td>\n",
       "      <td>NaN</td>\n",
       "      <td>IR1</td>\n",
       "      <td>Lvl</td>\n",
       "      <td>AllPub</td>\n",
       "      <td>...</td>\n",
       "      <td>0</td>\n",
       "      <td>0</td>\n",
       "      <td>NaN</td>\n",
       "      <td>NaN</td>\n",
       "      <td>NaN</td>\n",
       "      <td>0</td>\n",
       "      <td>6</td>\n",
       "      <td>2010</td>\n",
       "      <td>WD</td>\n",
       "      <td>Normal</td>\n",
       "    </tr>\n",
       "    <tr>\n",
       "      <th>4</th>\n",
       "      <td>1465</td>\n",
       "      <td>120</td>\n",
       "      <td>RL</td>\n",
       "      <td>43.0</td>\n",
       "      <td>5005</td>\n",
       "      <td>Pave</td>\n",
       "      <td>NaN</td>\n",
       "      <td>IR1</td>\n",
       "      <td>HLS</td>\n",
       "      <td>AllPub</td>\n",
       "      <td>...</td>\n",
       "      <td>144</td>\n",
       "      <td>0</td>\n",
       "      <td>NaN</td>\n",
       "      <td>NaN</td>\n",
       "      <td>NaN</td>\n",
       "      <td>0</td>\n",
       "      <td>1</td>\n",
       "      <td>2010</td>\n",
       "      <td>WD</td>\n",
       "      <td>Normal</td>\n",
       "    </tr>\n",
       "  </tbody>\n",
       "</table>\n",
       "<p>5 rows × 80 columns</p>\n",
       "</div>"
      ],
      "text/plain": [
       "     Id  MSSubClass MSZoning  LotFrontage  LotArea Street Alley LotShape  \\\n",
       "0  1461          20       RH         80.0    11622   Pave   NaN      Reg   \n",
       "1  1462          20       RL         81.0    14267   Pave   NaN      IR1   \n",
       "2  1463          60       RL         74.0    13830   Pave   NaN      IR1   \n",
       "3  1464          60       RL         78.0     9978   Pave   NaN      IR1   \n",
       "4  1465         120       RL         43.0     5005   Pave   NaN      IR1   \n",
       "\n",
       "  LandContour Utilities  ... ScreenPorch PoolArea PoolQC  Fence MiscFeature  \\\n",
       "0         Lvl    AllPub  ...         120        0    NaN  MnPrv         NaN   \n",
       "1         Lvl    AllPub  ...           0        0    NaN    NaN        Gar2   \n",
       "2         Lvl    AllPub  ...           0        0    NaN  MnPrv         NaN   \n",
       "3         Lvl    AllPub  ...           0        0    NaN    NaN         NaN   \n",
       "4         HLS    AllPub  ...         144        0    NaN    NaN         NaN   \n",
       "\n",
       "  MiscVal MoSold  YrSold  SaleType  SaleCondition  \n",
       "0       0      6    2010        WD         Normal  \n",
       "1   12500      6    2010        WD         Normal  \n",
       "2       0      3    2010        WD         Normal  \n",
       "3       0      6    2010        WD         Normal  \n",
       "4       0      1    2010        WD         Normal  \n",
       "\n",
       "[5 rows x 80 columns]"
      ]
     },
     "execution_count": 3,
     "metadata": {},
     "output_type": "execute_result"
    }
   ],
   "source": [
    "# Extract CSV\n",
    "test = \"Resources/test.csv\"\n",
    "test_df = pd.read_csv(test)\n",
    "test_df.head()"
   ]
  },
  {
   "cell_type": "code",
   "execution_count": 4,
   "metadata": {
    "slideshow": {
     "slide_type": "fragment"
    }
   },
   "outputs": [
    {
     "data": {
      "text/html": [
       "<div>\n",
       "<style scoped>\n",
       "    .dataframe tbody tr th:only-of-type {\n",
       "        vertical-align: middle;\n",
       "    }\n",
       "\n",
       "    .dataframe tbody tr th {\n",
       "        vertical-align: top;\n",
       "    }\n",
       "\n",
       "    .dataframe thead th {\n",
       "        text-align: right;\n",
       "    }\n",
       "</style>\n",
       "<table border=\"1\" class=\"dataframe\">\n",
       "  <thead>\n",
       "    <tr style=\"text-align: right;\">\n",
       "      <th></th>\n",
       "      <th>Id</th>\n",
       "      <th>MSSubClass</th>\n",
       "      <th>MSZoning</th>\n",
       "      <th>LotFrontage</th>\n",
       "      <th>LotArea</th>\n",
       "      <th>Street</th>\n",
       "      <th>Alley</th>\n",
       "      <th>LotShape</th>\n",
       "      <th>LandContour</th>\n",
       "      <th>Utilities</th>\n",
       "      <th>...</th>\n",
       "      <th>PoolArea</th>\n",
       "      <th>PoolQC</th>\n",
       "      <th>Fence</th>\n",
       "      <th>MiscFeature</th>\n",
       "      <th>MiscVal</th>\n",
       "      <th>MoSold</th>\n",
       "      <th>YrSold</th>\n",
       "      <th>SaleType</th>\n",
       "      <th>SaleCondition</th>\n",
       "      <th>SalePrice</th>\n",
       "    </tr>\n",
       "  </thead>\n",
       "  <tbody>\n",
       "    <tr>\n",
       "      <th>0</th>\n",
       "      <td>1</td>\n",
       "      <td>60</td>\n",
       "      <td>RL</td>\n",
       "      <td>65.0</td>\n",
       "      <td>8450</td>\n",
       "      <td>Pave</td>\n",
       "      <td>NaN</td>\n",
       "      <td>Reg</td>\n",
       "      <td>Lvl</td>\n",
       "      <td>AllPub</td>\n",
       "      <td>...</td>\n",
       "      <td>0</td>\n",
       "      <td>NaN</td>\n",
       "      <td>NaN</td>\n",
       "      <td>NaN</td>\n",
       "      <td>0</td>\n",
       "      <td>2</td>\n",
       "      <td>2008</td>\n",
       "      <td>WD</td>\n",
       "      <td>Normal</td>\n",
       "      <td>208500</td>\n",
       "    </tr>\n",
       "    <tr>\n",
       "      <th>1</th>\n",
       "      <td>2</td>\n",
       "      <td>20</td>\n",
       "      <td>RL</td>\n",
       "      <td>80.0</td>\n",
       "      <td>9600</td>\n",
       "      <td>Pave</td>\n",
       "      <td>NaN</td>\n",
       "      <td>Reg</td>\n",
       "      <td>Lvl</td>\n",
       "      <td>AllPub</td>\n",
       "      <td>...</td>\n",
       "      <td>0</td>\n",
       "      <td>NaN</td>\n",
       "      <td>NaN</td>\n",
       "      <td>NaN</td>\n",
       "      <td>0</td>\n",
       "      <td>5</td>\n",
       "      <td>2007</td>\n",
       "      <td>WD</td>\n",
       "      <td>Normal</td>\n",
       "      <td>181500</td>\n",
       "    </tr>\n",
       "    <tr>\n",
       "      <th>2</th>\n",
       "      <td>3</td>\n",
       "      <td>60</td>\n",
       "      <td>RL</td>\n",
       "      <td>68.0</td>\n",
       "      <td>11250</td>\n",
       "      <td>Pave</td>\n",
       "      <td>NaN</td>\n",
       "      <td>IR1</td>\n",
       "      <td>Lvl</td>\n",
       "      <td>AllPub</td>\n",
       "      <td>...</td>\n",
       "      <td>0</td>\n",
       "      <td>NaN</td>\n",
       "      <td>NaN</td>\n",
       "      <td>NaN</td>\n",
       "      <td>0</td>\n",
       "      <td>9</td>\n",
       "      <td>2008</td>\n",
       "      <td>WD</td>\n",
       "      <td>Normal</td>\n",
       "      <td>223500</td>\n",
       "    </tr>\n",
       "    <tr>\n",
       "      <th>3</th>\n",
       "      <td>4</td>\n",
       "      <td>70</td>\n",
       "      <td>RL</td>\n",
       "      <td>60.0</td>\n",
       "      <td>9550</td>\n",
       "      <td>Pave</td>\n",
       "      <td>NaN</td>\n",
       "      <td>IR1</td>\n",
       "      <td>Lvl</td>\n",
       "      <td>AllPub</td>\n",
       "      <td>...</td>\n",
       "      <td>0</td>\n",
       "      <td>NaN</td>\n",
       "      <td>NaN</td>\n",
       "      <td>NaN</td>\n",
       "      <td>0</td>\n",
       "      <td>2</td>\n",
       "      <td>2006</td>\n",
       "      <td>WD</td>\n",
       "      <td>Abnorml</td>\n",
       "      <td>140000</td>\n",
       "    </tr>\n",
       "    <tr>\n",
       "      <th>4</th>\n",
       "      <td>5</td>\n",
       "      <td>60</td>\n",
       "      <td>RL</td>\n",
       "      <td>84.0</td>\n",
       "      <td>14260</td>\n",
       "      <td>Pave</td>\n",
       "      <td>NaN</td>\n",
       "      <td>IR1</td>\n",
       "      <td>Lvl</td>\n",
       "      <td>AllPub</td>\n",
       "      <td>...</td>\n",
       "      <td>0</td>\n",
       "      <td>NaN</td>\n",
       "      <td>NaN</td>\n",
       "      <td>NaN</td>\n",
       "      <td>0</td>\n",
       "      <td>12</td>\n",
       "      <td>2008</td>\n",
       "      <td>WD</td>\n",
       "      <td>Normal</td>\n",
       "      <td>250000</td>\n",
       "    </tr>\n",
       "  </tbody>\n",
       "</table>\n",
       "<p>5 rows × 81 columns</p>\n",
       "</div>"
      ],
      "text/plain": [
       "   Id  MSSubClass MSZoning  LotFrontage  LotArea Street Alley LotShape  \\\n",
       "0   1          60       RL         65.0     8450   Pave   NaN      Reg   \n",
       "1   2          20       RL         80.0     9600   Pave   NaN      Reg   \n",
       "2   3          60       RL         68.0    11250   Pave   NaN      IR1   \n",
       "3   4          70       RL         60.0     9550   Pave   NaN      IR1   \n",
       "4   5          60       RL         84.0    14260   Pave   NaN      IR1   \n",
       "\n",
       "  LandContour Utilities  ... PoolArea PoolQC Fence MiscFeature MiscVal MoSold  \\\n",
       "0         Lvl    AllPub  ...        0    NaN   NaN         NaN       0      2   \n",
       "1         Lvl    AllPub  ...        0    NaN   NaN         NaN       0      5   \n",
       "2         Lvl    AllPub  ...        0    NaN   NaN         NaN       0      9   \n",
       "3         Lvl    AllPub  ...        0    NaN   NaN         NaN       0      2   \n",
       "4         Lvl    AllPub  ...        0    NaN   NaN         NaN       0     12   \n",
       "\n",
       "  YrSold  SaleType  SaleCondition  SalePrice  \n",
       "0   2008        WD         Normal     208500  \n",
       "1   2007        WD         Normal     181500  \n",
       "2   2008        WD         Normal     223500  \n",
       "3   2006        WD        Abnorml     140000  \n",
       "4   2008        WD         Normal     250000  \n",
       "\n",
       "[5 rows x 81 columns]"
      ]
     },
     "execution_count": 4,
     "metadata": {},
     "output_type": "execute_result"
    }
   ],
   "source": [
    "train = \"Resources/train.csv\"\n",
    "train_df = pd.read_csv(train)\n",
    "train_df.head()"
   ]
  },
  {
   "cell_type": "markdown",
   "metadata": {
    "slideshow": {
     "slide_type": "subslide"
    }
   },
   "source": [
    "# Transform"
   ]
  },
  {
   "cell_type": "code",
   "execution_count": 5,
   "metadata": {
    "slideshow": {
     "slide_type": "fragment"
    }
   },
   "outputs": [
    {
     "data": {
      "text/html": [
       "<div>\n",
       "<style scoped>\n",
       "    .dataframe tbody tr th:only-of-type {\n",
       "        vertical-align: middle;\n",
       "    }\n",
       "\n",
       "    .dataframe tbody tr th {\n",
       "        vertical-align: top;\n",
       "    }\n",
       "\n",
       "    .dataframe thead th {\n",
       "        text-align: right;\n",
       "    }\n",
       "</style>\n",
       "<table border=\"1\" class=\"dataframe\">\n",
       "  <thead>\n",
       "    <tr style=\"text-align: right;\">\n",
       "      <th></th>\n",
       "      <th>Id</th>\n",
       "      <th>LotArea</th>\n",
       "      <th>Utilities</th>\n",
       "      <th>LotConfig</th>\n",
       "      <th>Neighborhood</th>\n",
       "      <th>Condition1</th>\n",
       "      <th>Condition2</th>\n",
       "      <th>BldgType</th>\n",
       "      <th>HouseStyle</th>\n",
       "      <th>OverallQual</th>\n",
       "      <th>...</th>\n",
       "      <th>Fireplaces</th>\n",
       "      <th>FireplaceQu</th>\n",
       "      <th>GarageType</th>\n",
       "      <th>GarageArea</th>\n",
       "      <th>GarageCond</th>\n",
       "      <th>PavedDrive</th>\n",
       "      <th>MoSold</th>\n",
       "      <th>YrSold</th>\n",
       "      <th>SaleType</th>\n",
       "      <th>SaleCondition</th>\n",
       "    </tr>\n",
       "  </thead>\n",
       "  <tbody>\n",
       "    <tr>\n",
       "      <th>0</th>\n",
       "      <td>1461</td>\n",
       "      <td>11622</td>\n",
       "      <td>AllPub</td>\n",
       "      <td>Inside</td>\n",
       "      <td>NAmes</td>\n",
       "      <td>Feedr</td>\n",
       "      <td>Norm</td>\n",
       "      <td>1Fam</td>\n",
       "      <td>1Story</td>\n",
       "      <td>5</td>\n",
       "      <td>...</td>\n",
       "      <td>0</td>\n",
       "      <td>NaN</td>\n",
       "      <td>Attchd</td>\n",
       "      <td>730.0</td>\n",
       "      <td>TA</td>\n",
       "      <td>Y</td>\n",
       "      <td>6</td>\n",
       "      <td>2010</td>\n",
       "      <td>WD</td>\n",
       "      <td>Normal</td>\n",
       "    </tr>\n",
       "    <tr>\n",
       "      <th>1</th>\n",
       "      <td>1462</td>\n",
       "      <td>14267</td>\n",
       "      <td>AllPub</td>\n",
       "      <td>Corner</td>\n",
       "      <td>NAmes</td>\n",
       "      <td>Norm</td>\n",
       "      <td>Norm</td>\n",
       "      <td>1Fam</td>\n",
       "      <td>1Story</td>\n",
       "      <td>6</td>\n",
       "      <td>...</td>\n",
       "      <td>0</td>\n",
       "      <td>NaN</td>\n",
       "      <td>Attchd</td>\n",
       "      <td>312.0</td>\n",
       "      <td>TA</td>\n",
       "      <td>Y</td>\n",
       "      <td>6</td>\n",
       "      <td>2010</td>\n",
       "      <td>WD</td>\n",
       "      <td>Normal</td>\n",
       "    </tr>\n",
       "    <tr>\n",
       "      <th>2</th>\n",
       "      <td>1463</td>\n",
       "      <td>13830</td>\n",
       "      <td>AllPub</td>\n",
       "      <td>Inside</td>\n",
       "      <td>Gilbert</td>\n",
       "      <td>Norm</td>\n",
       "      <td>Norm</td>\n",
       "      <td>1Fam</td>\n",
       "      <td>2Story</td>\n",
       "      <td>5</td>\n",
       "      <td>...</td>\n",
       "      <td>1</td>\n",
       "      <td>TA</td>\n",
       "      <td>Attchd</td>\n",
       "      <td>482.0</td>\n",
       "      <td>TA</td>\n",
       "      <td>Y</td>\n",
       "      <td>3</td>\n",
       "      <td>2010</td>\n",
       "      <td>WD</td>\n",
       "      <td>Normal</td>\n",
       "    </tr>\n",
       "    <tr>\n",
       "      <th>3</th>\n",
       "      <td>1464</td>\n",
       "      <td>9978</td>\n",
       "      <td>AllPub</td>\n",
       "      <td>Inside</td>\n",
       "      <td>Gilbert</td>\n",
       "      <td>Norm</td>\n",
       "      <td>Norm</td>\n",
       "      <td>1Fam</td>\n",
       "      <td>2Story</td>\n",
       "      <td>6</td>\n",
       "      <td>...</td>\n",
       "      <td>1</td>\n",
       "      <td>Gd</td>\n",
       "      <td>Attchd</td>\n",
       "      <td>470.0</td>\n",
       "      <td>TA</td>\n",
       "      <td>Y</td>\n",
       "      <td>6</td>\n",
       "      <td>2010</td>\n",
       "      <td>WD</td>\n",
       "      <td>Normal</td>\n",
       "    </tr>\n",
       "    <tr>\n",
       "      <th>4</th>\n",
       "      <td>1465</td>\n",
       "      <td>5005</td>\n",
       "      <td>AllPub</td>\n",
       "      <td>Inside</td>\n",
       "      <td>StoneBr</td>\n",
       "      <td>Norm</td>\n",
       "      <td>Norm</td>\n",
       "      <td>TwnhsE</td>\n",
       "      <td>1Story</td>\n",
       "      <td>8</td>\n",
       "      <td>...</td>\n",
       "      <td>0</td>\n",
       "      <td>NaN</td>\n",
       "      <td>Attchd</td>\n",
       "      <td>506.0</td>\n",
       "      <td>TA</td>\n",
       "      <td>Y</td>\n",
       "      <td>1</td>\n",
       "      <td>2010</td>\n",
       "      <td>WD</td>\n",
       "      <td>Normal</td>\n",
       "    </tr>\n",
       "  </tbody>\n",
       "</table>\n",
       "<p>5 rows × 39 columns</p>\n",
       "</div>"
      ],
      "text/plain": [
       "     Id  LotArea Utilities LotConfig Neighborhood Condition1 Condition2  \\\n",
       "0  1461    11622    AllPub    Inside        NAmes      Feedr       Norm   \n",
       "1  1462    14267    AllPub    Corner        NAmes       Norm       Norm   \n",
       "2  1463    13830    AllPub    Inside      Gilbert       Norm       Norm   \n",
       "3  1464     9978    AllPub    Inside      Gilbert       Norm       Norm   \n",
       "4  1465     5005    AllPub    Inside      StoneBr       Norm       Norm   \n",
       "\n",
       "  BldgType HouseStyle  OverallQual  ...  Fireplaces  FireplaceQu  GarageType  \\\n",
       "0     1Fam     1Story            5  ...           0          NaN      Attchd   \n",
       "1     1Fam     1Story            6  ...           0          NaN      Attchd   \n",
       "2     1Fam     2Story            5  ...           1           TA      Attchd   \n",
       "3     1Fam     2Story            6  ...           1           Gd      Attchd   \n",
       "4   TwnhsE     1Story            8  ...           0          NaN      Attchd   \n",
       "\n",
       "  GarageArea GarageCond PavedDrive  MoSold YrSold SaleType SaleCondition  \n",
       "0      730.0         TA          Y       6   2010       WD        Normal  \n",
       "1      312.0         TA          Y       6   2010       WD        Normal  \n",
       "2      482.0         TA          Y       3   2010       WD        Normal  \n",
       "3      470.0         TA          Y       6   2010       WD        Normal  \n",
       "4      506.0         TA          Y       1   2010       WD        Normal  \n",
       "\n",
       "[5 rows x 39 columns]"
      ]
     },
     "execution_count": 5,
     "metadata": {},
     "output_type": "execute_result"
    }
   ],
   "source": [
    "#Drop variables/features that we do not want\n",
    "cleaned_test_df = test_df.drop(labels=[\"MSSubClass\", \"MSZoning\", \"LotFrontage\", \"Street\", \"Alley\",\n",
    "                                \"LotShape\",\"LandContour\",\"LandSlope\",\"RoofStyle\",\"MasVnrType\",\"BsmtQual\",\"BsmtCond\", \n",
    "                                \"BsmtExposure\",\"BsmtFinType1\",\"BsmtFinSF1\",\"BsmtFinSF2\",\"BsmtUnfSF\",\"TotalBsmtSF\",\n",
    "                                \"Heating\",\"HeatingQC\",\"CentralAir\",\"Electrical\",\"1stFlrSF\",\"2ndFlrSF\",\"LowQualFinSF\",\"KitchenAbvGr\",\n",
    "                                \"TotRmsAbvGrd\",\"GarageYrBlt\",\"GarageFinish\",\"GarageCars\",\"GarageQual\",\"WoodDeckSF\",\"OpenPorchSF\",\n",
    "                                \"EnclosedPorch\",\"3SsnPorch\",\"ScreenPorch\",\"PoolArea\",\"PoolQC\",\"Fence\",\"MiscFeature\",\n",
    "                                \"MiscVal\"],axis=1).copy()\n",
    "cleaned_test_df.head()"
   ]
  },
  {
   "cell_type": "code",
   "execution_count": 6,
   "metadata": {
    "slideshow": {
     "slide_type": "fragment"
    }
   },
   "outputs": [
    {
     "data": {
      "text/html": [
       "<div>\n",
       "<style scoped>\n",
       "    .dataframe tbody tr th:only-of-type {\n",
       "        vertical-align: middle;\n",
       "    }\n",
       "\n",
       "    .dataframe tbody tr th {\n",
       "        vertical-align: top;\n",
       "    }\n",
       "\n",
       "    .dataframe thead th {\n",
       "        text-align: right;\n",
       "    }\n",
       "</style>\n",
       "<table border=\"1\" class=\"dataframe\">\n",
       "  <thead>\n",
       "    <tr style=\"text-align: right;\">\n",
       "      <th></th>\n",
       "      <th>Id</th>\n",
       "      <th>LotArea</th>\n",
       "      <th>Utilities</th>\n",
       "      <th>LotConfig</th>\n",
       "      <th>Neighborhood</th>\n",
       "      <th>Condition1</th>\n",
       "      <th>Condition2</th>\n",
       "      <th>BldgType</th>\n",
       "      <th>HouseStyle</th>\n",
       "      <th>OverallQual</th>\n",
       "      <th>...</th>\n",
       "      <th>FireplaceQu</th>\n",
       "      <th>GarageType</th>\n",
       "      <th>GarageArea</th>\n",
       "      <th>GarageCond</th>\n",
       "      <th>PavedDrive</th>\n",
       "      <th>MoSold</th>\n",
       "      <th>YrSold</th>\n",
       "      <th>SaleType</th>\n",
       "      <th>SaleCondition</th>\n",
       "      <th>SalePrice</th>\n",
       "    </tr>\n",
       "  </thead>\n",
       "  <tbody>\n",
       "    <tr>\n",
       "      <th>0</th>\n",
       "      <td>1</td>\n",
       "      <td>8450</td>\n",
       "      <td>AllPub</td>\n",
       "      <td>Inside</td>\n",
       "      <td>CollgCr</td>\n",
       "      <td>Norm</td>\n",
       "      <td>Norm</td>\n",
       "      <td>1Fam</td>\n",
       "      <td>2Story</td>\n",
       "      <td>7</td>\n",
       "      <td>...</td>\n",
       "      <td>NaN</td>\n",
       "      <td>Attchd</td>\n",
       "      <td>548</td>\n",
       "      <td>TA</td>\n",
       "      <td>Y</td>\n",
       "      <td>2</td>\n",
       "      <td>2008</td>\n",
       "      <td>WD</td>\n",
       "      <td>Normal</td>\n",
       "      <td>208500</td>\n",
       "    </tr>\n",
       "    <tr>\n",
       "      <th>1</th>\n",
       "      <td>2</td>\n",
       "      <td>9600</td>\n",
       "      <td>AllPub</td>\n",
       "      <td>FR2</td>\n",
       "      <td>Veenker</td>\n",
       "      <td>Feedr</td>\n",
       "      <td>Norm</td>\n",
       "      <td>1Fam</td>\n",
       "      <td>1Story</td>\n",
       "      <td>6</td>\n",
       "      <td>...</td>\n",
       "      <td>TA</td>\n",
       "      <td>Attchd</td>\n",
       "      <td>460</td>\n",
       "      <td>TA</td>\n",
       "      <td>Y</td>\n",
       "      <td>5</td>\n",
       "      <td>2007</td>\n",
       "      <td>WD</td>\n",
       "      <td>Normal</td>\n",
       "      <td>181500</td>\n",
       "    </tr>\n",
       "    <tr>\n",
       "      <th>2</th>\n",
       "      <td>3</td>\n",
       "      <td>11250</td>\n",
       "      <td>AllPub</td>\n",
       "      <td>Inside</td>\n",
       "      <td>CollgCr</td>\n",
       "      <td>Norm</td>\n",
       "      <td>Norm</td>\n",
       "      <td>1Fam</td>\n",
       "      <td>2Story</td>\n",
       "      <td>7</td>\n",
       "      <td>...</td>\n",
       "      <td>TA</td>\n",
       "      <td>Attchd</td>\n",
       "      <td>608</td>\n",
       "      <td>TA</td>\n",
       "      <td>Y</td>\n",
       "      <td>9</td>\n",
       "      <td>2008</td>\n",
       "      <td>WD</td>\n",
       "      <td>Normal</td>\n",
       "      <td>223500</td>\n",
       "    </tr>\n",
       "    <tr>\n",
       "      <th>3</th>\n",
       "      <td>4</td>\n",
       "      <td>9550</td>\n",
       "      <td>AllPub</td>\n",
       "      <td>Corner</td>\n",
       "      <td>Crawfor</td>\n",
       "      <td>Norm</td>\n",
       "      <td>Norm</td>\n",
       "      <td>1Fam</td>\n",
       "      <td>2Story</td>\n",
       "      <td>7</td>\n",
       "      <td>...</td>\n",
       "      <td>Gd</td>\n",
       "      <td>Detchd</td>\n",
       "      <td>642</td>\n",
       "      <td>TA</td>\n",
       "      <td>Y</td>\n",
       "      <td>2</td>\n",
       "      <td>2006</td>\n",
       "      <td>WD</td>\n",
       "      <td>Abnorml</td>\n",
       "      <td>140000</td>\n",
       "    </tr>\n",
       "    <tr>\n",
       "      <th>4</th>\n",
       "      <td>5</td>\n",
       "      <td>14260</td>\n",
       "      <td>AllPub</td>\n",
       "      <td>FR2</td>\n",
       "      <td>NoRidge</td>\n",
       "      <td>Norm</td>\n",
       "      <td>Norm</td>\n",
       "      <td>1Fam</td>\n",
       "      <td>2Story</td>\n",
       "      <td>8</td>\n",
       "      <td>...</td>\n",
       "      <td>TA</td>\n",
       "      <td>Attchd</td>\n",
       "      <td>836</td>\n",
       "      <td>TA</td>\n",
       "      <td>Y</td>\n",
       "      <td>12</td>\n",
       "      <td>2008</td>\n",
       "      <td>WD</td>\n",
       "      <td>Normal</td>\n",
       "      <td>250000</td>\n",
       "    </tr>\n",
       "  </tbody>\n",
       "</table>\n",
       "<p>5 rows × 40 columns</p>\n",
       "</div>"
      ],
      "text/plain": [
       "   Id  LotArea Utilities LotConfig Neighborhood Condition1 Condition2  \\\n",
       "0   1     8450    AllPub    Inside      CollgCr       Norm       Norm   \n",
       "1   2     9600    AllPub       FR2      Veenker      Feedr       Norm   \n",
       "2   3    11250    AllPub    Inside      CollgCr       Norm       Norm   \n",
       "3   4     9550    AllPub    Corner      Crawfor       Norm       Norm   \n",
       "4   5    14260    AllPub       FR2      NoRidge       Norm       Norm   \n",
       "\n",
       "  BldgType HouseStyle  OverallQual  ...  FireplaceQu  GarageType  GarageArea  \\\n",
       "0     1Fam     2Story            7  ...          NaN      Attchd         548   \n",
       "1     1Fam     1Story            6  ...           TA      Attchd         460   \n",
       "2     1Fam     2Story            7  ...           TA      Attchd         608   \n",
       "3     1Fam     2Story            7  ...           Gd      Detchd         642   \n",
       "4     1Fam     2Story            8  ...           TA      Attchd         836   \n",
       "\n",
       "  GarageCond PavedDrive MoSold  YrSold SaleType SaleCondition SalePrice  \n",
       "0         TA          Y      2    2008       WD        Normal    208500  \n",
       "1         TA          Y      5    2007       WD        Normal    181500  \n",
       "2         TA          Y      9    2008       WD        Normal    223500  \n",
       "3         TA          Y      2    2006       WD       Abnorml    140000  \n",
       "4         TA          Y     12    2008       WD        Normal    250000  \n",
       "\n",
       "[5 rows x 40 columns]"
      ]
     },
     "execution_count": 6,
     "metadata": {},
     "output_type": "execute_result"
    }
   ],
   "source": [
    "cleaned_train_df = train_df.drop(labels=[\"MSSubClass\", \"MSZoning\", \"LotFrontage\", \"Street\", \"Alley\",\n",
    "                                \"LotShape\",\"LandContour\",\"LandSlope\",\"RoofStyle\",\"MasVnrType\",\"BsmtQual\",\"BsmtCond\", \n",
    "                                \"BsmtExposure\",\"BsmtFinType1\",\"BsmtFinSF1\",\"BsmtFinSF2\",\"BsmtUnfSF\",\"TotalBsmtSF\",\n",
    "                                \"Heating\",\"HeatingQC\",\"CentralAir\",\"Electrical\",\"1stFlrSF\",\"2ndFlrSF\",\"LowQualFinSF\",\"KitchenAbvGr\",\n",
    "                                \"TotRmsAbvGrd\",\"GarageYrBlt\",\"GarageFinish\",\"GarageCars\",\"GarageQual\",\"WoodDeckSF\",\"OpenPorchSF\",\n",
    "                                \"EnclosedPorch\",\"3SsnPorch\",\"ScreenPorch\",\"PoolArea\",\"PoolQC\",\"Fence\",\"MiscFeature\",\n",
    "                                \"MiscVal\"],axis=1).copy()\n",
    "cleaned_train_df.head()"
   ]
  },
  {
   "cell_type": "markdown",
   "metadata": {
    "slideshow": {
     "slide_type": "subslide"
    }
   },
   "source": [
    "Export cleaned CSVs"
   ]
  },
  {
   "cell_type": "code",
   "execution_count": 7,
   "metadata": {
    "slideshow": {
     "slide_type": "fragment"
    }
   },
   "outputs": [],
   "source": [
    "cleaned_test_df.to_csv('Resources/cleaned_test.csv', index=False, header=True)"
   ]
  },
  {
   "cell_type": "code",
   "execution_count": 8,
   "metadata": {
    "slideshow": {
     "slide_type": "fragment"
    }
   },
   "outputs": [],
   "source": [
    "cleaned_train_df.to_csv('Resources/cleaned_trained.csv', index=False, header=True)"
   ]
  },
  {
   "cell_type": "markdown",
   "metadata": {
    "slideshow": {
     "slide_type": "subslide"
    }
   },
   "source": [
    "Database Connection for Postgres"
   ]
  },
  {
   "cell_type": "code",
   "execution_count": 9,
   "metadata": {},
   "outputs": [],
   "source": [
    "connection_string = \"postgres:sana@localhost:5432/house_prices\"\n",
    "engine = create_engine(f'postgresql://{connection_string}')"
   ]
  },
  {
   "cell_type": "markdown",
   "metadata": {
    "slideshow": {
     "slide_type": "fragment"
    }
   },
   "source": [
    "# Load"
   ]
  },
  {
   "cell_type": "code",
   "execution_count": 10,
   "metadata": {
    "slideshow": {
     "slide_type": "fragment"
    }
   },
   "outputs": [],
   "source": [
    "cleaned_test_df.to_sql(name='test', con=engine, if_exists='append', index=True)"
   ]
  },
  {
   "cell_type": "code",
   "execution_count": 11,
   "metadata": {
    "slideshow": {
     "slide_type": "fragment"
    }
   },
   "outputs": [],
   "source": [
    "cleaned_train_df.to_sql(name='train', con=engine, if_exists='append', index=True)"
   ]
  },
  {
   "cell_type": "code",
   "execution_count": 12,
   "metadata": {
    "slideshow": {
     "slide_type": "fragment"
    }
   },
   "outputs": [],
   "source": [
    "# Import and Print DataSet\n",
    "train_data = pd.read_csv('Resources/cleaned_trained.csv')"
   ]
  },
  {
   "cell_type": "code",
   "execution_count": 13,
   "metadata": {},
   "outputs": [],
   "source": [
    "test_data = pd.read_csv(\"Resources/cleaned_test.csv\")"
   ]
  },
  {
   "cell_type": "code",
   "execution_count": 14,
   "metadata": {
    "slideshow": {
     "slide_type": "fragment"
    }
   },
   "outputs": [
    {
     "data": {
      "text/html": [
       "<div>\n",
       "<style scoped>\n",
       "    .dataframe tbody tr th:only-of-type {\n",
       "        vertical-align: middle;\n",
       "    }\n",
       "\n",
       "    .dataframe tbody tr th {\n",
       "        vertical-align: top;\n",
       "    }\n",
       "\n",
       "    .dataframe thead th {\n",
       "        text-align: right;\n",
       "    }\n",
       "</style>\n",
       "<table border=\"1\" class=\"dataframe\">\n",
       "  <thead>\n",
       "    <tr style=\"text-align: right;\">\n",
       "      <th></th>\n",
       "      <th>Id</th>\n",
       "      <th>LotArea</th>\n",
       "      <th>Utilities</th>\n",
       "      <th>LotConfig</th>\n",
       "      <th>Neighborhood</th>\n",
       "      <th>Condition1</th>\n",
       "      <th>Condition2</th>\n",
       "      <th>BldgType</th>\n",
       "      <th>HouseStyle</th>\n",
       "      <th>OverallQual</th>\n",
       "      <th>...</th>\n",
       "      <th>Fireplaces</th>\n",
       "      <th>FireplaceQu</th>\n",
       "      <th>GarageType</th>\n",
       "      <th>GarageArea</th>\n",
       "      <th>GarageCond</th>\n",
       "      <th>PavedDrive</th>\n",
       "      <th>MoSold</th>\n",
       "      <th>YrSold</th>\n",
       "      <th>SaleType</th>\n",
       "      <th>SaleCondition</th>\n",
       "    </tr>\n",
       "  </thead>\n",
       "  <tbody>\n",
       "    <tr>\n",
       "      <th>0</th>\n",
       "      <td>1461</td>\n",
       "      <td>11622</td>\n",
       "      <td>AllPub</td>\n",
       "      <td>Inside</td>\n",
       "      <td>NAmes</td>\n",
       "      <td>Feedr</td>\n",
       "      <td>Norm</td>\n",
       "      <td>1Fam</td>\n",
       "      <td>1Story</td>\n",
       "      <td>5</td>\n",
       "      <td>...</td>\n",
       "      <td>0</td>\n",
       "      <td>NaN</td>\n",
       "      <td>Attchd</td>\n",
       "      <td>730.0</td>\n",
       "      <td>TA</td>\n",
       "      <td>Y</td>\n",
       "      <td>6</td>\n",
       "      <td>2010</td>\n",
       "      <td>WD</td>\n",
       "      <td>Normal</td>\n",
       "    </tr>\n",
       "    <tr>\n",
       "      <th>1</th>\n",
       "      <td>1462</td>\n",
       "      <td>14267</td>\n",
       "      <td>AllPub</td>\n",
       "      <td>Corner</td>\n",
       "      <td>NAmes</td>\n",
       "      <td>Norm</td>\n",
       "      <td>Norm</td>\n",
       "      <td>1Fam</td>\n",
       "      <td>1Story</td>\n",
       "      <td>6</td>\n",
       "      <td>...</td>\n",
       "      <td>0</td>\n",
       "      <td>NaN</td>\n",
       "      <td>Attchd</td>\n",
       "      <td>312.0</td>\n",
       "      <td>TA</td>\n",
       "      <td>Y</td>\n",
       "      <td>6</td>\n",
       "      <td>2010</td>\n",
       "      <td>WD</td>\n",
       "      <td>Normal</td>\n",
       "    </tr>\n",
       "    <tr>\n",
       "      <th>2</th>\n",
       "      <td>1463</td>\n",
       "      <td>13830</td>\n",
       "      <td>AllPub</td>\n",
       "      <td>Inside</td>\n",
       "      <td>Gilbert</td>\n",
       "      <td>Norm</td>\n",
       "      <td>Norm</td>\n",
       "      <td>1Fam</td>\n",
       "      <td>2Story</td>\n",
       "      <td>5</td>\n",
       "      <td>...</td>\n",
       "      <td>1</td>\n",
       "      <td>TA</td>\n",
       "      <td>Attchd</td>\n",
       "      <td>482.0</td>\n",
       "      <td>TA</td>\n",
       "      <td>Y</td>\n",
       "      <td>3</td>\n",
       "      <td>2010</td>\n",
       "      <td>WD</td>\n",
       "      <td>Normal</td>\n",
       "    </tr>\n",
       "    <tr>\n",
       "      <th>3</th>\n",
       "      <td>1464</td>\n",
       "      <td>9978</td>\n",
       "      <td>AllPub</td>\n",
       "      <td>Inside</td>\n",
       "      <td>Gilbert</td>\n",
       "      <td>Norm</td>\n",
       "      <td>Norm</td>\n",
       "      <td>1Fam</td>\n",
       "      <td>2Story</td>\n",
       "      <td>6</td>\n",
       "      <td>...</td>\n",
       "      <td>1</td>\n",
       "      <td>Gd</td>\n",
       "      <td>Attchd</td>\n",
       "      <td>470.0</td>\n",
       "      <td>TA</td>\n",
       "      <td>Y</td>\n",
       "      <td>6</td>\n",
       "      <td>2010</td>\n",
       "      <td>WD</td>\n",
       "      <td>Normal</td>\n",
       "    </tr>\n",
       "    <tr>\n",
       "      <th>4</th>\n",
       "      <td>1465</td>\n",
       "      <td>5005</td>\n",
       "      <td>AllPub</td>\n",
       "      <td>Inside</td>\n",
       "      <td>StoneBr</td>\n",
       "      <td>Norm</td>\n",
       "      <td>Norm</td>\n",
       "      <td>TwnhsE</td>\n",
       "      <td>1Story</td>\n",
       "      <td>8</td>\n",
       "      <td>...</td>\n",
       "      <td>0</td>\n",
       "      <td>NaN</td>\n",
       "      <td>Attchd</td>\n",
       "      <td>506.0</td>\n",
       "      <td>TA</td>\n",
       "      <td>Y</td>\n",
       "      <td>1</td>\n",
       "      <td>2010</td>\n",
       "      <td>WD</td>\n",
       "      <td>Normal</td>\n",
       "    </tr>\n",
       "  </tbody>\n",
       "</table>\n",
       "<p>5 rows × 39 columns</p>\n",
       "</div>"
      ],
      "text/plain": [
       "     Id  LotArea Utilities LotConfig Neighborhood Condition1 Condition2  \\\n",
       "0  1461    11622    AllPub    Inside        NAmes      Feedr       Norm   \n",
       "1  1462    14267    AllPub    Corner        NAmes       Norm       Norm   \n",
       "2  1463    13830    AllPub    Inside      Gilbert       Norm       Norm   \n",
       "3  1464     9978    AllPub    Inside      Gilbert       Norm       Norm   \n",
       "4  1465     5005    AllPub    Inside      StoneBr       Norm       Norm   \n",
       "\n",
       "  BldgType HouseStyle  OverallQual  ...  Fireplaces  FireplaceQu  GarageType  \\\n",
       "0     1Fam     1Story            5  ...           0          NaN      Attchd   \n",
       "1     1Fam     1Story            6  ...           0          NaN      Attchd   \n",
       "2     1Fam     2Story            5  ...           1           TA      Attchd   \n",
       "3     1Fam     2Story            6  ...           1           Gd      Attchd   \n",
       "4   TwnhsE     1Story            8  ...           0          NaN      Attchd   \n",
       "\n",
       "  GarageArea GarageCond PavedDrive  MoSold YrSold SaleType SaleCondition  \n",
       "0      730.0         TA          Y       6   2010       WD        Normal  \n",
       "1      312.0         TA          Y       6   2010       WD        Normal  \n",
       "2      482.0         TA          Y       3   2010       WD        Normal  \n",
       "3      470.0         TA          Y       6   2010       WD        Normal  \n",
       "4      506.0         TA          Y       1   2010       WD        Normal  \n",
       "\n",
       "[5 rows x 39 columns]"
      ]
     },
     "execution_count": 14,
     "metadata": {},
     "output_type": "execute_result"
    }
   ],
   "source": [
    "test_data.head()"
   ]
  },
  {
   "cell_type": "code",
   "execution_count": 15,
   "metadata": {
    "slideshow": {
     "slide_type": "fragment"
    }
   },
   "outputs": [
    {
     "data": {
      "text/html": [
       "<div>\n",
       "<style scoped>\n",
       "    .dataframe tbody tr th:only-of-type {\n",
       "        vertical-align: middle;\n",
       "    }\n",
       "\n",
       "    .dataframe tbody tr th {\n",
       "        vertical-align: top;\n",
       "    }\n",
       "\n",
       "    .dataframe thead th {\n",
       "        text-align: right;\n",
       "    }\n",
       "</style>\n",
       "<table border=\"1\" class=\"dataframe\">\n",
       "  <thead>\n",
       "    <tr style=\"text-align: right;\">\n",
       "      <th></th>\n",
       "      <th>Id</th>\n",
       "      <th>LotArea</th>\n",
       "      <th>Utilities</th>\n",
       "      <th>LotConfig</th>\n",
       "      <th>Neighborhood</th>\n",
       "      <th>Condition1</th>\n",
       "      <th>Condition2</th>\n",
       "      <th>BldgType</th>\n",
       "      <th>HouseStyle</th>\n",
       "      <th>OverallQual</th>\n",
       "      <th>...</th>\n",
       "      <th>FireplaceQu</th>\n",
       "      <th>GarageType</th>\n",
       "      <th>GarageArea</th>\n",
       "      <th>GarageCond</th>\n",
       "      <th>PavedDrive</th>\n",
       "      <th>MoSold</th>\n",
       "      <th>YrSold</th>\n",
       "      <th>SaleType</th>\n",
       "      <th>SaleCondition</th>\n",
       "      <th>SalePrice</th>\n",
       "    </tr>\n",
       "  </thead>\n",
       "  <tbody>\n",
       "    <tr>\n",
       "      <th>0</th>\n",
       "      <td>1</td>\n",
       "      <td>8450</td>\n",
       "      <td>AllPub</td>\n",
       "      <td>Inside</td>\n",
       "      <td>CollgCr</td>\n",
       "      <td>Norm</td>\n",
       "      <td>Norm</td>\n",
       "      <td>1Fam</td>\n",
       "      <td>2Story</td>\n",
       "      <td>7</td>\n",
       "      <td>...</td>\n",
       "      <td>NaN</td>\n",
       "      <td>Attchd</td>\n",
       "      <td>548</td>\n",
       "      <td>TA</td>\n",
       "      <td>Y</td>\n",
       "      <td>2</td>\n",
       "      <td>2008</td>\n",
       "      <td>WD</td>\n",
       "      <td>Normal</td>\n",
       "      <td>208500</td>\n",
       "    </tr>\n",
       "    <tr>\n",
       "      <th>1</th>\n",
       "      <td>2</td>\n",
       "      <td>9600</td>\n",
       "      <td>AllPub</td>\n",
       "      <td>FR2</td>\n",
       "      <td>Veenker</td>\n",
       "      <td>Feedr</td>\n",
       "      <td>Norm</td>\n",
       "      <td>1Fam</td>\n",
       "      <td>1Story</td>\n",
       "      <td>6</td>\n",
       "      <td>...</td>\n",
       "      <td>TA</td>\n",
       "      <td>Attchd</td>\n",
       "      <td>460</td>\n",
       "      <td>TA</td>\n",
       "      <td>Y</td>\n",
       "      <td>5</td>\n",
       "      <td>2007</td>\n",
       "      <td>WD</td>\n",
       "      <td>Normal</td>\n",
       "      <td>181500</td>\n",
       "    </tr>\n",
       "    <tr>\n",
       "      <th>2</th>\n",
       "      <td>3</td>\n",
       "      <td>11250</td>\n",
       "      <td>AllPub</td>\n",
       "      <td>Inside</td>\n",
       "      <td>CollgCr</td>\n",
       "      <td>Norm</td>\n",
       "      <td>Norm</td>\n",
       "      <td>1Fam</td>\n",
       "      <td>2Story</td>\n",
       "      <td>7</td>\n",
       "      <td>...</td>\n",
       "      <td>TA</td>\n",
       "      <td>Attchd</td>\n",
       "      <td>608</td>\n",
       "      <td>TA</td>\n",
       "      <td>Y</td>\n",
       "      <td>9</td>\n",
       "      <td>2008</td>\n",
       "      <td>WD</td>\n",
       "      <td>Normal</td>\n",
       "      <td>223500</td>\n",
       "    </tr>\n",
       "    <tr>\n",
       "      <th>3</th>\n",
       "      <td>4</td>\n",
       "      <td>9550</td>\n",
       "      <td>AllPub</td>\n",
       "      <td>Corner</td>\n",
       "      <td>Crawfor</td>\n",
       "      <td>Norm</td>\n",
       "      <td>Norm</td>\n",
       "      <td>1Fam</td>\n",
       "      <td>2Story</td>\n",
       "      <td>7</td>\n",
       "      <td>...</td>\n",
       "      <td>Gd</td>\n",
       "      <td>Detchd</td>\n",
       "      <td>642</td>\n",
       "      <td>TA</td>\n",
       "      <td>Y</td>\n",
       "      <td>2</td>\n",
       "      <td>2006</td>\n",
       "      <td>WD</td>\n",
       "      <td>Abnorml</td>\n",
       "      <td>140000</td>\n",
       "    </tr>\n",
       "    <tr>\n",
       "      <th>4</th>\n",
       "      <td>5</td>\n",
       "      <td>14260</td>\n",
       "      <td>AllPub</td>\n",
       "      <td>FR2</td>\n",
       "      <td>NoRidge</td>\n",
       "      <td>Norm</td>\n",
       "      <td>Norm</td>\n",
       "      <td>1Fam</td>\n",
       "      <td>2Story</td>\n",
       "      <td>8</td>\n",
       "      <td>...</td>\n",
       "      <td>TA</td>\n",
       "      <td>Attchd</td>\n",
       "      <td>836</td>\n",
       "      <td>TA</td>\n",
       "      <td>Y</td>\n",
       "      <td>12</td>\n",
       "      <td>2008</td>\n",
       "      <td>WD</td>\n",
       "      <td>Normal</td>\n",
       "      <td>250000</td>\n",
       "    </tr>\n",
       "  </tbody>\n",
       "</table>\n",
       "<p>5 rows × 40 columns</p>\n",
       "</div>"
      ],
      "text/plain": [
       "   Id  LotArea Utilities LotConfig Neighborhood Condition1 Condition2  \\\n",
       "0   1     8450    AllPub    Inside      CollgCr       Norm       Norm   \n",
       "1   2     9600    AllPub       FR2      Veenker      Feedr       Norm   \n",
       "2   3    11250    AllPub    Inside      CollgCr       Norm       Norm   \n",
       "3   4     9550    AllPub    Corner      Crawfor       Norm       Norm   \n",
       "4   5    14260    AllPub       FR2      NoRidge       Norm       Norm   \n",
       "\n",
       "  BldgType HouseStyle  OverallQual  ...  FireplaceQu  GarageType  GarageArea  \\\n",
       "0     1Fam     2Story            7  ...          NaN      Attchd         548   \n",
       "1     1Fam     1Story            6  ...           TA      Attchd         460   \n",
       "2     1Fam     2Story            7  ...           TA      Attchd         608   \n",
       "3     1Fam     2Story            7  ...           Gd      Detchd         642   \n",
       "4     1Fam     2Story            8  ...           TA      Attchd         836   \n",
       "\n",
       "  GarageCond PavedDrive MoSold  YrSold SaleType SaleCondition SalePrice  \n",
       "0         TA          Y      2    2008       WD        Normal    208500  \n",
       "1         TA          Y      5    2007       WD        Normal    181500  \n",
       "2         TA          Y      9    2008       WD        Normal    223500  \n",
       "3         TA          Y      2    2006       WD       Abnorml    140000  \n",
       "4         TA          Y     12    2008       WD        Normal    250000  \n",
       "\n",
       "[5 rows x 40 columns]"
      ]
     },
     "execution_count": 15,
     "metadata": {},
     "output_type": "execute_result"
    }
   ],
   "source": [
    "train_data.head()"
   ]
  },
  {
   "cell_type": "code",
   "execution_count": 16,
   "metadata": {
    "slideshow": {
     "slide_type": "fragment"
    }
   },
   "outputs": [
    {
     "name": "stdout",
     "output_type": "stream",
     "text": [
      "0       208500\n",
      "1       181500\n",
      "2       223500\n",
      "3       140000\n",
      "4       250000\n",
      "         ...  \n",
      "1455    175000\n",
      "1456    210000\n",
      "1457    266500\n",
      "1458    142125\n",
      "1459    147500\n",
      "Name: SalePrice, Length: 1460, dtype: int64\n"
     ]
    }
   ],
   "source": [
    "# Y\n",
    "y = train_data['SalePrice']\n",
    "print(y)"
   ]
  },
  {
   "cell_type": "code",
   "execution_count": 17,
   "metadata": {
    "slideshow": {
     "slide_type": "fragment"
    }
   },
   "outputs": [
    {
     "name": "stdout",
     "output_type": "stream",
     "text": [
      "Index(['Id', 'LotArea', 'Utilities', 'LotConfig', 'Neighborhood', 'Condition1',\n",
      "       'Condition2', 'BldgType', 'HouseStyle', 'OverallQual', 'OverallCond',\n",
      "       'YearBuilt', 'YearRemodAdd', 'RoofMatl', 'Exterior1st', 'Exterior2nd',\n",
      "       'MasVnrArea', 'ExterQual', 'ExterCond', 'Foundation', 'BsmtFinType2',\n",
      "       'GrLivArea', 'BsmtFullBath', 'BsmtHalfBath', 'FullBath', 'HalfBath',\n",
      "       'BedroomAbvGr', 'KitchenQual', 'Functional', 'Fireplaces',\n",
      "       'FireplaceQu', 'GarageType', 'GarageArea', 'GarageCond', 'PavedDrive',\n",
      "       'MoSold', 'YrSold', 'SaleType', 'SaleCondition', 'SalePrice'],\n",
      "      dtype='object')\n"
     ]
    }
   ],
   "source": [
    "columns = train_data.columns\n",
    "print(columns)"
   ]
  },
  {
   "cell_type": "markdown",
   "metadata": {
    "slideshow": {
     "slide_type": "subslide"
    }
   },
   "source": [
    "# Review Cleaned Data"
   ]
  },
  {
   "cell_type": "code",
   "execution_count": 18,
   "metadata": {
    "slideshow": {
     "slide_type": "fragment"
    }
   },
   "outputs": [
    {
     "data": {
      "text/html": [
       "<div>\n",
       "<style scoped>\n",
       "    .dataframe tbody tr th:only-of-type {\n",
       "        vertical-align: middle;\n",
       "    }\n",
       "\n",
       "    .dataframe tbody tr th {\n",
       "        vertical-align: top;\n",
       "    }\n",
       "\n",
       "    .dataframe thead th {\n",
       "        text-align: right;\n",
       "    }\n",
       "</style>\n",
       "<table border=\"1\" class=\"dataframe\">\n",
       "  <thead>\n",
       "    <tr style=\"text-align: right;\">\n",
       "      <th></th>\n",
       "      <th>Id</th>\n",
       "      <th>LotArea</th>\n",
       "      <th>OverallQual</th>\n",
       "      <th>OverallCond</th>\n",
       "      <th>YearBuilt</th>\n",
       "      <th>YearRemodAdd</th>\n",
       "      <th>MasVnrArea</th>\n",
       "      <th>GrLivArea</th>\n",
       "      <th>BsmtFullBath</th>\n",
       "      <th>BsmtHalfBath</th>\n",
       "      <th>FullBath</th>\n",
       "      <th>HalfBath</th>\n",
       "      <th>BedroomAbvGr</th>\n",
       "      <th>Fireplaces</th>\n",
       "      <th>GarageArea</th>\n",
       "      <th>MoSold</th>\n",
       "      <th>YrSold</th>\n",
       "      <th>SalePrice</th>\n",
       "    </tr>\n",
       "  </thead>\n",
       "  <tbody>\n",
       "    <tr>\n",
       "      <th>count</th>\n",
       "      <td>1460.000000</td>\n",
       "      <td>1460.000000</td>\n",
       "      <td>1460.000000</td>\n",
       "      <td>1460.000000</td>\n",
       "      <td>1460.000000</td>\n",
       "      <td>1460.000000</td>\n",
       "      <td>1452.000000</td>\n",
       "      <td>1460.000000</td>\n",
       "      <td>1460.000000</td>\n",
       "      <td>1460.000000</td>\n",
       "      <td>1460.000000</td>\n",
       "      <td>1460.000000</td>\n",
       "      <td>1460.000000</td>\n",
       "      <td>1460.000000</td>\n",
       "      <td>1460.000000</td>\n",
       "      <td>1460.000000</td>\n",
       "      <td>1460.000000</td>\n",
       "      <td>1460.000000</td>\n",
       "    </tr>\n",
       "    <tr>\n",
       "      <th>mean</th>\n",
       "      <td>730.500000</td>\n",
       "      <td>10516.828082</td>\n",
       "      <td>6.099315</td>\n",
       "      <td>5.575342</td>\n",
       "      <td>1971.267808</td>\n",
       "      <td>1984.865753</td>\n",
       "      <td>103.685262</td>\n",
       "      <td>1515.463699</td>\n",
       "      <td>0.425342</td>\n",
       "      <td>0.057534</td>\n",
       "      <td>1.565068</td>\n",
       "      <td>0.382877</td>\n",
       "      <td>2.866438</td>\n",
       "      <td>0.613014</td>\n",
       "      <td>472.980137</td>\n",
       "      <td>6.321918</td>\n",
       "      <td>2007.815753</td>\n",
       "      <td>180921.195890</td>\n",
       "    </tr>\n",
       "    <tr>\n",
       "      <th>std</th>\n",
       "      <td>421.610009</td>\n",
       "      <td>9981.264932</td>\n",
       "      <td>1.382997</td>\n",
       "      <td>1.112799</td>\n",
       "      <td>30.202904</td>\n",
       "      <td>20.645407</td>\n",
       "      <td>181.066207</td>\n",
       "      <td>525.480383</td>\n",
       "      <td>0.518911</td>\n",
       "      <td>0.238753</td>\n",
       "      <td>0.550916</td>\n",
       "      <td>0.502885</td>\n",
       "      <td>0.815778</td>\n",
       "      <td>0.644666</td>\n",
       "      <td>213.804841</td>\n",
       "      <td>2.703626</td>\n",
       "      <td>1.328095</td>\n",
       "      <td>79442.502883</td>\n",
       "    </tr>\n",
       "    <tr>\n",
       "      <th>min</th>\n",
       "      <td>1.000000</td>\n",
       "      <td>1300.000000</td>\n",
       "      <td>1.000000</td>\n",
       "      <td>1.000000</td>\n",
       "      <td>1872.000000</td>\n",
       "      <td>1950.000000</td>\n",
       "      <td>0.000000</td>\n",
       "      <td>334.000000</td>\n",
       "      <td>0.000000</td>\n",
       "      <td>0.000000</td>\n",
       "      <td>0.000000</td>\n",
       "      <td>0.000000</td>\n",
       "      <td>0.000000</td>\n",
       "      <td>0.000000</td>\n",
       "      <td>0.000000</td>\n",
       "      <td>1.000000</td>\n",
       "      <td>2006.000000</td>\n",
       "      <td>34900.000000</td>\n",
       "    </tr>\n",
       "    <tr>\n",
       "      <th>25%</th>\n",
       "      <td>365.750000</td>\n",
       "      <td>7553.500000</td>\n",
       "      <td>5.000000</td>\n",
       "      <td>5.000000</td>\n",
       "      <td>1954.000000</td>\n",
       "      <td>1967.000000</td>\n",
       "      <td>0.000000</td>\n",
       "      <td>1129.500000</td>\n",
       "      <td>0.000000</td>\n",
       "      <td>0.000000</td>\n",
       "      <td>1.000000</td>\n",
       "      <td>0.000000</td>\n",
       "      <td>2.000000</td>\n",
       "      <td>0.000000</td>\n",
       "      <td>334.500000</td>\n",
       "      <td>5.000000</td>\n",
       "      <td>2007.000000</td>\n",
       "      <td>129975.000000</td>\n",
       "    </tr>\n",
       "    <tr>\n",
       "      <th>50%</th>\n",
       "      <td>730.500000</td>\n",
       "      <td>9478.500000</td>\n",
       "      <td>6.000000</td>\n",
       "      <td>5.000000</td>\n",
       "      <td>1973.000000</td>\n",
       "      <td>1994.000000</td>\n",
       "      <td>0.000000</td>\n",
       "      <td>1464.000000</td>\n",
       "      <td>0.000000</td>\n",
       "      <td>0.000000</td>\n",
       "      <td>2.000000</td>\n",
       "      <td>0.000000</td>\n",
       "      <td>3.000000</td>\n",
       "      <td>1.000000</td>\n",
       "      <td>480.000000</td>\n",
       "      <td>6.000000</td>\n",
       "      <td>2008.000000</td>\n",
       "      <td>163000.000000</td>\n",
       "    </tr>\n",
       "    <tr>\n",
       "      <th>75%</th>\n",
       "      <td>1095.250000</td>\n",
       "      <td>11601.500000</td>\n",
       "      <td>7.000000</td>\n",
       "      <td>6.000000</td>\n",
       "      <td>2000.000000</td>\n",
       "      <td>2004.000000</td>\n",
       "      <td>166.000000</td>\n",
       "      <td>1776.750000</td>\n",
       "      <td>1.000000</td>\n",
       "      <td>0.000000</td>\n",
       "      <td>2.000000</td>\n",
       "      <td>1.000000</td>\n",
       "      <td>3.000000</td>\n",
       "      <td>1.000000</td>\n",
       "      <td>576.000000</td>\n",
       "      <td>8.000000</td>\n",
       "      <td>2009.000000</td>\n",
       "      <td>214000.000000</td>\n",
       "    </tr>\n",
       "    <tr>\n",
       "      <th>max</th>\n",
       "      <td>1460.000000</td>\n",
       "      <td>215245.000000</td>\n",
       "      <td>10.000000</td>\n",
       "      <td>9.000000</td>\n",
       "      <td>2010.000000</td>\n",
       "      <td>2010.000000</td>\n",
       "      <td>1600.000000</td>\n",
       "      <td>5642.000000</td>\n",
       "      <td>3.000000</td>\n",
       "      <td>2.000000</td>\n",
       "      <td>3.000000</td>\n",
       "      <td>2.000000</td>\n",
       "      <td>8.000000</td>\n",
       "      <td>3.000000</td>\n",
       "      <td>1418.000000</td>\n",
       "      <td>12.000000</td>\n",
       "      <td>2010.000000</td>\n",
       "      <td>755000.000000</td>\n",
       "    </tr>\n",
       "  </tbody>\n",
       "</table>\n",
       "</div>"
      ],
      "text/plain": [
       "                Id        LotArea  OverallQual  OverallCond    YearBuilt  \\\n",
       "count  1460.000000    1460.000000  1460.000000  1460.000000  1460.000000   \n",
       "mean    730.500000   10516.828082     6.099315     5.575342  1971.267808   \n",
       "std     421.610009    9981.264932     1.382997     1.112799    30.202904   \n",
       "min       1.000000    1300.000000     1.000000     1.000000  1872.000000   \n",
       "25%     365.750000    7553.500000     5.000000     5.000000  1954.000000   \n",
       "50%     730.500000    9478.500000     6.000000     5.000000  1973.000000   \n",
       "75%    1095.250000   11601.500000     7.000000     6.000000  2000.000000   \n",
       "max    1460.000000  215245.000000    10.000000     9.000000  2010.000000   \n",
       "\n",
       "       YearRemodAdd   MasVnrArea    GrLivArea  BsmtFullBath  BsmtHalfBath  \\\n",
       "count   1460.000000  1452.000000  1460.000000   1460.000000   1460.000000   \n",
       "mean    1984.865753   103.685262  1515.463699      0.425342      0.057534   \n",
       "std       20.645407   181.066207   525.480383      0.518911      0.238753   \n",
       "min     1950.000000     0.000000   334.000000      0.000000      0.000000   \n",
       "25%     1967.000000     0.000000  1129.500000      0.000000      0.000000   \n",
       "50%     1994.000000     0.000000  1464.000000      0.000000      0.000000   \n",
       "75%     2004.000000   166.000000  1776.750000      1.000000      0.000000   \n",
       "max     2010.000000  1600.000000  5642.000000      3.000000      2.000000   \n",
       "\n",
       "          FullBath     HalfBath  BedroomAbvGr   Fireplaces   GarageArea  \\\n",
       "count  1460.000000  1460.000000   1460.000000  1460.000000  1460.000000   \n",
       "mean      1.565068     0.382877      2.866438     0.613014   472.980137   \n",
       "std       0.550916     0.502885      0.815778     0.644666   213.804841   \n",
       "min       0.000000     0.000000      0.000000     0.000000     0.000000   \n",
       "25%       1.000000     0.000000      2.000000     0.000000   334.500000   \n",
       "50%       2.000000     0.000000      3.000000     1.000000   480.000000   \n",
       "75%       2.000000     1.000000      3.000000     1.000000   576.000000   \n",
       "max       3.000000     2.000000      8.000000     3.000000  1418.000000   \n",
       "\n",
       "            MoSold       YrSold      SalePrice  \n",
       "count  1460.000000  1460.000000    1460.000000  \n",
       "mean      6.321918  2007.815753  180921.195890  \n",
       "std       2.703626     1.328095   79442.502883  \n",
       "min       1.000000  2006.000000   34900.000000  \n",
       "25%       5.000000  2007.000000  129975.000000  \n",
       "50%       6.000000  2008.000000  163000.000000  \n",
       "75%       8.000000  2009.000000  214000.000000  \n",
       "max      12.000000  2010.000000  755000.000000  "
      ]
     },
     "execution_count": 18,
     "metadata": {},
     "output_type": "execute_result"
    }
   ],
   "source": [
    "train_data = pd.read_csv(\"Resources/cleaned_trained.csv\")\n",
    "train_data.describe()"
   ]
  },
  {
   "cell_type": "markdown",
   "metadata": {
    "slideshow": {
     "slide_type": "subslide"
    }
   },
   "source": [
    "Scatter Plot - Sale Price and Above Ground Living (Square Feet)"
   ]
  },
  {
   "cell_type": "code",
   "execution_count": 19,
   "metadata": {
    "slideshow": {
     "slide_type": "fragment"
    }
   },
   "outputs": [
    {
     "data": {
      "image/png": "[encoded data removed]",
      "text/plain": [
       "<Figure size 432x288 with 1 Axes>"
      ]
     },
     "metadata": {
      "needs_background": "light"
     },
     "output_type": "display_data"
    }
   ],
   "source": [
    "plt.scatter(x=train_data['GrLivArea'], y=train_data['SalePrice'], color=\"blue\");\n",
    "plt.xlabel(\"Gr Liv Area\"); plt.ylabel(\"Sale Price\");"
   ]
  },
  {
   "cell_type": "markdown",
   "metadata": {
    "slideshow": {
     "slide_type": "subslide"
    }
   },
   "source": [
    "Violin Plot for Sale Price - Mid $100,000 Sale Price is the Most Common"
   ]
  },
  {
   "cell_type": "code",
   "execution_count": 20,
   "metadata": {
    "slideshow": {
     "slide_type": "fragment"
    }
   },
   "outputs": [
    {
     "data": {
      "image/png": "[encoded data removed]",
      "text/plain": [
       "<Figure size 432x288 with 1 Axes>"
      ]
     },
     "metadata": {
      "needs_background": "light"
     },
     "output_type": "display_data"
    }
   ],
   "source": [
    "fig = plt.figure()\n",
    "ax = fig.add_axes([0,0,1,1])\n",
    "bp = ax.violinplot(train_data['SalePrice'])\n",
    "plt.show()"
   ]
  },
  {
   "cell_type": "markdown",
   "metadata": {
    "slideshow": {
     "slide_type": "subslide"
    }
   },
   "source": [
    "Box Plot for Outliers - Sales Prices Over $500,000"
   ]
  },
  {
   "cell_type": "code",
   "execution_count": 21,
   "metadata": {
    "slideshow": {
     "slide_type": "fragment"
    }
   },
   "outputs": [
    {
     "data": {
      "image/png": "[encoded data removed]",
      "text/plain": [
       "<Figure size 432x288 with 1 Axes>"
      ]
     },
     "metadata": {
      "needs_background": "light"
     },
     "output_type": "display_data"
    }
   ],
   "source": [
    "fig = plt.figure()\n",
    "ax = fig.add_axes([0,0,1,1])\n",
    "bp = ax.boxplot(train_data['SalePrice'])\n",
    "plt.show()"
   ]
  },
  {
   "cell_type": "markdown",
   "metadata": {
    "slideshow": {
     "slide_type": "subslide"
    }
   },
   "source": [
    "Heat Map for Variable Correlations"
   ]
  },
  {
   "cell_type": "code",
   "execution_count": 22,
   "metadata": {
    "slideshow": {
     "slide_type": "fragment"
    }
   },
   "outputs": [
    {
     "data": {
      "image/png": "[encoded data removed]",
      "text/plain": [
       "<Figure size 864x648 with 2 Axes>"
      ]
     },
     "metadata": {
      "needs_background": "light"
     },
     "output_type": "display_data"
    }
   ],
   "source": [
    "import seaborn as sns\n",
    "fig, ax = plt.subplots(figsize=(12,9))\n",
    "sns.heatmap(train_data.corr(), ax=ax);"
   ]
  },
  {
   "cell_type": "markdown",
   "metadata": {},
   "source": [
    "# Random Forest"
   ]
  },
  {
   "cell_type": "code",
   "execution_count": 23,
   "metadata": {
    "slideshow": {
     "slide_type": "fragment"
    }
   },
   "outputs": [
    {
     "data": {
      "text/html": [
       "<div>\n",
       "<style scoped>\n",
       "    .dataframe tbody tr th:only-of-type {\n",
       "        vertical-align: middle;\n",
       "    }\n",
       "\n",
       "    .dataframe tbody tr th {\n",
       "        vertical-align: top;\n",
       "    }\n",
       "\n",
       "    .dataframe thead th {\n",
       "        text-align: right;\n",
       "    }\n",
       "</style>\n",
       "<table border=\"1\" class=\"dataframe\">\n",
       "  <thead>\n",
       "    <tr style=\"text-align: right;\">\n",
       "      <th></th>\n",
       "      <th>Id</th>\n",
       "      <th>LotArea</th>\n",
       "      <th>Utilities</th>\n",
       "      <th>LotConfig</th>\n",
       "      <th>Neighborhood</th>\n",
       "      <th>Condition1</th>\n",
       "      <th>Condition2</th>\n",
       "      <th>BldgType</th>\n",
       "      <th>HouseStyle</th>\n",
       "      <th>OverallQual</th>\n",
       "      <th>...</th>\n",
       "      <th>Fireplaces</th>\n",
       "      <th>FireplaceQu</th>\n",
       "      <th>GarageType</th>\n",
       "      <th>GarageArea</th>\n",
       "      <th>GarageCond</th>\n",
       "      <th>PavedDrive</th>\n",
       "      <th>MoSold</th>\n",
       "      <th>YrSold</th>\n",
       "      <th>SaleType</th>\n",
       "      <th>SaleCondition</th>\n",
       "    </tr>\n",
       "  </thead>\n",
       "  <tbody>\n",
       "    <tr>\n",
       "      <th>0</th>\n",
       "      <td>1</td>\n",
       "      <td>8450</td>\n",
       "      <td>AllPub</td>\n",
       "      <td>Inside</td>\n",
       "      <td>CollgCr</td>\n",
       "      <td>Norm</td>\n",
       "      <td>Norm</td>\n",
       "      <td>1Fam</td>\n",
       "      <td>2Story</td>\n",
       "      <td>7</td>\n",
       "      <td>...</td>\n",
       "      <td>0</td>\n",
       "      <td>0</td>\n",
       "      <td>Attchd</td>\n",
       "      <td>548</td>\n",
       "      <td>TA</td>\n",
       "      <td>Y</td>\n",
       "      <td>2</td>\n",
       "      <td>2008</td>\n",
       "      <td>WD</td>\n",
       "      <td>Normal</td>\n",
       "    </tr>\n",
       "    <tr>\n",
       "      <th>1</th>\n",
       "      <td>2</td>\n",
       "      <td>9600</td>\n",
       "      <td>AllPub</td>\n",
       "      <td>FR2</td>\n",
       "      <td>Veenker</td>\n",
       "      <td>Feedr</td>\n",
       "      <td>Norm</td>\n",
       "      <td>1Fam</td>\n",
       "      <td>1Story</td>\n",
       "      <td>6</td>\n",
       "      <td>...</td>\n",
       "      <td>1</td>\n",
       "      <td>TA</td>\n",
       "      <td>Attchd</td>\n",
       "      <td>460</td>\n",
       "      <td>TA</td>\n",
       "      <td>Y</td>\n",
       "      <td>5</td>\n",
       "      <td>2007</td>\n",
       "      <td>WD</td>\n",
       "      <td>Normal</td>\n",
       "    </tr>\n",
       "    <tr>\n",
       "      <th>2</th>\n",
       "      <td>3</td>\n",
       "      <td>11250</td>\n",
       "      <td>AllPub</td>\n",
       "      <td>Inside</td>\n",
       "      <td>CollgCr</td>\n",
       "      <td>Norm</td>\n",
       "      <td>Norm</td>\n",
       "      <td>1Fam</td>\n",
       "      <td>2Story</td>\n",
       "      <td>7</td>\n",
       "      <td>...</td>\n",
       "      <td>1</td>\n",
       "      <td>TA</td>\n",
       "      <td>Attchd</td>\n",
       "      <td>608</td>\n",
       "      <td>TA</td>\n",
       "      <td>Y</td>\n",
       "      <td>9</td>\n",
       "      <td>2008</td>\n",
       "      <td>WD</td>\n",
       "      <td>Normal</td>\n",
       "    </tr>\n",
       "    <tr>\n",
       "      <th>3</th>\n",
       "      <td>4</td>\n",
       "      <td>9550</td>\n",
       "      <td>AllPub</td>\n",
       "      <td>Corner</td>\n",
       "      <td>Crawfor</td>\n",
       "      <td>Norm</td>\n",
       "      <td>Norm</td>\n",
       "      <td>1Fam</td>\n",
       "      <td>2Story</td>\n",
       "      <td>7</td>\n",
       "      <td>...</td>\n",
       "      <td>1</td>\n",
       "      <td>Gd</td>\n",
       "      <td>Detchd</td>\n",
       "      <td>642</td>\n",
       "      <td>TA</td>\n",
       "      <td>Y</td>\n",
       "      <td>2</td>\n",
       "      <td>2006</td>\n",
       "      <td>WD</td>\n",
       "      <td>Abnorml</td>\n",
       "    </tr>\n",
       "    <tr>\n",
       "      <th>4</th>\n",
       "      <td>5</td>\n",
       "      <td>14260</td>\n",
       "      <td>AllPub</td>\n",
       "      <td>FR2</td>\n",
       "      <td>NoRidge</td>\n",
       "      <td>Norm</td>\n",
       "      <td>Norm</td>\n",
       "      <td>1Fam</td>\n",
       "      <td>2Story</td>\n",
       "      <td>8</td>\n",
       "      <td>...</td>\n",
       "      <td>1</td>\n",
       "      <td>TA</td>\n",
       "      <td>Attchd</td>\n",
       "      <td>836</td>\n",
       "      <td>TA</td>\n",
       "      <td>Y</td>\n",
       "      <td>12</td>\n",
       "      <td>2008</td>\n",
       "      <td>WD</td>\n",
       "      <td>Normal</td>\n",
       "    </tr>\n",
       "  </tbody>\n",
       "</table>\n",
       "<p>5 rows × 39 columns</p>\n",
       "</div>"
      ],
      "text/plain": [
       "   Id  LotArea Utilities LotConfig Neighborhood Condition1 Condition2  \\\n",
       "0   1     8450    AllPub    Inside      CollgCr       Norm       Norm   \n",
       "1   2     9600    AllPub       FR2      Veenker      Feedr       Norm   \n",
       "2   3    11250    AllPub    Inside      CollgCr       Norm       Norm   \n",
       "3   4     9550    AllPub    Corner      Crawfor       Norm       Norm   \n",
       "4   5    14260    AllPub       FR2      NoRidge       Norm       Norm   \n",
       "\n",
       "  BldgType HouseStyle  OverallQual  ...  Fireplaces  FireplaceQu  GarageType  \\\n",
       "0     1Fam     2Story            7  ...           0            0      Attchd   \n",
       "1     1Fam     1Story            6  ...           1           TA      Attchd   \n",
       "2     1Fam     2Story            7  ...           1           TA      Attchd   \n",
       "3     1Fam     2Story            7  ...           1           Gd      Detchd   \n",
       "4     1Fam     2Story            8  ...           1           TA      Attchd   \n",
       "\n",
       "  GarageArea GarageCond PavedDrive  MoSold YrSold SaleType SaleCondition  \n",
       "0        548         TA          Y       2   2008       WD        Normal  \n",
       "1        460         TA          Y       5   2007       WD        Normal  \n",
       "2        608         TA          Y       9   2008       WD        Normal  \n",
       "3        642         TA          Y       2   2006       WD       Abnorml  \n",
       "4        836         TA          Y      12   2008       WD        Normal  \n",
       "\n",
       "[5 rows x 39 columns]"
      ]
     },
     "execution_count": 23,
     "metadata": {},
     "output_type": "execute_result"
    }
   ],
   "source": [
    "# Fill Missing Values with Zeroes\n",
    "\n",
    "names = [\"Id\",\"LotArea\",\"Utilities\",\"LotConfig\",\"Neighborhood\",\"Condition1\",\"Condition2\",\"BldgType\",\"HouseStyle\",\"OverallQual\",\n",
    "         \"OverallCond\", \"YearBuilt\", \"YearRemodAdd\", \"RoofMatl\",\"Exterior1st\",\"Exterior2nd\",\"MasVnrArea\",\"ExterQual\",\"ExterCond\",\"Foundation\",\"BsmtFinType2\",\"GrLivArea\",\"BsmtFullBath\",\"BsmtHalfBath\",\"FullBath\",\"HalfBath\",\"BedroomAbvGr\",\n",
    "         \"KitchenQual\",\"Functional\",\"Fireplaces\",\"FireplaceQu\",\"GarageType\",\"GarageArea\",\"GarageCond\",\"PavedDrive\",\n",
    "         \"MoSold\",\"YrSold\",\"SaleType\",\"SaleCondition\"]\n",
    "X = train_data[names].fillna(0)\n",
    "X.head()"
   ]
  },
  {
   "cell_type": "code",
   "execution_count": 24,
   "metadata": {
    "slideshow": {
     "slide_type": "fragment"
    }
   },
   "outputs": [
    {
     "data": {
      "text/html": [
       "<div>\n",
       "<style scoped>\n",
       "    .dataframe tbody tr th:only-of-type {\n",
       "        vertical-align: middle;\n",
       "    }\n",
       "\n",
       "    .dataframe tbody tr th {\n",
       "        vertical-align: top;\n",
       "    }\n",
       "\n",
       "    .dataframe thead th {\n",
       "        text-align: right;\n",
       "    }\n",
       "</style>\n",
       "<table border=\"1\" class=\"dataframe\">\n",
       "  <thead>\n",
       "    <tr style=\"text-align: right;\">\n",
       "      <th></th>\n",
       "      <th>Id</th>\n",
       "      <th>LotArea</th>\n",
       "      <th>OverallQual</th>\n",
       "      <th>OverallCond</th>\n",
       "      <th>YearBuilt</th>\n",
       "      <th>YearRemodAdd</th>\n",
       "      <th>MasVnrArea</th>\n",
       "      <th>GrLivArea</th>\n",
       "      <th>BsmtFullBath</th>\n",
       "      <th>BsmtHalfBath</th>\n",
       "      <th>...</th>\n",
       "      <th>SaleType_ConLw</th>\n",
       "      <th>SaleType_New</th>\n",
       "      <th>SaleType_Oth</th>\n",
       "      <th>SaleType_WD</th>\n",
       "      <th>SaleCondition_Abnorml</th>\n",
       "      <th>SaleCondition_AdjLand</th>\n",
       "      <th>SaleCondition_Alloca</th>\n",
       "      <th>SaleCondition_Family</th>\n",
       "      <th>SaleCondition_Normal</th>\n",
       "      <th>SaleCondition_Partial</th>\n",
       "    </tr>\n",
       "  </thead>\n",
       "  <tbody>\n",
       "    <tr>\n",
       "      <th>0</th>\n",
       "      <td>1</td>\n",
       "      <td>8450</td>\n",
       "      <td>7</td>\n",
       "      <td>5</td>\n",
       "      <td>2003</td>\n",
       "      <td>2003</td>\n",
       "      <td>196.0</td>\n",
       "      <td>1710</td>\n",
       "      <td>1</td>\n",
       "      <td>0</td>\n",
       "      <td>...</td>\n",
       "      <td>0</td>\n",
       "      <td>0</td>\n",
       "      <td>0</td>\n",
       "      <td>1</td>\n",
       "      <td>0</td>\n",
       "      <td>0</td>\n",
       "      <td>0</td>\n",
       "      <td>0</td>\n",
       "      <td>1</td>\n",
       "      <td>0</td>\n",
       "    </tr>\n",
       "    <tr>\n",
       "      <th>1</th>\n",
       "      <td>2</td>\n",
       "      <td>9600</td>\n",
       "      <td>6</td>\n",
       "      <td>8</td>\n",
       "      <td>1976</td>\n",
       "      <td>1976</td>\n",
       "      <td>0.0</td>\n",
       "      <td>1262</td>\n",
       "      <td>0</td>\n",
       "      <td>1</td>\n",
       "      <td>...</td>\n",
       "      <td>0</td>\n",
       "      <td>0</td>\n",
       "      <td>0</td>\n",
       "      <td>1</td>\n",
       "      <td>0</td>\n",
       "      <td>0</td>\n",
       "      <td>0</td>\n",
       "      <td>0</td>\n",
       "      <td>1</td>\n",
       "      <td>0</td>\n",
       "    </tr>\n",
       "    <tr>\n",
       "      <th>2</th>\n",
       "      <td>3</td>\n",
       "      <td>11250</td>\n",
       "      <td>7</td>\n",
       "      <td>5</td>\n",
       "      <td>2001</td>\n",
       "      <td>2002</td>\n",
       "      <td>162.0</td>\n",
       "      <td>1786</td>\n",
       "      <td>1</td>\n",
       "      <td>0</td>\n",
       "      <td>...</td>\n",
       "      <td>0</td>\n",
       "      <td>0</td>\n",
       "      <td>0</td>\n",
       "      <td>1</td>\n",
       "      <td>0</td>\n",
       "      <td>0</td>\n",
       "      <td>0</td>\n",
       "      <td>0</td>\n",
       "      <td>1</td>\n",
       "      <td>0</td>\n",
       "    </tr>\n",
       "    <tr>\n",
       "      <th>3</th>\n",
       "      <td>4</td>\n",
       "      <td>9550</td>\n",
       "      <td>7</td>\n",
       "      <td>5</td>\n",
       "      <td>1915</td>\n",
       "      <td>1970</td>\n",
       "      <td>0.0</td>\n",
       "      <td>1717</td>\n",
       "      <td>1</td>\n",
       "      <td>0</td>\n",
       "      <td>...</td>\n",
       "      <td>0</td>\n",
       "      <td>0</td>\n",
       "      <td>0</td>\n",
       "      <td>1</td>\n",
       "      <td>1</td>\n",
       "      <td>0</td>\n",
       "      <td>0</td>\n",
       "      <td>0</td>\n",
       "      <td>0</td>\n",
       "      <td>0</td>\n",
       "    </tr>\n",
       "    <tr>\n",
       "      <th>4</th>\n",
       "      <td>5</td>\n",
       "      <td>14260</td>\n",
       "      <td>8</td>\n",
       "      <td>5</td>\n",
       "      <td>2000</td>\n",
       "      <td>2000</td>\n",
       "      <td>350.0</td>\n",
       "      <td>2198</td>\n",
       "      <td>1</td>\n",
       "      <td>0</td>\n",
       "      <td>...</td>\n",
       "      <td>0</td>\n",
       "      <td>0</td>\n",
       "      <td>0</td>\n",
       "      <td>1</td>\n",
       "      <td>0</td>\n",
       "      <td>0</td>\n",
       "      <td>0</td>\n",
       "      <td>0</td>\n",
       "      <td>1</td>\n",
       "      <td>0</td>\n",
       "    </tr>\n",
       "  </tbody>\n",
       "</table>\n",
       "<p>5 rows × 188 columns</p>\n",
       "</div>"
      ],
      "text/plain": [
       "   Id  LotArea  OverallQual  OverallCond  YearBuilt  YearRemodAdd  MasVnrArea  \\\n",
       "0   1     8450            7            5       2003          2003       196.0   \n",
       "1   2     9600            6            8       1976          1976         0.0   \n",
       "2   3    11250            7            5       2001          2002       162.0   \n",
       "3   4     9550            7            5       1915          1970         0.0   \n",
       "4   5    14260            8            5       2000          2000       350.0   \n",
       "\n",
       "   GrLivArea  BsmtFullBath  BsmtHalfBath  ...  SaleType_ConLw  SaleType_New  \\\n",
       "0       1710             1             0  ...               0             0   \n",
       "1       1262             0             1  ...               0             0   \n",
       "2       1786             1             0  ...               0             0   \n",
       "3       1717             1             0  ...               0             0   \n",
       "4       2198             1             0  ...               0             0   \n",
       "\n",
       "   SaleType_Oth  SaleType_WD  SaleCondition_Abnorml  SaleCondition_AdjLand  \\\n",
       "0             0            1                      0                      0   \n",
       "1             0            1                      0                      0   \n",
       "2             0            1                      0                      0   \n",
       "3             0            1                      1                      0   \n",
       "4             0            1                      0                      0   \n",
       "\n",
       "   SaleCondition_Alloca  SaleCondition_Family  SaleCondition_Normal  \\\n",
       "0                     0                     0                     1   \n",
       "1                     0                     0                     1   \n",
       "2                     0                     0                     1   \n",
       "3                     0                     0                     0   \n",
       "4                     0                     0                     1   \n",
       "\n",
       "   SaleCondition_Partial  \n",
       "0                      0  \n",
       "1                      0  \n",
       "2                      0  \n",
       "3                      0  \n",
       "4                      0  \n",
       "\n",
       "[5 rows x 188 columns]"
      ]
     },
     "execution_count": 24,
     "metadata": {},
     "output_type": "execute_result"
    }
   ],
   "source": [
    "# Convert strings to Numbers with get_dummies\n",
    "XX = pd.get_dummies(X)\n",
    "XX.head()"
   ]
  },
  {
   "cell_type": "code",
   "execution_count": 25,
   "metadata": {
    "slideshow": {
     "slide_type": "fragment"
    }
   },
   "outputs": [],
   "source": [
    "from sklearn.model_selection import train_test_split\n",
    "X_train, X_test, Y_train, Y_test = train_test_split(XX, y)"
   ]
  },
  {
   "cell_type": "code",
   "execution_count": 26,
   "metadata": {
    "slideshow": {
     "slide_type": "fragment"
    }
   },
   "outputs": [
    {
     "data": {
      "text/plain": [
       "RandomForestRegressor()"
      ]
     },
     "execution_count": 26,
     "metadata": {},
     "output_type": "execute_result"
    }
   ],
   "source": [
    "from sklearn import linear_model\n",
    "from sklearn.ensemble import RandomForestRegressor\n",
    "RandomForestRegModel = RandomForestRegressor()\n",
    "RandomForestRegModel.fit(X_train,Y_train)"
   ]
  },
  {
   "cell_type": "code",
   "execution_count": 27,
   "metadata": {
    "slideshow": {
     "slide_type": "fragment"
    }
   },
   "outputs": [
    {
     "data": {
      "text/plain": [
       "258     231500\n",
       "267     179500\n",
       "288     122000\n",
       "649      84500\n",
       "1233    142000\n",
       "         ...  \n",
       "1017    187500\n",
       "534     178000\n",
       "1334    125000\n",
       "1369    232000\n",
       "628     135000\n",
       "Name: SalePrice, Length: 365, dtype: int64"
      ]
     },
     "execution_count": 27,
     "metadata": {},
     "output_type": "execute_result"
    }
   ],
   "source": [
    "Y_test"
   ]
  },
  {
   "cell_type": "code",
   "execution_count": 28,
   "metadata": {
    "slideshow": {
     "slide_type": "fragment"
    }
   },
   "outputs": [
    {
     "data": {
      "text/plain": [
       "0.8634049133095327"
      ]
     },
     "execution_count": 28,
     "metadata": {},
     "output_type": "execute_result"
    }
   ],
   "source": [
    "RandomForestRegModel.score(X_test, Y_test)"
   ]
  },
  {
   "cell_type": "code",
   "execution_count": 29,
   "metadata": {
    "slideshow": {
     "slide_type": "fragment"
    }
   },
   "outputs": [],
   "source": [
    "feats = []\n",
    "for feature, importance in zip(XX.columns, RandomForestRegModel.feature_importances_):\n",
    "    feats.append((importance, feature))"
   ]
  },
  {
   "cell_type": "code",
   "execution_count": 30,
   "metadata": {
    "slideshow": {
     "slide_type": "fragment"
    }
   },
   "outputs": [
    {
     "data": {
      "text/plain": [
       "[(0.5424130224131392, 'OverallQual'),\n",
       " (0.1362529797057916, 'GrLivArea'),\n",
       " (0.05632550638698815, 'GarageArea'),\n",
       " (0.04137157680151296, 'LotArea'),\n",
       " (0.027800183540873637, 'YearBuilt'),\n",
       " (0.017671532452874898, 'ExterQual_Ex'),\n",
       " (0.01596154493416864, 'YearRemodAdd'),\n",
       " (0.014985697740738537, 'MasVnrArea'),\n",
       " (0.014291210615342395, 'FullBath'),\n",
       " (0.011142718064887473, 'MoSold'),\n",
       " (0.009857414782475116, 'Id'),\n",
       " (0.007619566075366333, 'KitchenQual_Ex'),\n",
       " (0.006123349483491794, 'OverallCond'),\n",
       " (0.0060022583888110145, 'BsmtFullBath'),\n",
       " (0.005031542191514313, 'Fireplaces'),\n",
       " (0.004658050580852529, 'YrSold'),\n",
       " (0.004273815584920798, 'Neighborhood_NridgHt'),\n",
       " (0.004214365771174264, 'GarageType_Detchd'),\n",
       " (0.003912875634856672, 'Neighborhood_Edwards'),\n",
       " (0.00356466677945275, 'BedroomAbvGr'),\n",
       " (0.0035119538884065245, 'Neighborhood_StoneBr'),\n",
       " (0.0031372098425492467, 'ExterQual_Gd'),\n",
       " (0.0028156230563212746, 'SaleType_WD'),\n",
       " (0.002331614748006814, 'KitchenQual_Gd'),\n",
       " (0.0020630561498563562, 'HouseStyle_1Story'),\n",
       " (0.001894190115194658, 'HouseStyle_2Story'),\n",
       " (0.001873750382487484, 'KitchenQual_TA'),\n",
       " (0.0018655536142726467, 'GarageType_Attchd'),\n",
       " (0.0017755770716132, 'ExterQual_TA'),\n",
       " (0.0017599006305269993, 'FireplaceQu_0'),\n",
       " (0.0015356758872632594, 'LotConfig_CulDSac'),\n",
       " (0.0015338966764770453, 'HalfBath'),\n",
       " (0.0014820888773864485, 'SaleType_New'),\n",
       " (0.0014014360971774007, 'BsmtHalfBath'),\n",
       " (0.0012762059834864885, 'FireplaceQu_Gd'),\n",
       " (0.0012626689738949586, 'Neighborhood_Crawfor'),\n",
       " (0.0011724474223422912, 'Exterior2nd_VinylSd'),\n",
       " (0.001073853871675546, 'Neighborhood_OldTown'),\n",
       " (0.0010471454718860983, 'LotConfig_Corner'),\n",
       " (0.0010381293664479471, 'Foundation_PConc'),\n",
       " (0.0010039371984379977, 'Exterior2nd_HdBoard'),\n",
       " (0.0009703700518533932, 'SaleCondition_Partial'),\n",
       " (0.0008875632687270236, 'Neighborhood_Timber'),\n",
       " (0.0008713823538162263, 'SaleCondition_Normal'),\n",
       " (0.0008665278433066284, 'Neighborhood_NoRidge'),\n",
       " (0.0008628232761388331, 'FireplaceQu_Ex'),\n",
       " (0.0008267167164100349, 'Condition1_Norm'),\n",
       " (0.0007780546419210973, 'BldgType_1Fam'),\n",
       " (0.0007238587800265156, 'Exterior1st_BrkFace'),\n",
       " (0.0006760214848645688, 'Functional_Typ'),\n",
       " (0.0006691833153636864, 'LotConfig_Inside'),\n",
       " (0.0006455564256882657, 'Neighborhood_ClearCr'),\n",
       " (0.0006030595267654533, 'Exterior1st_VinylSd'),\n",
       " (0.0005970636274578018, 'ExterCond_TA'),\n",
       " (0.0005654414317366623, 'Foundation_BrkTil'),\n",
       " (0.0005543606297963539, 'RoofMatl_WdShngl'),\n",
       " (0.000539156481570981, 'FireplaceQu_TA'),\n",
       " (0.0005278814496049606, 'Exterior2nd_MetalSd'),\n",
       " (0.0005188311838045292, 'HouseStyle_1.5Fin'),\n",
       " (0.0004922705449358584, 'GarageCond_TA'),\n",
       " (0.0004894338936847635, 'Neighborhood_Somerst'),\n",
       " (0.0004685139334357428, 'BsmtFinType2_Unf'),\n",
       " (0.00045798039810998685, 'Neighborhood_CollgCr'),\n",
       " (0.0004540932154281851, 'BsmtFinType2_ALQ'),\n",
       " (0.00044577706374619865, 'Condition1_Feedr'),\n",
       " (0.00044542130307965696, 'SaleCondition_Family'),\n",
       " (0.000444484575667949, 'Exterior2nd_BrkFace'),\n",
       " (0.0004326247399404952, 'Functional_Mod'),\n",
       " (0.0004313166795777793, 'RoofMatl_CompShg'),\n",
       " (0.00043100924405654146, 'Neighborhood_NAmes'),\n",
       " (0.0004172546672928787, 'Foundation_CBlock'),\n",
       " (0.0004150944218842473, 'Exterior1st_HdBoard'),\n",
       " (0.0003856239369332017, 'Exterior2nd_Wd Sdng'),\n",
       " (0.0003828895188884709, 'SaleCondition_Abnorml'),\n",
       " (0.00038179985412980686, 'BsmtFinType2_0'),\n",
       " (0.00038048064570314193, 'ExterCond_Gd'),\n",
       " (0.0003792000351317468, 'Exterior1st_Stucco'),\n",
       " (0.0003765957993503804, 'RoofMatl_ClyTile'),\n",
       " (0.0003755542418929999, 'Exterior1st_Wd Sdng'),\n",
       " (0.00033614726187875373, 'Exterior2nd_CmentBd'),\n",
       " (0.00033402650211966325, 'Exterior2nd_Plywood'),\n",
       " (0.0003264033016034208, 'Exterior1st_MetalSd'),\n",
       " (0.000318232186672898, 'PavedDrive_Y'),\n",
       " (0.00031160900880465104, 'GarageType_BuiltIn'),\n",
       " (0.0003000788096441387, 'Exterior1st_CemntBd'),\n",
       " (0.0002708015522656177, 'Exterior1st_Plywood'),\n",
       " (0.0002635192192882591, 'GarageType_CarPort'),\n",
       " (0.0002463012595306971, 'GarageCond_0'),\n",
       " (0.0002228791895887229, 'Neighborhood_NWAmes'),\n",
       " (0.0002151680280308486, 'PavedDrive_N'),\n",
       " (0.00021205264334354056, 'Condition1_Artery'),\n",
       " (0.00021158261939671134, 'Condition1_PosN'),\n",
       " (0.00020960740344789825, 'Condition2_Norm'),\n",
       " (0.00020511417253803012, 'Neighborhood_Sawyer'),\n",
       " (0.00019665114070093297, 'Neighborhood_Veenker'),\n",
       " (0.00019044534177925176, 'Neighborhood_SawyerW'),\n",
       " (0.00018905105781293248, 'BsmtFinType2_Rec'),\n",
       " (0.00018541351260303765, 'Neighborhood_Gilbert'),\n",
       " (0.00017779361444400401, 'ExterCond_Fa'),\n",
       " (0.0001760172654411607, 'Neighborhood_BrkSide'),\n",
       " (0.0001570320455627713, 'LotConfig_FR2'),\n",
       " (0.00014574577740891951, 'FireplaceQu_Po'),\n",
       " (0.00014066822625462977, 'PavedDrive_P'),\n",
       " (0.0001363961008867435, 'Neighborhood_IDOTRR'),\n",
       " (0.00013636026786331942, 'Neighborhood_Mitchel'),\n",
       " (0.0001311754777733648, 'Foundation_Slab'),\n",
       " (0.00012499730370017366, 'BldgType_Duplex'),\n",
       " (0.00011944071903990651, 'HouseStyle_SLvl'),\n",
       " (0.00011780430322045852, 'GarageType_0'),\n",
       " (9.482105376845462e-05, 'BldgType_TwnhsE'),\n",
       " (9.456868398776343e-05, 'BsmtFinType2_LwQ'),\n",
       " (9.391159735636132e-05, 'KitchenQual_Fa'),\n",
       " (9.244737975497357e-05, 'Functional_Min1'),\n",
       " (8.819629573364384e-05, 'Neighborhood_MeadowV'),\n",
       " (8.214487379379069e-05, 'Functional_Maj2'),\n",
       " (8.178115701846788e-05, 'SaleType_COD'),\n",
       " (7.449572431878375e-05, 'Condition1_RRAe'),\n",
       " (7.273032839123227e-05, 'Functional_Maj1'),\n",
       " (6.850913679087113e-05, 'FireplaceQu_Fa'),\n",
       " (6.714156758200611e-05, 'Functional_Sev'),\n",
       " (6.260872129370687e-05, 'SaleCondition_Alloca'),\n",
       " (6.200425074081425e-05, 'LotConfig_FR3'),\n",
       " (6.079459604562684e-05, 'Functional_Min2'),\n",
       " (5.7457191319430346e-05, 'Neighborhood_SWISU'),\n",
       " (5.7292997598448415e-05, 'RoofMatl_Tar&Grv'),\n",
       " (5.538820224615676e-05, 'BsmtFinType2_GLQ'),\n",
       " (5.453448263844117e-05, 'BldgType_Twnhs'),\n",
       " (4.8974965653838944e-05, 'Exterior2nd_Wd Shng'),\n",
       " (4.790365322107014e-05, 'HouseStyle_2.5Fin'),\n",
       " (4.594008779707078e-05, 'HouseStyle_2.5Unf'),\n",
       " (4.3691256751493166e-05, 'Exterior2nd_Stucco'),\n",
       " (4.352763515778603e-05, 'SaleType_Con'),\n",
       " (3.932802404163305e-05, 'Exterior1st_BrkComm'),\n",
       " (3.568937164223627e-05, 'BldgType_2fmCon'),\n",
       " (3.349542146136939e-05, 'Exterior2nd_AsbShng'),\n",
       " (3.27616570947481e-05, 'GarageType_Basment'),\n",
       " (3.150272845664535e-05, 'Exterior1st_WdShing'),\n",
       " (2.892660392502867e-05, 'BsmtFinType2_BLQ'),\n",
       " (2.8732334791924546e-05, 'GarageCond_Fa'),\n",
       " (2.7415799179922846e-05, 'Exterior2nd_Brk Cmn'),\n",
       " (2.730869820440947e-05, 'Condition1_RRAn'),\n",
       " (2.5984730841196058e-05, 'GarageCond_Gd'),\n",
       " (2.4874351062672435e-05, 'GarageType_2Types'),\n",
       " (2.2964770690334646e-05, 'HouseStyle_1.5Unf'),\n",
       " (2.232262981886394e-05, 'Foundation_Wood'),\n",
       " (2.1816232559791685e-05, 'Condition1_PosA'),\n",
       " (2.0343373650406885e-05, 'Exterior2nd_Stone'),\n",
       " (2.024308541775581e-05, 'SaleType_ConLD'),\n",
       " (1.8491800563792148e-05, 'Neighborhood_Blmngtn'),\n",
       " (1.8131289761931178e-05, 'HouseStyle_SFoyer'),\n",
       " (1.7578766409326014e-05, 'RoofMatl_Membran'),\n",
       " (1.354059274969392e-05, 'Neighborhood_BrDale'),\n",
       " (1.2071723775234763e-05, 'Foundation_Stone'),\n",
       " (1.1181009446650805e-05, 'Exterior1st_Stone'),\n",
       " (1.0682799029362488e-05, 'ExterCond_Po'),\n",
       " (1.052943834473371e-05, 'Exterior1st_AsbShng'),\n",
       " (1.0332289587467465e-05, 'Exterior2nd_ImStucc'),\n",
       " (9.787949132780423e-06, 'Exterior2nd_Other'),\n",
       " (8.505449533971446e-06, 'Condition2_PosN'),\n",
       " (7.91987230897476e-06, 'Neighborhood_NPkVill'),\n",
       " (7.32072403096642e-06, 'GarageCond_Po'),\n",
       " (6.9758696176441014e-06, 'Neighborhood_Blueste'),\n",
       " (5.295805282435279e-06, 'ExterQual_Fa'),\n",
       " (5.1278073774749045e-06, 'SaleType_ConLI'),\n",
       " (4.371590117995566e-06, 'RoofMatl_WdShake'),\n",
       " (3.35708380968353e-06, 'Condition1_RRNn'),\n",
       " (2.885984697213461e-06, 'SaleType_ConLw'),\n",
       " (1.7180135888650354e-06, 'GarageCond_Ex'),\n",
       " (1.6946246220632825e-06, 'SaleType_CWD'),\n",
       " (1.68754917544888e-06, 'Condition2_RRAe'),\n",
       " (1.3925833707144628e-06, 'Condition2_RRNn'),\n",
       " (1.2591596173548838e-06, 'Exterior1st_ImStucc'),\n",
       " (1.102305597302601e-06, 'Condition2_Feedr'),\n",
       " (9.016544462745256e-07, 'ExterCond_Ex'),\n",
       " (7.103139605632305e-07, 'Condition1_RRNe'),\n",
       " (4.181093307406499e-07, 'Condition2_Artery'),\n",
       " (4.0635432001355733e-07, 'SaleType_Oth'),\n",
       " (1.7931454195750673e-07, 'Exterior1st_CBlock'),\n",
       " (1.1469325132706526e-07, 'SaleCondition_AdjLand'),\n",
       " (7.242201262750299e-08, 'Utilities_AllPub'),\n",
       " (6.473442501548977e-08, 'Utilities_NoSeWa'),\n",
       " (2.1437003249519998e-08, 'RoofMatl_Roll'),\n",
       " (7.619873053078678e-09, 'Exterior2nd_AsphShn'),\n",
       " (5.844174792378519e-09, 'Exterior2nd_CBlock'),\n",
       " (0.0, 'RoofMatl_Metal'),\n",
       " (0.0, 'Exterior1st_AsphShn'),\n",
       " (0.0, 'Condition2_RRAn'),\n",
       " (0.0, 'Condition2_PosA')]"
      ]
     },
     "execution_count": 30,
     "metadata": {},
     "output_type": "execute_result"
    }
   ],
   "source": [
    "feats.sort(reverse=True)\n",
    "feats"
   ]
  },
  {
   "cell_type": "code",
   "execution_count": 31,
   "metadata": {},
   "outputs": [
    {
     "data": {
      "text/html": [
       "<div>\n",
       "<style scoped>\n",
       "    .dataframe tbody tr th:only-of-type {\n",
       "        vertical-align: middle;\n",
       "    }\n",
       "\n",
       "    .dataframe tbody tr th {\n",
       "        vertical-align: top;\n",
       "    }\n",
       "\n",
       "    .dataframe thead th {\n",
       "        text-align: right;\n",
       "    }\n",
       "</style>\n",
       "<table border=\"1\" class=\"dataframe\">\n",
       "  <thead>\n",
       "    <tr style=\"text-align: right;\">\n",
       "      <th></th>\n",
       "      <th>Relative Importance</th>\n",
       "      <th>House Features</th>\n",
       "    </tr>\n",
       "  </thead>\n",
       "  <tbody>\n",
       "    <tr>\n",
       "      <th>0</th>\n",
       "      <td>5.424130e-01</td>\n",
       "      <td>OverallQual</td>\n",
       "    </tr>\n",
       "    <tr>\n",
       "      <th>1</th>\n",
       "      <td>1.362530e-01</td>\n",
       "      <td>GrLivArea</td>\n",
       "    </tr>\n",
       "    <tr>\n",
       "      <th>2</th>\n",
       "      <td>5.632551e-02</td>\n",
       "      <td>GarageArea</td>\n",
       "    </tr>\n",
       "    <tr>\n",
       "      <th>3</th>\n",
       "      <td>4.137158e-02</td>\n",
       "      <td>LotArea</td>\n",
       "    </tr>\n",
       "    <tr>\n",
       "      <th>4</th>\n",
       "      <td>2.780018e-02</td>\n",
       "      <td>YearBuilt</td>\n",
       "    </tr>\n",
       "    <tr>\n",
       "      <th>...</th>\n",
       "      <td>...</td>\n",
       "      <td>...</td>\n",
       "    </tr>\n",
       "    <tr>\n",
       "      <th>183</th>\n",
       "      <td>5.844175e-09</td>\n",
       "      <td>Exterior2nd_CBlock</td>\n",
       "    </tr>\n",
       "    <tr>\n",
       "      <th>184</th>\n",
       "      <td>0.000000e+00</td>\n",
       "      <td>RoofMatl_Metal</td>\n",
       "    </tr>\n",
       "    <tr>\n",
       "      <th>185</th>\n",
       "      <td>0.000000e+00</td>\n",
       "      <td>Exterior1st_AsphShn</td>\n",
       "    </tr>\n",
       "    <tr>\n",
       "      <th>186</th>\n",
       "      <td>0.000000e+00</td>\n",
       "      <td>Condition2_RRAn</td>\n",
       "    </tr>\n",
       "    <tr>\n",
       "      <th>187</th>\n",
       "      <td>0.000000e+00</td>\n",
       "      <td>Condition2_PosA</td>\n",
       "    </tr>\n",
       "  </tbody>\n",
       "</table>\n",
       "<p>188 rows × 2 columns</p>\n",
       "</div>"
      ],
      "text/plain": [
       "     Relative Importance       House Features\n",
       "0           5.424130e-01          OverallQual\n",
       "1           1.362530e-01            GrLivArea\n",
       "2           5.632551e-02           GarageArea\n",
       "3           4.137158e-02              LotArea\n",
       "4           2.780018e-02            YearBuilt\n",
       "..                   ...                  ...\n",
       "183         5.844175e-09   Exterior2nd_CBlock\n",
       "184         0.000000e+00       RoofMatl_Metal\n",
       "185         0.000000e+00  Exterior1st_AsphShn\n",
       "186         0.000000e+00      Condition2_RRAn\n",
       "187         0.000000e+00      Condition2_PosA\n",
       "\n",
       "[188 rows x 2 columns]"
      ]
     },
     "execution_count": 31,
     "metadata": {},
     "output_type": "execute_result"
    }
   ],
   "source": [
    "df_feats = pd.DataFrame(feats, columns=['Relative Importance','House Features'])\n",
    "df_feats"
   ]
  },
  {
   "cell_type": "code",
   "execution_count": 32,
   "metadata": {
    "slideshow": {
     "slide_type": "fragment"
    }
   },
   "outputs": [],
   "source": [
    "from sklearn.ensemble import RandomForestRegressor\n",
    "\n",
    "regressor = RandomForestRegressor(n_estimators=20, random_state=0)\n",
    "regressor.fit(X_train, Y_train)\n",
    "y_pred = regressor.predict(X_test)"
   ]
  },
  {
   "cell_type": "code",
   "execution_count": 33,
   "metadata": {
    "slideshow": {
     "slide_type": "fragment"
    }
   },
   "outputs": [
    {
     "name": "stdout",
     "output_type": "stream",
     "text": [
      "Mean Absolute Error: 18865.25684931507\n"
     ]
    }
   ],
   "source": [
    "from sklearn import metrics\n",
    "\n",
    "print('Mean Absolute Error:', metrics.mean_absolute_error(Y_test, y_pred))"
   ]
  },
  {
   "cell_type": "code",
   "execution_count": 34,
   "metadata": {
    "slideshow": {
     "slide_type": "fragment"
    }
   },
   "outputs": [
    {
     "data": {
      "text/plain": [
       "176725.51232876713"
      ]
     },
     "execution_count": 34,
     "metadata": {},
     "output_type": "execute_result"
    }
   ],
   "source": [
    "mean = Y_test.mean()\n",
    "mean"
   ]
  },
  {
   "cell_type": "code",
   "execution_count": 35,
   "metadata": {
    "slideshow": {
     "slide_type": "fragment"
    }
   },
   "outputs": [
    {
     "data": {
      "text/plain": [
       "0.10674891587933005"
      ]
     },
     "execution_count": 35,
     "metadata": {},
     "output_type": "execute_result"
    }
   ],
   "source": [
    "metrics = metrics.mean_absolute_error(Y_test, y_pred)/mean\n",
    "metrics"
   ]
  },
  {
   "cell_type": "code",
   "execution_count": 36,
   "metadata": {},
   "outputs": [
    {
     "data": {
      "text/html": [
       "<div>\n",
       "<style scoped>\n",
       "    .dataframe tbody tr th:only-of-type {\n",
       "        vertical-align: middle;\n",
       "    }\n",
       "\n",
       "    .dataframe tbody tr th {\n",
       "        vertical-align: top;\n",
       "    }\n",
       "\n",
       "    .dataframe thead th {\n",
       "        text-align: right;\n",
       "    }\n",
       "</style>\n",
       "<table border=\"1\" class=\"dataframe\">\n",
       "  <thead>\n",
       "    <tr style=\"text-align: right;\">\n",
       "      <th></th>\n",
       "      <th></th>\n",
       "    </tr>\n",
       "  </thead>\n",
       "  <tbody>\n",
       "    <tr>\n",
       "      <th>Sales Price Mean</th>\n",
       "      <td>176725.512329</td>\n",
       "    </tr>\n",
       "    <tr>\n",
       "      <th>Mean (Sales Price Mean/Mean Absolute Error)</th>\n",
       "      <td>0.106749</td>\n",
       "    </tr>\n",
       "  </tbody>\n",
       "</table>\n",
       "</div>"
      ],
      "text/plain": [
       "                                                          \n",
       "Sales Price Mean                             176725.512329\n",
       "Mean (Sales Price Mean/Mean Absolute Error)       0.106749"
      ]
     },
     "execution_count": 36,
     "metadata": {},
     "output_type": "execute_result"
    }
   ],
   "source": [
    "mean_metrics_df = pd.DataFrame([mean,metrics], columns=[''], index=['Sales Price Mean','Mean (Sales Price Mean/Mean Absolute Error)'])\n",
    "mean_metrics_df"
   ]
  },
  {
   "cell_type": "markdown",
   "metadata": {
    "slideshow": {
     "slide_type": "subslide"
    }
   },
   "source": [
    "# K Neighbors"
   ]
  },
  {
   "cell_type": "code",
   "execution_count": 37,
   "metadata": {
    "slideshow": {
     "slide_type": "fragment"
    }
   },
   "outputs": [],
   "source": [
    "price_bins = pd.cut(Y_train,3,labels=[0,1,2])"
   ]
  },
  {
   "cell_type": "code",
   "execution_count": 38,
   "metadata": {},
   "outputs": [
    {
     "name": "stdout",
     "output_type": "stream",
     "text": [
      "[1, 0, 0, 0, 0, 0, 0, 0, 0, 1, 0, 0, 0, 0, 1, 0, 0, 1, 0, 0, 0, 0, 1, 0, 0, 1, 0, 0, 0, 0, 0, 0, 1, 0, 1, 1, 0, 0, 0, 0, 0, 0, 0, 0, 0, 0, 1, 0, 0, 0, 0, 0, 0, 0, 1, 0, 0, 0, 0, 0, 0, 1, 0, 0, 0, 0, 0, 1, 0, 0, 0, 0, 0, 0, 1, 0, 0, 0, 0, 0, 0, 1, 0, 0, 0, 0, 0, 0, 0, 0, 0, 0, 0, 0, 0, 0, 0, 0, 0, 0, 0, 0, 0, 1, 0, 1, 0, 0, 0, 0, 0, 0, 1, 1, 0, 0, 0, 0, 0, 0, 0, 0, 0, 0, 0, 0, 0, 0, 0, 0, 0, 0, 0, 0, 0, 0, 0, 1, 0, 0, 0, 0, 0, 0, 0, 0, 0, 0, 0, 0, 0, 0, 0, 0, 0, 0, 0, 0, 0, 1, 0, 0, 0, 0, 0, 0, 0, 0, 0, 0, 0, 0, 0, 0, 0, 0, 0, 0, 0, 0, 0, 0, 0, 0, 0, 0, 0, 0, 1, 0, 1, 0, 0, 0, 0, 0, 0, 0, 0, 0, 0, 1, 0, 0, 0, 0, 0, 0, 0, 0, 0, 0, 0, 0, 0, 0, 1, 1, 0, 1, 0, 0, 0, 0, 0, 1, 0, 1, 0, 0, 0, 0, 0, 0, 1, 1, 0, 0, 0, 1, 0, 1, 1, 0, 0, 0, 0, 0, 0, 1, 0, 0, 0, 0, 1, 0, 0, 0, 0, 0, 0, 0, 0, 0, 0, 0, 0, 0, 0, 0, 0, 0, 0, 1, 0, 0, 0, 0, 0, 0, 0, 0, 0, 0, 1, 0, 1, 0, 1, 0, 0, 0, 0, 0, 0, 0, 0, 0, 0, 0, 0, 0, 1, 0, 0, 0, 0, 0, 0, 0, 0, 1, 0, 0, 0, 0, 0, 0, 0, 0, 0, 0, 0, 0, 1, 1, 0, 0, 0, 0, 0, 0, 0, 0, 0, 0, 0, 0, 0, 0, 0, 0, 1, 0, 0, 0, 0, 0, 0, 0, 0, 1, 0, 0, 1, 0, 0, 0, 0, 0, 0, 1, 0, 0, 0, 0, 0, 0, 0, 0, 0, 0, 0, 0, 0, 0, 0, 0, 0, 0, 0, 0, 0, 0, 0, 0, 0, 0, 0, 0, 1, 0, 0, 0, 0, 0, 0, 0, 0, 0, 0, 0, 0, 0, 0, 0, 1, 0, 1, 0, 0, 0, 1, 1, 0, 1, 0, 0, 0, 0, 0, 0, 0, 0, 0, 0, 0, 0, 1, 1, 0, 0, 0, 0, 0, 0, 0, 0, 0, 0, 0, 0, 1, 0, 0, 0, 0, 0, 0, 0, 0, 0, 0, 0, 0, 0, 0, 1, 0, 0, 0, 0, 0, 0, 0, 0, 0, 0, 1, 0, 0, 0, 0, 0, 0, 0, 0, 0, 1, 0, 0, 0, 0, 0, 0, 0, 0, 0, 0, 0, 2, 1, 1, 0, 0, 0, 0, 0, 0, 0, 0, 0, 0, 0, 0, 0, 0, 0, 0, 0, 0, 0, 1, 0, 0, 1, 0, 0, 0, 0, 0, 0, 0, 0, 0, 0, 0, 0, 0, 0, 0, 0, 2, 0, 0, 0, 1, 0, 0, 0, 0, 0, 0, 0, 0, 0, 0, 0, 0, 0, 0, 0, 0, 0, 0, 0, 1, 1, 0, 0, 0, 0, 0, 0, 0, 0, 0, 0, 0, 0, 0, 0, 0, 0, 0, 0, 0, 0, 0, 1, 0, 0, 0, 0, 0, 1, 1, 0, 0, 0, 0, 0, 0, 1, 0, 0, 1, 0, 0, 0, 0, 0, 0, 0, 0, 0, 0, 0, 0, 0, 0, 0, 1, 0, 0, 1, 0, 0, 0, 0, 0, 0, 0, 0, 0, 0, 0, 0, 0, 0, 0, 0, 0, 0, 0, 1, 0, 0, 0, 0, 0, 0, 1, 0, 0, 0, 0, 0, 0, 0, 0, 0, 0, 1, 1, 0, 0, 0, 0, 0, 0, 0, 0, 0, 0, 2, 0, 0, 0, 0, 0, 0, 0, 0, 0, 0, 0, 1, 0, 0, 0, 0, 0, 0, 0, 0, 0, 0, 0, 0, 0, 0, 0, 0, 0, 0, 0, 0, 0, 0, 0, 0, 0, 0, 0, 0, 0, 0, 0, 0, 0, 0, 0, 0, 0, 0, 0, 0, 0, 0, 0, 0, 0, 0, 0, 0, 0, 0, 0, 0, 1, 0, 0, 0, 0, 0, 0, 0, 1, 0, 0, 0, 0, 0, 0, 0, 0, 1, 0, 0, 0, 0, 0, 0, 0, 0, 0, 0, 1, 0, 0, 0, 0, 0, 0, 0, 0, 0, 0, 1, 0, 0, 0, 0, 0, 0, 0, 0, 2, 0, 1, 0, 0, 0, 0, 0, 0, 0, 0, 0, 0, 0, 0, 0, 1, 0, 0, 0, 0, 0, 0, 0, 0, 1, 0, 0, 0, 0, 0, 0, 0, 0, 0, 0, 0, 0, 0, 0, 0, 0, 0, 0, 0, 1, 0, 1, 0, 0, 0, 1, 0, 0, 0, 0, 0, 1, 0, 1, 0, 0, 0, 1, 0, 1, 2, 0, 0, 0, 0, 0, 0, 0, 0, 0, 0, 0, 0, 0, 0, 0, 0, 0, 0, 0, 0, 0, 0, 0, 0, 0, 0, 0, 0, 0, 0, 0, 0, 0, 0, 0, 0, 0, 0, 0, 0, 0, 0, 0, 0, 0, 0, 0, 0, 0, 0, 0, 0, 0, 0, 0, 0, 0, 0, 1, 0, 0, 0, 0, 0, 0, 0, 0, 0, 0, 0, 0, 1, 0, 1, 0, 0, 0, 0, 0, 0, 0, 1, 0, 0, 0, 0, 0, 0, 0, 0, 0, 0, 0, 0, 0, 0, 0, 0, 0, 0, 0, 0, 0, 0, 0, 0, 0, 0, 0, 0, 0, 0, 0, 0, 1, 0, 1, 0, 0, 0, 0, 0, 1, 0, 0, 0, 0, 0, 0, 0, 1, 1, 0, 0, 0, 0, 0, 0, 0, 0, 0, 0, 0, 0, 0, 0, 0, 0, 0, 0, 0, 0, 0, 0, 0, 0, 0, 0, 0, 0, 0, 0, 0, 0, 1, 0, 0, 0, 0, 0, 0, 0, 0, 0, 1, 0, 0, 1, 1, 0, 0, 0, 0, 0, 0, 2, 0, 0, 0, 1, 0, 0, 0, 0, 0, 0, 0, 0, 0, 0, 0, 1, 0, 0, 0, 0, 0, 0, 0, 0, 0, 1, 0, 0, 0, 0, 0, 0, 0, 1, 0, 0, 1, 0, 0, 0, 0, 0, 0, 0, 0, 0, 0, 0, 0, 0, 0, 1, 0, 0, 0, 0, 0, 0, 0, 0, 0, 0, 0, 0]\n"
     ]
    }
   ],
   "source": [
    "print(list(price_bins.values))"
   ]
  },
  {
   "cell_type": "code",
   "execution_count": 39,
   "metadata": {
    "slideshow": {
     "slide_type": "fragment"
    }
   },
   "outputs": [],
   "source": [
    "Y_test_bins = pd.cut(Y_test,3,labels=[0,1,2])"
   ]
  },
  {
   "cell_type": "code",
   "execution_count": 40,
   "metadata": {
    "slideshow": {
     "slide_type": "fragment"
    }
   },
   "outputs": [
    {
     "name": "stdout",
     "output_type": "stream",
     "text": [
      "[0, 0, 0, 0, 0, 1, 1, 0, 0, 0, 0, 0, 0, 1, 0, 0, 0, 0, 0, 0, 0, 0, 0, 1, 0, 0, 0, 0, 1, 0, 0, 0, 0, 0, 0, 1, 0, 0, 0, 0, 0, 0, 0, 0, 0, 0, 0, 0, 0, 1, 0, 1, 0, 0, 0, 0, 0, 0, 0, 0, 0, 0, 0, 0, 0, 0, 0, 0, 0, 0, 0, 0, 1, 0, 0, 0, 0, 0, 1, 0, 0, 0, 0, 0, 0, 0, 0, 0, 0, 0, 0, 0, 0, 0, 0, 0, 0, 0, 0, 0, 0, 0, 0, 0, 0, 0, 0, 0, 0, 1, 0, 0, 0, 0, 0, 0, 0, 0, 0, 0, 0, 0, 1, 0, 0, 0, 1, 0, 0, 0, 1, 0, 0, 0, 0, 0, 2, 1, 0, 0, 0, 0, 0, 0, 0, 0, 0, 0, 0, 0, 0, 0, 0, 0, 0, 1, 0, 0, 0, 0, 0, 0, 0, 0, 0, 0, 0, 0, 0, 0, 0, 0, 0, 0, 0, 0, 0, 0, 0, 0, 0, 0, 0, 0, 1, 0, 0, 1, 0, 0, 0, 0, 0, 0, 0, 0, 0, 0, 0, 0, 0, 0, 0, 0, 1, 0, 0, 1, 1, 0, 0, 0, 0, 0, 1, 0, 0, 0, 0, 0, 2, 0, 0, 0, 0, 0, 0, 0, 0, 0, 0, 0, 0, 0, 1, 0, 1, 0, 0, 1, 1, 0, 0, 0, 0, 0, 0, 0, 0, 0, 0, 0, 0, 0, 0, 0, 0, 0, 1, 0, 0, 0, 0, 0, 0, 0, 0, 0, 0, 0, 0, 0, 0, 0, 0, 0, 0, 0, 0, 0, 0, 0, 0, 0, 0, 0, 0, 0, 0, 0, 0, 1, 0, 0, 0, 0, 0, 0, 0, 0, 0, 0, 0, 0, 0, 0, 0, 0, 0, 0, 0, 0, 0, 0, 0, 0, 1, 0, 0, 0, 0, 0, 0, 0, 0, 1, 0, 0, 0, 0, 0, 0, 0, 1, 0, 0, 0, 0, 1, 0, 0, 1, 0, 0, 0, 0, 0, 0, 0, 0, 0, 0, 1, 0, 0, 0, 0, 0, 0, 1, 0, 0, 0, 0, 0]\n"
     ]
    }
   ],
   "source": [
    "print(list(Y_test_bins.values))"
   ]
  },
  {
   "cell_type": "code",
   "execution_count": 41,
   "metadata": {
    "slideshow": {
     "slide_type": "fragment"
    }
   },
   "outputs": [
    {
     "name": "stdout",
     "output_type": "stream",
     "text": [
      "k: 1, Train/Test Score: 1.000/0.901\n",
      "k: 2, Train/Test Score: 0.942/0.918\n",
      "k: 3, Train/Test Score: 0.946/0.915\n",
      "k: 4, Train/Test Score: 0.932/0.918\n",
      "k: 5, Train/Test Score: 0.934/0.921\n",
      "k: 6, Train/Test Score: 0.928/0.915\n",
      "k: 7, Train/Test Score: 0.932/0.921\n",
      "k: 8, Train/Test Score: 0.925/0.915\n",
      "k: 9, Train/Test Score: 0.927/0.926\n",
      "k: 10, Train/Test Score: 0.921/0.918\n",
      "k: 11, Train/Test Score: 0.918/0.923\n",
      "k: 12, Train/Test Score: 0.920/0.915\n",
      "k: 13, Train/Test Score: 0.920/0.923\n",
      "k: 14, Train/Test Score: 0.914/0.923\n",
      "k: 15, Train/Test Score: 0.914/0.923\n",
      "k: 16, Train/Test Score: 0.908/0.921\n",
      "k: 17, Train/Test Score: 0.911/0.921\n",
      "k: 18, Train/Test Score: 0.910/0.921\n",
      "k: 19, Train/Test Score: 0.911/0.921\n"
     ]
    },
    {
     "data": {
      "image/png": "[encoded data removed]",
      "text/plain": [
       "<Figure size 432x288 with 1 Axes>"
      ]
     },
     "metadata": {
      "needs_background": "light"
     },
     "output_type": "display_data"
    }
   ],
   "source": [
    "from sklearn.neighbors import KNeighborsClassifier\n",
    "train_scores = []\n",
    "test_scores = []\n",
    "for k in range(1, 20):\n",
    "    knn = KNeighborsClassifier(n_neighbors=k)\n",
    "    knn.fit(X_train, price_bins)\n",
    "    train_score = knn.score(X_train, price_bins)\n",
    "    test_score = knn.score(X_test, Y_test_bins)\n",
    "    train_scores.append(train_score)\n",
    "    test_scores.append(test_score)\n",
    "    print(f\"k: {k}, Train/Test Score: {train_score:.3f}/{test_score:.3f}\")\n",
    "    \n",
    "    \n",
    "plt.plot(range(1, 20), train_scores, marker='o')\n",
    "plt.plot(range(1, 20), test_scores, marker=\"x\")\n",
    "plt.xlabel(\"K Neighbors\")\n",
    "plt.ylabel(\"Testing Accuracy Score\")\n",
    "plt.show()"
   ]
  },
  {
   "cell_type": "markdown",
   "metadata": {
    "slideshow": {
     "slide_type": "subslide"
    }
   },
   "source": [
    "# Linear Regression"
   ]
  },
  {
   "cell_type": "markdown",
   "metadata": {
    "slideshow": {
     "slide_type": "subslide"
    }
   },
   "source": [
    "Train Test Split, Identified 11 Variables/Features"
   ]
  },
  {
   "cell_type": "code",
   "execution_count": 42,
   "metadata": {
    "slideshow": {
     "slide_type": "fragment"
    }
   },
   "outputs": [
    {
     "name": "stdout",
     "output_type": "stream",
     "text": [
      "(1460, 11) (1460, 1)\n"
     ]
    }
   ],
   "source": [
    "# Assign the data to X and y\n",
    "\n",
    "X = train_data[[\"LotArea\", \"OverallCond\", \"BedroomAbvGr\", \"YearRemodAdd\", \"GrLivArea\", \"Fireplaces\", \"YearBuilt\", \"FullBath\", \"HalfBath\", \"GarageArea\", \"OverallQual\"]]\n",
    "y = train_data[\"SalePrice\"].values.reshape(-1, 1)\n",
    "print(X.shape, y.shape)"
   ]
  },
  {
   "cell_type": "code",
   "execution_count": 43,
   "metadata": {
    "slideshow": {
     "slide_type": "fragment"
    }
   },
   "outputs": [],
   "source": [
    "from sklearn.model_selection import train_test_split\n",
    "\n",
    "X_train, X_test, y_train, y_test = train_test_split(X, y, random_state=42)"
   ]
  },
  {
   "cell_type": "code",
   "execution_count": 44,
   "metadata": {
    "slideshow": {
     "slide_type": "fragment"
    }
   },
   "outputs": [],
   "source": [
    "from sklearn.linear_model import LinearRegression\n",
    "model = LinearRegression()"
   ]
  },
  {
   "cell_type": "markdown",
   "metadata": {
    "slideshow": {
     "slide_type": "subslide"
    }
   },
   "source": [
    "Fit the Model - Training Score 77% and Testing Score 80%, Not Too Bad!"
   ]
  },
  {
   "cell_type": "code",
   "execution_count": 45,
   "metadata": {
    "slideshow": {
     "slide_type": "fragment"
    }
   },
   "outputs": [
    {
     "name": "stdout",
     "output_type": "stream",
     "text": [
      "Training Score: 0.7695156899179658\n",
      "Testing Score: 0.8002134430362952\n"
     ]
    }
   ],
   "source": [
    "model.fit(X_train, y_train)\n",
    "training_score = model.score(X_train, y_train)\n",
    "testing_score = model.score(X_test, y_test)\n",
    "print(f\"Training Score: {training_score}\")\n",
    "print(f\"Testing Score: {testing_score}\")"
   ]
  },
  {
   "cell_type": "markdown",
   "metadata": {
    "slideshow": {
     "slide_type": "subslide"
    }
   },
   "source": [
    "Scatter Plot of Model with Training and Testing Data"
   ]
  },
  {
   "cell_type": "code",
   "execution_count": 46,
   "metadata": {
    "slideshow": {
     "slide_type": "fragment"
    }
   },
   "outputs": [
    {
     "data": {
      "text/plain": [
       "Text(0.5, 1.0, 'Residual Plot')"
      ]
     },
     "execution_count": 46,
     "metadata": {},
     "output_type": "execute_result"
    },
    {
     "data": {
      "image/png": "[encoded data removed]",
      "text/plain": [
       "<Figure size 432x288 with 1 Axes>"
      ]
     },
     "metadata": {
      "needs_background": "light"
     },
     "output_type": "display_data"
    }
   ],
   "source": [
    "plt.scatter(model.predict(X_train), model.predict(X_train) - y_train, c=\"blue\", label=\"Training Data\")\n",
    "plt.scatter(model.predict(X_test), model.predict(X_test) - y_test, c=\"orange\", label=\"Testing Data\")\n",
    "plt.legend()\n",
    "plt.hlines(y=0, xmin=y.min(), xmax=y.max())\n",
    "plt.title(\"Residual Plot\")"
   ]
  },
  {
   "cell_type": "code",
   "execution_count": 47,
   "metadata": {
    "slideshow": {
     "slide_type": "fragment"
    }
   },
   "outputs": [
    {
     "data": {
      "text/html": [
       "<div>\n",
       "<style scoped>\n",
       "    .dataframe tbody tr th:only-of-type {\n",
       "        vertical-align: middle;\n",
       "    }\n",
       "\n",
       "    .dataframe tbody tr th {\n",
       "        vertical-align: top;\n",
       "    }\n",
       "\n",
       "    .dataframe thead th {\n",
       "        text-align: right;\n",
       "    }\n",
       "</style>\n",
       "<table border=\"1\" class=\"dataframe\">\n",
       "  <thead>\n",
       "    <tr style=\"text-align: right;\">\n",
       "      <th></th>\n",
       "      <th>Id</th>\n",
       "      <th>LotArea</th>\n",
       "      <th>OverallQual</th>\n",
       "      <th>OverallCond</th>\n",
       "      <th>YearBuilt</th>\n",
       "      <th>YearRemodAdd</th>\n",
       "      <th>MasVnrArea</th>\n",
       "      <th>GrLivArea</th>\n",
       "      <th>BsmtFullBath</th>\n",
       "      <th>BsmtHalfBath</th>\n",
       "      <th>...</th>\n",
       "      <th>SaleType_ConLw</th>\n",
       "      <th>SaleType_New</th>\n",
       "      <th>SaleType_Oth</th>\n",
       "      <th>SaleType_WD</th>\n",
       "      <th>SaleCondition_Abnorml</th>\n",
       "      <th>SaleCondition_AdjLand</th>\n",
       "      <th>SaleCondition_Alloca</th>\n",
       "      <th>SaleCondition_Family</th>\n",
       "      <th>SaleCondition_Normal</th>\n",
       "      <th>SaleCondition_Partial</th>\n",
       "    </tr>\n",
       "  </thead>\n",
       "  <tbody>\n",
       "    <tr>\n",
       "      <th>0</th>\n",
       "      <td>1</td>\n",
       "      <td>8450</td>\n",
       "      <td>7</td>\n",
       "      <td>5</td>\n",
       "      <td>2003</td>\n",
       "      <td>2003</td>\n",
       "      <td>196.0</td>\n",
       "      <td>1710</td>\n",
       "      <td>1</td>\n",
       "      <td>0</td>\n",
       "      <td>...</td>\n",
       "      <td>0</td>\n",
       "      <td>0</td>\n",
       "      <td>0</td>\n",
       "      <td>1</td>\n",
       "      <td>0</td>\n",
       "      <td>0</td>\n",
       "      <td>0</td>\n",
       "      <td>0</td>\n",
       "      <td>1</td>\n",
       "      <td>0</td>\n",
       "    </tr>\n",
       "    <tr>\n",
       "      <th>1</th>\n",
       "      <td>2</td>\n",
       "      <td>9600</td>\n",
       "      <td>6</td>\n",
       "      <td>8</td>\n",
       "      <td>1976</td>\n",
       "      <td>1976</td>\n",
       "      <td>0.0</td>\n",
       "      <td>1262</td>\n",
       "      <td>0</td>\n",
       "      <td>1</td>\n",
       "      <td>...</td>\n",
       "      <td>0</td>\n",
       "      <td>0</td>\n",
       "      <td>0</td>\n",
       "      <td>1</td>\n",
       "      <td>0</td>\n",
       "      <td>0</td>\n",
       "      <td>0</td>\n",
       "      <td>0</td>\n",
       "      <td>1</td>\n",
       "      <td>0</td>\n",
       "    </tr>\n",
       "    <tr>\n",
       "      <th>2</th>\n",
       "      <td>3</td>\n",
       "      <td>11250</td>\n",
       "      <td>7</td>\n",
       "      <td>5</td>\n",
       "      <td>2001</td>\n",
       "      <td>2002</td>\n",
       "      <td>162.0</td>\n",
       "      <td>1786</td>\n",
       "      <td>1</td>\n",
       "      <td>0</td>\n",
       "      <td>...</td>\n",
       "      <td>0</td>\n",
       "      <td>0</td>\n",
       "      <td>0</td>\n",
       "      <td>1</td>\n",
       "      <td>0</td>\n",
       "      <td>0</td>\n",
       "      <td>0</td>\n",
       "      <td>0</td>\n",
       "      <td>1</td>\n",
       "      <td>0</td>\n",
       "    </tr>\n",
       "    <tr>\n",
       "      <th>3</th>\n",
       "      <td>4</td>\n",
       "      <td>9550</td>\n",
       "      <td>7</td>\n",
       "      <td>5</td>\n",
       "      <td>1915</td>\n",
       "      <td>1970</td>\n",
       "      <td>0.0</td>\n",
       "      <td>1717</td>\n",
       "      <td>1</td>\n",
       "      <td>0</td>\n",
       "      <td>...</td>\n",
       "      <td>0</td>\n",
       "      <td>0</td>\n",
       "      <td>0</td>\n",
       "      <td>1</td>\n",
       "      <td>1</td>\n",
       "      <td>0</td>\n",
       "      <td>0</td>\n",
       "      <td>0</td>\n",
       "      <td>0</td>\n",
       "      <td>0</td>\n",
       "    </tr>\n",
       "    <tr>\n",
       "      <th>4</th>\n",
       "      <td>5</td>\n",
       "      <td>14260</td>\n",
       "      <td>8</td>\n",
       "      <td>5</td>\n",
       "      <td>2000</td>\n",
       "      <td>2000</td>\n",
       "      <td>350.0</td>\n",
       "      <td>2198</td>\n",
       "      <td>1</td>\n",
       "      <td>0</td>\n",
       "      <td>...</td>\n",
       "      <td>0</td>\n",
       "      <td>0</td>\n",
       "      <td>0</td>\n",
       "      <td>1</td>\n",
       "      <td>0</td>\n",
       "      <td>0</td>\n",
       "      <td>0</td>\n",
       "      <td>0</td>\n",
       "      <td>1</td>\n",
       "      <td>0</td>\n",
       "    </tr>\n",
       "  </tbody>\n",
       "</table>\n",
       "<p>5 rows × 185 columns</p>\n",
       "</div>"
      ],
      "text/plain": [
       "   Id  LotArea  OverallQual  OverallCond  YearBuilt  YearRemodAdd  MasVnrArea  \\\n",
       "0   1     8450            7            5       2003          2003       196.0   \n",
       "1   2     9600            6            8       1976          1976         0.0   \n",
       "2   3    11250            7            5       2001          2002       162.0   \n",
       "3   4     9550            7            5       1915          1970         0.0   \n",
       "4   5    14260            8            5       2000          2000       350.0   \n",
       "\n",
       "   GrLivArea  BsmtFullBath  BsmtHalfBath  ...  SaleType_ConLw  SaleType_New  \\\n",
       "0       1710             1             0  ...               0             0   \n",
       "1       1262             0             1  ...               0             0   \n",
       "2       1786             1             0  ...               0             0   \n",
       "3       1717             1             0  ...               0             0   \n",
       "4       2198             1             0  ...               0             0   \n",
       "\n",
       "   SaleType_Oth  SaleType_WD  SaleCondition_Abnorml  SaleCondition_AdjLand  \\\n",
       "0             0            1                      0                      0   \n",
       "1             0            1                      0                      0   \n",
       "2             0            1                      0                      0   \n",
       "3             0            1                      1                      0   \n",
       "4             0            1                      0                      0   \n",
       "\n",
       "   SaleCondition_Alloca  SaleCondition_Family  SaleCondition_Normal  \\\n",
       "0                     0                     0                     1   \n",
       "1                     0                     0                     1   \n",
       "2                     0                     0                     1   \n",
       "3                     0                     0                     0   \n",
       "4                     0                     0                     1   \n",
       "\n",
       "   SaleCondition_Partial  \n",
       "0                      0  \n",
       "1                      0  \n",
       "2                      0  \n",
       "3                      0  \n",
       "4                      0  \n",
       "\n",
       "[5 rows x 185 columns]"
      ]
     },
     "execution_count": 47,
     "metadata": {},
     "output_type": "execute_result"
    }
   ],
   "source": [
    "housing = pd.get_dummies(train_data)\n",
    "housing.head()"
   ]
  },
  {
   "cell_type": "markdown",
   "metadata": {
    "slideshow": {
     "slide_type": "subslide"
    }
   },
   "source": [
    "# Create a StandardScaler Model and Fit it to the Training Data"
   ]
  },
  {
   "cell_type": "code",
   "execution_count": 48,
   "metadata": {
    "slideshow": {
     "slide_type": "fragment"
    }
   },
   "outputs": [],
   "source": [
    "from sklearn.preprocessing import StandardScaler\n",
    "\n",
    "X_scaler = StandardScaler().fit(X_train)\n",
    "y_scaler = StandardScaler().fit(y_train)"
   ]
  },
  {
   "cell_type": "markdown",
   "metadata": {
    "slideshow": {
     "slide_type": "subslide"
    }
   },
   "source": [
    "Transform the Training and Testing Data Using the X_scaler and y_scaler Models"
   ]
  },
  {
   "cell_type": "code",
   "execution_count": 49,
   "metadata": {
    "slideshow": {
     "slide_type": "fragment"
    }
   },
   "outputs": [],
   "source": [
    "X_train_scaled = X_scaler.transform(X_train)\n",
    "X_test_scaled = X_scaler.transform(X_test)\n",
    "y_train_scaled = y_scaler.transform(y_train)\n",
    "y_test_scaled = y_scaler.transform(y_test)"
   ]
  },
  {
   "cell_type": "code",
   "execution_count": 50,
   "metadata": {
    "slideshow": {
     "slide_type": "fragment"
    }
   },
   "outputs": [
    {
     "data": {
      "text/plain": [
       "LinearRegression()"
      ]
     },
     "execution_count": 50,
     "metadata": {},
     "output_type": "execute_result"
    }
   ],
   "source": [
    "from sklearn.linear_model import LinearRegression\n",
    "model = LinearRegression()\n",
    "model.fit(X_train_scaled, y_train_scaled)"
   ]
  },
  {
   "cell_type": "markdown",
   "metadata": {
    "slideshow": {
     "slide_type": "subslide"
    }
   },
   "source": [
    "Scatter Plot with the StandardScaler Moder"
   ]
  },
  {
   "cell_type": "code",
   "execution_count": 51,
   "metadata": {
    "slideshow": {
     "slide_type": "fragment"
    }
   },
   "outputs": [
    {
     "data": {
      "image/png": "[encoded data removed]",
      "text/plain": [
       "<Figure size 432x288 with 1 Axes>"
      ]
     },
     "metadata": {
      "needs_background": "light"
     },
     "output_type": "display_data"
    }
   ],
   "source": [
    "predictions = model.predict(X_test_scaled)\n",
    "model.fit(X_train_scaled, y_train_scaled)\n",
    "plt.scatter(model.predict(X_train_scaled), model.predict(X_train_scaled) - y_train_scaled, c=\"blue\", label=\"Training Data\")\n",
    "plt.scatter(model.predict(X_test_scaled), model.predict(X_test_scaled) - y_test_scaled, c=\"orange\", label=\"Testing Data\")\n",
    "plt.legend()\n",
    "plt.hlines(y=0, xmin=y_test_scaled.min(), xmax=y_test_scaled.max())\n",
    "plt.title(\"Residual Plot\")\n",
    "plt.show()"
   ]
  },
  {
   "cell_type": "markdown",
   "metadata": {
    "slideshow": {
     "slide_type": "subslide"
    }
   },
   "source": [
    "Calculate the MSE and R2 with the Scaled Data\n",
    "\n",
    "Results:\n",
    "\n",
    "MSE - 0.23051621910735517,\n",
    "R2 - 0.8002134430362934"
   ]
  },
  {
   "cell_type": "code",
   "execution_count": 52,
   "metadata": {
    "slideshow": {
     "slide_type": "fragment"
    }
   },
   "outputs": [
    {
     "name": "stdout",
     "output_type": "stream",
     "text": [
      "MSE: 0.23051621910735523, R2: 0.8002134430362933\n"
     ]
    }
   ],
   "source": [
    "from sklearn.metrics import mean_squared_error\n",
    "\n",
    "MSE = mean_squared_error(y_test_scaled, predictions)\n",
    "r2 = model.score(X_test_scaled, y_test_scaled)\n",
    "\n",
    "print(f\"MSE: {MSE}, R2: {r2}\")"
   ]
  },
  {
   "cell_type": "markdown",
   "metadata": {
    "slideshow": {
     "slide_type": "subslide"
    }
   },
   "source": [
    "Lasso Model\n",
    "\n",
    "Results:\n",
    "\n",
    "MSE - 0.2349998630100149, R2 - 0.7963275048518461"
   ]
  },
  {
   "cell_type": "code",
   "execution_count": 53,
   "metadata": {},
   "outputs": [
    {
     "name": "stdout",
     "output_type": "stream",
     "text": [
      "MSE: 0.2383394813911702, R2: 0.7934330844048709\n"
     ]
    }
   ],
   "source": [
    "from sklearn.linear_model import Lasso\n",
    "\n",
    "lasso = Lasso(alpha=.01).fit(X_train_scaled, y_train_scaled)\n",
    "\n",
    "predictions = lasso.predict(X_test_scaled)\n",
    "\n",
    "MSE = mean_squared_error(y_test_scaled, predictions)\n",
    "r2 = lasso.score(X_test_scaled, y_test_scaled)\n",
    "\n",
    "print(f\"MSE: {MSE}, R2: {r2}\")"
   ]
  },
  {
   "cell_type": "markdown",
   "metadata": {
    "slideshow": {
     "slide_type": "subslide"
    }
   },
   "source": [
    "Ridge Model\n",
    "\n",
    "Results:\n",
    "\n",
    "MSE - 0.22811762102677752, R2 - 0.8022922887414417"
   ]
  },
  {
   "cell_type": "code",
   "execution_count": 54,
   "metadata": {
    "slideshow": {
     "slide_type": "fragment"
    }
   },
   "outputs": [
    {
     "name": "stdout",
     "output_type": "stream",
     "text": [
      "MSE: 0.2305177483088378, R2: 0.8002121176896418\n"
     ]
    }
   ],
   "source": [
    "from sklearn.linear_model import Ridge\n",
    "\n",
    "ridge = Ridge(alpha=.01).fit(X_train_scaled, y_train_scaled)\n",
    "\n",
    "predictions = ridge.predict(X_test_scaled)\n",
    "\n",
    "MSE = mean_squared_error(y_test_scaled, predictions)\n",
    "r2 = ridge.score(X_test_scaled, y_test_scaled)\n",
    "\n",
    "print(f\"MSE: {MSE}, R2: {r2}\")"
   ]
  },
  {
   "cell_type": "markdown",
   "metadata": {
    "slideshow": {
     "slide_type": "subslide"
    }
   },
   "source": [
    "ElasticNet Model\n",
    "\n",
    "Results: \n",
    "    \n",
    "MSE - 0.23231294221666945, R2 - 0.7986562375380553"
   ]
  },
  {
   "cell_type": "code",
   "execution_count": 55,
   "metadata": {},
   "outputs": [
    {
     "name": "stdout",
     "output_type": "stream",
     "text": [
      "MSE: 0.23489171291376107, R2: 0.7964212376722501\n"
     ]
    }
   ],
   "source": [
    "from sklearn.linear_model import ElasticNet\n",
    "\n",
    "elasticnet = ElasticNet(alpha=.01).fit(X_train_scaled, y_train_scaled)\n",
    "\n",
    "predictions = elasticnet.predict(X_test_scaled)\n",
    "\n",
    "MSE = mean_squared_error(y_test_scaled, predictions)\n",
    "r2 = elasticnet.score(X_test_scaled, y_test_scaled)\n",
    "\n",
    "print(f\"MSE: {MSE}, R2: {r2}\")"
   ]
  },
  {
   "cell_type": "markdown",
   "metadata": {
    "slideshow": {
     "slide_type": "subslide"
    }
   },
   "source": [
    "Normal Neural Network\n",
    "Loss: 0.3033047616481781, Accuracy: 0.8799999952316284\n",
    "\n",
    "vs.\n",
    "\n",
    "Deep Neural Network\n",
    "Loss: 0.00832375418394804, Accuracy: 1.0"
   ]
  },
  {
   "cell_type": "code",
   "execution_count": 56,
   "metadata": {},
   "outputs": [],
   "source": [
    "X, y = sklearn.datasets.make_moons(200, noise=0.05)"
   ]
  },
  {
   "cell_type": "code",
   "execution_count": 57,
   "metadata": {},
   "outputs": [
    {
     "data": {
      "text/plain": [
       "<matplotlib.collections.PathCollection at 0x1ac2602ca48>"
      ]
     },
     "execution_count": 57,
     "metadata": {},
     "output_type": "execute_result"
    },
    {
     "data": {
      "image/png": "[encoded data removed]",
      "text/plain": [
       "<Figure size 432x288 with 1 Axes>"
      ]
     },
     "metadata": {
      "needs_background": "light"
     },
     "output_type": "display_data"
    }
   ],
   "source": [
    "plt.scatter(X[:, 0], X[:, 1], c=y)"
   ]
  },
  {
   "cell_type": "code",
   "execution_count": 58,
   "metadata": {
    "slideshow": {
     "slide_type": "fragment"
    }
   },
   "outputs": [],
   "source": [
    "# Use train_test_split to create training and testing data\n",
    "from sklearn.model_selection import train_test_split\n",
    "\n",
    "X_train, X_test, y_train, y_test = train_test_split(X, y, random_state=1)"
   ]
  },
  {
   "cell_type": "code",
   "execution_count": 59,
   "metadata": {
    "slideshow": {
     "slide_type": "fragment"
    }
   },
   "outputs": [],
   "source": [
    "from sklearn.preprocessing import StandardScaler\n",
    "\n",
    "# Create a StandardScater model and fit it to the training data\n",
    "X_scaler = StandardScaler().fit(X_train)"
   ]
  },
  {
   "cell_type": "code",
   "execution_count": 60,
   "metadata": {
    "slideshow": {
     "slide_type": "fragment"
    }
   },
   "outputs": [],
   "source": [
    "# Transform the training and testing data using the X_scaler\n",
    "\n",
    "X_train_scaled = X_scaler.transform(X_train)\n",
    "X_test_scaled = X_scaler.transform(X_test)"
   ]
  },
  {
   "cell_type": "code",
   "execution_count": 61,
   "metadata": {
    "slideshow": {
     "slide_type": "fragment"
    }
   },
   "outputs": [],
   "source": [
    "from tensorflow.keras.utils import to_categorical"
   ]
  },
  {
   "cell_type": "code",
   "execution_count": 62,
   "metadata": {
    "slideshow": {
     "slide_type": "fragment"
    }
   },
   "outputs": [],
   "source": [
    "# One-hot encoding\n",
    "y_train_categorical = to_categorical(y_train)\n",
    "y_test_categorical = to_categorical(y_test)"
   ]
  },
  {
   "cell_type": "code",
   "execution_count": 63,
   "metadata": {
    "slideshow": {
     "slide_type": "fragment"
    }
   },
   "outputs": [],
   "source": [
    "from tensorflow.keras.models import Sequential\n",
    "from tensorflow.keras.layers import Dense\n",
    "\n",
    "model = Sequential()\n",
    "model.add(Dense(units=6, activation='relu', input_dim=2))\n",
    "model.add(Dense(units=2, activation='softmax'))"
   ]
  },
  {
   "cell_type": "code",
   "execution_count": 64,
   "metadata": {
    "slideshow": {
     "slide_type": "fragment"
    }
   },
   "outputs": [
    {
     "name": "stdout",
     "output_type": "stream",
     "text": [
      "Model: \"sequential\"\n",
      "_________________________________________________________________\n",
      "Layer (type)                 Output Shape              Param #   \n",
      "=================================================================\n",
      "dense (Dense)                (None, 6)                 18        \n",
      "_________________________________________________________________\n",
      "dense_1 (Dense)              (None, 2)                 14        \n",
      "=================================================================\n",
      "Total params: 32\n",
      "Trainable params: 32\n",
      "Non-trainable params: 0\n",
      "_________________________________________________________________\n"
     ]
    }
   ],
   "source": [
    "model.summary()"
   ]
  },
  {
   "cell_type": "code",
   "execution_count": 65,
   "metadata": {
    "slideshow": {
     "slide_type": "fragment"
    }
   },
   "outputs": [],
   "source": [
    "# Compile the model\n",
    "model.compile(optimizer='adam',\n",
    "              loss='categorical_crossentropy',\n",
    "              metrics=['accuracy'])"
   ]
  },
  {
   "cell_type": "code",
   "execution_count": 66,
   "metadata": {
    "slideshow": {
     "slide_type": "fragment"
    }
   },
   "outputs": [
    {
     "name": "stdout",
     "output_type": "stream",
     "text": [
      "Epoch 1/100\n",
      "5/5 - 0s - loss: 0.7274 - accuracy: 0.5733\n",
      "Epoch 2/100\n",
      "5/5 - 0s - loss: 0.7138 - accuracy: 0.6067\n",
      "Epoch 3/100\n",
      "5/5 - 0s - loss: 0.7012 - accuracy: 0.6200\n",
      "Epoch 4/100\n",
      "5/5 - 0s - loss: 0.6887 - accuracy: 0.6200\n",
      "Epoch 5/100\n",
      "5/5 - 0s - loss: 0.6762 - accuracy: 0.6200\n",
      "Epoch 6/100\n",
      "5/5 - 0s - loss: 0.6643 - accuracy: 0.6467\n",
      "Epoch 7/100\n",
      "5/5 - 0s - loss: 0.6532 - accuracy: 0.6667\n",
      "Epoch 8/100\n",
      "5/5 - 0s - loss: 0.6420 - accuracy: 0.6800\n",
      "Epoch 9/100\n",
      "5/5 - 0s - loss: 0.6312 - accuracy: 0.7000\n",
      "Epoch 10/100\n",
      "5/5 - 0s - loss: 0.6212 - accuracy: 0.7133\n",
      "Epoch 11/100\n",
      "5/5 - 0s - loss: 0.6112 - accuracy: 0.7067\n",
      "Epoch 12/100\n",
      "5/5 - 0s - loss: 0.6011 - accuracy: 0.7200\n",
      "Epoch 13/100\n",
      "5/5 - 0s - loss: 0.5920 - accuracy: 0.7200\n",
      "Epoch 14/100\n",
      "5/5 - 0s - loss: 0.5829 - accuracy: 0.7333\n",
      "Epoch 15/100\n",
      "5/5 - 0s - loss: 0.5740 - accuracy: 0.7467\n",
      "Epoch 16/100\n",
      "5/5 - 0s - loss: 0.5652 - accuracy: 0.7533\n",
      "Epoch 17/100\n",
      "5/5 - 0s - loss: 0.5567 - accuracy: 0.7667\n",
      "Epoch 18/100\n",
      "5/5 - 0s - loss: 0.5485 - accuracy: 0.7733\n",
      "Epoch 19/100\n",
      "5/5 - 0s - loss: 0.5402 - accuracy: 0.7800\n",
      "Epoch 20/100\n",
      "5/5 - 0s - loss: 0.5327 - accuracy: 0.7800\n",
      "Epoch 21/100\n",
      "5/5 - 0s - loss: 0.5248 - accuracy: 0.7800\n",
      "Epoch 22/100\n",
      "5/5 - 0s - loss: 0.5178 - accuracy: 0.7867\n",
      "Epoch 23/100\n",
      "5/5 - 0s - loss: 0.5106 - accuracy: 0.7933\n",
      "Epoch 24/100\n",
      "5/5 - 0s - loss: 0.5035 - accuracy: 0.8000\n",
      "Epoch 25/100\n",
      "5/5 - 0s - loss: 0.4966 - accuracy: 0.8000\n",
      "Epoch 26/100\n",
      "5/5 - 0s - loss: 0.4901 - accuracy: 0.8000\n",
      "Epoch 27/100\n",
      "5/5 - 0s - loss: 0.4834 - accuracy: 0.8000\n",
      "Epoch 28/100\n",
      "5/5 - 0s - loss: 0.4770 - accuracy: 0.8067\n",
      "Epoch 29/100\n",
      "5/5 - 0s - loss: 0.4709 - accuracy: 0.8067\n",
      "Epoch 30/100\n",
      "5/5 - 0s - loss: 0.4651 - accuracy: 0.8000\n",
      "Epoch 31/100\n",
      "5/5 - 0s - loss: 0.4591 - accuracy: 0.8067\n",
      "Epoch 32/100\n",
      "5/5 - 0s - loss: 0.4538 - accuracy: 0.8000\n",
      "Epoch 33/100\n",
      "5/5 - 0s - loss: 0.4482 - accuracy: 0.8067\n",
      "Epoch 34/100\n",
      "5/5 - 0s - loss: 0.4429 - accuracy: 0.8133\n",
      "Epoch 35/100\n",
      "5/5 - 0s - loss: 0.4380 - accuracy: 0.8133\n",
      "Epoch 36/100\n",
      "5/5 - 0s - loss: 0.4328 - accuracy: 0.8133\n",
      "Epoch 37/100\n",
      "5/5 - 0s - loss: 0.4278 - accuracy: 0.8267\n",
      "Epoch 38/100\n",
      "5/5 - 0s - loss: 0.4233 - accuracy: 0.8400\n",
      "Epoch 39/100\n",
      "5/5 - 0s - loss: 0.4185 - accuracy: 0.8400\n",
      "Epoch 40/100\n",
      "5/5 - 0s - loss: 0.4141 - accuracy: 0.8400\n",
      "Epoch 41/100\n",
      "5/5 - 0s - loss: 0.4097 - accuracy: 0.8400\n",
      "Epoch 42/100\n",
      "5/5 - 0s - loss: 0.4054 - accuracy: 0.8533\n",
      "Epoch 43/100\n",
      "5/5 - 0s - loss: 0.4013 - accuracy: 0.8533\n",
      "Epoch 44/100\n",
      "5/5 - 0s - loss: 0.3971 - accuracy: 0.8467\n",
      "Epoch 45/100\n",
      "5/5 - 0s - loss: 0.3931 - accuracy: 0.8533\n",
      "Epoch 46/100\n",
      "5/5 - 0s - loss: 0.3892 - accuracy: 0.8533\n",
      "Epoch 47/100\n",
      "5/5 - 0s - loss: 0.3854 - accuracy: 0.8533\n",
      "Epoch 48/100\n",
      "5/5 - 0s - loss: 0.3818 - accuracy: 0.8600\n",
      "Epoch 49/100\n",
      "5/5 - 0s - loss: 0.3782 - accuracy: 0.8667\n",
      "Epoch 50/100\n",
      "5/5 - 0s - loss: 0.3748 - accuracy: 0.8667\n",
      "Epoch 51/100\n",
      "5/5 - 0s - loss: 0.3717 - accuracy: 0.8667\n",
      "Epoch 52/100\n",
      "5/5 - 0s - loss: 0.3682 - accuracy: 0.8733\n",
      "Epoch 53/100\n",
      "5/5 - 0s - loss: 0.3652 - accuracy: 0.8733\n",
      "Epoch 54/100\n",
      "5/5 - 0s - loss: 0.3623 - accuracy: 0.8733\n",
      "Epoch 55/100\n",
      "5/5 - 0s - loss: 0.3593 - accuracy: 0.8733\n",
      "Epoch 56/100\n",
      "5/5 - 0s - loss: 0.3566 - accuracy: 0.8733\n",
      "Epoch 57/100\n",
      "5/5 - 0s - loss: 0.3537 - accuracy: 0.8800\n",
      "Epoch 58/100\n",
      "5/5 - 0s - loss: 0.3512 - accuracy: 0.8800\n",
      "Epoch 59/100\n",
      "5/5 - 0s - loss: 0.3487 - accuracy: 0.8800\n",
      "Epoch 60/100\n",
      "5/5 - 0s - loss: 0.3464 - accuracy: 0.8800\n",
      "Epoch 61/100\n",
      "5/5 - 0s - loss: 0.3439 - accuracy: 0.8867\n",
      "Epoch 62/100\n",
      "5/5 - 0s - loss: 0.3416 - accuracy: 0.8867\n",
      "Epoch 63/100\n",
      "5/5 - 0s - loss: 0.3394 - accuracy: 0.8867\n",
      "Epoch 64/100\n",
      "5/5 - 0s - loss: 0.3372 - accuracy: 0.8867\n",
      "Epoch 65/100\n",
      "5/5 - 0s - loss: 0.3353 - accuracy: 0.8867\n",
      "Epoch 66/100\n",
      "5/5 - 0s - loss: 0.3333 - accuracy: 0.8933\n",
      "Epoch 67/100\n",
      "5/5 - 0s - loss: 0.3315 - accuracy: 0.8933\n",
      "Epoch 68/100\n",
      "5/5 - 0s - loss: 0.3298 - accuracy: 0.8867\n",
      "Epoch 69/100\n",
      "5/5 - 0s - loss: 0.3279 - accuracy: 0.8867\n",
      "Epoch 70/100\n",
      "5/5 - 0s - loss: 0.3263 - accuracy: 0.8867\n",
      "Epoch 71/100\n",
      "5/5 - 0s - loss: 0.3245 - accuracy: 0.8867\n",
      "Epoch 72/100\n",
      "5/5 - 0s - loss: 0.3231 - accuracy: 0.8867\n",
      "Epoch 73/100\n",
      "5/5 - 0s - loss: 0.3215 - accuracy: 0.8867\n",
      "Epoch 74/100\n",
      "5/5 - 0s - loss: 0.3202 - accuracy: 0.8867\n",
      "Epoch 75/100\n",
      "5/5 - 0s - loss: 0.3189 - accuracy: 0.8867\n",
      "Epoch 76/100\n",
      "5/5 - 0s - loss: 0.3176 - accuracy: 0.8867\n",
      "Epoch 77/100\n",
      "5/5 - 0s - loss: 0.3163 - accuracy: 0.8800\n",
      "Epoch 78/100\n",
      "5/5 - 0s - loss: 0.3152 - accuracy: 0.8800\n",
      "Epoch 79/100\n",
      "5/5 - 0s - loss: 0.3140 - accuracy: 0.8800\n",
      "Epoch 80/100\n",
      "5/5 - 0s - loss: 0.3129 - accuracy: 0.8800\n",
      "Epoch 81/100\n",
      "5/5 - 0s - loss: 0.3118 - accuracy: 0.8800\n",
      "Epoch 82/100\n",
      "5/5 - 0s - loss: 0.3109 - accuracy: 0.8800\n",
      "Epoch 83/100\n",
      "5/5 - 0s - loss: 0.3098 - accuracy: 0.8800\n",
      "Epoch 84/100\n",
      "5/5 - 0s - loss: 0.3089 - accuracy: 0.8800\n",
      "Epoch 85/100\n",
      "5/5 - 0s - loss: 0.3078 - accuracy: 0.8800\n",
      "Epoch 86/100\n",
      "5/5 - 0s - loss: 0.3069 - accuracy: 0.8800\n",
      "Epoch 87/100\n",
      "5/5 - 0s - loss: 0.3060 - accuracy: 0.8800\n",
      "Epoch 88/100\n",
      "5/5 - 0s - loss: 0.3051 - accuracy: 0.8800\n",
      "Epoch 89/100\n",
      "5/5 - 0s - loss: 0.3042 - accuracy: 0.8800\n",
      "Epoch 90/100\n",
      "5/5 - 0s - loss: 0.3034 - accuracy: 0.8800\n",
      "Epoch 91/100\n",
      "5/5 - 0s - loss: 0.3027 - accuracy: 0.8800\n",
      "Epoch 92/100\n",
      "5/5 - 0s - loss: 0.3018 - accuracy: 0.8800\n",
      "Epoch 93/100\n",
      "5/5 - 0s - loss: 0.3011 - accuracy: 0.8800\n",
      "Epoch 94/100\n",
      "5/5 - 0s - loss: 0.3004 - accuracy: 0.8800\n",
      "Epoch 95/100\n",
      "5/5 - 0s - loss: 0.2996 - accuracy: 0.8800\n",
      "Epoch 96/100\n",
      "5/5 - 0s - loss: 0.2990 - accuracy: 0.8800\n",
      "Epoch 97/100\n",
      "5/5 - 0s - loss: 0.2983 - accuracy: 0.8800\n",
      "Epoch 98/100\n",
      "5/5 - 0s - loss: 0.2977 - accuracy: 0.8800\n",
      "Epoch 99/100\n",
      "5/5 - 0s - loss: 0.2970 - accuracy: 0.8800\n",
      "Epoch 100/100\n",
      "5/5 - 0s - loss: 0.2964 - accuracy: 0.8800\n"
     ]
    },
    {
     "data": {
      "text/plain": [
       "<tensorflow.python.keras.callbacks.History at 0x1ac2c34f948>"
      ]
     },
     "execution_count": 66,
     "metadata": {},
     "output_type": "execute_result"
    }
   ],
   "source": [
    "# Fit the model to the training data\n",
    "model.fit(\n",
    "    X_train_scaled,\n",
    "    y_train_categorical,\n",
    "    epochs=100,\n",
    "    shuffle=True,\n",
    "    verbose=2\n",
    ")"
   ]
  },
  {
   "cell_type": "code",
   "execution_count": 67,
   "metadata": {
    "slideshow": {
     "slide_type": "fragment"
    }
   },
   "outputs": [],
   "source": [
    "deep_model = Sequential()\n",
    "deep_model.add(Dense(units=6, activation='relu', input_dim=2))\n",
    "deep_model.add(Dense(units=6, activation='relu'))\n",
    "deep_model.add(Dense(units=2, activation='softmax'))"
   ]
  },
  {
   "cell_type": "code",
   "execution_count": 68,
   "metadata": {
    "slideshow": {
     "slide_type": "fragment"
    }
   },
   "outputs": [
    {
     "name": "stdout",
     "output_type": "stream",
     "text": [
      "Model: \"sequential_1\"\n",
      "_________________________________________________________________\n",
      "Layer (type)                 Output Shape              Param #   \n",
      "=================================================================\n",
      "dense_2 (Dense)              (None, 6)                 18        \n",
      "_________________________________________________________________\n",
      "dense_3 (Dense)              (None, 6)                 42        \n",
      "_________________________________________________________________\n",
      "dense_4 (Dense)              (None, 2)                 14        \n",
      "=================================================================\n",
      "Total params: 74\n",
      "Trainable params: 74\n",
      "Non-trainable params: 0\n",
      "_________________________________________________________________\n"
     ]
    }
   ],
   "source": [
    "deep_model.summary()"
   ]
  },
  {
   "cell_type": "code",
   "execution_count": 69,
   "metadata": {},
   "outputs": [
    {
     "name": "stdout",
     "output_type": "stream",
     "text": [
      "Epoch 1/1000\n",
      "5/5 - 0s - loss: 0.7273 - accuracy: 0.3933\n",
      "Epoch 2/1000\n",
      "5/5 - 0s - loss: 0.7139 - accuracy: 0.3733\n",
      "Epoch 3/1000\n",
      "5/5 - 0s - loss: 0.7007 - accuracy: 0.3600\n",
      "Epoch 4/1000\n",
      "5/5 - 0s - loss: 0.6892 - accuracy: 0.3667\n",
      "Epoch 5/1000\n",
      "5/5 - 0s - loss: 0.6777 - accuracy: 0.3600\n",
      "Epoch 6/1000\n",
      "5/5 - 0s - loss: 0.6669 - accuracy: 0.3533\n",
      "Epoch 7/1000\n",
      "5/5 - 0s - loss: 0.6568 - accuracy: 0.3733\n",
      "Epoch 8/1000\n",
      "5/5 - 0s - loss: 0.6468 - accuracy: 0.3933\n",
      "Epoch 9/1000\n",
      "5/5 - 0s - loss: 0.6375 - accuracy: 0.3933\n",
      "Epoch 10/1000\n",
      "5/5 - 0s - loss: 0.6289 - accuracy: 0.4000\n",
      "Epoch 11/1000\n",
      "5/5 - 0s - loss: 0.6204 - accuracy: 0.4067\n",
      "Epoch 12/1000\n",
      "5/5 - 0s - loss: 0.6125 - accuracy: 0.4267\n",
      "Epoch 13/1000\n",
      "5/5 - 0s - loss: 0.6046 - accuracy: 0.4533\n",
      "Epoch 14/1000\n",
      "5/5 - 0s - loss: 0.5977 - accuracy: 0.4600\n",
      "Epoch 15/1000\n",
      "5/5 - 0s - loss: 0.5905 - accuracy: 0.4933\n",
      "Epoch 16/1000\n",
      "5/5 - 0s - loss: 0.5844 - accuracy: 0.5067\n",
      "Epoch 17/1000\n",
      "5/5 - 0s - loss: 0.5781 - accuracy: 0.5200\n",
      "Epoch 18/1000\n",
      "5/5 - 0s - loss: 0.5720 - accuracy: 0.5467\n",
      "Epoch 19/1000\n",
      "5/5 - 0s - loss: 0.5663 - accuracy: 0.5867\n",
      "Epoch 20/1000\n",
      "5/5 - 0s - loss: 0.5606 - accuracy: 0.6133\n",
      "Epoch 21/1000\n",
      "5/5 - 0s - loss: 0.5548 - accuracy: 0.6133\n",
      "Epoch 22/1000\n",
      "5/5 - 0s - loss: 0.5493 - accuracy: 0.6333\n",
      "Epoch 23/1000\n",
      "5/5 - 0s - loss: 0.5438 - accuracy: 0.6733\n",
      "Epoch 24/1000\n",
      "5/5 - 0s - loss: 0.5385 - accuracy: 0.7133\n",
      "Epoch 25/1000\n",
      "5/5 - 0s - loss: 0.5334 - accuracy: 0.7533\n",
      "Epoch 26/1000\n",
      "5/5 - 0s - loss: 0.5285 - accuracy: 0.7800\n",
      "Epoch 27/1000\n",
      "5/5 - 0s - loss: 0.5236 - accuracy: 0.8000\n",
      "Epoch 28/1000\n",
      "5/5 - 0s - loss: 0.5188 - accuracy: 0.8067\n",
      "Epoch 29/1000\n",
      "5/5 - 0s - loss: 0.5145 - accuracy: 0.8133\n",
      "Epoch 30/1000\n",
      "5/5 - 0s - loss: 0.5101 - accuracy: 0.8200\n",
      "Epoch 31/1000\n",
      "5/5 - 0s - loss: 0.5056 - accuracy: 0.8267\n",
      "Epoch 32/1000\n",
      "5/5 - 0s - loss: 0.5014 - accuracy: 0.8267\n",
      "Epoch 33/1000\n",
      "5/5 - 0s - loss: 0.4971 - accuracy: 0.8333\n",
      "Epoch 34/1000\n",
      "5/5 - 0s - loss: 0.4930 - accuracy: 0.8333\n",
      "Epoch 35/1000\n",
      "5/5 - 0s - loss: 0.4886 - accuracy: 0.8333\n",
      "Epoch 36/1000\n",
      "5/5 - 0s - loss: 0.4844 - accuracy: 0.8333\n",
      "Epoch 37/1000\n",
      "5/5 - 0s - loss: 0.4800 - accuracy: 0.8333\n",
      "Epoch 38/1000\n",
      "5/5 - 0s - loss: 0.4755 - accuracy: 0.8333\n",
      "Epoch 39/1000\n",
      "5/5 - 0s - loss: 0.4711 - accuracy: 0.8400\n",
      "Epoch 40/1000\n",
      "5/5 - 0s - loss: 0.4668 - accuracy: 0.8400\n",
      "Epoch 41/1000\n",
      "5/5 - 0s - loss: 0.4623 - accuracy: 0.8400\n",
      "Epoch 42/1000\n",
      "5/5 - 0s - loss: 0.4578 - accuracy: 0.8467\n",
      "Epoch 43/1000\n",
      "5/5 - 0s - loss: 0.4534 - accuracy: 0.8467\n",
      "Epoch 44/1000\n",
      "5/5 - 0s - loss: 0.4492 - accuracy: 0.8467\n",
      "Epoch 45/1000\n",
      "5/5 - 0s - loss: 0.4448 - accuracy: 0.8467\n",
      "Epoch 46/1000\n",
      "5/5 - 0s - loss: 0.4403 - accuracy: 0.8467\n",
      "Epoch 47/1000\n",
      "5/5 - 0s - loss: 0.4361 - accuracy: 0.8533\n",
      "Epoch 48/1000\n",
      "5/5 - 0s - loss: 0.4316 - accuracy: 0.8533\n",
      "Epoch 49/1000\n",
      "5/5 - 0s - loss: 0.4272 - accuracy: 0.8533\n",
      "Epoch 50/1000\n",
      "5/5 - 0s - loss: 0.4229 - accuracy: 0.8533\n",
      "Epoch 51/1000\n",
      "5/5 - 0s - loss: 0.4188 - accuracy: 0.8667\n",
      "Epoch 52/1000\n",
      "5/5 - 0s - loss: 0.4147 - accuracy: 0.8667\n",
      "Epoch 53/1000\n",
      "5/5 - 0s - loss: 0.4102 - accuracy: 0.8667\n",
      "Epoch 54/1000\n",
      "5/5 - 0s - loss: 0.4062 - accuracy: 0.8667\n",
      "Epoch 55/1000\n",
      "5/5 - 0s - loss: 0.4020 - accuracy: 0.8667\n",
      "Epoch 56/1000\n",
      "5/5 - 0s - loss: 0.3983 - accuracy: 0.8600\n",
      "Epoch 57/1000\n",
      "5/5 - 0s - loss: 0.3943 - accuracy: 0.8600\n",
      "Epoch 58/1000\n",
      "5/5 - 0s - loss: 0.3905 - accuracy: 0.8600\n",
      "Epoch 59/1000\n",
      "5/5 - 0s - loss: 0.3865 - accuracy: 0.8600\n",
      "Epoch 60/1000\n",
      "5/5 - 0s - loss: 0.3830 - accuracy: 0.8600\n",
      "Epoch 61/1000\n",
      "5/5 - 0s - loss: 0.3794 - accuracy: 0.8600\n",
      "Epoch 62/1000\n",
      "5/5 - 0s - loss: 0.3754 - accuracy: 0.8667\n",
      "Epoch 63/1000\n",
      "5/5 - 0s - loss: 0.3720 - accuracy: 0.8733\n",
      "Epoch 64/1000\n",
      "5/5 - 0s - loss: 0.3684 - accuracy: 0.8733\n",
      "Epoch 65/1000\n",
      "5/5 - 0s - loss: 0.3650 - accuracy: 0.8733\n",
      "Epoch 66/1000\n",
      "5/5 - 0s - loss: 0.3618 - accuracy: 0.8733\n",
      "Epoch 67/1000\n",
      "5/5 - 0s - loss: 0.3586 - accuracy: 0.8733\n",
      "Epoch 68/1000\n",
      "5/5 - 0s - loss: 0.3553 - accuracy: 0.8733\n",
      "Epoch 69/1000\n",
      "5/5 - 0s - loss: 0.3523 - accuracy: 0.8733\n",
      "Epoch 70/1000\n",
      "5/5 - 0s - loss: 0.3493 - accuracy: 0.8733\n",
      "Epoch 71/1000\n",
      "5/5 - 0s - loss: 0.3464 - accuracy: 0.8733\n",
      "Epoch 72/1000\n",
      "5/5 - 0s - loss: 0.3436 - accuracy: 0.8733\n",
      "Epoch 73/1000\n",
      "5/5 - 0s - loss: 0.3407 - accuracy: 0.8733\n",
      "Epoch 74/1000\n",
      "5/5 - 0s - loss: 0.3379 - accuracy: 0.8733\n",
      "Epoch 75/1000\n",
      "5/5 - 0s - loss: 0.3351 - accuracy: 0.8733\n",
      "Epoch 76/1000\n",
      "5/5 - 0s - loss: 0.3327 - accuracy: 0.8733\n",
      "Epoch 77/1000\n",
      "5/5 - 0s - loss: 0.3301 - accuracy: 0.8733\n",
      "Epoch 78/1000\n",
      "5/5 - 0s - loss: 0.3278 - accuracy: 0.8733\n",
      "Epoch 79/1000\n",
      "5/5 - 0s - loss: 0.3251 - accuracy: 0.8733\n",
      "Epoch 80/1000\n",
      "5/5 - 0s - loss: 0.3227 - accuracy: 0.8733\n",
      "Epoch 81/1000\n",
      "5/5 - 0s - loss: 0.3204 - accuracy: 0.8733\n",
      "Epoch 82/1000\n",
      "5/5 - 0s - loss: 0.3183 - accuracy: 0.8733\n",
      "Epoch 83/1000\n",
      "5/5 - 0s - loss: 0.3159 - accuracy: 0.8733\n",
      "Epoch 84/1000\n",
      "5/5 - 0s - loss: 0.3138 - accuracy: 0.8733\n",
      "Epoch 85/1000\n",
      "5/5 - 0s - loss: 0.3115 - accuracy: 0.8733\n",
      "Epoch 86/1000\n",
      "5/5 - 0s - loss: 0.3097 - accuracy: 0.8733\n",
      "Epoch 87/1000\n",
      "5/5 - 0s - loss: 0.3078 - accuracy: 0.8733\n",
      "Epoch 88/1000\n",
      "5/5 - 0s - loss: 0.3055 - accuracy: 0.8800\n",
      "Epoch 89/1000\n",
      "5/5 - 0s - loss: 0.3038 - accuracy: 0.8800\n",
      "Epoch 90/1000\n",
      "5/5 - 0s - loss: 0.3019 - accuracy: 0.8800\n",
      "Epoch 91/1000\n",
      "5/5 - 0s - loss: 0.3002 - accuracy: 0.8800\n",
      "Epoch 92/1000\n",
      "5/5 - 0s - loss: 0.2986 - accuracy: 0.8800\n",
      "Epoch 93/1000\n",
      "5/5 - 0s - loss: 0.2968 - accuracy: 0.8800\n",
      "Epoch 94/1000\n",
      "5/5 - 0s - loss: 0.2952 - accuracy: 0.8800\n",
      "Epoch 95/1000\n",
      "5/5 - 0s - loss: 0.2936 - accuracy: 0.8800\n",
      "Epoch 96/1000\n",
      "5/5 - 0s - loss: 0.2923 - accuracy: 0.8800\n",
      "Epoch 97/1000\n",
      "5/5 - 0s - loss: 0.2909 - accuracy: 0.8800\n",
      "Epoch 98/1000\n",
      "5/5 - 0s - loss: 0.2895 - accuracy: 0.8800\n",
      "Epoch 99/1000\n",
      "5/5 - 0s - loss: 0.2880 - accuracy: 0.8800\n",
      "Epoch 100/1000\n",
      "5/5 - 0s - loss: 0.2866 - accuracy: 0.8800\n",
      "Epoch 101/1000\n",
      "5/5 - 0s - loss: 0.2854 - accuracy: 0.8867\n",
      "Epoch 102/1000\n",
      "5/5 - 0s - loss: 0.2842 - accuracy: 0.8867\n",
      "Epoch 103/1000\n",
      "5/5 - 0s - loss: 0.2829 - accuracy: 0.8867\n",
      "Epoch 104/1000\n",
      "5/5 - 0s - loss: 0.2817 - accuracy: 0.8867\n",
      "Epoch 105/1000\n",
      "5/5 - 0s - loss: 0.2805 - accuracy: 0.8867\n",
      "Epoch 106/1000\n",
      "5/5 - 0s - loss: 0.2793 - accuracy: 0.8867\n",
      "Epoch 107/1000\n",
      "5/5 - 0s - loss: 0.2783 - accuracy: 0.8867\n",
      "Epoch 108/1000\n",
      "5/5 - 0s - loss: 0.2773 - accuracy: 0.8867\n",
      "Epoch 109/1000\n",
      "5/5 - 0s - loss: 0.2763 - accuracy: 0.8867\n",
      "Epoch 110/1000\n",
      "5/5 - 0s - loss: 0.2752 - accuracy: 0.8933\n",
      "Epoch 111/1000\n",
      "5/5 - 0s - loss: 0.2742 - accuracy: 0.8933\n",
      "Epoch 112/1000\n",
      "5/5 - 0s - loss: 0.2733 - accuracy: 0.8933\n",
      "Epoch 113/1000\n",
      "5/5 - 0s - loss: 0.2722 - accuracy: 0.8933\n",
      "Epoch 114/1000\n",
      "5/5 - 0s - loss: 0.2713 - accuracy: 0.8933\n",
      "Epoch 115/1000\n",
      "5/5 - 0s - loss: 0.2705 - accuracy: 0.8933\n",
      "Epoch 116/1000\n",
      "5/5 - 0s - loss: 0.2695 - accuracy: 0.8933\n",
      "Epoch 117/1000\n",
      "5/5 - 0s - loss: 0.2686 - accuracy: 0.8933\n",
      "Epoch 118/1000\n",
      "5/5 - 0s - loss: 0.2679 - accuracy: 0.8933\n",
      "Epoch 119/1000\n",
      "5/5 - 0s - loss: 0.2668 - accuracy: 0.8933\n",
      "Epoch 120/1000\n",
      "5/5 - 0s - loss: 0.2660 - accuracy: 0.8933\n",
      "Epoch 121/1000\n",
      "5/5 - 0s - loss: 0.2652 - accuracy: 0.8933\n",
      "Epoch 122/1000\n",
      "5/5 - 0s - loss: 0.2643 - accuracy: 0.8933\n",
      "Epoch 123/1000\n",
      "5/5 - 0s - loss: 0.2634 - accuracy: 0.8933\n",
      "Epoch 124/1000\n",
      "5/5 - 0s - loss: 0.2626 - accuracy: 0.8933\n",
      "Epoch 125/1000\n",
      "5/5 - 0s - loss: 0.2617 - accuracy: 0.8933\n",
      "Epoch 126/1000\n",
      "5/5 - 0s - loss: 0.2609 - accuracy: 0.8933\n",
      "Epoch 127/1000\n",
      "5/5 - 0s - loss: 0.2602 - accuracy: 0.8933\n",
      "Epoch 128/1000\n",
      "5/5 - 0s - loss: 0.2593 - accuracy: 0.8933\n",
      "Epoch 129/1000\n",
      "5/5 - 0s - loss: 0.2586 - accuracy: 0.8933\n",
      "Epoch 130/1000\n",
      "5/5 - 0s - loss: 0.2578 - accuracy: 0.8933\n",
      "Epoch 131/1000\n",
      "5/5 - 0s - loss: 0.2569 - accuracy: 0.8933\n",
      "Epoch 132/1000\n",
      "5/5 - 0s - loss: 0.2561 - accuracy: 0.8933\n",
      "Epoch 133/1000\n",
      "5/5 - 0s - loss: 0.2552 - accuracy: 0.8933\n",
      "Epoch 134/1000\n",
      "5/5 - 0s - loss: 0.2545 - accuracy: 0.8933\n",
      "Epoch 135/1000\n",
      "5/5 - 0s - loss: 0.2537 - accuracy: 0.8933\n",
      "Epoch 136/1000\n",
      "5/5 - 0s - loss: 0.2529 - accuracy: 0.8933\n",
      "Epoch 137/1000\n",
      "5/5 - 0s - loss: 0.2518 - accuracy: 0.8933\n",
      "Epoch 138/1000\n",
      "5/5 - 0s - loss: 0.2509 - accuracy: 0.8933\n",
      "Epoch 139/1000\n",
      "5/5 - 0s - loss: 0.2500 - accuracy: 0.8933\n",
      "Epoch 140/1000\n",
      "5/5 - 0s - loss: 0.2490 - accuracy: 0.8933\n",
      "Epoch 141/1000\n",
      "5/5 - 0s - loss: 0.2480 - accuracy: 0.8933\n",
      "Epoch 142/1000\n",
      "5/5 - 0s - loss: 0.2470 - accuracy: 0.8933\n",
      "Epoch 143/1000\n",
      "5/5 - 0s - loss: 0.2459 - accuracy: 0.8933\n",
      "Epoch 144/1000\n",
      "5/5 - 0s - loss: 0.2448 - accuracy: 0.8933\n"
     ]
    },
    {
     "name": "stdout",
     "output_type": "stream",
     "text": [
      "Epoch 145/1000\n",
      "5/5 - 0s - loss: 0.2438 - accuracy: 0.8933\n",
      "Epoch 146/1000\n",
      "5/5 - 0s - loss: 0.2428 - accuracy: 0.8933\n",
      "Epoch 147/1000\n",
      "5/5 - 0s - loss: 0.2419 - accuracy: 0.8933\n",
      "Epoch 148/1000\n",
      "5/5 - 0s - loss: 0.2407 - accuracy: 0.8933\n",
      "Epoch 149/1000\n",
      "5/5 - 0s - loss: 0.2397 - accuracy: 0.8933\n",
      "Epoch 150/1000\n",
      "5/5 - 0s - loss: 0.2388 - accuracy: 0.9000\n",
      "Epoch 151/1000\n",
      "5/5 - 0s - loss: 0.2376 - accuracy: 0.9000\n",
      "Epoch 152/1000\n",
      "5/5 - 0s - loss: 0.2366 - accuracy: 0.9000\n",
      "Epoch 153/1000\n",
      "5/5 - 0s - loss: 0.2353 - accuracy: 0.9000\n",
      "Epoch 154/1000\n",
      "5/5 - 0s - loss: 0.2343 - accuracy: 0.9000\n",
      "Epoch 155/1000\n",
      "5/5 - 0s - loss: 0.2334 - accuracy: 0.8933\n",
      "Epoch 156/1000\n",
      "5/5 - 0s - loss: 0.2321 - accuracy: 0.8933\n",
      "Epoch 157/1000\n",
      "5/5 - 0s - loss: 0.2310 - accuracy: 0.9000\n",
      "Epoch 158/1000\n",
      "5/5 - 0s - loss: 0.2297 - accuracy: 0.9000\n",
      "Epoch 159/1000\n",
      "5/5 - 0s - loss: 0.2287 - accuracy: 0.9000\n",
      "Epoch 160/1000\n",
      "5/5 - 0s - loss: 0.2277 - accuracy: 0.9067\n",
      "Epoch 161/1000\n",
      "5/5 - 0s - loss: 0.2264 - accuracy: 0.9067\n",
      "Epoch 162/1000\n",
      "5/5 - 0s - loss: 0.2253 - accuracy: 0.9067\n",
      "Epoch 163/1000\n",
      "5/5 - 0s - loss: 0.2242 - accuracy: 0.9067\n",
      "Epoch 164/1000\n",
      "5/5 - 0s - loss: 0.2231 - accuracy: 0.9067\n",
      "Epoch 165/1000\n",
      "5/5 - 0s - loss: 0.2219 - accuracy: 0.9067\n",
      "Epoch 166/1000\n",
      "5/5 - 0s - loss: 0.2208 - accuracy: 0.9067\n",
      "Epoch 167/1000\n",
      "5/5 - 0s - loss: 0.2196 - accuracy: 0.9133\n",
      "Epoch 168/1000\n",
      "5/5 - 0s - loss: 0.2185 - accuracy: 0.9133\n",
      "Epoch 169/1000\n",
      "5/5 - 0s - loss: 0.2173 - accuracy: 0.9133\n",
      "Epoch 170/1000\n",
      "5/5 - 0s - loss: 0.2161 - accuracy: 0.9133\n",
      "Epoch 171/1000\n",
      "5/5 - 0s - loss: 0.2149 - accuracy: 0.9133\n",
      "Epoch 172/1000\n",
      "5/5 - 0s - loss: 0.2138 - accuracy: 0.9133\n",
      "Epoch 173/1000\n",
      "5/5 - 0s - loss: 0.2125 - accuracy: 0.9133\n",
      "Epoch 174/1000\n",
      "5/5 - 0s - loss: 0.2114 - accuracy: 0.9133\n",
      "Epoch 175/1000\n",
      "5/5 - 0s - loss: 0.2101 - accuracy: 0.9133\n",
      "Epoch 176/1000\n",
      "5/5 - 0s - loss: 0.2089 - accuracy: 0.9133\n",
      "Epoch 177/1000\n",
      "5/5 - 0s - loss: 0.2076 - accuracy: 0.9133\n",
      "Epoch 178/1000\n",
      "5/5 - 0s - loss: 0.2064 - accuracy: 0.9133\n",
      "Epoch 179/1000\n",
      "5/5 - 0s - loss: 0.2051 - accuracy: 0.9133\n",
      "Epoch 180/1000\n",
      "5/5 - 0s - loss: 0.2037 - accuracy: 0.9133\n",
      "Epoch 181/1000\n",
      "5/5 - 0s - loss: 0.2025 - accuracy: 0.9133\n",
      "Epoch 182/1000\n",
      "5/5 - 0s - loss: 0.2011 - accuracy: 0.9133\n",
      "Epoch 183/1000\n",
      "5/5 - 0s - loss: 0.2001 - accuracy: 0.9200\n",
      "Epoch 184/1000\n",
      "5/5 - 0s - loss: 0.1985 - accuracy: 0.9200\n",
      "Epoch 185/1000\n",
      "5/5 - 0s - loss: 0.1971 - accuracy: 0.9200\n",
      "Epoch 186/1000\n",
      "5/5 - 0s - loss: 0.1960 - accuracy: 0.9200\n",
      "Epoch 187/1000\n",
      "5/5 - 0s - loss: 0.1946 - accuracy: 0.9267\n",
      "Epoch 188/1000\n",
      "5/5 - 0s - loss: 0.1931 - accuracy: 0.9267\n",
      "Epoch 189/1000\n",
      "5/5 - 0s - loss: 0.1917 - accuracy: 0.9267\n",
      "Epoch 190/1000\n",
      "5/5 - 0s - loss: 0.1905 - accuracy: 0.9267\n",
      "Epoch 191/1000\n",
      "5/5 - 0s - loss: 0.1889 - accuracy: 0.9267\n",
      "Epoch 192/1000\n",
      "5/5 - 0s - loss: 0.1876 - accuracy: 0.9267\n",
      "Epoch 193/1000\n",
      "5/5 - 0s - loss: 0.1860 - accuracy: 0.9267\n",
      "Epoch 194/1000\n",
      "5/5 - 0s - loss: 0.1847 - accuracy: 0.9267\n",
      "Epoch 195/1000\n",
      "5/5 - 0s - loss: 0.1832 - accuracy: 0.9267\n",
      "Epoch 196/1000\n",
      "5/5 - 0s - loss: 0.1816 - accuracy: 0.9267\n",
      "Epoch 197/1000\n",
      "5/5 - 0s - loss: 0.1802 - accuracy: 0.9267\n",
      "Epoch 198/1000\n",
      "5/5 - 0s - loss: 0.1787 - accuracy: 0.9267\n",
      "Epoch 199/1000\n",
      "5/5 - 0s - loss: 0.1774 - accuracy: 0.9267\n",
      "Epoch 200/1000\n",
      "5/5 - 0s - loss: 0.1758 - accuracy: 0.9267\n",
      "Epoch 201/1000\n",
      "5/5 - 0s - loss: 0.1743 - accuracy: 0.9267\n",
      "Epoch 202/1000\n",
      "5/5 - 0s - loss: 0.1729 - accuracy: 0.9267\n",
      "Epoch 203/1000\n",
      "5/5 - 0s - loss: 0.1713 - accuracy: 0.9333\n",
      "Epoch 204/1000\n",
      "5/5 - 0s - loss: 0.1701 - accuracy: 0.9400\n",
      "Epoch 205/1000\n",
      "5/5 - 0s - loss: 0.1683 - accuracy: 0.9400\n",
      "Epoch 206/1000\n",
      "5/5 - 0s - loss: 0.1670 - accuracy: 0.9400\n",
      "Epoch 207/1000\n",
      "5/5 - 0s - loss: 0.1653 - accuracy: 0.9400\n",
      "Epoch 208/1000\n",
      "5/5 - 0s - loss: 0.1638 - accuracy: 0.9400\n",
      "Epoch 209/1000\n",
      "5/5 - 0s - loss: 0.1622 - accuracy: 0.9400\n",
      "Epoch 210/1000\n",
      "5/5 - 0s - loss: 0.1609 - accuracy: 0.9400\n",
      "Epoch 211/1000\n",
      "5/5 - 0s - loss: 0.1593 - accuracy: 0.9400\n",
      "Epoch 212/1000\n",
      "5/5 - 0s - loss: 0.1577 - accuracy: 0.9400\n",
      "Epoch 213/1000\n",
      "5/5 - 0s - loss: 0.1562 - accuracy: 0.9400\n",
      "Epoch 214/1000\n",
      "5/5 - 0s - loss: 0.1545 - accuracy: 0.9400\n",
      "Epoch 215/1000\n",
      "5/5 - 0s - loss: 0.1531 - accuracy: 0.9400\n",
      "Epoch 216/1000\n",
      "5/5 - 0s - loss: 0.1516 - accuracy: 0.9400\n",
      "Epoch 217/1000\n",
      "5/5 - 0s - loss: 0.1499 - accuracy: 0.9400\n",
      "Epoch 218/1000\n",
      "5/5 - 0s - loss: 0.1483 - accuracy: 0.9400\n",
      "Epoch 219/1000\n",
      "5/5 - 0s - loss: 0.1467 - accuracy: 0.9400\n",
      "Epoch 220/1000\n",
      "5/5 - 0s - loss: 0.1452 - accuracy: 0.9400\n",
      "Epoch 221/1000\n",
      "5/5 - 0s - loss: 0.1436 - accuracy: 0.9400\n",
      "Epoch 222/1000\n",
      "5/5 - 0s - loss: 0.1422 - accuracy: 0.9400\n",
      "Epoch 223/1000\n",
      "5/5 - 0s - loss: 0.1405 - accuracy: 0.9400\n",
      "Epoch 224/1000\n",
      "5/5 - 0s - loss: 0.1390 - accuracy: 0.9400\n",
      "Epoch 225/1000\n",
      "5/5 - 0s - loss: 0.1374 - accuracy: 0.9400\n",
      "Epoch 226/1000\n",
      "5/5 - 0s - loss: 0.1361 - accuracy: 0.9400\n",
      "Epoch 227/1000\n",
      "5/5 - 0s - loss: 0.1343 - accuracy: 0.9400\n",
      "Epoch 228/1000\n",
      "5/5 - 0s - loss: 0.1329 - accuracy: 0.9400\n",
      "Epoch 229/1000\n",
      "5/5 - 0s - loss: 0.1315 - accuracy: 0.9400\n",
      "Epoch 230/1000\n",
      "5/5 - 0s - loss: 0.1296 - accuracy: 0.9400\n",
      "Epoch 231/1000\n",
      "5/5 - 0s - loss: 0.1281 - accuracy: 0.9400\n",
      "Epoch 232/1000\n",
      "5/5 - 0s - loss: 0.1265 - accuracy: 0.9400\n",
      "Epoch 233/1000\n",
      "5/5 - 0s - loss: 0.1249 - accuracy: 0.9400\n",
      "Epoch 234/1000\n",
      "5/5 - 0s - loss: 0.1234 - accuracy: 0.9400\n",
      "Epoch 235/1000\n",
      "5/5 - 0s - loss: 0.1219 - accuracy: 0.9400\n",
      "Epoch 236/1000\n",
      "5/5 - 0s - loss: 0.1203 - accuracy: 0.9400\n",
      "Epoch 237/1000\n",
      "5/5 - 0s - loss: 0.1188 - accuracy: 0.9400\n",
      "Epoch 238/1000\n",
      "5/5 - 0s - loss: 0.1172 - accuracy: 0.9467\n",
      "Epoch 239/1000\n",
      "5/5 - 0s - loss: 0.1156 - accuracy: 0.9467\n",
      "Epoch 240/1000\n",
      "5/5 - 0s - loss: 0.1142 - accuracy: 0.9467\n",
      "Epoch 241/1000\n",
      "5/5 - 0s - loss: 0.1126 - accuracy: 0.9467\n",
      "Epoch 242/1000\n",
      "5/5 - 0s - loss: 0.1113 - accuracy: 0.9533\n",
      "Epoch 243/1000\n",
      "5/5 - 0s - loss: 0.1098 - accuracy: 0.9533\n",
      "Epoch 244/1000\n",
      "5/5 - 0s - loss: 0.1084 - accuracy: 0.9533\n",
      "Epoch 245/1000\n",
      "5/5 - 0s - loss: 0.1069 - accuracy: 0.9533\n",
      "Epoch 246/1000\n",
      "5/5 - 0s - loss: 0.1054 - accuracy: 0.9533\n",
      "Epoch 247/1000\n",
      "5/5 - 0s - loss: 0.1041 - accuracy: 0.9533\n",
      "Epoch 248/1000\n",
      "5/5 - 0s - loss: 0.1027 - accuracy: 0.9533\n",
      "Epoch 249/1000\n",
      "5/5 - 0s - loss: 0.1012 - accuracy: 0.9533\n",
      "Epoch 250/1000\n",
      "5/5 - 0s - loss: 0.1000 - accuracy: 0.9600\n",
      "Epoch 251/1000\n",
      "5/5 - 0s - loss: 0.0985 - accuracy: 0.9600\n",
      "Epoch 252/1000\n",
      "5/5 - 0s - loss: 0.0971 - accuracy: 0.9600\n",
      "Epoch 253/1000\n",
      "5/5 - 0s - loss: 0.0958 - accuracy: 0.9667\n",
      "Epoch 254/1000\n",
      "5/5 - 0s - loss: 0.0947 - accuracy: 0.9667\n",
      "Epoch 255/1000\n",
      "5/5 - 0s - loss: 0.0933 - accuracy: 0.9667\n",
      "Epoch 256/1000\n",
      "5/5 - 0s - loss: 0.0920 - accuracy: 0.9667\n",
      "Epoch 257/1000\n",
      "5/5 - 0s - loss: 0.0907 - accuracy: 0.9667\n",
      "Epoch 258/1000\n",
      "5/5 - 0s - loss: 0.0895 - accuracy: 0.9667\n",
      "Epoch 259/1000\n",
      "5/5 - 0s - loss: 0.0883 - accuracy: 0.9667\n",
      "Epoch 260/1000\n",
      "5/5 - 0s - loss: 0.0871 - accuracy: 0.9667\n",
      "Epoch 261/1000\n",
      "5/5 - 0s - loss: 0.0858 - accuracy: 0.9667\n",
      "Epoch 262/1000\n",
      "5/5 - 0s - loss: 0.0847 - accuracy: 0.9667\n",
      "Epoch 263/1000\n",
      "5/5 - 0s - loss: 0.0835 - accuracy: 0.9667\n",
      "Epoch 264/1000\n",
      "5/5 - 0s - loss: 0.0824 - accuracy: 0.9667\n",
      "Epoch 265/1000\n",
      "5/5 - 0s - loss: 0.0812 - accuracy: 0.9733\n",
      "Epoch 266/1000\n",
      "5/5 - 0s - loss: 0.0802 - accuracy: 0.9733\n",
      "Epoch 267/1000\n",
      "5/5 - 0s - loss: 0.0790 - accuracy: 0.9733\n",
      "Epoch 268/1000\n",
      "5/5 - 0s - loss: 0.0780 - accuracy: 0.9733\n",
      "Epoch 269/1000\n",
      "5/5 - 0s - loss: 0.0769 - accuracy: 0.9733\n",
      "Epoch 270/1000\n",
      "5/5 - 0s - loss: 0.0759 - accuracy: 0.9733\n",
      "Epoch 271/1000\n",
      "5/5 - 0s - loss: 0.0749 - accuracy: 0.9800\n",
      "Epoch 272/1000\n",
      "5/5 - 0s - loss: 0.0738 - accuracy: 0.9800\n",
      "Epoch 273/1000\n",
      "5/5 - 0s - loss: 0.0729 - accuracy: 0.9800\n",
      "Epoch 274/1000\n",
      "5/5 - 0s - loss: 0.0720 - accuracy: 0.9800\n",
      "Epoch 275/1000\n",
      "5/5 - 0s - loss: 0.0710 - accuracy: 0.9800\n",
      "Epoch 276/1000\n",
      "5/5 - 0s - loss: 0.0700 - accuracy: 0.9867\n",
      "Epoch 277/1000\n",
      "5/5 - 0s - loss: 0.0691 - accuracy: 0.9867\n",
      "Epoch 278/1000\n",
      "5/5 - 0s - loss: 0.0683 - accuracy: 0.9933\n",
      "Epoch 279/1000\n",
      "5/5 - 0s - loss: 0.0673 - accuracy: 0.9933\n",
      "Epoch 280/1000\n",
      "5/5 - 0s - loss: 0.0664 - accuracy: 0.9933\n",
      "Epoch 281/1000\n",
      "5/5 - 0s - loss: 0.0656 - accuracy: 0.9933\n",
      "Epoch 282/1000\n",
      "5/5 - 0s - loss: 0.0647 - accuracy: 0.9933\n",
      "Epoch 283/1000\n",
      "5/5 - 0s - loss: 0.0639 - accuracy: 0.9933\n",
      "Epoch 284/1000\n",
      "5/5 - 0s - loss: 0.0631 - accuracy: 0.9933\n",
      "Epoch 285/1000\n",
      "5/5 - 0s - loss: 0.0622 - accuracy: 0.9933\n",
      "Epoch 286/1000\n",
      "5/5 - 0s - loss: 0.0614 - accuracy: 0.9933\n"
     ]
    },
    {
     "name": "stdout",
     "output_type": "stream",
     "text": [
      "Epoch 287/1000\n",
      "5/5 - 0s - loss: 0.0607 - accuracy: 0.9933\n",
      "Epoch 288/1000\n",
      "5/5 - 0s - loss: 0.0599 - accuracy: 0.9933\n",
      "Epoch 289/1000\n",
      "5/5 - 0s - loss: 0.0591 - accuracy: 0.9933\n",
      "Epoch 290/1000\n",
      "5/5 - 0s - loss: 0.0584 - accuracy: 0.9933\n",
      "Epoch 291/1000\n",
      "5/5 - 0s - loss: 0.0576 - accuracy: 0.9933\n",
      "Epoch 292/1000\n",
      "5/5 - 0s - loss: 0.0569 - accuracy: 0.9933\n",
      "Epoch 293/1000\n",
      "5/5 - 0s - loss: 0.0562 - accuracy: 0.9933\n",
      "Epoch 294/1000\n",
      "5/5 - 0s - loss: 0.0554 - accuracy: 0.9933\n",
      "Epoch 295/1000\n",
      "5/5 - 0s - loss: 0.0547 - accuracy: 0.9933\n",
      "Epoch 296/1000\n",
      "5/5 - 0s - loss: 0.0541 - accuracy: 0.9933\n",
      "Epoch 297/1000\n",
      "5/5 - 0s - loss: 0.0535 - accuracy: 0.9933\n",
      "Epoch 298/1000\n",
      "5/5 - 0s - loss: 0.0527 - accuracy: 0.9933\n",
      "Epoch 299/1000\n",
      "5/5 - 0s - loss: 0.0521 - accuracy: 0.9933\n",
      "Epoch 300/1000\n",
      "5/5 - 0s - loss: 0.0514 - accuracy: 0.9933\n",
      "Epoch 301/1000\n",
      "5/5 - 0s - loss: 0.0508 - accuracy: 0.9933\n",
      "Epoch 302/1000\n",
      "5/5 - 0s - loss: 0.0502 - accuracy: 0.9933\n",
      "Epoch 303/1000\n",
      "5/5 - 0s - loss: 0.0496 - accuracy: 0.9933\n",
      "Epoch 304/1000\n",
      "5/5 - 0s - loss: 0.0490 - accuracy: 0.9933\n",
      "Epoch 305/1000\n",
      "5/5 - 0s - loss: 0.0483 - accuracy: 0.9933\n",
      "Epoch 306/1000\n",
      "5/5 - 0s - loss: 0.0477 - accuracy: 0.9933\n",
      "Epoch 307/1000\n",
      "5/5 - 0s - loss: 0.0472 - accuracy: 0.9933\n",
      "Epoch 308/1000\n",
      "5/5 - 0s - loss: 0.0466 - accuracy: 0.9933\n",
      "Epoch 309/1000\n",
      "5/5 - 0s - loss: 0.0461 - accuracy: 0.9933\n",
      "Epoch 310/1000\n",
      "5/5 - 0s - loss: 0.0454 - accuracy: 0.9933\n",
      "Epoch 311/1000\n",
      "5/5 - 0s - loss: 0.0450 - accuracy: 0.9933\n",
      "Epoch 312/1000\n",
      "5/5 - 0s - loss: 0.0444 - accuracy: 0.9933\n",
      "Epoch 313/1000\n",
      "5/5 - 0s - loss: 0.0439 - accuracy: 0.9933\n",
      "Epoch 314/1000\n",
      "5/5 - 0s - loss: 0.0433 - accuracy: 1.0000\n",
      "Epoch 315/1000\n",
      "5/5 - 0s - loss: 0.0428 - accuracy: 1.0000\n",
      "Epoch 316/1000\n",
      "5/5 - 0s - loss: 0.0423 - accuracy: 1.0000\n",
      "Epoch 317/1000\n",
      "5/5 - 0s - loss: 0.0418 - accuracy: 1.0000\n",
      "Epoch 318/1000\n",
      "5/5 - 0s - loss: 0.0413 - accuracy: 1.0000\n",
      "Epoch 319/1000\n",
      "5/5 - 0s - loss: 0.0408 - accuracy: 1.0000\n",
      "Epoch 320/1000\n",
      "5/5 - 0s - loss: 0.0403 - accuracy: 1.0000\n",
      "Epoch 321/1000\n",
      "5/5 - 0s - loss: 0.0399 - accuracy: 1.0000\n",
      "Epoch 322/1000\n",
      "5/5 - 0s - loss: 0.0394 - accuracy: 1.0000\n",
      "Epoch 323/1000\n",
      "5/5 - 0s - loss: 0.0389 - accuracy: 1.0000\n",
      "Epoch 324/1000\n",
      "5/5 - 0s - loss: 0.0385 - accuracy: 1.0000\n",
      "Epoch 325/1000\n",
      "5/5 - 0s - loss: 0.0380 - accuracy: 1.0000\n",
      "Epoch 326/1000\n",
      "5/5 - 0s - loss: 0.0376 - accuracy: 1.0000\n",
      "Epoch 327/1000\n",
      "5/5 - 0s - loss: 0.0372 - accuracy: 1.0000\n",
      "Epoch 328/1000\n",
      "5/5 - 0s - loss: 0.0368 - accuracy: 1.0000\n",
      "Epoch 329/1000\n",
      "5/5 - 0s - loss: 0.0364 - accuracy: 1.0000\n",
      "Epoch 330/1000\n",
      "5/5 - 0s - loss: 0.0360 - accuracy: 1.0000\n",
      "Epoch 331/1000\n",
      "5/5 - 0s - loss: 0.0355 - accuracy: 1.0000\n",
      "Epoch 332/1000\n",
      "5/5 - 0s - loss: 0.0351 - accuracy: 1.0000\n",
      "Epoch 333/1000\n",
      "5/5 - 0s - loss: 0.0348 - accuracy: 1.0000\n",
      "Epoch 334/1000\n",
      "5/5 - 0s - loss: 0.0344 - accuracy: 1.0000\n",
      "Epoch 335/1000\n",
      "5/5 - 0s - loss: 0.0341 - accuracy: 1.0000\n",
      "Epoch 336/1000\n",
      "5/5 - 0s - loss: 0.0336 - accuracy: 1.0000\n",
      "Epoch 337/1000\n",
      "5/5 - 0s - loss: 0.0332 - accuracy: 1.0000\n",
      "Epoch 338/1000\n",
      "5/5 - 0s - loss: 0.0329 - accuracy: 1.0000\n",
      "Epoch 339/1000\n",
      "5/5 - 0s - loss: 0.0326 - accuracy: 1.0000\n",
      "Epoch 340/1000\n",
      "5/5 - 0s - loss: 0.0322 - accuracy: 1.0000\n",
      "Epoch 341/1000\n",
      "5/5 - 0s - loss: 0.0319 - accuracy: 1.0000\n",
      "Epoch 342/1000\n",
      "5/5 - 0s - loss: 0.0315 - accuracy: 1.0000\n",
      "Epoch 343/1000\n",
      "5/5 - 0s - loss: 0.0312 - accuracy: 1.0000\n",
      "Epoch 344/1000\n",
      "5/5 - 0s - loss: 0.0308 - accuracy: 1.0000\n",
      "Epoch 345/1000\n",
      "5/5 - 0s - loss: 0.0305 - accuracy: 1.0000\n",
      "Epoch 346/1000\n",
      "5/5 - 0s - loss: 0.0302 - accuracy: 1.0000\n",
      "Epoch 347/1000\n",
      "5/5 - 0s - loss: 0.0299 - accuracy: 1.0000\n",
      "Epoch 348/1000\n",
      "5/5 - 0s - loss: 0.0295 - accuracy: 1.0000\n",
      "Epoch 349/1000\n",
      "5/5 - 0s - loss: 0.0292 - accuracy: 1.0000\n",
      "Epoch 350/1000\n",
      "5/5 - 0s - loss: 0.0289 - accuracy: 1.0000\n",
      "Epoch 351/1000\n",
      "5/5 - 0s - loss: 0.0287 - accuracy: 1.0000\n",
      "Epoch 352/1000\n",
      "5/5 - 0s - loss: 0.0283 - accuracy: 1.0000\n",
      "Epoch 353/1000\n",
      "5/5 - 0s - loss: 0.0281 - accuracy: 1.0000\n",
      "Epoch 354/1000\n",
      "5/5 - 0s - loss: 0.0278 - accuracy: 1.0000\n",
      "Epoch 355/1000\n",
      "5/5 - 0s - loss: 0.0275 - accuracy: 1.0000\n",
      "Epoch 356/1000\n",
      "5/5 - 0s - loss: 0.0272 - accuracy: 1.0000\n",
      "Epoch 357/1000\n",
      "5/5 - 0s - loss: 0.0269 - accuracy: 1.0000\n",
      "Epoch 358/1000\n",
      "5/5 - 0s - loss: 0.0267 - accuracy: 1.0000\n",
      "Epoch 359/1000\n",
      "5/5 - 0s - loss: 0.0264 - accuracy: 1.0000\n",
      "Epoch 360/1000\n",
      "5/5 - 0s - loss: 0.0261 - accuracy: 1.0000\n",
      "Epoch 361/1000\n",
      "5/5 - 0s - loss: 0.0258 - accuracy: 1.0000\n",
      "Epoch 362/1000\n",
      "5/5 - 0s - loss: 0.0256 - accuracy: 1.0000\n",
      "Epoch 363/1000\n",
      "5/5 - 0s - loss: 0.0253 - accuracy: 1.0000\n",
      "Epoch 364/1000\n",
      "5/5 - 0s - loss: 0.0251 - accuracy: 1.0000\n",
      "Epoch 365/1000\n",
      "5/5 - 0s - loss: 0.0248 - accuracy: 1.0000\n",
      "Epoch 366/1000\n",
      "5/5 - 0s - loss: 0.0246 - accuracy: 1.0000\n",
      "Epoch 367/1000\n",
      "5/5 - 0s - loss: 0.0243 - accuracy: 1.0000\n",
      "Epoch 368/1000\n",
      "5/5 - 0s - loss: 0.0241 - accuracy: 1.0000\n",
      "Epoch 369/1000\n",
      "5/5 - 0s - loss: 0.0238 - accuracy: 1.0000\n",
      "Epoch 370/1000\n",
      "5/5 - 0s - loss: 0.0236 - accuracy: 1.0000\n",
      "Epoch 371/1000\n",
      "5/5 - 0s - loss: 0.0234 - accuracy: 1.0000\n",
      "Epoch 372/1000\n",
      "5/5 - 0s - loss: 0.0232 - accuracy: 1.0000\n",
      "Epoch 373/1000\n",
      "5/5 - 0s - loss: 0.0229 - accuracy: 1.0000\n",
      "Epoch 374/1000\n",
      "5/5 - 0s - loss: 0.0227 - accuracy: 1.0000\n",
      "Epoch 375/1000\n",
      "5/5 - 0s - loss: 0.0225 - accuracy: 1.0000\n",
      "Epoch 376/1000\n",
      "5/5 - 0s - loss: 0.0223 - accuracy: 1.0000\n",
      "Epoch 377/1000\n",
      "5/5 - 0s - loss: 0.0220 - accuracy: 1.0000\n",
      "Epoch 378/1000\n",
      "5/5 - 0s - loss: 0.0219 - accuracy: 1.0000\n",
      "Epoch 379/1000\n",
      "5/5 - 0s - loss: 0.0216 - accuracy: 1.0000\n",
      "Epoch 380/1000\n",
      "5/5 - 0s - loss: 0.0214 - accuracy: 1.0000\n",
      "Epoch 381/1000\n",
      "5/5 - 0s - loss: 0.0212 - accuracy: 1.0000\n",
      "Epoch 382/1000\n",
      "5/5 - 0s - loss: 0.0210 - accuracy: 1.0000\n",
      "Epoch 383/1000\n",
      "5/5 - 0s - loss: 0.0208 - accuracy: 1.0000\n",
      "Epoch 384/1000\n",
      "5/5 - 0s - loss: 0.0206 - accuracy: 1.0000\n",
      "Epoch 385/1000\n",
      "5/5 - 0s - loss: 0.0204 - accuracy: 1.0000\n",
      "Epoch 386/1000\n",
      "5/5 - 0s - loss: 0.0202 - accuracy: 1.0000\n",
      "Epoch 387/1000\n",
      "5/5 - 0s - loss: 0.0200 - accuracy: 1.0000\n",
      "Epoch 388/1000\n",
      "5/5 - 0s - loss: 0.0199 - accuracy: 1.0000\n",
      "Epoch 389/1000\n",
      "5/5 - 0s - loss: 0.0196 - accuracy: 1.0000\n",
      "Epoch 390/1000\n",
      "5/5 - 0s - loss: 0.0195 - accuracy: 1.0000\n",
      "Epoch 391/1000\n",
      "5/5 - 0s - loss: 0.0193 - accuracy: 1.0000\n",
      "Epoch 392/1000\n",
      "5/5 - 0s - loss: 0.0191 - accuracy: 1.0000\n",
      "Epoch 393/1000\n",
      "5/5 - 0s - loss: 0.0190 - accuracy: 1.0000\n",
      "Epoch 394/1000\n",
      "5/5 - 0s - loss: 0.0188 - accuracy: 1.0000\n",
      "Epoch 395/1000\n",
      "5/5 - 0s - loss: 0.0186 - accuracy: 1.0000\n",
      "Epoch 396/1000\n",
      "5/5 - 0s - loss: 0.0184 - accuracy: 1.0000\n",
      "Epoch 397/1000\n",
      "5/5 - 0s - loss: 0.0183 - accuracy: 1.0000\n",
      "Epoch 398/1000\n",
      "5/5 - 0s - loss: 0.0181 - accuracy: 1.0000\n",
      "Epoch 399/1000\n",
      "5/5 - 0s - loss: 0.0179 - accuracy: 1.0000\n",
      "Epoch 400/1000\n",
      "5/5 - 0s - loss: 0.0178 - accuracy: 1.0000\n",
      "Epoch 401/1000\n",
      "5/5 - 0s - loss: 0.0176 - accuracy: 1.0000\n",
      "Epoch 402/1000\n",
      "5/5 - 0s - loss: 0.0175 - accuracy: 1.0000\n",
      "Epoch 403/1000\n",
      "5/5 - 0s - loss: 0.0173 - accuracy: 1.0000\n",
      "Epoch 404/1000\n",
      "5/5 - 0s - loss: 0.0171 - accuracy: 1.0000\n",
      "Epoch 405/1000\n",
      "5/5 - 0s - loss: 0.0170 - accuracy: 1.0000\n",
      "Epoch 406/1000\n",
      "5/5 - 0s - loss: 0.0168 - accuracy: 1.0000\n",
      "Epoch 407/1000\n",
      "5/5 - 0s - loss: 0.0167 - accuracy: 1.0000\n",
      "Epoch 408/1000\n",
      "5/5 - 0s - loss: 0.0166 - accuracy: 1.0000\n",
      "Epoch 409/1000\n",
      "5/5 - 0s - loss: 0.0164 - accuracy: 1.0000\n",
      "Epoch 410/1000\n",
      "5/5 - 0s - loss: 0.0163 - accuracy: 1.0000\n",
      "Epoch 411/1000\n",
      "5/5 - 0s - loss: 0.0161 - accuracy: 1.0000\n",
      "Epoch 412/1000\n",
      "5/5 - 0s - loss: 0.0160 - accuracy: 1.0000\n",
      "Epoch 413/1000\n",
      "5/5 - 0s - loss: 0.0159 - accuracy: 1.0000\n",
      "Epoch 414/1000\n",
      "5/5 - 0s - loss: 0.0157 - accuracy: 1.0000\n",
      "Epoch 415/1000\n",
      "5/5 - 0s - loss: 0.0156 - accuracy: 1.0000\n",
      "Epoch 416/1000\n",
      "5/5 - 0s - loss: 0.0155 - accuracy: 1.0000\n",
      "Epoch 417/1000\n",
      "5/5 - 0s - loss: 0.0153 - accuracy: 1.0000\n",
      "Epoch 418/1000\n",
      "5/5 - 0s - loss: 0.0152 - accuracy: 1.0000\n",
      "Epoch 419/1000\n",
      "5/5 - 0s - loss: 0.0151 - accuracy: 1.0000\n",
      "Epoch 420/1000\n",
      "5/5 - 0s - loss: 0.0149 - accuracy: 1.0000\n",
      "Epoch 421/1000\n",
      "5/5 - 0s - loss: 0.0148 - accuracy: 1.0000\n",
      "Epoch 422/1000\n",
      "5/5 - 0s - loss: 0.0147 - accuracy: 1.0000\n",
      "Epoch 423/1000\n",
      "5/5 - 0s - loss: 0.0146 - accuracy: 1.0000\n",
      "Epoch 424/1000\n",
      "5/5 - 0s - loss: 0.0144 - accuracy: 1.0000\n",
      "Epoch 425/1000\n",
      "5/5 - 0s - loss: 0.0143 - accuracy: 1.0000\n",
      "Epoch 426/1000\n",
      "5/5 - 0s - loss: 0.0142 - accuracy: 1.0000\n",
      "Epoch 427/1000\n",
      "5/5 - 0s - loss: 0.0141 - accuracy: 1.0000\n",
      "Epoch 428/1000\n",
      "5/5 - 0s - loss: 0.0140 - accuracy: 1.0000\n"
     ]
    },
    {
     "name": "stdout",
     "output_type": "stream",
     "text": [
      "Epoch 429/1000\n",
      "5/5 - 0s - loss: 0.0139 - accuracy: 1.0000\n",
      "Epoch 430/1000\n",
      "5/5 - 0s - loss: 0.0138 - accuracy: 1.0000\n",
      "Epoch 431/1000\n",
      "5/5 - 0s - loss: 0.0136 - accuracy: 1.0000\n",
      "Epoch 432/1000\n",
      "5/5 - 0s - loss: 0.0135 - accuracy: 1.0000\n",
      "Epoch 433/1000\n",
      "5/5 - 0s - loss: 0.0134 - accuracy: 1.0000\n",
      "Epoch 434/1000\n",
      "5/5 - 0s - loss: 0.0133 - accuracy: 1.0000\n",
      "Epoch 435/1000\n",
      "5/5 - 0s - loss: 0.0132 - accuracy: 1.0000\n",
      "Epoch 436/1000\n",
      "5/5 - 0s - loss: 0.0131 - accuracy: 1.0000\n",
      "Epoch 437/1000\n",
      "5/5 - 0s - loss: 0.0130 - accuracy: 1.0000\n",
      "Epoch 438/1000\n",
      "5/5 - 0s - loss: 0.0129 - accuracy: 1.0000\n",
      "Epoch 439/1000\n",
      "5/5 - 0s - loss: 0.0128 - accuracy: 1.0000\n",
      "Epoch 440/1000\n",
      "5/5 - 0s - loss: 0.0127 - accuracy: 1.0000\n",
      "Epoch 441/1000\n",
      "5/5 - 0s - loss: 0.0126 - accuracy: 1.0000\n",
      "Epoch 442/1000\n",
      "5/5 - 0s - loss: 0.0125 - accuracy: 1.0000\n",
      "Epoch 443/1000\n",
      "5/5 - 0s - loss: 0.0124 - accuracy: 1.0000\n",
      "Epoch 444/1000\n",
      "5/5 - 0s - loss: 0.0123 - accuracy: 1.0000\n",
      "Epoch 445/1000\n",
      "5/5 - 0s - loss: 0.0122 - accuracy: 1.0000\n",
      "Epoch 446/1000\n",
      "5/5 - 0s - loss: 0.0121 - accuracy: 1.0000\n",
      "Epoch 447/1000\n",
      "5/5 - 0s - loss: 0.0120 - accuracy: 1.0000\n",
      "Epoch 448/1000\n",
      "5/5 - 0s - loss: 0.0119 - accuracy: 1.0000\n",
      "Epoch 449/1000\n",
      "5/5 - 0s - loss: 0.0118 - accuracy: 1.0000\n",
      "Epoch 450/1000\n",
      "5/5 - 0s - loss: 0.0117 - accuracy: 1.0000\n",
      "Epoch 451/1000\n",
      "5/5 - 0s - loss: 0.0116 - accuracy: 1.0000\n",
      "Epoch 452/1000\n",
      "5/5 - 0s - loss: 0.0115 - accuracy: 1.0000\n",
      "Epoch 453/1000\n",
      "5/5 - 0s - loss: 0.0114 - accuracy: 1.0000\n",
      "Epoch 454/1000\n",
      "5/5 - 0s - loss: 0.0114 - accuracy: 1.0000\n",
      "Epoch 455/1000\n",
      "5/5 - 0s - loss: 0.0113 - accuracy: 1.0000\n",
      "Epoch 456/1000\n",
      "5/5 - 0s - loss: 0.0112 - accuracy: 1.0000\n",
      "Epoch 457/1000\n",
      "5/5 - 0s - loss: 0.0111 - accuracy: 1.0000\n",
      "Epoch 458/1000\n",
      "5/5 - 0s - loss: 0.0110 - accuracy: 1.0000\n",
      "Epoch 459/1000\n",
      "5/5 - 0s - loss: 0.0109 - accuracy: 1.0000\n",
      "Epoch 460/1000\n",
      "5/5 - 0s - loss: 0.0108 - accuracy: 1.0000\n",
      "Epoch 461/1000\n",
      "5/5 - 0s - loss: 0.0108 - accuracy: 1.0000\n",
      "Epoch 462/1000\n",
      "5/5 - 0s - loss: 0.0107 - accuracy: 1.0000\n",
      "Epoch 463/1000\n",
      "5/5 - 0s - loss: 0.0106 - accuracy: 1.0000\n",
      "Epoch 464/1000\n",
      "5/5 - 0s - loss: 0.0105 - accuracy: 1.0000\n",
      "Epoch 465/1000\n",
      "5/5 - 0s - loss: 0.0104 - accuracy: 1.0000\n",
      "Epoch 466/1000\n",
      "5/5 - 0s - loss: 0.0104 - accuracy: 1.0000\n",
      "Epoch 467/1000\n",
      "5/5 - 0s - loss: 0.0103 - accuracy: 1.0000\n",
      "Epoch 468/1000\n",
      "5/5 - 0s - loss: 0.0102 - accuracy: 1.0000\n",
      "Epoch 469/1000\n",
      "5/5 - 0s - loss: 0.0101 - accuracy: 1.0000\n",
      "Epoch 470/1000\n",
      "5/5 - 0s - loss: 0.0101 - accuracy: 1.0000\n",
      "Epoch 471/1000\n",
      "5/5 - 0s - loss: 0.0100 - accuracy: 1.0000\n",
      "Epoch 472/1000\n",
      "5/5 - 0s - loss: 0.0099 - accuracy: 1.0000\n",
      "Epoch 473/1000\n",
      "5/5 - 0s - loss: 0.0098 - accuracy: 1.0000\n",
      "Epoch 474/1000\n",
      "5/5 - 0s - loss: 0.0098 - accuracy: 1.0000\n",
      "Epoch 475/1000\n",
      "5/5 - 0s - loss: 0.0097 - accuracy: 1.0000\n",
      "Epoch 476/1000\n",
      "5/5 - 0s - loss: 0.0096 - accuracy: 1.0000\n",
      "Epoch 477/1000\n",
      "5/5 - 0s - loss: 0.0096 - accuracy: 1.0000\n",
      "Epoch 478/1000\n",
      "5/5 - 0s - loss: 0.0095 - accuracy: 1.0000\n",
      "Epoch 479/1000\n",
      "5/5 - 0s - loss: 0.0094 - accuracy: 1.0000\n",
      "Epoch 480/1000\n",
      "5/5 - 0s - loss: 0.0094 - accuracy: 1.0000\n",
      "Epoch 481/1000\n",
      "5/5 - 0s - loss: 0.0093 - accuracy: 1.0000\n",
      "Epoch 482/1000\n",
      "5/5 - 0s - loss: 0.0092 - accuracy: 1.0000\n",
      "Epoch 483/1000\n",
      "5/5 - 0s - loss: 0.0092 - accuracy: 1.0000\n",
      "Epoch 484/1000\n",
      "5/5 - 0s - loss: 0.0091 - accuracy: 1.0000\n",
      "Epoch 485/1000\n",
      "5/5 - 0s - loss: 0.0090 - accuracy: 1.0000\n",
      "Epoch 486/1000\n",
      "5/5 - 0s - loss: 0.0090 - accuracy: 1.0000\n",
      "Epoch 487/1000\n",
      "5/5 - 0s - loss: 0.0089 - accuracy: 1.0000\n",
      "Epoch 488/1000\n",
      "5/5 - 0s - loss: 0.0088 - accuracy: 1.0000\n",
      "Epoch 489/1000\n",
      "5/5 - 0s - loss: 0.0088 - accuracy: 1.0000\n",
      "Epoch 490/1000\n",
      "5/5 - 0s - loss: 0.0087 - accuracy: 1.0000\n",
      "Epoch 491/1000\n",
      "5/5 - 0s - loss: 0.0087 - accuracy: 1.0000\n",
      "Epoch 492/1000\n",
      "5/5 - 0s - loss: 0.0086 - accuracy: 1.0000\n",
      "Epoch 493/1000\n",
      "5/5 - 0s - loss: 0.0085 - accuracy: 1.0000\n",
      "Epoch 494/1000\n",
      "5/5 - 0s - loss: 0.0085 - accuracy: 1.0000\n",
      "Epoch 495/1000\n",
      "5/5 - 0s - loss: 0.0084 - accuracy: 1.0000\n",
      "Epoch 496/1000\n",
      "5/5 - 0s - loss: 0.0084 - accuracy: 1.0000\n",
      "Epoch 497/1000\n",
      "5/5 - 0s - loss: 0.0083 - accuracy: 1.0000\n",
      "Epoch 498/1000\n",
      "5/5 - 0s - loss: 0.0083 - accuracy: 1.0000\n",
      "Epoch 499/1000\n",
      "5/5 - 0s - loss: 0.0082 - accuracy: 1.0000\n",
      "Epoch 500/1000\n",
      "5/5 - 0s - loss: 0.0081 - accuracy: 1.0000\n",
      "Epoch 501/1000\n",
      "5/5 - 0s - loss: 0.0081 - accuracy: 1.0000\n",
      "Epoch 502/1000\n",
      "5/5 - 0s - loss: 0.0080 - accuracy: 1.0000\n",
      "Epoch 503/1000\n",
      "5/5 - 0s - loss: 0.0080 - accuracy: 1.0000\n",
      "Epoch 504/1000\n",
      "5/5 - 0s - loss: 0.0079 - accuracy: 1.0000\n",
      "Epoch 505/1000\n",
      "5/5 - 0s - loss: 0.0079 - accuracy: 1.0000\n",
      "Epoch 506/1000\n",
      "5/5 - 0s - loss: 0.0078 - accuracy: 1.0000\n",
      "Epoch 507/1000\n",
      "5/5 - 0s - loss: 0.0078 - accuracy: 1.0000\n",
      "Epoch 508/1000\n",
      "5/5 - 0s - loss: 0.0077 - accuracy: 1.0000\n",
      "Epoch 509/1000\n",
      "5/5 - 0s - loss: 0.0077 - accuracy: 1.0000\n",
      "Epoch 510/1000\n",
      "5/5 - 0s - loss: 0.0076 - accuracy: 1.0000\n",
      "Epoch 511/1000\n",
      "5/5 - 0s - loss: 0.0076 - accuracy: 1.0000\n",
      "Epoch 512/1000\n",
      "5/5 - 0s - loss: 0.0075 - accuracy: 1.0000\n",
      "Epoch 513/1000\n",
      "5/5 - 0s - loss: 0.0075 - accuracy: 1.0000\n",
      "Epoch 514/1000\n",
      "5/5 - 0s - loss: 0.0074 - accuracy: 1.0000\n",
      "Epoch 515/1000\n",
      "5/5 - 0s - loss: 0.0074 - accuracy: 1.0000\n",
      "Epoch 516/1000\n",
      "5/5 - 0s - loss: 0.0073 - accuracy: 1.0000\n",
      "Epoch 517/1000\n",
      "5/5 - 0s - loss: 0.0073 - accuracy: 1.0000\n",
      "Epoch 518/1000\n",
      "5/5 - 0s - loss: 0.0072 - accuracy: 1.0000\n",
      "Epoch 519/1000\n",
      "5/5 - 0s - loss: 0.0072 - accuracy: 1.0000\n",
      "Epoch 520/1000\n",
      "5/5 - 0s - loss: 0.0071 - accuracy: 1.0000\n",
      "Epoch 521/1000\n",
      "5/5 - 0s - loss: 0.0071 - accuracy: 1.0000\n",
      "Epoch 522/1000\n",
      "5/5 - 0s - loss: 0.0071 - accuracy: 1.0000\n",
      "Epoch 523/1000\n",
      "5/5 - 0s - loss: 0.0070 - accuracy: 1.0000\n",
      "Epoch 524/1000\n",
      "5/5 - 0s - loss: 0.0070 - accuracy: 1.0000\n",
      "Epoch 525/1000\n",
      "5/5 - 0s - loss: 0.0069 - accuracy: 1.0000\n",
      "Epoch 526/1000\n",
      "5/5 - 0s - loss: 0.0069 - accuracy: 1.0000\n",
      "Epoch 527/1000\n",
      "5/5 - 0s - loss: 0.0068 - accuracy: 1.0000\n",
      "Epoch 528/1000\n",
      "5/5 - 0s - loss: 0.0068 - accuracy: 1.0000\n",
      "Epoch 529/1000\n",
      "5/5 - 0s - loss: 0.0067 - accuracy: 1.0000\n",
      "Epoch 530/1000\n",
      "5/5 - 0s - loss: 0.0067 - accuracy: 1.0000\n",
      "Epoch 531/1000\n",
      "5/5 - 0s - loss: 0.0067 - accuracy: 1.0000\n",
      "Epoch 532/1000\n",
      "5/5 - 0s - loss: 0.0066 - accuracy: 1.0000\n",
      "Epoch 533/1000\n",
      "5/5 - 0s - loss: 0.0066 - accuracy: 1.0000\n",
      "Epoch 534/1000\n",
      "5/5 - 0s - loss: 0.0065 - accuracy: 1.0000\n",
      "Epoch 535/1000\n",
      "5/5 - 0s - loss: 0.0065 - accuracy: 1.0000\n",
      "Epoch 536/1000\n",
      "5/5 - 0s - loss: 0.0065 - accuracy: 1.0000\n",
      "Epoch 537/1000\n",
      "5/5 - 0s - loss: 0.0064 - accuracy: 1.0000\n",
      "Epoch 538/1000\n",
      "5/5 - 0s - loss: 0.0064 - accuracy: 1.0000\n",
      "Epoch 539/1000\n",
      "5/5 - 0s - loss: 0.0063 - accuracy: 1.0000\n",
      "Epoch 540/1000\n",
      "5/5 - 0s - loss: 0.0063 - accuracy: 1.0000\n",
      "Epoch 541/1000\n",
      "5/5 - 0s - loss: 0.0063 - accuracy: 1.0000\n",
      "Epoch 542/1000\n",
      "5/5 - 0s - loss: 0.0062 - accuracy: 1.0000\n",
      "Epoch 543/1000\n",
      "5/5 - 0s - loss: 0.0062 - accuracy: 1.0000\n",
      "Epoch 544/1000\n",
      "5/5 - 0s - loss: 0.0061 - accuracy: 1.0000\n",
      "Epoch 545/1000\n",
      "5/5 - 0s - loss: 0.0061 - accuracy: 1.0000\n",
      "Epoch 546/1000\n",
      "5/5 - 0s - loss: 0.0061 - accuracy: 1.0000\n",
      "Epoch 547/1000\n",
      "5/5 - 0s - loss: 0.0060 - accuracy: 1.0000\n",
      "Epoch 548/1000\n",
      "5/5 - 0s - loss: 0.0060 - accuracy: 1.0000\n",
      "Epoch 549/1000\n",
      "5/5 - 0s - loss: 0.0060 - accuracy: 1.0000\n",
      "Epoch 550/1000\n",
      "5/5 - 0s - loss: 0.0059 - accuracy: 1.0000\n",
      "Epoch 551/1000\n",
      "5/5 - 0s - loss: 0.0059 - accuracy: 1.0000\n",
      "Epoch 552/1000\n",
      "5/5 - 0s - loss: 0.0058 - accuracy: 1.0000\n",
      "Epoch 553/1000\n",
      "5/5 - 0s - loss: 0.0058 - accuracy: 1.0000\n",
      "Epoch 554/1000\n",
      "5/5 - 0s - loss: 0.0058 - accuracy: 1.0000\n",
      "Epoch 555/1000\n",
      "5/5 - 0s - loss: 0.0057 - accuracy: 1.0000\n",
      "Epoch 556/1000\n",
      "5/5 - 0s - loss: 0.0057 - accuracy: 1.0000\n",
      "Epoch 557/1000\n",
      "5/5 - 0s - loss: 0.0057 - accuracy: 1.0000\n",
      "Epoch 558/1000\n",
      "5/5 - 0s - loss: 0.0056 - accuracy: 1.0000\n",
      "Epoch 559/1000\n",
      "5/5 - 0s - loss: 0.0056 - accuracy: 1.0000\n",
      "Epoch 560/1000\n",
      "5/5 - 0s - loss: 0.0056 - accuracy: 1.0000\n",
      "Epoch 561/1000\n",
      "5/5 - 0s - loss: 0.0055 - accuracy: 1.0000\n",
      "Epoch 562/1000\n",
      "5/5 - 0s - loss: 0.0055 - accuracy: 1.0000\n",
      "Epoch 563/1000\n",
      "5/5 - 0s - loss: 0.0055 - accuracy: 1.0000\n",
      "Epoch 564/1000\n",
      "5/5 - 0s - loss: 0.0054 - accuracy: 1.0000\n",
      "Epoch 565/1000\n",
      "5/5 - 0s - loss: 0.0054 - accuracy: 1.0000\n",
      "Epoch 566/1000\n",
      "5/5 - 0s - loss: 0.0054 - accuracy: 1.0000\n",
      "Epoch 567/1000\n",
      "5/5 - 0s - loss: 0.0053 - accuracy: 1.0000\n",
      "Epoch 568/1000\n",
      "5/5 - 0s - loss: 0.0053 - accuracy: 1.0000\n",
      "Epoch 569/1000\n",
      "5/5 - 0s - loss: 0.0053 - accuracy: 1.0000\n",
      "Epoch 570/1000\n",
      "5/5 - 0s - loss: 0.0053 - accuracy: 1.0000\n"
     ]
    },
    {
     "name": "stdout",
     "output_type": "stream",
     "text": [
      "Epoch 571/1000\n",
      "5/5 - 0s - loss: 0.0052 - accuracy: 1.0000\n",
      "Epoch 572/1000\n",
      "5/5 - 0s - loss: 0.0052 - accuracy: 1.0000\n",
      "Epoch 573/1000\n",
      "5/5 - 0s - loss: 0.0052 - accuracy: 1.0000\n",
      "Epoch 574/1000\n",
      "5/5 - 0s - loss: 0.0051 - accuracy: 1.0000\n",
      "Epoch 575/1000\n",
      "5/5 - 0s - loss: 0.0051 - accuracy: 1.0000\n",
      "Epoch 576/1000\n",
      "5/5 - 0s - loss: 0.0051 - accuracy: 1.0000\n",
      "Epoch 577/1000\n",
      "5/5 - 0s - loss: 0.0051 - accuracy: 1.0000\n",
      "Epoch 578/1000\n",
      "5/5 - 0s - loss: 0.0050 - accuracy: 1.0000\n",
      "Epoch 579/1000\n",
      "5/5 - 0s - loss: 0.0050 - accuracy: 1.0000\n",
      "Epoch 580/1000\n",
      "5/5 - 0s - loss: 0.0050 - accuracy: 1.0000\n",
      "Epoch 581/1000\n",
      "5/5 - 0s - loss: 0.0049 - accuracy: 1.0000\n",
      "Epoch 582/1000\n",
      "5/5 - 0s - loss: 0.0049 - accuracy: 1.0000\n",
      "Epoch 583/1000\n",
      "5/5 - 0s - loss: 0.0049 - accuracy: 1.0000\n",
      "Epoch 584/1000\n",
      "5/5 - 0s - loss: 0.0049 - accuracy: 1.0000\n",
      "Epoch 585/1000\n",
      "5/5 - 0s - loss: 0.0048 - accuracy: 1.0000\n",
      "Epoch 586/1000\n",
      "5/5 - 0s - loss: 0.0048 - accuracy: 1.0000\n",
      "Epoch 587/1000\n",
      "5/5 - 0s - loss: 0.0048 - accuracy: 1.0000\n",
      "Epoch 588/1000\n",
      "5/5 - 0s - loss: 0.0048 - accuracy: 1.0000\n",
      "Epoch 589/1000\n",
      "5/5 - 0s - loss: 0.0047 - accuracy: 1.0000\n",
      "Epoch 590/1000\n",
      "5/5 - 0s - loss: 0.0047 - accuracy: 1.0000\n",
      "Epoch 591/1000\n",
      "5/5 - 0s - loss: 0.0047 - accuracy: 1.0000\n",
      "Epoch 592/1000\n",
      "5/5 - 0s - loss: 0.0046 - accuracy: 1.0000\n",
      "Epoch 593/1000\n",
      "5/5 - 0s - loss: 0.0046 - accuracy: 1.0000\n",
      "Epoch 594/1000\n",
      "5/5 - 0s - loss: 0.0046 - accuracy: 1.0000\n",
      "Epoch 595/1000\n",
      "5/5 - 0s - loss: 0.0046 - accuracy: 1.0000\n",
      "Epoch 596/1000\n",
      "5/5 - 0s - loss: 0.0045 - accuracy: 1.0000\n",
      "Epoch 597/1000\n",
      "5/5 - 0s - loss: 0.0045 - accuracy: 1.0000\n",
      "Epoch 598/1000\n",
      "5/5 - 0s - loss: 0.0045 - accuracy: 1.0000\n",
      "Epoch 599/1000\n",
      "5/5 - 0s - loss: 0.0045 - accuracy: 1.0000\n",
      "Epoch 600/1000\n",
      "5/5 - 0s - loss: 0.0045 - accuracy: 1.0000\n",
      "Epoch 601/1000\n",
      "5/5 - 0s - loss: 0.0044 - accuracy: 1.0000\n",
      "Epoch 602/1000\n",
      "5/5 - 0s - loss: 0.0044 - accuracy: 1.0000\n",
      "Epoch 603/1000\n",
      "5/5 - 0s - loss: 0.0044 - accuracy: 1.0000\n",
      "Epoch 604/1000\n",
      "5/5 - 0s - loss: 0.0043 - accuracy: 1.0000\n",
      "Epoch 605/1000\n",
      "5/5 - 0s - loss: 0.0043 - accuracy: 1.0000\n",
      "Epoch 606/1000\n",
      "5/5 - 0s - loss: 0.0043 - accuracy: 1.0000\n",
      "Epoch 607/1000\n",
      "5/5 - 0s - loss: 0.0043 - accuracy: 1.0000\n",
      "Epoch 608/1000\n",
      "5/5 - 0s - loss: 0.0043 - accuracy: 1.0000\n",
      "Epoch 609/1000\n",
      "5/5 - 0s - loss: 0.0042 - accuracy: 1.0000\n",
      "Epoch 610/1000\n",
      "5/5 - 0s - loss: 0.0042 - accuracy: 1.0000\n",
      "Epoch 611/1000\n",
      "5/5 - 0s - loss: 0.0042 - accuracy: 1.0000\n",
      "Epoch 612/1000\n",
      "5/5 - 0s - loss: 0.0042 - accuracy: 1.0000\n",
      "Epoch 613/1000\n",
      "5/5 - 0s - loss: 0.0041 - accuracy: 1.0000\n",
      "Epoch 614/1000\n",
      "5/5 - 0s - loss: 0.0041 - accuracy: 1.0000\n",
      "Epoch 615/1000\n",
      "5/5 - 0s - loss: 0.0041 - accuracy: 1.0000\n",
      "Epoch 616/1000\n",
      "5/5 - 0s - loss: 0.0041 - accuracy: 1.0000\n",
      "Epoch 617/1000\n",
      "5/5 - 0s - loss: 0.0041 - accuracy: 1.0000\n",
      "Epoch 618/1000\n",
      "5/5 - 0s - loss: 0.0040 - accuracy: 1.0000\n",
      "Epoch 619/1000\n",
      "5/5 - 0s - loss: 0.0040 - accuracy: 1.0000\n",
      "Epoch 620/1000\n",
      "5/5 - 0s - loss: 0.0040 - accuracy: 1.0000\n",
      "Epoch 621/1000\n",
      "5/5 - 0s - loss: 0.0040 - accuracy: 1.0000\n",
      "Epoch 622/1000\n",
      "5/5 - 0s - loss: 0.0039 - accuracy: 1.0000\n",
      "Epoch 623/1000\n",
      "5/5 - 0s - loss: 0.0039 - accuracy: 1.0000\n",
      "Epoch 624/1000\n",
      "5/5 - 0s - loss: 0.0039 - accuracy: 1.0000\n",
      "Epoch 625/1000\n",
      "5/5 - 0s - loss: 0.0039 - accuracy: 1.0000\n",
      "Epoch 626/1000\n",
      "5/5 - 0s - loss: 0.0039 - accuracy: 1.0000\n",
      "Epoch 627/1000\n",
      "5/5 - 0s - loss: 0.0038 - accuracy: 1.0000\n",
      "Epoch 628/1000\n",
      "5/5 - 0s - loss: 0.0038 - accuracy: 1.0000\n",
      "Epoch 629/1000\n",
      "5/5 - 0s - loss: 0.0038 - accuracy: 1.0000\n",
      "Epoch 630/1000\n",
      "5/5 - 0s - loss: 0.0038 - accuracy: 1.0000\n",
      "Epoch 631/1000\n",
      "5/5 - 0s - loss: 0.0038 - accuracy: 1.0000\n",
      "Epoch 632/1000\n",
      "5/5 - 0s - loss: 0.0037 - accuracy: 1.0000\n",
      "Epoch 633/1000\n",
      "5/5 - 0s - loss: 0.0037 - accuracy: 1.0000\n",
      "Epoch 634/1000\n",
      "5/5 - 0s - loss: 0.0037 - accuracy: 1.0000\n",
      "Epoch 635/1000\n",
      "5/5 - 0s - loss: 0.0037 - accuracy: 1.0000\n",
      "Epoch 636/1000\n",
      "5/5 - 0s - loss: 0.0037 - accuracy: 1.0000\n",
      "Epoch 637/1000\n",
      "5/5 - 0s - loss: 0.0036 - accuracy: 1.0000\n",
      "Epoch 638/1000\n",
      "5/5 - 0s - loss: 0.0036 - accuracy: 1.0000\n",
      "Epoch 639/1000\n",
      "5/5 - 0s - loss: 0.0036 - accuracy: 1.0000\n",
      "Epoch 640/1000\n",
      "5/5 - 0s - loss: 0.0036 - accuracy: 1.0000\n",
      "Epoch 641/1000\n",
      "5/5 - 0s - loss: 0.0036 - accuracy: 1.0000\n",
      "Epoch 642/1000\n",
      "5/5 - 0s - loss: 0.0036 - accuracy: 1.0000\n",
      "Epoch 643/1000\n",
      "5/5 - 0s - loss: 0.0035 - accuracy: 1.0000\n",
      "Epoch 644/1000\n",
      "5/5 - 0s - loss: 0.0035 - accuracy: 1.0000\n",
      "Epoch 645/1000\n",
      "5/5 - 0s - loss: 0.0035 - accuracy: 1.0000\n",
      "Epoch 646/1000\n",
      "5/5 - 0s - loss: 0.0035 - accuracy: 1.0000\n",
      "Epoch 647/1000\n",
      "5/5 - 0s - loss: 0.0035 - accuracy: 1.0000\n",
      "Epoch 648/1000\n",
      "5/5 - 0s - loss: 0.0034 - accuracy: 1.0000\n",
      "Epoch 649/1000\n",
      "5/5 - 0s - loss: 0.0034 - accuracy: 1.0000\n",
      "Epoch 650/1000\n",
      "5/5 - 0s - loss: 0.0034 - accuracy: 1.0000\n",
      "Epoch 651/1000\n",
      "5/5 - 0s - loss: 0.0034 - accuracy: 1.0000\n",
      "Epoch 652/1000\n",
      "5/5 - 0s - loss: 0.0034 - accuracy: 1.0000\n",
      "Epoch 653/1000\n",
      "5/5 - 0s - loss: 0.0034 - accuracy: 1.0000\n",
      "Epoch 654/1000\n",
      "5/5 - 0s - loss: 0.0033 - accuracy: 1.0000\n",
      "Epoch 655/1000\n",
      "5/5 - 0s - loss: 0.0033 - accuracy: 1.0000\n",
      "Epoch 656/1000\n",
      "5/5 - 0s - loss: 0.0033 - accuracy: 1.0000\n",
      "Epoch 657/1000\n",
      "5/5 - 0s - loss: 0.0033 - accuracy: 1.0000\n",
      "Epoch 658/1000\n",
      "5/5 - 0s - loss: 0.0033 - accuracy: 1.0000\n",
      "Epoch 659/1000\n",
      "5/5 - 0s - loss: 0.0033 - accuracy: 1.0000\n",
      "Epoch 660/1000\n",
      "5/5 - 0s - loss: 0.0032 - accuracy: 1.0000\n",
      "Epoch 661/1000\n",
      "5/5 - 0s - loss: 0.0032 - accuracy: 1.0000\n",
      "Epoch 662/1000\n",
      "5/5 - 0s - loss: 0.0032 - accuracy: 1.0000\n",
      "Epoch 663/1000\n",
      "5/5 - 0s - loss: 0.0032 - accuracy: 1.0000\n",
      "Epoch 664/1000\n",
      "5/5 - 0s - loss: 0.0032 - accuracy: 1.0000\n",
      "Epoch 665/1000\n",
      "5/5 - 0s - loss: 0.0032 - accuracy: 1.0000\n",
      "Epoch 666/1000\n",
      "5/5 - 0s - loss: 0.0032 - accuracy: 1.0000\n",
      "Epoch 667/1000\n",
      "5/5 - 0s - loss: 0.0031 - accuracy: 1.0000\n",
      "Epoch 668/1000\n",
      "5/5 - 0s - loss: 0.0031 - accuracy: 1.0000\n",
      "Epoch 669/1000\n",
      "5/5 - 0s - loss: 0.0031 - accuracy: 1.0000\n",
      "Epoch 670/1000\n",
      "5/5 - 0s - loss: 0.0031 - accuracy: 1.0000\n",
      "Epoch 671/1000\n",
      "5/5 - 0s - loss: 0.0031 - accuracy: 1.0000\n",
      "Epoch 672/1000\n",
      "5/5 - 0s - loss: 0.0031 - accuracy: 1.0000\n",
      "Epoch 673/1000\n",
      "5/5 - 0s - loss: 0.0030 - accuracy: 1.0000\n",
      "Epoch 674/1000\n",
      "5/5 - 0s - loss: 0.0030 - accuracy: 1.0000\n",
      "Epoch 675/1000\n",
      "5/5 - 0s - loss: 0.0030 - accuracy: 1.0000\n",
      "Epoch 676/1000\n",
      "5/5 - 0s - loss: 0.0030 - accuracy: 1.0000\n",
      "Epoch 677/1000\n",
      "5/5 - 0s - loss: 0.0030 - accuracy: 1.0000\n",
      "Epoch 678/1000\n",
      "5/5 - 0s - loss: 0.0030 - accuracy: 1.0000\n",
      "Epoch 679/1000\n",
      "5/5 - 0s - loss: 0.0030 - accuracy: 1.0000\n",
      "Epoch 680/1000\n",
      "5/5 - 0s - loss: 0.0029 - accuracy: 1.0000\n",
      "Epoch 681/1000\n",
      "5/5 - 0s - loss: 0.0029 - accuracy: 1.0000\n",
      "Epoch 682/1000\n",
      "5/5 - 0s - loss: 0.0029 - accuracy: 1.0000\n",
      "Epoch 683/1000\n",
      "5/5 - 0s - loss: 0.0029 - accuracy: 1.0000\n",
      "Epoch 684/1000\n",
      "5/5 - 0s - loss: 0.0029 - accuracy: 1.0000\n",
      "Epoch 685/1000\n",
      "5/5 - 0s - loss: 0.0029 - accuracy: 1.0000\n",
      "Epoch 686/1000\n",
      "5/5 - 0s - loss: 0.0029 - accuracy: 1.0000\n",
      "Epoch 687/1000\n",
      "5/5 - 0s - loss: 0.0028 - accuracy: 1.0000\n",
      "Epoch 688/1000\n",
      "5/5 - 0s - loss: 0.0028 - accuracy: 1.0000\n",
      "Epoch 689/1000\n",
      "5/5 - 0s - loss: 0.0028 - accuracy: 1.0000\n",
      "Epoch 690/1000\n",
      "5/5 - 0s - loss: 0.0028 - accuracy: 1.0000\n",
      "Epoch 691/1000\n",
      "5/5 - 0s - loss: 0.0028 - accuracy: 1.0000\n",
      "Epoch 692/1000\n",
      "5/5 - 0s - loss: 0.0028 - accuracy: 1.0000\n",
      "Epoch 693/1000\n",
      "5/5 - 0s - loss: 0.0028 - accuracy: 1.0000\n",
      "Epoch 694/1000\n",
      "5/5 - 0s - loss: 0.0027 - accuracy: 1.0000\n",
      "Epoch 695/1000\n",
      "5/5 - 0s - loss: 0.0027 - accuracy: 1.0000\n",
      "Epoch 696/1000\n",
      "5/5 - 0s - loss: 0.0027 - accuracy: 1.0000\n",
      "Epoch 697/1000\n",
      "5/5 - 0s - loss: 0.0027 - accuracy: 1.0000\n",
      "Epoch 698/1000\n",
      "5/5 - 0s - loss: 0.0027 - accuracy: 1.0000\n",
      "Epoch 699/1000\n",
      "5/5 - 0s - loss: 0.0027 - accuracy: 1.0000\n",
      "Epoch 700/1000\n",
      "5/5 - 0s - loss: 0.0027 - accuracy: 1.0000\n",
      "Epoch 701/1000\n",
      "5/5 - 0s - loss: 0.0027 - accuracy: 1.0000\n",
      "Epoch 702/1000\n",
      "5/5 - 0s - loss: 0.0026 - accuracy: 1.0000\n",
      "Epoch 703/1000\n",
      "5/5 - 0s - loss: 0.0026 - accuracy: 1.0000\n",
      "Epoch 704/1000\n",
      "5/5 - 0s - loss: 0.0026 - accuracy: 1.0000\n",
      "Epoch 705/1000\n",
      "5/5 - 0s - loss: 0.0026 - accuracy: 1.0000\n",
      "Epoch 706/1000\n",
      "5/5 - 0s - loss: 0.0026 - accuracy: 1.0000\n",
      "Epoch 707/1000\n",
      "5/5 - 0s - loss: 0.0026 - accuracy: 1.0000\n",
      "Epoch 708/1000\n",
      "5/5 - 0s - loss: 0.0026 - accuracy: 1.0000\n",
      "Epoch 709/1000\n",
      "5/5 - 0s - loss: 0.0026 - accuracy: 1.0000\n",
      "Epoch 710/1000\n",
      "5/5 - 0s - loss: 0.0025 - accuracy: 1.0000\n",
      "Epoch 711/1000\n",
      "5/5 - 0s - loss: 0.0025 - accuracy: 1.0000\n",
      "Epoch 712/1000\n",
      "5/5 - 0s - loss: 0.0025 - accuracy: 1.0000\n"
     ]
    },
    {
     "name": "stdout",
     "output_type": "stream",
     "text": [
      "Epoch 713/1000\n",
      "5/5 - 0s - loss: 0.0025 - accuracy: 1.0000\n",
      "Epoch 714/1000\n",
      "5/5 - 0s - loss: 0.0025 - accuracy: 1.0000\n",
      "Epoch 715/1000\n",
      "5/5 - 0s - loss: 0.0025 - accuracy: 1.0000\n",
      "Epoch 716/1000\n",
      "5/5 - 0s - loss: 0.0025 - accuracy: 1.0000\n",
      "Epoch 717/1000\n",
      "5/5 - 0s - loss: 0.0025 - accuracy: 1.0000\n",
      "Epoch 718/1000\n",
      "5/5 - 0s - loss: 0.0025 - accuracy: 1.0000\n",
      "Epoch 719/1000\n",
      "5/5 - 0s - loss: 0.0024 - accuracy: 1.0000\n",
      "Epoch 720/1000\n",
      "5/5 - 0s - loss: 0.0024 - accuracy: 1.0000\n",
      "Epoch 721/1000\n",
      "5/5 - 0s - loss: 0.0024 - accuracy: 1.0000\n",
      "Epoch 722/1000\n",
      "5/5 - 0s - loss: 0.0024 - accuracy: 1.0000\n",
      "Epoch 723/1000\n",
      "5/5 - 0s - loss: 0.0024 - accuracy: 1.0000\n",
      "Epoch 724/1000\n",
      "5/5 - 0s - loss: 0.0024 - accuracy: 1.0000\n",
      "Epoch 725/1000\n",
      "5/5 - 0s - loss: 0.0024 - accuracy: 1.0000\n",
      "Epoch 726/1000\n",
      "5/5 - 0s - loss: 0.0024 - accuracy: 1.0000\n",
      "Epoch 727/1000\n",
      "5/5 - 0s - loss: 0.0023 - accuracy: 1.0000\n",
      "Epoch 728/1000\n",
      "5/5 - 0s - loss: 0.0023 - accuracy: 1.0000\n",
      "Epoch 729/1000\n",
      "5/5 - 0s - loss: 0.0023 - accuracy: 1.0000\n",
      "Epoch 730/1000\n",
      "5/5 - 0s - loss: 0.0023 - accuracy: 1.0000\n",
      "Epoch 731/1000\n",
      "5/5 - 0s - loss: 0.0023 - accuracy: 1.0000\n",
      "Epoch 732/1000\n",
      "5/5 - 0s - loss: 0.0023 - accuracy: 1.0000\n",
      "Epoch 733/1000\n",
      "5/5 - 0s - loss: 0.0023 - accuracy: 1.0000\n",
      "Epoch 734/1000\n",
      "5/5 - 0s - loss: 0.0023 - accuracy: 1.0000\n",
      "Epoch 735/1000\n",
      "5/5 - 0s - loss: 0.0023 - accuracy: 1.0000\n",
      "Epoch 736/1000\n",
      "5/5 - 0s - loss: 0.0023 - accuracy: 1.0000\n",
      "Epoch 737/1000\n",
      "5/5 - 0s - loss: 0.0022 - accuracy: 1.0000\n",
      "Epoch 738/1000\n",
      "5/5 - 0s - loss: 0.0022 - accuracy: 1.0000\n",
      "Epoch 739/1000\n",
      "5/5 - 0s - loss: 0.0022 - accuracy: 1.0000\n",
      "Epoch 740/1000\n",
      "5/5 - 0s - loss: 0.0022 - accuracy: 1.0000\n",
      "Epoch 741/1000\n",
      "5/5 - 0s - loss: 0.0022 - accuracy: 1.0000\n",
      "Epoch 742/1000\n",
      "5/5 - 0s - loss: 0.0022 - accuracy: 1.0000\n",
      "Epoch 743/1000\n",
      "5/5 - 0s - loss: 0.0022 - accuracy: 1.0000\n",
      "Epoch 744/1000\n",
      "5/5 - 0s - loss: 0.0022 - accuracy: 1.0000\n",
      "Epoch 745/1000\n",
      "5/5 - 0s - loss: 0.0022 - accuracy: 1.0000\n",
      "Epoch 746/1000\n",
      "5/5 - 0s - loss: 0.0022 - accuracy: 1.0000\n",
      "Epoch 747/1000\n",
      "5/5 - 0s - loss: 0.0021 - accuracy: 1.0000\n",
      "Epoch 748/1000\n",
      "5/5 - 0s - loss: 0.0021 - accuracy: 1.0000\n",
      "Epoch 749/1000\n",
      "5/5 - 0s - loss: 0.0021 - accuracy: 1.0000\n",
      "Epoch 750/1000\n",
      "5/5 - 0s - loss: 0.0021 - accuracy: 1.0000\n",
      "Epoch 751/1000\n",
      "5/5 - 0s - loss: 0.0021 - accuracy: 1.0000\n",
      "Epoch 752/1000\n",
      "5/5 - 0s - loss: 0.0021 - accuracy: 1.0000\n",
      "Epoch 753/1000\n",
      "5/5 - 0s - loss: 0.0021 - accuracy: 1.0000\n",
      "Epoch 754/1000\n",
      "5/5 - 0s - loss: 0.0021 - accuracy: 1.0000\n",
      "Epoch 755/1000\n",
      "5/5 - 0s - loss: 0.0021 - accuracy: 1.0000\n",
      "Epoch 756/1000\n",
      "5/5 - 0s - loss: 0.0021 - accuracy: 1.0000\n",
      "Epoch 757/1000\n",
      "5/5 - 0s - loss: 0.0020 - accuracy: 1.0000\n",
      "Epoch 758/1000\n",
      "5/5 - 0s - loss: 0.0020 - accuracy: 1.0000\n",
      "Epoch 759/1000\n",
      "5/5 - 0s - loss: 0.0020 - accuracy: 1.0000\n",
      "Epoch 760/1000\n",
      "5/5 - 0s - loss: 0.0020 - accuracy: 1.0000\n",
      "Epoch 761/1000\n",
      "5/5 - 0s - loss: 0.0020 - accuracy: 1.0000\n",
      "Epoch 762/1000\n",
      "5/5 - 0s - loss: 0.0020 - accuracy: 1.0000\n",
      "Epoch 763/1000\n",
      "5/5 - 0s - loss: 0.0020 - accuracy: 1.0000\n",
      "Epoch 764/1000\n",
      "5/5 - 0s - loss: 0.0020 - accuracy: 1.0000\n",
      "Epoch 765/1000\n",
      "5/5 - 0s - loss: 0.0020 - accuracy: 1.0000\n",
      "Epoch 766/1000\n",
      "5/5 - 0s - loss: 0.0020 - accuracy: 1.0000\n",
      "Epoch 767/1000\n",
      "5/5 - 0s - loss: 0.0020 - accuracy: 1.0000\n",
      "Epoch 768/1000\n",
      "5/5 - 0s - loss: 0.0020 - accuracy: 1.0000\n",
      "Epoch 769/1000\n",
      "5/5 - 0s - loss: 0.0019 - accuracy: 1.0000\n",
      "Epoch 770/1000\n",
      "5/5 - 0s - loss: 0.0019 - accuracy: 1.0000\n",
      "Epoch 771/1000\n",
      "5/5 - 0s - loss: 0.0019 - accuracy: 1.0000\n",
      "Epoch 772/1000\n",
      "5/5 - 0s - loss: 0.0019 - accuracy: 1.0000\n",
      "Epoch 773/1000\n",
      "5/5 - 0s - loss: 0.0019 - accuracy: 1.0000\n",
      "Epoch 774/1000\n",
      "5/5 - 0s - loss: 0.0019 - accuracy: 1.0000\n",
      "Epoch 775/1000\n",
      "5/5 - 0s - loss: 0.0019 - accuracy: 1.0000\n",
      "Epoch 776/1000\n",
      "5/5 - 0s - loss: 0.0019 - accuracy: 1.0000\n",
      "Epoch 777/1000\n",
      "5/5 - 0s - loss: 0.0019 - accuracy: 1.0000\n",
      "Epoch 778/1000\n",
      "5/5 - 0s - loss: 0.0019 - accuracy: 1.0000\n",
      "Epoch 779/1000\n",
      "5/5 - 0s - loss: 0.0019 - accuracy: 1.0000\n",
      "Epoch 780/1000\n",
      "5/5 - 0s - loss: 0.0018 - accuracy: 1.0000\n",
      "Epoch 781/1000\n",
      "5/5 - 0s - loss: 0.0018 - accuracy: 1.0000\n",
      "Epoch 782/1000\n",
      "5/5 - 0s - loss: 0.0018 - accuracy: 1.0000\n",
      "Epoch 783/1000\n",
      "5/5 - 0s - loss: 0.0018 - accuracy: 1.0000\n",
      "Epoch 784/1000\n",
      "5/5 - 0s - loss: 0.0018 - accuracy: 1.0000\n",
      "Epoch 785/1000\n",
      "5/5 - 0s - loss: 0.0018 - accuracy: 1.0000\n",
      "Epoch 786/1000\n",
      "5/5 - 0s - loss: 0.0018 - accuracy: 1.0000\n",
      "Epoch 787/1000\n",
      "5/5 - 0s - loss: 0.0018 - accuracy: 1.0000\n",
      "Epoch 788/1000\n",
      "5/5 - 0s - loss: 0.0018 - accuracy: 1.0000\n",
      "Epoch 789/1000\n",
      "5/5 - 0s - loss: 0.0018 - accuracy: 1.0000\n",
      "Epoch 790/1000\n",
      "5/5 - 0s - loss: 0.0018 - accuracy: 1.0000\n",
      "Epoch 791/1000\n",
      "5/5 - 0s - loss: 0.0018 - accuracy: 1.0000\n",
      "Epoch 792/1000\n",
      "5/5 - 0s - loss: 0.0018 - accuracy: 1.0000\n",
      "Epoch 793/1000\n",
      "5/5 - 0s - loss: 0.0017 - accuracy: 1.0000\n",
      "Epoch 794/1000\n",
      "5/5 - 0s - loss: 0.0017 - accuracy: 1.0000\n",
      "Epoch 795/1000\n",
      "5/5 - 0s - loss: 0.0017 - accuracy: 1.0000\n",
      "Epoch 796/1000\n",
      "5/5 - 0s - loss: 0.0017 - accuracy: 1.0000\n",
      "Epoch 797/1000\n",
      "5/5 - 0s - loss: 0.0017 - accuracy: 1.0000\n",
      "Epoch 798/1000\n",
      "5/5 - 0s - loss: 0.0017 - accuracy: 1.0000\n",
      "Epoch 799/1000\n",
      "5/5 - 0s - loss: 0.0017 - accuracy: 1.0000\n",
      "Epoch 800/1000\n",
      "5/5 - 0s - loss: 0.0017 - accuracy: 1.0000\n",
      "Epoch 801/1000\n",
      "5/5 - 0s - loss: 0.0017 - accuracy: 1.0000\n",
      "Epoch 802/1000\n",
      "5/5 - 0s - loss: 0.0017 - accuracy: 1.0000\n",
      "Epoch 803/1000\n",
      "5/5 - 0s - loss: 0.0017 - accuracy: 1.0000\n",
      "Epoch 804/1000\n",
      "5/5 - 0s - loss: 0.0017 - accuracy: 1.0000\n",
      "Epoch 805/1000\n",
      "5/5 - 0s - loss: 0.0017 - accuracy: 1.0000\n",
      "Epoch 806/1000\n",
      "5/5 - 0s - loss: 0.0017 - accuracy: 1.0000\n",
      "Epoch 807/1000\n",
      "5/5 - 0s - loss: 0.0016 - accuracy: 1.0000\n",
      "Epoch 808/1000\n",
      "5/5 - 0s - loss: 0.0016 - accuracy: 1.0000\n",
      "Epoch 809/1000\n",
      "5/5 - 0s - loss: 0.0016 - accuracy: 1.0000\n",
      "Epoch 810/1000\n",
      "5/5 - 0s - loss: 0.0016 - accuracy: 1.0000\n",
      "Epoch 811/1000\n",
      "5/5 - 0s - loss: 0.0016 - accuracy: 1.0000\n",
      "Epoch 812/1000\n",
      "5/5 - 0s - loss: 0.0016 - accuracy: 1.0000\n",
      "Epoch 813/1000\n",
      "5/5 - 0s - loss: 0.0016 - accuracy: 1.0000\n",
      "Epoch 814/1000\n",
      "5/5 - 0s - loss: 0.0016 - accuracy: 1.0000\n",
      "Epoch 815/1000\n",
      "5/5 - 0s - loss: 0.0016 - accuracy: 1.0000\n",
      "Epoch 816/1000\n",
      "5/5 - 0s - loss: 0.0016 - accuracy: 1.0000\n",
      "Epoch 817/1000\n",
      "5/5 - 0s - loss: 0.0016 - accuracy: 1.0000\n",
      "Epoch 818/1000\n",
      "5/5 - 0s - loss: 0.0016 - accuracy: 1.0000\n",
      "Epoch 819/1000\n",
      "5/5 - 0s - loss: 0.0016 - accuracy: 1.0000\n",
      "Epoch 820/1000\n",
      "5/5 - 0s - loss: 0.0016 - accuracy: 1.0000\n",
      "Epoch 821/1000\n",
      "5/5 - 0s - loss: 0.0015 - accuracy: 1.0000\n",
      "Epoch 822/1000\n",
      "5/5 - 0s - loss: 0.0015 - accuracy: 1.0000\n",
      "Epoch 823/1000\n",
      "5/5 - 0s - loss: 0.0015 - accuracy: 1.0000\n",
      "Epoch 824/1000\n",
      "5/5 - 0s - loss: 0.0015 - accuracy: 1.0000\n",
      "Epoch 825/1000\n",
      "5/5 - 0s - loss: 0.0015 - accuracy: 1.0000\n",
      "Epoch 826/1000\n",
      "5/5 - 0s - loss: 0.0015 - accuracy: 1.0000\n",
      "Epoch 827/1000\n",
      "5/5 - 0s - loss: 0.0015 - accuracy: 1.0000\n",
      "Epoch 828/1000\n",
      "5/5 - 0s - loss: 0.0015 - accuracy: 1.0000\n",
      "Epoch 829/1000\n",
      "5/5 - 0s - loss: 0.0015 - accuracy: 1.0000\n",
      "Epoch 830/1000\n",
      "5/5 - 0s - loss: 0.0015 - accuracy: 1.0000\n",
      "Epoch 831/1000\n",
      "5/5 - 0s - loss: 0.0015 - accuracy: 1.0000\n",
      "Epoch 832/1000\n",
      "5/5 - 0s - loss: 0.0015 - accuracy: 1.0000\n",
      "Epoch 833/1000\n",
      "5/5 - 0s - loss: 0.0015 - accuracy: 1.0000\n",
      "Epoch 834/1000\n",
      "5/5 - 0s - loss: 0.0015 - accuracy: 1.0000\n",
      "Epoch 835/1000\n",
      "5/5 - 0s - loss: 0.0015 - accuracy: 1.0000\n",
      "Epoch 836/1000\n",
      "5/5 - 0s - loss: 0.0015 - accuracy: 1.0000\n",
      "Epoch 837/1000\n",
      "5/5 - 0s - loss: 0.0014 - accuracy: 1.0000\n",
      "Epoch 838/1000\n",
      "5/5 - 0s - loss: 0.0014 - accuracy: 1.0000\n",
      "Epoch 839/1000\n",
      "5/5 - 0s - loss: 0.0014 - accuracy: 1.0000\n",
      "Epoch 840/1000\n",
      "5/5 - 0s - loss: 0.0014 - accuracy: 1.0000\n",
      "Epoch 841/1000\n",
      "5/5 - 0s - loss: 0.0014 - accuracy: 1.0000\n",
      "Epoch 842/1000\n",
      "5/5 - 0s - loss: 0.0014 - accuracy: 1.0000\n",
      "Epoch 843/1000\n",
      "5/5 - 0s - loss: 0.0014 - accuracy: 1.0000\n",
      "Epoch 844/1000\n",
      "5/5 - 0s - loss: 0.0014 - accuracy: 1.0000\n",
      "Epoch 845/1000\n",
      "5/5 - 0s - loss: 0.0014 - accuracy: 1.0000\n",
      "Epoch 846/1000\n",
      "5/5 - 0s - loss: 0.0014 - accuracy: 1.0000\n",
      "Epoch 847/1000\n",
      "5/5 - 0s - loss: 0.0014 - accuracy: 1.0000\n",
      "Epoch 848/1000\n",
      "5/5 - 0s - loss: 0.0014 - accuracy: 1.0000\n",
      "Epoch 849/1000\n",
      "5/5 - 0s - loss: 0.0014 - accuracy: 1.0000\n",
      "Epoch 850/1000\n",
      "5/5 - 0s - loss: 0.0014 - accuracy: 1.0000\n",
      "Epoch 851/1000\n",
      "5/5 - 0s - loss: 0.0014 - accuracy: 1.0000\n",
      "Epoch 852/1000\n",
      "5/5 - 0s - loss: 0.0014 - accuracy: 1.0000\n",
      "Epoch 853/1000\n",
      "5/5 - 0s - loss: 0.0014 - accuracy: 1.0000\n",
      "Epoch 854/1000\n",
      "5/5 - 0s - loss: 0.0013 - accuracy: 1.0000\n"
     ]
    },
    {
     "name": "stdout",
     "output_type": "stream",
     "text": [
      "Epoch 855/1000\n",
      "5/5 - 0s - loss: 0.0013 - accuracy: 1.0000\n",
      "Epoch 856/1000\n",
      "5/5 - 0s - loss: 0.0013 - accuracy: 1.0000\n",
      "Epoch 857/1000\n",
      "5/5 - 0s - loss: 0.0013 - accuracy: 1.0000\n",
      "Epoch 858/1000\n",
      "5/5 - 0s - loss: 0.0013 - accuracy: 1.0000\n",
      "Epoch 859/1000\n",
      "5/5 - 0s - loss: 0.0013 - accuracy: 1.0000\n",
      "Epoch 860/1000\n",
      "5/5 - 0s - loss: 0.0013 - accuracy: 1.0000\n",
      "Epoch 861/1000\n",
      "5/5 - 0s - loss: 0.0013 - accuracy: 1.0000\n",
      "Epoch 862/1000\n",
      "5/5 - 0s - loss: 0.0013 - accuracy: 1.0000\n",
      "Epoch 863/1000\n",
      "5/5 - 0s - loss: 0.0013 - accuracy: 1.0000\n",
      "Epoch 864/1000\n",
      "5/5 - 0s - loss: 0.0013 - accuracy: 1.0000\n",
      "Epoch 865/1000\n",
      "5/5 - 0s - loss: 0.0013 - accuracy: 1.0000\n",
      "Epoch 866/1000\n",
      "5/5 - 0s - loss: 0.0013 - accuracy: 1.0000\n",
      "Epoch 867/1000\n",
      "5/5 - 0s - loss: 0.0013 - accuracy: 1.0000\n",
      "Epoch 868/1000\n",
      "5/5 - 0s - loss: 0.0013 - accuracy: 1.0000\n",
      "Epoch 869/1000\n",
      "5/5 - 0s - loss: 0.0013 - accuracy: 1.0000\n",
      "Epoch 870/1000\n",
      "5/5 - 0s - loss: 0.0013 - accuracy: 1.0000\n",
      "Epoch 871/1000\n",
      "5/5 - 0s - loss: 0.0013 - accuracy: 1.0000\n",
      "Epoch 872/1000\n",
      "5/5 - 0s - loss: 0.0013 - accuracy: 1.0000\n",
      "Epoch 873/1000\n",
      "5/5 - 0s - loss: 0.0012 - accuracy: 1.0000\n",
      "Epoch 874/1000\n",
      "5/5 - 0s - loss: 0.0012 - accuracy: 1.0000\n",
      "Epoch 875/1000\n",
      "5/5 - 0s - loss: 0.0012 - accuracy: 1.0000\n",
      "Epoch 876/1000\n",
      "5/5 - 0s - loss: 0.0012 - accuracy: 1.0000\n",
      "Epoch 877/1000\n",
      "5/5 - 0s - loss: 0.0012 - accuracy: 1.0000\n",
      "Epoch 878/1000\n",
      "5/5 - 0s - loss: 0.0012 - accuracy: 1.0000\n",
      "Epoch 879/1000\n",
      "5/5 - 0s - loss: 0.0012 - accuracy: 1.0000\n",
      "Epoch 880/1000\n",
      "5/5 - 0s - loss: 0.0012 - accuracy: 1.0000\n",
      "Epoch 881/1000\n",
      "5/5 - 0s - loss: 0.0012 - accuracy: 1.0000\n",
      "Epoch 882/1000\n",
      "5/5 - 0s - loss: 0.0012 - accuracy: 1.0000\n",
      "Epoch 883/1000\n",
      "5/5 - 0s - loss: 0.0012 - accuracy: 1.0000\n",
      "Epoch 884/1000\n",
      "5/5 - 0s - loss: 0.0012 - accuracy: 1.0000\n",
      "Epoch 885/1000\n",
      "5/5 - 0s - loss: 0.0012 - accuracy: 1.0000\n",
      "Epoch 886/1000\n",
      "5/5 - 0s - loss: 0.0012 - accuracy: 1.0000\n",
      "Epoch 887/1000\n",
      "5/5 - 0s - loss: 0.0012 - accuracy: 1.0000\n",
      "Epoch 888/1000\n",
      "5/5 - 0s - loss: 0.0012 - accuracy: 1.0000\n",
      "Epoch 889/1000\n",
      "5/5 - 0s - loss: 0.0012 - accuracy: 1.0000\n",
      "Epoch 890/1000\n",
      "5/5 - 0s - loss: 0.0012 - accuracy: 1.0000\n",
      "Epoch 891/1000\n",
      "5/5 - 0s - loss: 0.0012 - accuracy: 1.0000\n",
      "Epoch 892/1000\n",
      "5/5 - 0s - loss: 0.0012 - accuracy: 1.0000\n",
      "Epoch 893/1000\n",
      "5/5 - 0s - loss: 0.0011 - accuracy: 1.0000\n",
      "Epoch 894/1000\n",
      "5/5 - 0s - loss: 0.0011 - accuracy: 1.0000\n",
      "Epoch 895/1000\n",
      "5/5 - 0s - loss: 0.0011 - accuracy: 1.0000\n",
      "Epoch 896/1000\n",
      "5/5 - 0s - loss: 0.0011 - accuracy: 1.0000\n",
      "Epoch 897/1000\n",
      "5/5 - 0s - loss: 0.0011 - accuracy: 1.0000\n",
      "Epoch 898/1000\n",
      "5/5 - 0s - loss: 0.0011 - accuracy: 1.0000\n",
      "Epoch 899/1000\n",
      "5/5 - 0s - loss: 0.0011 - accuracy: 1.0000\n",
      "Epoch 900/1000\n",
      "5/5 - 0s - loss: 0.0011 - accuracy: 1.0000\n",
      "Epoch 901/1000\n",
      "5/5 - 0s - loss: 0.0011 - accuracy: 1.0000\n",
      "Epoch 902/1000\n",
      "5/5 - 0s - loss: 0.0011 - accuracy: 1.0000\n",
      "Epoch 903/1000\n",
      "5/5 - 0s - loss: 0.0011 - accuracy: 1.0000\n",
      "Epoch 904/1000\n",
      "5/5 - 0s - loss: 0.0011 - accuracy: 1.0000\n",
      "Epoch 905/1000\n",
      "5/5 - 0s - loss: 0.0011 - accuracy: 1.0000\n",
      "Epoch 906/1000\n",
      "5/5 - 0s - loss: 0.0011 - accuracy: 1.0000\n",
      "Epoch 907/1000\n",
      "5/5 - 0s - loss: 0.0011 - accuracy: 1.0000\n",
      "Epoch 908/1000\n",
      "5/5 - 0s - loss: 0.0011 - accuracy: 1.0000\n",
      "Epoch 909/1000\n",
      "5/5 - 0s - loss: 0.0011 - accuracy: 1.0000\n",
      "Epoch 910/1000\n",
      "5/5 - 0s - loss: 0.0011 - accuracy: 1.0000\n",
      "Epoch 911/1000\n",
      "5/5 - 0s - loss: 0.0011 - accuracy: 1.0000\n",
      "Epoch 912/1000\n",
      "5/5 - 0s - loss: 0.0011 - accuracy: 1.0000\n",
      "Epoch 913/1000\n",
      "5/5 - 0s - loss: 0.0011 - accuracy: 1.0000\n",
      "Epoch 914/1000\n",
      "5/5 - 0s - loss: 0.0011 - accuracy: 1.0000\n",
      "Epoch 915/1000\n",
      "5/5 - 0s - loss: 0.0011 - accuracy: 1.0000\n",
      "Epoch 916/1000\n",
      "5/5 - 0s - loss: 0.0010 - accuracy: 1.0000\n",
      "Epoch 917/1000\n",
      "5/5 - 0s - loss: 0.0010 - accuracy: 1.0000\n",
      "Epoch 918/1000\n",
      "5/5 - 0s - loss: 0.0010 - accuracy: 1.0000\n",
      "Epoch 919/1000\n",
      "5/5 - 0s - loss: 0.0010 - accuracy: 1.0000\n",
      "Epoch 920/1000\n",
      "5/5 - 0s - loss: 0.0010 - accuracy: 1.0000\n",
      "Epoch 921/1000\n",
      "5/5 - 0s - loss: 0.0010 - accuracy: 1.0000\n",
      "Epoch 922/1000\n",
      "5/5 - 0s - loss: 0.0010 - accuracy: 1.0000\n",
      "Epoch 923/1000\n",
      "5/5 - 0s - loss: 0.0010 - accuracy: 1.0000\n",
      "Epoch 924/1000\n",
      "5/5 - 0s - loss: 0.0010 - accuracy: 1.0000\n",
      "Epoch 925/1000\n",
      "5/5 - 0s - loss: 0.0010 - accuracy: 1.0000\n",
      "Epoch 926/1000\n",
      "5/5 - 0s - loss: 0.0010 - accuracy: 1.0000\n",
      "Epoch 927/1000\n",
      "5/5 - 0s - loss: 0.0010 - accuracy: 1.0000\n",
      "Epoch 928/1000\n",
      "5/5 - 0s - loss: 9.9811e-04 - accuracy: 1.0000\n",
      "Epoch 929/1000\n",
      "5/5 - 0s - loss: 9.9407e-04 - accuracy: 1.0000\n",
      "Epoch 930/1000\n",
      "5/5 - 0s - loss: 9.9018e-04 - accuracy: 1.0000\n",
      "Epoch 931/1000\n",
      "5/5 - 0s - loss: 9.8618e-04 - accuracy: 1.0000\n",
      "Epoch 932/1000\n",
      "5/5 - 0s - loss: 9.8251e-04 - accuracy: 1.0000\n",
      "Epoch 933/1000\n",
      "5/5 - 0s - loss: 9.7889e-04 - accuracy: 1.0000\n",
      "Epoch 934/1000\n",
      "5/5 - 0s - loss: 9.7494e-04 - accuracy: 1.0000\n",
      "Epoch 935/1000\n",
      "5/5 - 0s - loss: 9.7181e-04 - accuracy: 1.0000\n",
      "Epoch 936/1000\n",
      "5/5 - 0s - loss: 9.6784e-04 - accuracy: 1.0000\n",
      "Epoch 937/1000\n",
      "5/5 - 0s - loss: 9.6374e-04 - accuracy: 1.0000\n",
      "Epoch 938/1000\n",
      "5/5 - 0s - loss: 9.6003e-04 - accuracy: 1.0000\n",
      "Epoch 939/1000\n",
      "5/5 - 0s - loss: 9.5689e-04 - accuracy: 1.0000\n",
      "Epoch 940/1000\n",
      "5/5 - 0s - loss: 9.5314e-04 - accuracy: 1.0000\n",
      "Epoch 941/1000\n",
      "5/5 - 0s - loss: 9.4969e-04 - accuracy: 1.0000\n",
      "Epoch 942/1000\n",
      "5/5 - 0s - loss: 9.4585e-04 - accuracy: 1.0000\n",
      "Epoch 943/1000\n",
      "5/5 - 0s - loss: 9.4130e-04 - accuracy: 1.0000\n",
      "Epoch 944/1000\n",
      "5/5 - 0s - loss: 9.3859e-04 - accuracy: 1.0000\n",
      "Epoch 945/1000\n",
      "5/5 - 0s - loss: 9.3448e-04 - accuracy: 1.0000\n",
      "Epoch 946/1000\n",
      "5/5 - 0s - loss: 9.3135e-04 - accuracy: 1.0000\n",
      "Epoch 947/1000\n",
      "5/5 - 0s - loss: 9.2698e-04 - accuracy: 1.0000\n",
      "Epoch 948/1000\n",
      "5/5 - 0s - loss: 9.2356e-04 - accuracy: 1.0000\n",
      "Epoch 949/1000\n",
      "5/5 - 0s - loss: 9.2033e-04 - accuracy: 1.0000\n",
      "Epoch 950/1000\n",
      "5/5 - 0s - loss: 9.1639e-04 - accuracy: 1.0000\n",
      "Epoch 951/1000\n",
      "5/5 - 0s - loss: 9.1329e-04 - accuracy: 1.0000\n",
      "Epoch 952/1000\n",
      "5/5 - 0s - loss: 9.0968e-04 - accuracy: 1.0000\n",
      "Epoch 953/1000\n",
      "5/5 - 0s - loss: 9.0582e-04 - accuracy: 1.0000\n",
      "Epoch 954/1000\n",
      "5/5 - 0s - loss: 9.0286e-04 - accuracy: 1.0000\n",
      "Epoch 955/1000\n",
      "5/5 - 0s - loss: 8.9928e-04 - accuracy: 1.0000\n",
      "Epoch 956/1000\n",
      "5/5 - 0s - loss: 8.9583e-04 - accuracy: 1.0000\n",
      "Epoch 957/1000\n",
      "5/5 - 0s - loss: 8.9177e-04 - accuracy: 1.0000\n",
      "Epoch 958/1000\n",
      "5/5 - 0s - loss: 8.8978e-04 - accuracy: 1.0000\n",
      "Epoch 959/1000\n",
      "5/5 - 0s - loss: 8.8619e-04 - accuracy: 1.0000\n",
      "Epoch 960/1000\n",
      "5/5 - 0s - loss: 8.8263e-04 - accuracy: 1.0000\n",
      "Epoch 961/1000\n",
      "5/5 - 0s - loss: 8.7806e-04 - accuracy: 1.0000\n",
      "Epoch 962/1000\n",
      "5/5 - 0s - loss: 8.7572e-04 - accuracy: 1.0000\n",
      "Epoch 963/1000\n",
      "5/5 - 0s - loss: 8.7355e-04 - accuracy: 1.0000\n",
      "Epoch 964/1000\n",
      "5/5 - 0s - loss: 8.6948e-04 - accuracy: 1.0000\n",
      "Epoch 965/1000\n",
      "5/5 - 0s - loss: 8.6653e-04 - accuracy: 1.0000\n",
      "Epoch 966/1000\n",
      "5/5 - 0s - loss: 8.6210e-04 - accuracy: 1.0000\n",
      "Epoch 967/1000\n",
      "5/5 - 0s - loss: 8.5853e-04 - accuracy: 1.0000\n",
      "Epoch 968/1000\n",
      "5/5 - 0s - loss: 8.5494e-04 - accuracy: 1.0000\n",
      "Epoch 969/1000\n",
      "5/5 - 0s - loss: 8.5183e-04 - accuracy: 1.0000\n",
      "Epoch 970/1000\n",
      "5/5 - 0s - loss: 8.4926e-04 - accuracy: 1.0000\n",
      "Epoch 971/1000\n",
      "5/5 - 0s - loss: 8.4559e-04 - accuracy: 1.0000\n",
      "Epoch 972/1000\n",
      "5/5 - 0s - loss: 8.4288e-04 - accuracy: 1.0000\n",
      "Epoch 973/1000\n",
      "5/5 - 0s - loss: 8.3976e-04 - accuracy: 1.0000\n",
      "Epoch 974/1000\n",
      "5/5 - 0s - loss: 8.3681e-04 - accuracy: 1.0000\n",
      "Epoch 975/1000\n",
      "5/5 - 0s - loss: 8.3290e-04 - accuracy: 1.0000\n",
      "Epoch 976/1000\n",
      "5/5 - 0s - loss: 8.3007e-04 - accuracy: 1.0000\n",
      "Epoch 977/1000\n",
      "5/5 - 0s - loss: 8.2628e-04 - accuracy: 1.0000\n",
      "Epoch 978/1000\n",
      "5/5 - 0s - loss: 8.2335e-04 - accuracy: 1.0000\n",
      "Epoch 979/1000\n",
      "5/5 - 0s - loss: 8.2051e-04 - accuracy: 1.0000\n",
      "Epoch 980/1000\n",
      "5/5 - 0s - loss: 8.1730e-04 - accuracy: 1.0000\n",
      "Epoch 981/1000\n",
      "5/5 - 0s - loss: 8.1413e-04 - accuracy: 1.0000\n",
      "Epoch 982/1000\n",
      "5/5 - 0s - loss: 8.1153e-04 - accuracy: 1.0000\n",
      "Epoch 983/1000\n",
      "5/5 - 0s - loss: 8.0814e-04 - accuracy: 1.0000\n",
      "Epoch 984/1000\n",
      "5/5 - 0s - loss: 8.0514e-04 - accuracy: 1.0000\n",
      "Epoch 985/1000\n",
      "5/5 - 0s - loss: 8.0176e-04 - accuracy: 1.0000\n",
      "Epoch 986/1000\n",
      "5/5 - 0s - loss: 7.9896e-04 - accuracy: 1.0000\n",
      "Epoch 987/1000\n",
      "5/5 - 0s - loss: 7.9571e-04 - accuracy: 1.0000\n",
      "Epoch 988/1000\n",
      "5/5 - 0s - loss: 7.9279e-04 - accuracy: 1.0000\n",
      "Epoch 989/1000\n",
      "5/5 - 0s - loss: 7.8968e-04 - accuracy: 1.0000\n",
      "Epoch 990/1000\n",
      "5/5 - 0s - loss: 7.8666e-04 - accuracy: 1.0000\n",
      "Epoch 991/1000\n",
      "5/5 - 0s - loss: 7.8444e-04 - accuracy: 1.0000\n"
     ]
    },
    {
     "name": "stdout",
     "output_type": "stream",
     "text": [
      "Epoch 992/1000\n",
      "5/5 - 0s - loss: 7.8109e-04 - accuracy: 1.0000\n",
      "Epoch 993/1000\n",
      "5/5 - 0s - loss: 7.7838e-04 - accuracy: 1.0000\n",
      "Epoch 994/1000\n",
      "5/5 - 0s - loss: 7.7545e-04 - accuracy: 1.0000\n",
      "Epoch 995/1000\n",
      "5/5 - 0s - loss: 7.7284e-04 - accuracy: 1.0000\n",
      "Epoch 996/1000\n",
      "5/5 - 0s - loss: 7.6947e-04 - accuracy: 1.0000\n",
      "Epoch 997/1000\n",
      "5/5 - 0s - loss: 7.6688e-04 - accuracy: 1.0000\n",
      "Epoch 998/1000\n",
      "5/5 - 0s - loss: 7.6381e-04 - accuracy: 1.0000\n",
      "Epoch 999/1000\n",
      "5/5 - 0s - loss: 7.6115e-04 - accuracy: 1.0000\n",
      "Epoch 1000/1000\n",
      "5/5 - 0s - loss: 7.5812e-04 - accuracy: 1.0000\n"
     ]
    },
    {
     "data": {
      "text/plain": [
       "<tensorflow.python.keras.callbacks.History at 0x1ac2d4fa108>"
      ]
     },
     "execution_count": 69,
     "metadata": {},
     "output_type": "execute_result"
    }
   ],
   "source": [
    "deep_model.compile(optimizer='adam',\n",
    "                   loss='categorical_crossentropy',\n",
    "                   metrics=['accuracy'])\n",
    "\n",
    "deep_model.fit(\n",
    "    X_train_scaled,\n",
    "    y_train_categorical,\n",
    "    epochs=1000,\n",
    "    shuffle=True,\n",
    "    verbose=2\n",
    ")"
   ]
  },
  {
   "cell_type": "code",
   "execution_count": 70,
   "metadata": {
    "slideshow": {
     "slide_type": "fragment"
    }
   },
   "outputs": [
    {
     "name": "stdout",
     "output_type": "stream",
     "text": [
      "2/2 - 0s - loss: 0.2502 - accuracy: 0.9000\n",
      "Normal Neural Network - Loss: 0.25021079182624817, Accuracy: 0.8999999761581421\n"
     ]
    }
   ],
   "source": [
    "model_loss, model_accuracy = model.evaluate(\n",
    "    X_test_scaled, y_test_categorical, verbose=2)\n",
    "print(\n",
    "    f\"Normal Neural Network - Loss: {model_loss}, Accuracy: {model_accuracy}\")"
   ]
  },
  {
   "cell_type": "code",
   "execution_count": 71,
   "metadata": {
    "slideshow": {
     "slide_type": "fragment"
    }
   },
   "outputs": [
    {
     "name": "stdout",
     "output_type": "stream",
     "text": [
      "2/2 - 0s - loss: 4.6420e-04 - accuracy: 1.0000\n",
      "Deep Neural Network - Loss: 0.0004641982086468488, Accuracy: 1.0\n"
     ]
    }
   ],
   "source": [
    "model_loss, model_accuracy = deep_model.evaluate(\n",
    "    X_test_scaled, y_test_categorical, verbose=2)\n",
    "print(f\"Deep Neural Network - Loss: {model_loss}, Accuracy: {model_accuracy}\")"
   ]
  },
  {
   "cell_type": "markdown",
   "metadata": {},
   "source": [
    "# Create a Train Test Split"
   ]
  },
  {
   "cell_type": "code",
   "execution_count": 1,
   "metadata": {},
   "outputs": [],
   "source": [
    "import pandas as pd\n",
    "from sklearn import preprocessing\n",
    "import numpy as np"
   ]
  },
  {
   "cell_type": "code",
   "execution_count": 2,
   "metadata": {},
   "outputs": [
    {
     "data": {
      "text/html": [
       "<div>\n",
       "<style scoped>\n",
       "    .dataframe tbody tr th:only-of-type {\n",
       "        vertical-align: middle;\n",
       "    }\n",
       "\n",
       "    .dataframe tbody tr th {\n",
       "        vertical-align: top;\n",
       "    }\n",
       "\n",
       "    .dataframe thead th {\n",
       "        text-align: right;\n",
       "    }\n",
       "</style>\n",
       "<table border=\"1\" class=\"dataframe\">\n",
       "  <thead>\n",
       "    <tr style=\"text-align: right;\">\n",
       "      <th></th>\n",
       "      <th>Id</th>\n",
       "      <th>SaleCondition</th>\n",
       "      <th>LotArea</th>\n",
       "      <th>OverallQual</th>\n",
       "      <th>OverallCond</th>\n",
       "      <th>YearRemodAdd</th>\n",
       "      <th>MasVnrArea</th>\n",
       "      <th>GrLivArea</th>\n",
       "      <th>BsmtFullBath</th>\n",
       "      <th>BsmtHalfBath</th>\n",
       "      <th>FullBath</th>\n",
       "      <th>HalfBath</th>\n",
       "      <th>BedroomAbvGr</th>\n",
       "      <th>Fireplaces</th>\n",
       "      <th>GarageArea</th>\n",
       "      <th>SalePrice</th>\n",
       "    </tr>\n",
       "  </thead>\n",
       "  <tbody>\n",
       "    <tr>\n",
       "      <td>0</td>\n",
       "      <td>1</td>\n",
       "      <td>Normal</td>\n",
       "      <td>8450</td>\n",
       "      <td>7</td>\n",
       "      <td>5</td>\n",
       "      <td>2003</td>\n",
       "      <td>196.0</td>\n",
       "      <td>1710</td>\n",
       "      <td>1</td>\n",
       "      <td>0</td>\n",
       "      <td>2</td>\n",
       "      <td>1</td>\n",
       "      <td>3</td>\n",
       "      <td>0</td>\n",
       "      <td>548</td>\n",
       "      <td>208500</td>\n",
       "    </tr>\n",
       "    <tr>\n",
       "      <td>1</td>\n",
       "      <td>2</td>\n",
       "      <td>Normal</td>\n",
       "      <td>9600</td>\n",
       "      <td>6</td>\n",
       "      <td>8</td>\n",
       "      <td>1976</td>\n",
       "      <td>0.0</td>\n",
       "      <td>1262</td>\n",
       "      <td>0</td>\n",
       "      <td>1</td>\n",
       "      <td>2</td>\n",
       "      <td>0</td>\n",
       "      <td>3</td>\n",
       "      <td>1</td>\n",
       "      <td>460</td>\n",
       "      <td>181500</td>\n",
       "    </tr>\n",
       "    <tr>\n",
       "      <td>2</td>\n",
       "      <td>3</td>\n",
       "      <td>Normal</td>\n",
       "      <td>11250</td>\n",
       "      <td>7</td>\n",
       "      <td>5</td>\n",
       "      <td>2002</td>\n",
       "      <td>162.0</td>\n",
       "      <td>1786</td>\n",
       "      <td>1</td>\n",
       "      <td>0</td>\n",
       "      <td>2</td>\n",
       "      <td>1</td>\n",
       "      <td>3</td>\n",
       "      <td>1</td>\n",
       "      <td>608</td>\n",
       "      <td>223500</td>\n",
       "    </tr>\n",
       "    <tr>\n",
       "      <td>3</td>\n",
       "      <td>4</td>\n",
       "      <td>Abnorml</td>\n",
       "      <td>9550</td>\n",
       "      <td>7</td>\n",
       "      <td>5</td>\n",
       "      <td>1970</td>\n",
       "      <td>0.0</td>\n",
       "      <td>1717</td>\n",
       "      <td>1</td>\n",
       "      <td>0</td>\n",
       "      <td>1</td>\n",
       "      <td>0</td>\n",
       "      <td>3</td>\n",
       "      <td>1</td>\n",
       "      <td>642</td>\n",
       "      <td>140000</td>\n",
       "    </tr>\n",
       "    <tr>\n",
       "      <td>4</td>\n",
       "      <td>5</td>\n",
       "      <td>Normal</td>\n",
       "      <td>14260</td>\n",
       "      <td>8</td>\n",
       "      <td>5</td>\n",
       "      <td>2000</td>\n",
       "      <td>350.0</td>\n",
       "      <td>2198</td>\n",
       "      <td>1</td>\n",
       "      <td>0</td>\n",
       "      <td>2</td>\n",
       "      <td>1</td>\n",
       "      <td>4</td>\n",
       "      <td>1</td>\n",
       "      <td>836</td>\n",
       "      <td>250000</td>\n",
       "    </tr>\n",
       "  </tbody>\n",
       "</table>\n",
       "</div>"
      ],
      "text/plain": [
       "   Id SaleCondition  LotArea  OverallQual  OverallCond  YearRemodAdd  \\\n",
       "0   1        Normal     8450            7            5          2003   \n",
       "1   2        Normal     9600            6            8          1976   \n",
       "2   3        Normal    11250            7            5          2002   \n",
       "3   4       Abnorml     9550            7            5          1970   \n",
       "4   5        Normal    14260            8            5          2000   \n",
       "\n",
       "   MasVnrArea  GrLivArea  BsmtFullBath  BsmtHalfBath  FullBath  HalfBath  \\\n",
       "0       196.0       1710             1             0         2         1   \n",
       "1         0.0       1262             0             1         2         0   \n",
       "2       162.0       1786             1             0         2         1   \n",
       "3         0.0       1717             1             0         1         0   \n",
       "4       350.0       2198             1             0         2         1   \n",
       "\n",
       "   BedroomAbvGr  Fireplaces  GarageArea  SalePrice  \n",
       "0             3           0         548     208500  \n",
       "1             3           1         460     181500  \n",
       "2             3           1         608     223500  \n",
       "3             3           1         642     140000  \n",
       "4             4           1         836     250000  "
      ]
     },
     "execution_count": 2,
     "metadata": {},
     "output_type": "execute_result"
    }
   ],
   "source": [
    "home_prices = pd.read_csv(\"Grid_search1_condition.csv\")\n",
    "home_prices = home_prices.dropna(axis='columns', how='all')\n",
    "home_prices = home_prices.dropna()\n",
    "home_prices.head()"
   ]
  },
  {
   "cell_type": "code",
   "execution_count": 3,
   "metadata": {},
   "outputs": [],
   "source": [
    "# Using SaleCondition for y values"
   ]
  },
  {
   "cell_type": "code",
   "execution_count": 4,
   "metadata": {},
   "outputs": [],
   "source": [
    "y = home_prices[\"SaleCondition\"]\n",
    "X = home_prices.drop(columns=[\"SaleCondition\"])"
   ]
  },
  {
   "cell_type": "code",
   "execution_count": 5,
   "metadata": {},
   "outputs": [],
   "source": [
    "from sklearn.model_selection import train_test_split\n",
    "from sklearn.preprocessing import LabelEncoder, StandardScaler"
   ]
  },
  {
   "cell_type": "code",
   "execution_count": 6,
   "metadata": {},
   "outputs": [],
   "source": [
    "X_train, X_test, y_train, y_test = train_test_split(\n",
    "    X, y, random_state=1, stratify=y)"
   ]
  },
  {
   "cell_type": "code",
   "execution_count": 7,
   "metadata": {},
   "outputs": [
    {
     "data": {
      "text/html": [
       "<div>\n",
       "<style scoped>\n",
       "    .dataframe tbody tr th:only-of-type {\n",
       "        vertical-align: middle;\n",
       "    }\n",
       "\n",
       "    .dataframe tbody tr th {\n",
       "        vertical-align: top;\n",
       "    }\n",
       "\n",
       "    .dataframe thead th {\n",
       "        text-align: right;\n",
       "    }\n",
       "</style>\n",
       "<table border=\"1\" class=\"dataframe\">\n",
       "  <thead>\n",
       "    <tr style=\"text-align: right;\">\n",
       "      <th></th>\n",
       "      <th>Id</th>\n",
       "      <th>LotArea</th>\n",
       "      <th>OverallQual</th>\n",
       "      <th>OverallCond</th>\n",
       "      <th>YearRemodAdd</th>\n",
       "      <th>MasVnrArea</th>\n",
       "      <th>GrLivArea</th>\n",
       "      <th>BsmtFullBath</th>\n",
       "      <th>BsmtHalfBath</th>\n",
       "      <th>FullBath</th>\n",
       "      <th>HalfBath</th>\n",
       "      <th>BedroomAbvGr</th>\n",
       "      <th>Fireplaces</th>\n",
       "      <th>GarageArea</th>\n",
       "      <th>SalePrice</th>\n",
       "    </tr>\n",
       "  </thead>\n",
       "  <tbody>\n",
       "    <tr>\n",
       "      <td>1386</td>\n",
       "      <td>1387</td>\n",
       "      <td>16692</td>\n",
       "      <td>7</td>\n",
       "      <td>5</td>\n",
       "      <td>1978</td>\n",
       "      <td>184.0</td>\n",
       "      <td>2784</td>\n",
       "      <td>1</td>\n",
       "      <td>0</td>\n",
       "      <td>3</td>\n",
       "      <td>1</td>\n",
       "      <td>5</td>\n",
       "      <td>2</td>\n",
       "      <td>564</td>\n",
       "      <td>250000</td>\n",
       "    </tr>\n",
       "    <tr>\n",
       "      <td>875</td>\n",
       "      <td>876</td>\n",
       "      <td>9000</td>\n",
       "      <td>8</td>\n",
       "      <td>5</td>\n",
       "      <td>2007</td>\n",
       "      <td>0.0</td>\n",
       "      <td>2610</td>\n",
       "      <td>0</td>\n",
       "      <td>0</td>\n",
       "      <td>2</td>\n",
       "      <td>1</td>\n",
       "      <td>4</td>\n",
       "      <td>1</td>\n",
       "      <td>550</td>\n",
       "      <td>303477</td>\n",
       "    </tr>\n",
       "    <tr>\n",
       "      <td>629</td>\n",
       "      <td>630</td>\n",
       "      <td>9020</td>\n",
       "      <td>6</td>\n",
       "      <td>5</td>\n",
       "      <td>1964</td>\n",
       "      <td>259.0</td>\n",
       "      <td>1350</td>\n",
       "      <td>1</td>\n",
       "      <td>0</td>\n",
       "      <td>1</td>\n",
       "      <td>1</td>\n",
       "      <td>3</td>\n",
       "      <td>0</td>\n",
       "      <td>520</td>\n",
       "      <td>168500</td>\n",
       "    </tr>\n",
       "    <tr>\n",
       "      <td>391</td>\n",
       "      <td>392</td>\n",
       "      <td>12209</td>\n",
       "      <td>6</td>\n",
       "      <td>5</td>\n",
       "      <td>2002</td>\n",
       "      <td>0.0</td>\n",
       "      <td>1961</td>\n",
       "      <td>1</td>\n",
       "      <td>0</td>\n",
       "      <td>2</td>\n",
       "      <td>1</td>\n",
       "      <td>3</td>\n",
       "      <td>1</td>\n",
       "      <td>560</td>\n",
       "      <td>215000</td>\n",
       "    </tr>\n",
       "    <tr>\n",
       "      <td>1216</td>\n",
       "      <td>1217</td>\n",
       "      <td>8930</td>\n",
       "      <td>6</td>\n",
       "      <td>5</td>\n",
       "      <td>1978</td>\n",
       "      <td>0.0</td>\n",
       "      <td>1902</td>\n",
       "      <td>0</td>\n",
       "      <td>0</td>\n",
       "      <td>2</td>\n",
       "      <td>0</td>\n",
       "      <td>4</td>\n",
       "      <td>0</td>\n",
       "      <td>539</td>\n",
       "      <td>112000</td>\n",
       "    </tr>\n",
       "  </tbody>\n",
       "</table>\n",
       "</div>"
      ],
      "text/plain": [
       "        Id  LotArea  OverallQual  OverallCond  YearRemodAdd  MasVnrArea  \\\n",
       "1386  1387    16692            7            5          1978       184.0   \n",
       "875    876     9000            8            5          2007         0.0   \n",
       "629    630     9020            6            5          1964       259.0   \n",
       "391    392    12209            6            5          2002         0.0   \n",
       "1216  1217     8930            6            5          1978         0.0   \n",
       "\n",
       "      GrLivArea  BsmtFullBath  BsmtHalfBath  FullBath  HalfBath  BedroomAbvGr  \\\n",
       "1386       2784             1             0         3         1             5   \n",
       "875        2610             0             0         2         1             4   \n",
       "629        1350             1             0         1         1             3   \n",
       "391        1961             1             0         2         1             3   \n",
       "1216       1902             0             0         2         0             4   \n",
       "\n",
       "      Fireplaces  GarageArea  SalePrice  \n",
       "1386           2         564     250000  \n",
       "875            1         550     303477  \n",
       "629            0         520     168500  \n",
       "391            1         560     215000  \n",
       "1216           0         539     112000  "
      ]
     },
     "execution_count": 7,
     "metadata": {},
     "output_type": "execute_result"
    }
   ],
   "source": [
    "X_train.head()"
   ]
  },
  {
   "cell_type": "code",
   "execution_count": 8,
   "metadata": {},
   "outputs": [
    {
     "data": {
      "text/plain": [
       "(1089, 15)"
      ]
     },
     "execution_count": 8,
     "metadata": {},
     "output_type": "execute_result"
    }
   ],
   "source": [
    "X_train.shape"
   ]
  },
  {
   "cell_type": "code",
   "execution_count": 9,
   "metadata": {},
   "outputs": [
    {
     "data": {
      "text/plain": [
       "(1089,)"
      ]
     },
     "execution_count": 9,
     "metadata": {},
     "output_type": "execute_result"
    }
   ],
   "source": [
    "y_train.shape"
   ]
  },
  {
   "cell_type": "markdown",
   "metadata": {},
   "source": [
    "# Pre-processing"
   ]
  },
  {
   "cell_type": "code",
   "execution_count": 10,
   "metadata": {},
   "outputs": [],
   "source": [
    "# Create a StandardScaler model and fit it to the training data\n",
    "from sklearn.preprocessing import MinMaxScaler\n",
    "X_scaler = MinMaxScaler().fit(X_train)"
   ]
  },
  {
   "cell_type": "code",
   "execution_count": 11,
   "metadata": {},
   "outputs": [],
   "source": [
    "# Transform the training and testing data using the X_scaler\n",
    "X_train_scaled = X_scaler.transform(X_train)"
   ]
  },
  {
   "cell_type": "code",
   "execution_count": 12,
   "metadata": {},
   "outputs": [],
   "source": [
    "X_test_scaled = X_scaler.transform(X_test)"
   ]
  },
  {
   "cell_type": "markdown",
   "metadata": {},
   "source": [
    "# Train the Model"
   ]
  },
  {
   "cell_type": "code",
   "execution_count": 13,
   "metadata": {},
   "outputs": [
    {
     "name": "stderr",
     "output_type": "stream",
     "text": [
      "C:\\Users\\sanak\\Anaconda3\\lib\\site-packages\\sklearn\\linear_model\\logistic.py:432: FutureWarning: Default solver will be changed to 'lbfgs' in 0.22. Specify a solver to silence this warning.\n",
      "  FutureWarning)\n",
      "C:\\Users\\sanak\\Anaconda3\\lib\\site-packages\\sklearn\\linear_model\\logistic.py:469: FutureWarning: Default multi_class will be changed to 'auto' in 0.22. Specify the multi_class option to silence this warning.\n",
      "  \"this warning.\", FutureWarning)\n"
     ]
    },
    {
     "data": {
      "text/plain": [
       "LogisticRegression(C=1.0, class_weight=None, dual=False, fit_intercept=True,\n",
       "                   intercept_scaling=1, l1_ratio=None, max_iter=100,\n",
       "                   multi_class='warn', n_jobs=None, penalty='l2',\n",
       "                   random_state=None, solver='warn', tol=0.0001, verbose=0,\n",
       "                   warm_start=False)"
      ]
     },
     "execution_count": 13,
     "metadata": {},
     "output_type": "execute_result"
    }
   ],
   "source": [
    "from sklearn.linear_model import LogisticRegression\n",
    "model = LogisticRegression()\n",
    "model.fit(X_train, y_train)"
   ]
  },
  {
   "cell_type": "code",
   "execution_count": 14,
   "metadata": {},
   "outputs": [
    {
     "name": "stdout",
     "output_type": "stream",
     "text": [
      "Training Data Score: 0.8282828282828283\n",
      "Testing Data Score: 0.8264462809917356\n"
     ]
    }
   ],
   "source": [
    "print(f\"Training Data Score: {model.score(X_train, y_train)}\")\n",
    "print(f\"Testing Data Score: {model.score(X_test, y_test)}\")"
   ]
  },
  {
   "cell_type": "code",
   "execution_count": 15,
   "metadata": {},
   "outputs": [
    {
     "name": "stderr",
     "output_type": "stream",
     "text": [
      "C:\\Users\\sanak\\Anaconda3\\lib\\site-packages\\sklearn\\linear_model\\logistic.py:432: FutureWarning: Default solver will be changed to 'lbfgs' in 0.22. Specify a solver to silence this warning.\n",
      "  FutureWarning)\n",
      "C:\\Users\\sanak\\Anaconda3\\lib\\site-packages\\sklearn\\linear_model\\logistic.py:469: FutureWarning: Default multi_class will be changed to 'auto' in 0.22. Specify the multi_class option to silence this warning.\n",
      "  \"this warning.\", FutureWarning)\n"
     ]
    },
    {
     "data": {
      "text/plain": [
       "LogisticRegression(C=1.0, class_weight=None, dual=False, fit_intercept=True,\n",
       "                   intercept_scaling=1, l1_ratio=None, max_iter=100,\n",
       "                   multi_class='warn', n_jobs=None, penalty='l2',\n",
       "                   random_state=None, solver='warn', tol=0.0001, verbose=0,\n",
       "                   warm_start=False)"
      ]
     },
     "execution_count": 15,
     "metadata": {},
     "output_type": "execute_result"
    }
   ],
   "source": [
    "from sklearn.linear_model import LogisticRegression\n",
    "model2 = LogisticRegression()\n",
    "model2.fit(X_train_scaled, y_train)"
   ]
  },
  {
   "cell_type": "code",
   "execution_count": 16,
   "metadata": {},
   "outputs": [
    {
     "name": "stdout",
     "output_type": "stream",
     "text": [
      "Training Data Score: 0.8236914600550964\n",
      "Testing Data Score: 0.8264462809917356\n"
     ]
    }
   ],
   "source": [
    "print(f\"Training Data Score: {model2.score(X_train_scaled, y_train)}\")\n",
    "print(f\"Testing Data Score: {model2.score(X_test_scaled, y_test)}\")"
   ]
  },
  {
   "cell_type": "markdown",
   "metadata": {},
   "source": [
    "# Hyperparameter Tuning"
   ]
  },
  {
   "cell_type": "code",
   "execution_count": 17,
   "metadata": {},
   "outputs": [],
   "source": [
    "# Create the GridSearchCV model\n",
    "from sklearn.model_selection import GridSearchCV \n",
    "param_grid = {'C': [1, 5, 10],\n",
    "              'max_iter': [500, 1000, 5000],\n",
    "              'penalty': [\"l1\", \"l2\"]}\n",
    "grid = GridSearchCV(model, param_grid, verbose=3)"
   ]
  },
  {
   "cell_type": "code",
   "execution_count": 18,
   "metadata": {},
   "outputs": [
    {
     "name": "stderr",
     "output_type": "stream",
     "text": [
      "C:\\Users\\sanak\\Anaconda3\\lib\\site-packages\\sklearn\\model_selection\\_split.py:1978: FutureWarning: The default value of cv will change from 3 to 5 in version 0.22. Specify it explicitly to silence this warning.\n",
      "  warnings.warn(CV_WARNING, FutureWarning)\n",
      "[Parallel(n_jobs=1)]: Using backend SequentialBackend with 1 concurrent workers.\n",
      "C:\\Users\\sanak\\Anaconda3\\lib\\site-packages\\sklearn\\linear_model\\logistic.py:432: FutureWarning: Default solver will be changed to 'lbfgs' in 0.22. Specify a solver to silence this warning.\n",
      "  FutureWarning)\n",
      "C:\\Users\\sanak\\Anaconda3\\lib\\site-packages\\sklearn\\linear_model\\logistic.py:469: FutureWarning: Default multi_class will be changed to 'auto' in 0.22. Specify the multi_class option to silence this warning.\n",
      "  \"this warning.\", FutureWarning)\n",
      "[Parallel(n_jobs=1)]: Done   1 out of   1 | elapsed:    0.0s remaining:    0.0s\n",
      "C:\\Users\\sanak\\Anaconda3\\lib\\site-packages\\sklearn\\linear_model\\logistic.py:432: FutureWarning: Default solver will be changed to 'lbfgs' in 0.22. Specify a solver to silence this warning.\n",
      "  FutureWarning)\n",
      "C:\\Users\\sanak\\Anaconda3\\lib\\site-packages\\sklearn\\linear_model\\logistic.py:469: FutureWarning: Default multi_class will be changed to 'auto' in 0.22. Specify the multi_class option to silence this warning.\n",
      "  \"this warning.\", FutureWarning)\n",
      "[Parallel(n_jobs=1)]: Done   2 out of   2 | elapsed:    0.0s remaining:    0.0s\n",
      "C:\\Users\\sanak\\Anaconda3\\lib\\site-packages\\sklearn\\linear_model\\logistic.py:432: FutureWarning: Default solver will be changed to 'lbfgs' in 0.22. Specify a solver to silence this warning.\n",
      "  FutureWarning)\n",
      "C:\\Users\\sanak\\Anaconda3\\lib\\site-packages\\sklearn\\linear_model\\logistic.py:469: FutureWarning: Default multi_class will be changed to 'auto' in 0.22. Specify the multi_class option to silence this warning.\n",
      "  \"this warning.\", FutureWarning)\n",
      "C:\\Users\\sanak\\Anaconda3\\lib\\site-packages\\sklearn\\linear_model\\logistic.py:432: FutureWarning: Default solver will be changed to 'lbfgs' in 0.22. Specify a solver to silence this warning.\n",
      "  FutureWarning)\n",
      "C:\\Users\\sanak\\Anaconda3\\lib\\site-packages\\sklearn\\linear_model\\logistic.py:469: FutureWarning: Default multi_class will be changed to 'auto' in 0.22. Specify the multi_class option to silence this warning.\n",
      "  \"this warning.\", FutureWarning)\n",
      "C:\\Users\\sanak\\Anaconda3\\lib\\site-packages\\sklearn\\linear_model\\logistic.py:432: FutureWarning: Default solver will be changed to 'lbfgs' in 0.22. Specify a solver to silence this warning.\n",
      "  FutureWarning)\n",
      "C:\\Users\\sanak\\Anaconda3\\lib\\site-packages\\sklearn\\linear_model\\logistic.py:469: FutureWarning: Default multi_class will be changed to 'auto' in 0.22. Specify the multi_class option to silence this warning.\n",
      "  \"this warning.\", FutureWarning)\n"
     ]
    },
    {
     "name": "stdout",
     "output_type": "stream",
     "text": [
      "Fitting 3 folds for each of 18 candidates, totalling 54 fits\n",
      "[CV] C=1, max_iter=500, penalty=l1 ...................................\n",
      "[CV] ....... C=1, max_iter=500, penalty=l1, score=0.827, total=   0.1s\n",
      "[CV] C=1, max_iter=500, penalty=l1 ...................................\n",
      "[CV] ....... C=1, max_iter=500, penalty=l1, score=0.824, total=   0.0s\n",
      "[CV] C=1, max_iter=500, penalty=l1 ...................................\n",
      "[CV] ....... C=1, max_iter=500, penalty=l1, score=0.825, total=   0.0s\n",
      "[CV] C=1, max_iter=500, penalty=l2 ...................................\n",
      "[CV] ....... C=1, max_iter=500, penalty=l2, score=0.830, total=   0.0s\n",
      "[CV] C=1, max_iter=500, penalty=l2 ...................................\n"
     ]
    },
    {
     "name": "stderr",
     "output_type": "stream",
     "text": [
      "C:\\Users\\sanak\\Anaconda3\\lib\\site-packages\\sklearn\\linear_model\\logistic.py:432: FutureWarning: Default solver will be changed to 'lbfgs' in 0.22. Specify a solver to silence this warning.\n",
      "  FutureWarning)\n",
      "C:\\Users\\sanak\\Anaconda3\\lib\\site-packages\\sklearn\\linear_model\\logistic.py:469: FutureWarning: Default multi_class will be changed to 'auto' in 0.22. Specify the multi_class option to silence this warning.\n",
      "  \"this warning.\", FutureWarning)\n",
      "C:\\Users\\sanak\\Anaconda3\\lib\\site-packages\\sklearn\\linear_model\\logistic.py:432: FutureWarning: Default solver will be changed to 'lbfgs' in 0.22. Specify a solver to silence this warning.\n",
      "  FutureWarning)\n",
      "C:\\Users\\sanak\\Anaconda3\\lib\\site-packages\\sklearn\\linear_model\\logistic.py:469: FutureWarning: Default multi_class will be changed to 'auto' in 0.22. Specify the multi_class option to silence this warning.\n",
      "  \"this warning.\", FutureWarning)\n",
      "C:\\Users\\sanak\\Anaconda3\\lib\\site-packages\\sklearn\\linear_model\\logistic.py:432: FutureWarning: Default solver will be changed to 'lbfgs' in 0.22. Specify a solver to silence this warning.\n",
      "  FutureWarning)\n",
      "C:\\Users\\sanak\\Anaconda3\\lib\\site-packages\\sklearn\\linear_model\\logistic.py:469: FutureWarning: Default multi_class will be changed to 'auto' in 0.22. Specify the multi_class option to silence this warning.\n",
      "  \"this warning.\", FutureWarning)\n",
      "C:\\Users\\sanak\\Anaconda3\\lib\\site-packages\\sklearn\\linear_model\\logistic.py:432: FutureWarning: Default solver will be changed to 'lbfgs' in 0.22. Specify a solver to silence this warning.\n",
      "  FutureWarning)\n",
      "C:\\Users\\sanak\\Anaconda3\\lib\\site-packages\\sklearn\\linear_model\\logistic.py:469: FutureWarning: Default multi_class will be changed to 'auto' in 0.22. Specify the multi_class option to silence this warning.\n",
      "  \"this warning.\", FutureWarning)\n"
     ]
    },
    {
     "name": "stdout",
     "output_type": "stream",
     "text": [
      "[CV] ....... C=1, max_iter=500, penalty=l2, score=0.818, total=   0.0s\n",
      "[CV] C=1, max_iter=500, penalty=l2 ...................................\n",
      "[CV] ....... C=1, max_iter=500, penalty=l2, score=0.828, total=   0.0s\n",
      "[CV] C=1, max_iter=1000, penalty=l1 ..................................\n",
      "[CV] ...... C=1, max_iter=1000, penalty=l1, score=0.830, total=   0.1s\n",
      "[CV] C=1, max_iter=1000, penalty=l1 ..................................\n",
      "[CV] ...... C=1, max_iter=1000, penalty=l1, score=0.824, total=   0.0s\n",
      "[CV] C=1, max_iter=1000, penalty=l1 ..................................\n",
      "[CV] ...... C=1, max_iter=1000, penalty=l1, score=0.825, total=   0.1s\n",
      "[CV] C=1, max_iter=1000, penalty=l2 ..................................\n",
      "[CV] ...... C=1, max_iter=1000, penalty=l2, score=0.830, total=   0.0s\n",
      "[CV] C=1, max_iter=1000, penalty=l2 ..................................\n",
      "[CV] ...... C=1, max_iter=1000, penalty=l2, score=0.818, total=   0.0s\n",
      "[CV] C=1, max_iter=1000, penalty=l2 ..................................\n",
      "[CV] ...... C=1, max_iter=1000, penalty=l2, score=0.828, total=   0.0s\n",
      "[CV] C=1, max_iter=5000, penalty=l1 ..................................\n",
      "[CV] ...... C=1, max_iter=5000, penalty=l1, score=0.830, total=   0.1s\n",
      "[CV] C=1, max_iter=5000, penalty=l1 ..................................\n",
      "[CV] ...... C=1, max_iter=5000, penalty=l1, score=0.824, total=   0.0s\n",
      "[CV] C=1, max_iter=5000, penalty=l1 ..................................\n"
     ]
    },
    {
     "name": "stderr",
     "output_type": "stream",
     "text": [
      "C:\\Users\\sanak\\Anaconda3\\lib\\site-packages\\sklearn\\linear_model\\logistic.py:432: FutureWarning: Default solver will be changed to 'lbfgs' in 0.22. Specify a solver to silence this warning.\n",
      "  FutureWarning)\n",
      "C:\\Users\\sanak\\Anaconda3\\lib\\site-packages\\sklearn\\linear_model\\logistic.py:469: FutureWarning: Default multi_class will be changed to 'auto' in 0.22. Specify the multi_class option to silence this warning.\n",
      "  \"this warning.\", FutureWarning)\n",
      "C:\\Users\\sanak\\Anaconda3\\lib\\site-packages\\sklearn\\linear_model\\logistic.py:432: FutureWarning: Default solver will be changed to 'lbfgs' in 0.22. Specify a solver to silence this warning.\n",
      "  FutureWarning)\n",
      "C:\\Users\\sanak\\Anaconda3\\lib\\site-packages\\sklearn\\linear_model\\logistic.py:469: FutureWarning: Default multi_class will be changed to 'auto' in 0.22. Specify the multi_class option to silence this warning.\n",
      "  \"this warning.\", FutureWarning)\n",
      "C:\\Users\\sanak\\Anaconda3\\lib\\site-packages\\sklearn\\linear_model\\logistic.py:432: FutureWarning: Default solver will be changed to 'lbfgs' in 0.22. Specify a solver to silence this warning.\n",
      "  FutureWarning)\n",
      "C:\\Users\\sanak\\Anaconda3\\lib\\site-packages\\sklearn\\linear_model\\logistic.py:469: FutureWarning: Default multi_class will be changed to 'auto' in 0.22. Specify the multi_class option to silence this warning.\n",
      "  \"this warning.\", FutureWarning)\n",
      "C:\\Users\\sanak\\Anaconda3\\lib\\site-packages\\sklearn\\linear_model\\logistic.py:432: FutureWarning: Default solver will be changed to 'lbfgs' in 0.22. Specify a solver to silence this warning.\n",
      "  FutureWarning)\n",
      "C:\\Users\\sanak\\Anaconda3\\lib\\site-packages\\sklearn\\linear_model\\logistic.py:469: FutureWarning: Default multi_class will be changed to 'auto' in 0.22. Specify the multi_class option to silence this warning.\n",
      "  \"this warning.\", FutureWarning)\n",
      "C:\\Users\\sanak\\Anaconda3\\lib\\site-packages\\sklearn\\linear_model\\logistic.py:432: FutureWarning: Default solver will be changed to 'lbfgs' in 0.22. Specify a solver to silence this warning.\n",
      "  FutureWarning)\n",
      "C:\\Users\\sanak\\Anaconda3\\lib\\site-packages\\sklearn\\linear_model\\logistic.py:469: FutureWarning: Default multi_class will be changed to 'auto' in 0.22. Specify the multi_class option to silence this warning.\n",
      "  \"this warning.\", FutureWarning)\n",
      "C:\\Users\\sanak\\Anaconda3\\lib\\site-packages\\sklearn\\linear_model\\logistic.py:432: FutureWarning: Default solver will be changed to 'lbfgs' in 0.22. Specify a solver to silence this warning.\n",
      "  FutureWarning)\n",
      "C:\\Users\\sanak\\Anaconda3\\lib\\site-packages\\sklearn\\linear_model\\logistic.py:469: FutureWarning: Default multi_class will be changed to 'auto' in 0.22. Specify the multi_class option to silence this warning.\n",
      "  \"this warning.\", FutureWarning)\n"
     ]
    },
    {
     "name": "stdout",
     "output_type": "stream",
     "text": [
      "[CV] ...... C=1, max_iter=5000, penalty=l1, score=0.825, total=   0.0s\n",
      "[CV] C=1, max_iter=5000, penalty=l2 ..................................\n",
      "[CV] ...... C=1, max_iter=5000, penalty=l2, score=0.830, total=   0.0s\n",
      "[CV] C=1, max_iter=5000, penalty=l2 ..................................\n",
      "[CV] ...... C=1, max_iter=5000, penalty=l2, score=0.818, total=   0.0s\n",
      "[CV] C=1, max_iter=5000, penalty=l2 ..................................\n",
      "[CV] ...... C=1, max_iter=5000, penalty=l2, score=0.828, total=   0.0s\n",
      "[CV] C=5, max_iter=500, penalty=l1 ...................................\n",
      "[CV] ....... C=5, max_iter=500, penalty=l1, score=0.825, total=   0.1s\n",
      "[CV] C=5, max_iter=500, penalty=l1 ...................................\n"
     ]
    },
    {
     "name": "stderr",
     "output_type": "stream",
     "text": [
      "C:\\Users\\sanak\\Anaconda3\\lib\\site-packages\\sklearn\\linear_model\\logistic.py:432: FutureWarning: Default solver will be changed to 'lbfgs' in 0.22. Specify a solver to silence this warning.\n",
      "  FutureWarning)\n",
      "C:\\Users\\sanak\\Anaconda3\\lib\\site-packages\\sklearn\\linear_model\\logistic.py:469: FutureWarning: Default multi_class will be changed to 'auto' in 0.22. Specify the multi_class option to silence this warning.\n",
      "  \"this warning.\", FutureWarning)\n",
      "C:\\Users\\sanak\\Anaconda3\\lib\\site-packages\\sklearn\\linear_model\\logistic.py:432: FutureWarning: Default solver will be changed to 'lbfgs' in 0.22. Specify a solver to silence this warning.\n",
      "  FutureWarning)\n",
      "C:\\Users\\sanak\\Anaconda3\\lib\\site-packages\\sklearn\\linear_model\\logistic.py:469: FutureWarning: Default multi_class will be changed to 'auto' in 0.22. Specify the multi_class option to silence this warning.\n",
      "  \"this warning.\", FutureWarning)\n",
      "C:\\Users\\sanak\\Anaconda3\\lib\\site-packages\\sklearn\\linear_model\\logistic.py:432: FutureWarning: Default solver will be changed to 'lbfgs' in 0.22. Specify a solver to silence this warning.\n",
      "  FutureWarning)\n",
      "C:\\Users\\sanak\\Anaconda3\\lib\\site-packages\\sklearn\\linear_model\\logistic.py:469: FutureWarning: Default multi_class will be changed to 'auto' in 0.22. Specify the multi_class option to silence this warning.\n",
      "  \"this warning.\", FutureWarning)\n",
      "C:\\Users\\sanak\\Anaconda3\\lib\\site-packages\\sklearn\\linear_model\\logistic.py:432: FutureWarning: Default solver will be changed to 'lbfgs' in 0.22. Specify a solver to silence this warning.\n",
      "  FutureWarning)\n",
      "C:\\Users\\sanak\\Anaconda3\\lib\\site-packages\\sklearn\\linear_model\\logistic.py:469: FutureWarning: Default multi_class will be changed to 'auto' in 0.22. Specify the multi_class option to silence this warning.\n",
      "  \"this warning.\", FutureWarning)\n",
      "C:\\Users\\sanak\\Anaconda3\\lib\\site-packages\\sklearn\\linear_model\\logistic.py:432: FutureWarning: Default solver will be changed to 'lbfgs' in 0.22. Specify a solver to silence this warning.\n",
      "  FutureWarning)\n",
      "C:\\Users\\sanak\\Anaconda3\\lib\\site-packages\\sklearn\\linear_model\\logistic.py:469: FutureWarning: Default multi_class will be changed to 'auto' in 0.22. Specify the multi_class option to silence this warning.\n",
      "  \"this warning.\", FutureWarning)\n",
      "C:\\Users\\sanak\\Anaconda3\\lib\\site-packages\\sklearn\\linear_model\\logistic.py:432: FutureWarning: Default solver will be changed to 'lbfgs' in 0.22. Specify a solver to silence this warning.\n",
      "  FutureWarning)\n",
      "C:\\Users\\sanak\\Anaconda3\\lib\\site-packages\\sklearn\\linear_model\\logistic.py:469: FutureWarning: Default multi_class will be changed to 'auto' in 0.22. Specify the multi_class option to silence this warning.\n",
      "  \"this warning.\", FutureWarning)\n",
      "C:\\Users\\sanak\\Anaconda3\\lib\\site-packages\\sklearn\\linear_model\\logistic.py:432: FutureWarning: Default solver will be changed to 'lbfgs' in 0.22. Specify a solver to silence this warning.\n",
      "  FutureWarning)\n",
      "C:\\Users\\sanak\\Anaconda3\\lib\\site-packages\\sklearn\\linear_model\\logistic.py:469: FutureWarning: Default multi_class will be changed to 'auto' in 0.22. Specify the multi_class option to silence this warning.\n",
      "  \"this warning.\", FutureWarning)\n",
      "C:\\Users\\sanak\\Anaconda3\\lib\\site-packages\\sklearn\\linear_model\\logistic.py:432: FutureWarning: Default solver will be changed to 'lbfgs' in 0.22. Specify a solver to silence this warning.\n",
      "  FutureWarning)\n",
      "C:\\Users\\sanak\\Anaconda3\\lib\\site-packages\\sklearn\\linear_model\\logistic.py:469: FutureWarning: Default multi_class will be changed to 'auto' in 0.22. Specify the multi_class option to silence this warning.\n",
      "  \"this warning.\", FutureWarning)\n"
     ]
    },
    {
     "name": "stdout",
     "output_type": "stream",
     "text": [
      "[CV] ....... C=5, max_iter=500, penalty=l1, score=0.824, total=   0.1s\n",
      "[CV] C=5, max_iter=500, penalty=l1 ...................................\n",
      "[CV] ....... C=5, max_iter=500, penalty=l1, score=0.823, total=   0.1s\n",
      "[CV] C=5, max_iter=500, penalty=l2 ...................................\n",
      "[CV] ....... C=5, max_iter=500, penalty=l2, score=0.830, total=   0.0s\n",
      "[CV] C=5, max_iter=500, penalty=l2 ...................................\n",
      "[CV] ....... C=5, max_iter=500, penalty=l2, score=0.818, total=   0.0s\n",
      "[CV] C=5, max_iter=500, penalty=l2 ...................................\n",
      "[CV] ....... C=5, max_iter=500, penalty=l2, score=0.828, total=   0.0s\n",
      "[CV] C=5, max_iter=1000, penalty=l1 ..................................\n"
     ]
    },
    {
     "name": "stderr",
     "output_type": "stream",
     "text": [
      "C:\\Users\\sanak\\Anaconda3\\lib\\site-packages\\sklearn\\linear_model\\logistic.py:432: FutureWarning: Default solver will be changed to 'lbfgs' in 0.22. Specify a solver to silence this warning.\n",
      "  FutureWarning)\n",
      "C:\\Users\\sanak\\Anaconda3\\lib\\site-packages\\sklearn\\linear_model\\logistic.py:469: FutureWarning: Default multi_class will be changed to 'auto' in 0.22. Specify the multi_class option to silence this warning.\n",
      "  \"this warning.\", FutureWarning)\n",
      "C:\\Users\\sanak\\Anaconda3\\lib\\site-packages\\sklearn\\linear_model\\logistic.py:432: FutureWarning: Default solver will be changed to 'lbfgs' in 0.22. Specify a solver to silence this warning.\n",
      "  FutureWarning)\n",
      "C:\\Users\\sanak\\Anaconda3\\lib\\site-packages\\sklearn\\linear_model\\logistic.py:469: FutureWarning: Default multi_class will be changed to 'auto' in 0.22. Specify the multi_class option to silence this warning.\n",
      "  \"this warning.\", FutureWarning)\n",
      "C:\\Users\\sanak\\Anaconda3\\lib\\site-packages\\sklearn\\linear_model\\logistic.py:432: FutureWarning: Default solver will be changed to 'lbfgs' in 0.22. Specify a solver to silence this warning.\n",
      "  FutureWarning)\n",
      "C:\\Users\\sanak\\Anaconda3\\lib\\site-packages\\sklearn\\linear_model\\logistic.py:469: FutureWarning: Default multi_class will be changed to 'auto' in 0.22. Specify the multi_class option to silence this warning.\n",
      "  \"this warning.\", FutureWarning)\n",
      "C:\\Users\\sanak\\Anaconda3\\lib\\site-packages\\sklearn\\linear_model\\logistic.py:432: FutureWarning: Default solver will be changed to 'lbfgs' in 0.22. Specify a solver to silence this warning.\n",
      "  FutureWarning)\n",
      "C:\\Users\\sanak\\Anaconda3\\lib\\site-packages\\sklearn\\linear_model\\logistic.py:469: FutureWarning: Default multi_class will be changed to 'auto' in 0.22. Specify the multi_class option to silence this warning.\n",
      "  \"this warning.\", FutureWarning)\n"
     ]
    },
    {
     "name": "stdout",
     "output_type": "stream",
     "text": [
      "[CV] ...... C=5, max_iter=1000, penalty=l1, score=0.822, total=   0.1s\n",
      "[CV] C=5, max_iter=1000, penalty=l1 ..................................\n",
      "[CV] ...... C=5, max_iter=1000, penalty=l1, score=0.824, total=   0.1s\n",
      "[CV] C=5, max_iter=1000, penalty=l1 ..................................\n",
      "[CV] ...... C=5, max_iter=1000, penalty=l1, score=0.823, total=   0.1s\n",
      "[CV] C=5, max_iter=1000, penalty=l2 ..................................\n",
      "[CV] ...... C=5, max_iter=1000, penalty=l2, score=0.830, total=   0.0s\n",
      "[CV] C=5, max_iter=1000, penalty=l2 ..................................\n",
      "[CV] ...... C=5, max_iter=1000, penalty=l2, score=0.818, total=   0.0s"
     ]
    },
    {
     "name": "stderr",
     "output_type": "stream",
     "text": [
      "C:\\Users\\sanak\\Anaconda3\\lib\\site-packages\\sklearn\\linear_model\\logistic.py:432: FutureWarning: Default solver will be changed to 'lbfgs' in 0.22. Specify a solver to silence this warning.\n",
      "  FutureWarning)\n",
      "C:\\Users\\sanak\\Anaconda3\\lib\\site-packages\\sklearn\\linear_model\\logistic.py:469: FutureWarning: Default multi_class will be changed to 'auto' in 0.22. Specify the multi_class option to silence this warning.\n",
      "  \"this warning.\", FutureWarning)\n",
      "C:\\Users\\sanak\\Anaconda3\\lib\\site-packages\\sklearn\\linear_model\\logistic.py:432: FutureWarning: Default solver will be changed to 'lbfgs' in 0.22. Specify a solver to silence this warning.\n",
      "  FutureWarning)\n",
      "C:\\Users\\sanak\\Anaconda3\\lib\\site-packages\\sklearn\\linear_model\\logistic.py:469: FutureWarning: Default multi_class will be changed to 'auto' in 0.22. Specify the multi_class option to silence this warning.\n",
      "  \"this warning.\", FutureWarning)\n",
      "C:\\Users\\sanak\\Anaconda3\\lib\\site-packages\\sklearn\\linear_model\\logistic.py:432: FutureWarning: Default solver will be changed to 'lbfgs' in 0.22. Specify a solver to silence this warning.\n",
      "  FutureWarning)\n",
      "C:\\Users\\sanak\\Anaconda3\\lib\\site-packages\\sklearn\\linear_model\\logistic.py:469: FutureWarning: Default multi_class will be changed to 'auto' in 0.22. Specify the multi_class option to silence this warning.\n",
      "  \"this warning.\", FutureWarning)\n",
      "C:\\Users\\sanak\\Anaconda3\\lib\\site-packages\\sklearn\\linear_model\\logistic.py:432: FutureWarning: Default solver will be changed to 'lbfgs' in 0.22. Specify a solver to silence this warning.\n",
      "  FutureWarning)\n",
      "C:\\Users\\sanak\\Anaconda3\\lib\\site-packages\\sklearn\\linear_model\\logistic.py:469: FutureWarning: Default multi_class will be changed to 'auto' in 0.22. Specify the multi_class option to silence this warning.\n",
      "  \"this warning.\", FutureWarning)\n",
      "C:\\Users\\sanak\\Anaconda3\\lib\\site-packages\\sklearn\\linear_model\\logistic.py:432: FutureWarning: Default solver will be changed to 'lbfgs' in 0.22. Specify a solver to silence this warning.\n",
      "  FutureWarning)\n",
      "C:\\Users\\sanak\\Anaconda3\\lib\\site-packages\\sklearn\\linear_model\\logistic.py:469: FutureWarning: Default multi_class will be changed to 'auto' in 0.22. Specify the multi_class option to silence this warning.\n",
      "  \"this warning.\", FutureWarning)\n"
     ]
    },
    {
     "name": "stdout",
     "output_type": "stream",
     "text": [
      "\n",
      "[CV] C=5, max_iter=1000, penalty=l2 ..................................\n",
      "[CV] ...... C=5, max_iter=1000, penalty=l2, score=0.828, total=   0.0s\n",
      "[CV] C=5, max_iter=5000, penalty=l1 ..................................\n",
      "[CV] ...... C=5, max_iter=5000, penalty=l1, score=0.825, total=   0.1s\n",
      "[CV] C=5, max_iter=5000, penalty=l1 ..................................\n",
      "[CV] ...... C=5, max_iter=5000, penalty=l1, score=0.824, total=   0.1s\n",
      "[CV] C=5, max_iter=5000, penalty=l1 ..................................\n",
      "[CV] ...... C=5, max_iter=5000, penalty=l1, score=0.823, total=   0.1s\n",
      "[CV] C=5, max_iter=5000, penalty=l2 ..................................\n",
      "[CV] ...... C=5, max_iter=5000, penalty=l2, score=0.830, total=   0.0s\n",
      "[CV] C=5, max_iter=5000, penalty=l2 ..................................\n",
      "[CV] ...... C=5, max_iter=5000, penalty=l2, score=0.818, total=   0.0s\n",
      "[CV] C=5, max_iter=5000, penalty=l2 ..................................\n",
      "[CV] ...... C=5, max_iter=5000, penalty=l2, score=0.828, total=   0.0s\n",
      "[CV] C=10, max_iter=500, penalty=l1 ..................................\n"
     ]
    },
    {
     "name": "stderr",
     "output_type": "stream",
     "text": [
      "C:\\Users\\sanak\\Anaconda3\\lib\\site-packages\\sklearn\\linear_model\\logistic.py:432: FutureWarning: Default solver will be changed to 'lbfgs' in 0.22. Specify a solver to silence this warning.\n",
      "  FutureWarning)\n",
      "C:\\Users\\sanak\\Anaconda3\\lib\\site-packages\\sklearn\\linear_model\\logistic.py:469: FutureWarning: Default multi_class will be changed to 'auto' in 0.22. Specify the multi_class option to silence this warning.\n",
      "  \"this warning.\", FutureWarning)\n",
      "C:\\Users\\sanak\\Anaconda3\\lib\\site-packages\\sklearn\\linear_model\\logistic.py:432: FutureWarning: Default solver will be changed to 'lbfgs' in 0.22. Specify a solver to silence this warning.\n",
      "  FutureWarning)\n",
      "C:\\Users\\sanak\\Anaconda3\\lib\\site-packages\\sklearn\\linear_model\\logistic.py:469: FutureWarning: Default multi_class will be changed to 'auto' in 0.22. Specify the multi_class option to silence this warning.\n",
      "  \"this warning.\", FutureWarning)\n",
      "C:\\Users\\sanak\\Anaconda3\\lib\\site-packages\\sklearn\\linear_model\\logistic.py:432: FutureWarning: Default solver will be changed to 'lbfgs' in 0.22. Specify a solver to silence this warning.\n",
      "  FutureWarning)\n",
      "C:\\Users\\sanak\\Anaconda3\\lib\\site-packages\\sklearn\\linear_model\\logistic.py:469: FutureWarning: Default multi_class will be changed to 'auto' in 0.22. Specify the multi_class option to silence this warning.\n",
      "  \"this warning.\", FutureWarning)\n",
      "C:\\Users\\sanak\\Anaconda3\\lib\\site-packages\\sklearn\\linear_model\\logistic.py:432: FutureWarning: Default solver will be changed to 'lbfgs' in 0.22. Specify a solver to silence this warning.\n",
      "  FutureWarning)\n",
      "C:\\Users\\sanak\\Anaconda3\\lib\\site-packages\\sklearn\\linear_model\\logistic.py:469: FutureWarning: Default multi_class will be changed to 'auto' in 0.22. Specify the multi_class option to silence this warning.\n",
      "  \"this warning.\", FutureWarning)\n",
      "C:\\Users\\sanak\\Anaconda3\\lib\\site-packages\\sklearn\\linear_model\\logistic.py:432: FutureWarning: Default solver will be changed to 'lbfgs' in 0.22. Specify a solver to silence this warning.\n",
      "  FutureWarning)\n",
      "C:\\Users\\sanak\\Anaconda3\\lib\\site-packages\\sklearn\\linear_model\\logistic.py:469: FutureWarning: Default multi_class will be changed to 'auto' in 0.22. Specify the multi_class option to silence this warning.\n",
      "  \"this warning.\", FutureWarning)\n"
     ]
    },
    {
     "name": "stdout",
     "output_type": "stream",
     "text": [
      "[CV] ...... C=10, max_iter=500, penalty=l1, score=0.822, total=   0.1s\n",
      "[CV] C=10, max_iter=500, penalty=l1 ..................................\n",
      "[CV] ...... C=10, max_iter=500, penalty=l1, score=0.824, total=   0.1s\n",
      "[CV] C=10, max_iter=500, penalty=l1 ..................................\n",
      "[CV] ...... C=10, max_iter=500, penalty=l1, score=0.825, total=   0.1s"
     ]
    },
    {
     "name": "stderr",
     "output_type": "stream",
     "text": [
      "C:\\Users\\sanak\\Anaconda3\\lib\\site-packages\\sklearn\\linear_model\\logistic.py:432: FutureWarning: Default solver will be changed to 'lbfgs' in 0.22. Specify a solver to silence this warning.\n",
      "  FutureWarning)\n",
      "C:\\Users\\sanak\\Anaconda3\\lib\\site-packages\\sklearn\\linear_model\\logistic.py:469: FutureWarning: Default multi_class will be changed to 'auto' in 0.22. Specify the multi_class option to silence this warning.\n",
      "  \"this warning.\", FutureWarning)\n",
      "C:\\Users\\sanak\\Anaconda3\\lib\\site-packages\\sklearn\\linear_model\\logistic.py:432: FutureWarning: Default solver will be changed to 'lbfgs' in 0.22. Specify a solver to silence this warning.\n",
      "  FutureWarning)\n",
      "C:\\Users\\sanak\\Anaconda3\\lib\\site-packages\\sklearn\\linear_model\\logistic.py:469: FutureWarning: Default multi_class will be changed to 'auto' in 0.22. Specify the multi_class option to silence this warning.\n",
      "  \"this warning.\", FutureWarning)\n"
     ]
    },
    {
     "name": "stdout",
     "output_type": "stream",
     "text": [
      "\n",
      "[CV] C=10, max_iter=500, penalty=l2 ..................................\n",
      "[CV] ...... C=10, max_iter=500, penalty=l2, score=0.830, total=   0.0s\n",
      "[CV] C=10, max_iter=500, penalty=l2 ..................................\n",
      "[CV] ...... C=10, max_iter=500, penalty=l2, score=0.818, total=   0.0s\n",
      "[CV] C=10, max_iter=500, penalty=l2 ..................................\n",
      "[CV] ...... C=10, max_iter=500, penalty=l2, score=0.828, total=   0.0s\n",
      "[CV] C=10, max_iter=1000, penalty=l1 .................................\n",
      "[CV] ..... C=10, max_iter=1000, penalty=l1, score=0.822, total=   0.1s\n",
      "[CV] C=10, max_iter=1000, penalty=l1 .................................\n"
     ]
    },
    {
     "name": "stderr",
     "output_type": "stream",
     "text": [
      "C:\\Users\\sanak\\Anaconda3\\lib\\site-packages\\sklearn\\linear_model\\logistic.py:432: FutureWarning: Default solver will be changed to 'lbfgs' in 0.22. Specify a solver to silence this warning.\n",
      "  FutureWarning)\n",
      "C:\\Users\\sanak\\Anaconda3\\lib\\site-packages\\sklearn\\linear_model\\logistic.py:469: FutureWarning: Default multi_class will be changed to 'auto' in 0.22. Specify the multi_class option to silence this warning.\n",
      "  \"this warning.\", FutureWarning)\n",
      "C:\\Users\\sanak\\Anaconda3\\lib\\site-packages\\sklearn\\linear_model\\logistic.py:432: FutureWarning: Default solver will be changed to 'lbfgs' in 0.22. Specify a solver to silence this warning.\n",
      "  FutureWarning)\n",
      "C:\\Users\\sanak\\Anaconda3\\lib\\site-packages\\sklearn\\linear_model\\logistic.py:469: FutureWarning: Default multi_class will be changed to 'auto' in 0.22. Specify the multi_class option to silence this warning.\n",
      "  \"this warning.\", FutureWarning)\n",
      "C:\\Users\\sanak\\Anaconda3\\lib\\site-packages\\sklearn\\linear_model\\logistic.py:432: FutureWarning: Default solver will be changed to 'lbfgs' in 0.22. Specify a solver to silence this warning.\n",
      "  FutureWarning)\n",
      "C:\\Users\\sanak\\Anaconda3\\lib\\site-packages\\sklearn\\linear_model\\logistic.py:469: FutureWarning: Default multi_class will be changed to 'auto' in 0.22. Specify the multi_class option to silence this warning.\n",
      "  \"this warning.\", FutureWarning)\n",
      "C:\\Users\\sanak\\Anaconda3\\lib\\site-packages\\sklearn\\linear_model\\logistic.py:432: FutureWarning: Default solver will be changed to 'lbfgs' in 0.22. Specify a solver to silence this warning.\n",
      "  FutureWarning)\n",
      "C:\\Users\\sanak\\Anaconda3\\lib\\site-packages\\sklearn\\linear_model\\logistic.py:469: FutureWarning: Default multi_class will be changed to 'auto' in 0.22. Specify the multi_class option to silence this warning.\n",
      "  \"this warning.\", FutureWarning)\n",
      "C:\\Users\\sanak\\Anaconda3\\lib\\site-packages\\sklearn\\linear_model\\logistic.py:432: FutureWarning: Default solver will be changed to 'lbfgs' in 0.22. Specify a solver to silence this warning.\n",
      "  FutureWarning)\n",
      "C:\\Users\\sanak\\Anaconda3\\lib\\site-packages\\sklearn\\linear_model\\logistic.py:469: FutureWarning: Default multi_class will be changed to 'auto' in 0.22. Specify the multi_class option to silence this warning.\n",
      "  \"this warning.\", FutureWarning)\n"
     ]
    },
    {
     "name": "stdout",
     "output_type": "stream",
     "text": [
      "[CV] ..... C=10, max_iter=1000, penalty=l1, score=0.824, total=   0.1s\n",
      "[CV] C=10, max_iter=1000, penalty=l1 .................................\n"
     ]
    },
    {
     "name": "stderr",
     "output_type": "stream",
     "text": [
      "C:\\Users\\sanak\\Anaconda3\\lib\\site-packages\\sklearn\\linear_model\\logistic.py:432: FutureWarning: Default solver will be changed to 'lbfgs' in 0.22. Specify a solver to silence this warning.\n",
      "  FutureWarning)\n",
      "C:\\Users\\sanak\\Anaconda3\\lib\\site-packages\\sklearn\\linear_model\\logistic.py:469: FutureWarning: Default multi_class will be changed to 'auto' in 0.22. Specify the multi_class option to silence this warning.\n",
      "  \"this warning.\", FutureWarning)\n"
     ]
    },
    {
     "name": "stdout",
     "output_type": "stream",
     "text": [
      "[CV] ..... C=10, max_iter=1000, penalty=l1, score=0.825, total=   0.2s\n",
      "[CV] C=10, max_iter=1000, penalty=l2 .................................\n",
      "[CV] ..... C=10, max_iter=1000, penalty=l2, score=0.830, total=   0.0s\n",
      "[CV] C=10, max_iter=1000, penalty=l2 .................................\n",
      "[CV] ..... C=10, max_iter=1000, penalty=l2, score=0.818, total=   0.0s\n",
      "[CV] C=10, max_iter=1000, penalty=l2 .................................\n",
      "[CV] ..... C=10, max_iter=1000, penalty=l2, score=0.828, total=   0.0s\n",
      "[CV] C=10, max_iter=5000, penalty=l1 .................................\n",
      "[CV] ..... C=10, max_iter=5000, penalty=l1, score=0.822, total=   0.1s\n",
      "[CV] C=10, max_iter=5000, penalty=l1 .................................\n"
     ]
    },
    {
     "name": "stderr",
     "output_type": "stream",
     "text": [
      "C:\\Users\\sanak\\Anaconda3\\lib\\site-packages\\sklearn\\linear_model\\logistic.py:432: FutureWarning: Default solver will be changed to 'lbfgs' in 0.22. Specify a solver to silence this warning.\n",
      "  FutureWarning)\n",
      "C:\\Users\\sanak\\Anaconda3\\lib\\site-packages\\sklearn\\linear_model\\logistic.py:469: FutureWarning: Default multi_class will be changed to 'auto' in 0.22. Specify the multi_class option to silence this warning.\n",
      "  \"this warning.\", FutureWarning)\n",
      "C:\\Users\\sanak\\Anaconda3\\lib\\site-packages\\sklearn\\linear_model\\logistic.py:432: FutureWarning: Default solver will be changed to 'lbfgs' in 0.22. Specify a solver to silence this warning.\n",
      "  FutureWarning)\n",
      "C:\\Users\\sanak\\Anaconda3\\lib\\site-packages\\sklearn\\linear_model\\logistic.py:469: FutureWarning: Default multi_class will be changed to 'auto' in 0.22. Specify the multi_class option to silence this warning.\n",
      "  \"this warning.\", FutureWarning)\n",
      "C:\\Users\\sanak\\Anaconda3\\lib\\site-packages\\sklearn\\linear_model\\logistic.py:432: FutureWarning: Default solver will be changed to 'lbfgs' in 0.22. Specify a solver to silence this warning.\n",
      "  FutureWarning)\n",
      "C:\\Users\\sanak\\Anaconda3\\lib\\site-packages\\sklearn\\linear_model\\logistic.py:469: FutureWarning: Default multi_class will be changed to 'auto' in 0.22. Specify the multi_class option to silence this warning.\n",
      "  \"this warning.\", FutureWarning)\n",
      "C:\\Users\\sanak\\Anaconda3\\lib\\site-packages\\sklearn\\linear_model\\logistic.py:432: FutureWarning: Default solver will be changed to 'lbfgs' in 0.22. Specify a solver to silence this warning.\n",
      "  FutureWarning)\n",
      "C:\\Users\\sanak\\Anaconda3\\lib\\site-packages\\sklearn\\linear_model\\logistic.py:469: FutureWarning: Default multi_class will be changed to 'auto' in 0.22. Specify the multi_class option to silence this warning.\n",
      "  \"this warning.\", FutureWarning)\n",
      "C:\\Users\\sanak\\Anaconda3\\lib\\site-packages\\sklearn\\linear_model\\logistic.py:432: FutureWarning: Default solver will be changed to 'lbfgs' in 0.22. Specify a solver to silence this warning.\n",
      "  FutureWarning)\n",
      "C:\\Users\\sanak\\Anaconda3\\lib\\site-packages\\sklearn\\linear_model\\logistic.py:469: FutureWarning: Default multi_class will be changed to 'auto' in 0.22. Specify the multi_class option to silence this warning.\n",
      "  \"this warning.\", FutureWarning)\n"
     ]
    },
    {
     "name": "stdout",
     "output_type": "stream",
     "text": [
      "[CV] ..... C=10, max_iter=5000, penalty=l1, score=0.824, total=   0.1s\n",
      "[CV] C=10, max_iter=5000, penalty=l1 .................................\n",
      "[CV] ..... C=10, max_iter=5000, penalty=l1, score=0.825, total=   0.2s"
     ]
    },
    {
     "name": "stderr",
     "output_type": "stream",
     "text": [
      "C:\\Users\\sanak\\Anaconda3\\lib\\site-packages\\sklearn\\linear_model\\logistic.py:432: FutureWarning: Default solver will be changed to 'lbfgs' in 0.22. Specify a solver to silence this warning.\n",
      "  FutureWarning)\n",
      "C:\\Users\\sanak\\Anaconda3\\lib\\site-packages\\sklearn\\linear_model\\logistic.py:469: FutureWarning: Default multi_class will be changed to 'auto' in 0.22. Specify the multi_class option to silence this warning.\n",
      "  \"this warning.\", FutureWarning)\n"
     ]
    },
    {
     "name": "stdout",
     "output_type": "stream",
     "text": [
      "\n",
      "[CV] C=10, max_iter=5000, penalty=l2 .................................\n",
      "[CV] ..... C=10, max_iter=5000, penalty=l2, score=0.830, total=   0.0s\n",
      "[CV] C=10, max_iter=5000, penalty=l2 .................................\n",
      "[CV] ..... C=10, max_iter=5000, penalty=l2, score=0.818, total=   0.0s\n",
      "[CV] C=10, max_iter=5000, penalty=l2 .................................\n",
      "[CV] ..... C=10, max_iter=5000, penalty=l2, score=0.828, total=   0.0s\n"
     ]
    },
    {
     "name": "stderr",
     "output_type": "stream",
     "text": [
      "C:\\Users\\sanak\\Anaconda3\\lib\\site-packages\\sklearn\\linear_model\\logistic.py:432: FutureWarning: Default solver will be changed to 'lbfgs' in 0.22. Specify a solver to silence this warning.\n",
      "  FutureWarning)\n",
      "C:\\Users\\sanak\\Anaconda3\\lib\\site-packages\\sklearn\\linear_model\\logistic.py:469: FutureWarning: Default multi_class will be changed to 'auto' in 0.22. Specify the multi_class option to silence this warning.\n",
      "  \"this warning.\", FutureWarning)\n",
      "C:\\Users\\sanak\\Anaconda3\\lib\\site-packages\\sklearn\\linear_model\\logistic.py:432: FutureWarning: Default solver will be changed to 'lbfgs' in 0.22. Specify a solver to silence this warning.\n",
      "  FutureWarning)\n",
      "C:\\Users\\sanak\\Anaconda3\\lib\\site-packages\\sklearn\\linear_model\\logistic.py:469: FutureWarning: Default multi_class will be changed to 'auto' in 0.22. Specify the multi_class option to silence this warning.\n",
      "  \"this warning.\", FutureWarning)\n",
      "C:\\Users\\sanak\\Anaconda3\\lib\\site-packages\\sklearn\\linear_model\\logistic.py:432: FutureWarning: Default solver will be changed to 'lbfgs' in 0.22. Specify a solver to silence this warning.\n",
      "  FutureWarning)\n",
      "C:\\Users\\sanak\\Anaconda3\\lib\\site-packages\\sklearn\\linear_model\\logistic.py:469: FutureWarning: Default multi_class will be changed to 'auto' in 0.22. Specify the multi_class option to silence this warning.\n",
      "  \"this warning.\", FutureWarning)\n",
      "[Parallel(n_jobs=1)]: Done  54 out of  54 | elapsed:    2.8s finished\n",
      "C:\\Users\\sanak\\Anaconda3\\lib\\site-packages\\sklearn\\linear_model\\logistic.py:432: FutureWarning: Default solver will be changed to 'lbfgs' in 0.22. Specify a solver to silence this warning.\n",
      "  FutureWarning)\n",
      "C:\\Users\\sanak\\Anaconda3\\lib\\site-packages\\sklearn\\linear_model\\logistic.py:469: FutureWarning: Default multi_class will be changed to 'auto' in 0.22. Specify the multi_class option to silence this warning.\n",
      "  \"this warning.\", FutureWarning)\n"
     ]
    },
    {
     "data": {
      "text/plain": [
       "GridSearchCV(cv='warn', error_score='raise-deprecating',\n",
       "             estimator=LogisticRegression(C=1.0, class_weight=None, dual=False,\n",
       "                                          fit_intercept=True,\n",
       "                                          intercept_scaling=1, l1_ratio=None,\n",
       "                                          max_iter=100, multi_class='warn',\n",
       "                                          n_jobs=None, penalty='l2',\n",
       "                                          random_state=None, solver='warn',\n",
       "                                          tol=0.0001, verbose=0,\n",
       "                                          warm_start=False),\n",
       "             iid='warn', n_jobs=None,\n",
       "             param_grid={'C': [1, 5, 10], 'max_iter': [500, 1000, 5000],\n",
       "                         'penalty': ['l1', 'l2']},\n",
       "             pre_dispatch='2*n_jobs', refit=True, return_train_score=False,\n",
       "             scoring=None, verbose=3)"
      ]
     },
     "execution_count": 18,
     "metadata": {},
     "output_type": "execute_result"
    }
   ],
   "source": [
    "# Train the model with GridSearch\n",
    "grid.fit(X_train, y_train)"
   ]
  },
  {
   "cell_type": "code",
   "execution_count": 19,
   "metadata": {},
   "outputs": [
    {
     "name": "stdout",
     "output_type": "stream",
     "text": [
      "{'C': 1, 'max_iter': 1000, 'penalty': 'l1'}\n",
      "0.8264462809917356\n"
     ]
    }
   ],
   "source": [
    "print(grid.best_params_)\n",
    "print(grid.best_score_)"
   ]
  },
  {
   "cell_type": "markdown",
   "metadata": {},
   "source": [
    "# Save the Model"
   ]
  },
  {
   "cell_type": "code",
   "execution_count": 20,
   "metadata": {},
   "outputs": [
    {
     "data": {
      "text/plain": [
       "['logistic.joblib']"
      ]
     },
     "execution_count": 20,
     "metadata": {},
     "output_type": "execute_result"
    }
   ],
   "source": [
    "import joblib\n",
    "joblib.dump(model, \"logistic.joblib\")"
   ]
  },
  {
   "cell_type": "markdown",
   "metadata": {},
   "source": [
    "# Grid Search #2"
   ]
  },
  {
   "cell_type": "code",
   "execution_count": 21,
   "metadata": {},
   "outputs": [],
   "source": [
    "import pandas as pd\n",
    "from sklearn import preprocessing\n",
    "import numpy as np"
   ]
  },
  {
   "cell_type": "code",
   "execution_count": 22,
   "metadata": {},
   "outputs": [
    {
     "data": {
      "text/html": [
       "<div>\n",
       "<style scoped>\n",
       "    .dataframe tbody tr th:only-of-type {\n",
       "        vertical-align: middle;\n",
       "    }\n",
       "\n",
       "    .dataframe tbody tr th {\n",
       "        vertical-align: top;\n",
       "    }\n",
       "\n",
       "    .dataframe thead th {\n",
       "        text-align: right;\n",
       "    }\n",
       "</style>\n",
       "<table border=\"1\" class=\"dataframe\">\n",
       "  <thead>\n",
       "    <tr style=\"text-align: right;\">\n",
       "      <th></th>\n",
       "      <th>Id</th>\n",
       "      <th>Neighborhood</th>\n",
       "      <th>LotArea</th>\n",
       "      <th>OverallQual</th>\n",
       "      <th>OverallCond</th>\n",
       "      <th>YearRemodAdd</th>\n",
       "      <th>MasVnrArea</th>\n",
       "      <th>GrLivArea</th>\n",
       "      <th>BsmtFullBath</th>\n",
       "      <th>BsmtHalfBath</th>\n",
       "      <th>FullBath</th>\n",
       "      <th>HalfBath</th>\n",
       "      <th>BedroomAbvGr</th>\n",
       "      <th>Fireplaces</th>\n",
       "      <th>GarageArea</th>\n",
       "      <th>SalePrice</th>\n",
       "    </tr>\n",
       "  </thead>\n",
       "  <tbody>\n",
       "    <tr>\n",
       "      <td>0</td>\n",
       "      <td>1</td>\n",
       "      <td>CollgCr</td>\n",
       "      <td>8450</td>\n",
       "      <td>7</td>\n",
       "      <td>5</td>\n",
       "      <td>2003</td>\n",
       "      <td>196.0</td>\n",
       "      <td>1710</td>\n",
       "      <td>1</td>\n",
       "      <td>0</td>\n",
       "      <td>2</td>\n",
       "      <td>1</td>\n",
       "      <td>3</td>\n",
       "      <td>0</td>\n",
       "      <td>548</td>\n",
       "      <td>208500</td>\n",
       "    </tr>\n",
       "    <tr>\n",
       "      <td>1</td>\n",
       "      <td>2</td>\n",
       "      <td>Veenker</td>\n",
       "      <td>9600</td>\n",
       "      <td>6</td>\n",
       "      <td>8</td>\n",
       "      <td>1976</td>\n",
       "      <td>0.0</td>\n",
       "      <td>1262</td>\n",
       "      <td>0</td>\n",
       "      <td>1</td>\n",
       "      <td>2</td>\n",
       "      <td>0</td>\n",
       "      <td>3</td>\n",
       "      <td>1</td>\n",
       "      <td>460</td>\n",
       "      <td>181500</td>\n",
       "    </tr>\n",
       "    <tr>\n",
       "      <td>2</td>\n",
       "      <td>3</td>\n",
       "      <td>CollgCr</td>\n",
       "      <td>11250</td>\n",
       "      <td>7</td>\n",
       "      <td>5</td>\n",
       "      <td>2002</td>\n",
       "      <td>162.0</td>\n",
       "      <td>1786</td>\n",
       "      <td>1</td>\n",
       "      <td>0</td>\n",
       "      <td>2</td>\n",
       "      <td>1</td>\n",
       "      <td>3</td>\n",
       "      <td>1</td>\n",
       "      <td>608</td>\n",
       "      <td>223500</td>\n",
       "    </tr>\n",
       "    <tr>\n",
       "      <td>3</td>\n",
       "      <td>4</td>\n",
       "      <td>Crawfor</td>\n",
       "      <td>9550</td>\n",
       "      <td>7</td>\n",
       "      <td>5</td>\n",
       "      <td>1970</td>\n",
       "      <td>0.0</td>\n",
       "      <td>1717</td>\n",
       "      <td>1</td>\n",
       "      <td>0</td>\n",
       "      <td>1</td>\n",
       "      <td>0</td>\n",
       "      <td>3</td>\n",
       "      <td>1</td>\n",
       "      <td>642</td>\n",
       "      <td>140000</td>\n",
       "    </tr>\n",
       "    <tr>\n",
       "      <td>4</td>\n",
       "      <td>5</td>\n",
       "      <td>NoRidge</td>\n",
       "      <td>14260</td>\n",
       "      <td>8</td>\n",
       "      <td>5</td>\n",
       "      <td>2000</td>\n",
       "      <td>350.0</td>\n",
       "      <td>2198</td>\n",
       "      <td>1</td>\n",
       "      <td>0</td>\n",
       "      <td>2</td>\n",
       "      <td>1</td>\n",
       "      <td>4</td>\n",
       "      <td>1</td>\n",
       "      <td>836</td>\n",
       "      <td>250000</td>\n",
       "    </tr>\n",
       "  </tbody>\n",
       "</table>\n",
       "</div>"
      ],
      "text/plain": [
       "   Id Neighborhood  LotArea  OverallQual  OverallCond  YearRemodAdd  \\\n",
       "0   1      CollgCr     8450            7            5          2003   \n",
       "1   2      Veenker     9600            6            8          1976   \n",
       "2   3      CollgCr    11250            7            5          2002   \n",
       "3   4      Crawfor     9550            7            5          1970   \n",
       "4   5      NoRidge    14260            8            5          2000   \n",
       "\n",
       "   MasVnrArea  GrLivArea  BsmtFullBath  BsmtHalfBath  FullBath  HalfBath  \\\n",
       "0       196.0       1710             1             0         2         1   \n",
       "1         0.0       1262             0             1         2         0   \n",
       "2       162.0       1786             1             0         2         1   \n",
       "3         0.0       1717             1             0         1         0   \n",
       "4       350.0       2198             1             0         2         1   \n",
       "\n",
       "   BedroomAbvGr  Fireplaces  GarageArea  SalePrice  \n",
       "0             3           0         548     208500  \n",
       "1             3           1         460     181500  \n",
       "2             3           1         608     223500  \n",
       "3             3           1         642     140000  \n",
       "4             4           1         836     250000  "
      ]
     },
     "execution_count": 22,
     "metadata": {},
     "output_type": "execute_result"
    }
   ],
   "source": [
    "home_prices2 = pd.read_csv(\"Grid_search2_neighborhood.csv\")\n",
    "home_prices2 = home_prices2.dropna(axis='columns', how='all')\n",
    "home_prices2 = home_prices2.dropna()\n",
    "home_prices2.head()"
   ]
  },
  {
   "cell_type": "markdown",
   "metadata": {},
   "source": [
    "# Create a Train Test Split"
   ]
  },
  {
   "cell_type": "code",
   "execution_count": 23,
   "metadata": {},
   "outputs": [],
   "source": [
    "# Using SaleCondition for y values"
   ]
  },
  {
   "cell_type": "code",
   "execution_count": 24,
   "metadata": {},
   "outputs": [],
   "source": [
    "y = home_prices2[\"Neighborhood\"]\n",
    "X = home_prices2.drop(columns=[\"Neighborhood\"])"
   ]
  },
  {
   "cell_type": "code",
   "execution_count": 25,
   "metadata": {},
   "outputs": [],
   "source": [
    "from sklearn.model_selection import train_test_split\n",
    "from sklearn.preprocessing import LabelEncoder, StandardScaler"
   ]
  },
  {
   "cell_type": "code",
   "execution_count": 26,
   "metadata": {},
   "outputs": [],
   "source": [
    "X_train, X_test, y_train, y_test = train_test_split(\n",
    "    X, y, random_state=1, stratify=y)"
   ]
  },
  {
   "cell_type": "code",
   "execution_count": 27,
   "metadata": {},
   "outputs": [
    {
     "data": {
      "text/html": [
       "<div>\n",
       "<style scoped>\n",
       "    .dataframe tbody tr th:only-of-type {\n",
       "        vertical-align: middle;\n",
       "    }\n",
       "\n",
       "    .dataframe tbody tr th {\n",
       "        vertical-align: top;\n",
       "    }\n",
       "\n",
       "    .dataframe thead th {\n",
       "        text-align: right;\n",
       "    }\n",
       "</style>\n",
       "<table border=\"1\" class=\"dataframe\">\n",
       "  <thead>\n",
       "    <tr style=\"text-align: right;\">\n",
       "      <th></th>\n",
       "      <th>Id</th>\n",
       "      <th>LotArea</th>\n",
       "      <th>OverallQual</th>\n",
       "      <th>OverallCond</th>\n",
       "      <th>YearRemodAdd</th>\n",
       "      <th>MasVnrArea</th>\n",
       "      <th>GrLivArea</th>\n",
       "      <th>BsmtFullBath</th>\n",
       "      <th>BsmtHalfBath</th>\n",
       "      <th>FullBath</th>\n",
       "      <th>HalfBath</th>\n",
       "      <th>BedroomAbvGr</th>\n",
       "      <th>Fireplaces</th>\n",
       "      <th>GarageArea</th>\n",
       "      <th>SalePrice</th>\n",
       "    </tr>\n",
       "  </thead>\n",
       "  <tbody>\n",
       "    <tr>\n",
       "      <td>326</td>\n",
       "      <td>327</td>\n",
       "      <td>10846</td>\n",
       "      <td>8</td>\n",
       "      <td>5</td>\n",
       "      <td>1993</td>\n",
       "      <td>0.0</td>\n",
       "      <td>1719</td>\n",
       "      <td>2</td>\n",
       "      <td>0</td>\n",
       "      <td>1</td>\n",
       "      <td>1</td>\n",
       "      <td>1</td>\n",
       "      <td>2</td>\n",
       "      <td>473</td>\n",
       "      <td>324000</td>\n",
       "    </tr>\n",
       "    <tr>\n",
       "      <td>342</td>\n",
       "      <td>343</td>\n",
       "      <td>8544</td>\n",
       "      <td>3</td>\n",
       "      <td>4</td>\n",
       "      <td>1950</td>\n",
       "      <td>340.0</td>\n",
       "      <td>1040</td>\n",
       "      <td>0</td>\n",
       "      <td>0</td>\n",
       "      <td>2</td>\n",
       "      <td>0</td>\n",
       "      <td>2</td>\n",
       "      <td>0</td>\n",
       "      <td>400</td>\n",
       "      <td>87500</td>\n",
       "    </tr>\n",
       "    <tr>\n",
       "      <td>740</td>\n",
       "      <td>741</td>\n",
       "      <td>9600</td>\n",
       "      <td>5</td>\n",
       "      <td>7</td>\n",
       "      <td>2002</td>\n",
       "      <td>0.0</td>\n",
       "      <td>1432</td>\n",
       "      <td>0</td>\n",
       "      <td>0</td>\n",
       "      <td>2</td>\n",
       "      <td>0</td>\n",
       "      <td>2</td>\n",
       "      <td>0</td>\n",
       "      <td>360</td>\n",
       "      <td>132000</td>\n",
       "    </tr>\n",
       "    <tr>\n",
       "      <td>1275</td>\n",
       "      <td>1276</td>\n",
       "      <td>11345</td>\n",
       "      <td>5</td>\n",
       "      <td>5</td>\n",
       "      <td>1950</td>\n",
       "      <td>567.0</td>\n",
       "      <td>1920</td>\n",
       "      <td>0</td>\n",
       "      <td>0</td>\n",
       "      <td>2</td>\n",
       "      <td>0</td>\n",
       "      <td>4</td>\n",
       "      <td>0</td>\n",
       "      <td>400</td>\n",
       "      <td>137000</td>\n",
       "    </tr>\n",
       "    <tr>\n",
       "      <td>303</td>\n",
       "      <td>304</td>\n",
       "      <td>9800</td>\n",
       "      <td>5</td>\n",
       "      <td>7</td>\n",
       "      <td>1972</td>\n",
       "      <td>0.0</td>\n",
       "      <td>894</td>\n",
       "      <td>1</td>\n",
       "      <td>0</td>\n",
       "      <td>1</td>\n",
       "      <td>0</td>\n",
       "      <td>3</td>\n",
       "      <td>0</td>\n",
       "      <td>552</td>\n",
       "      <td>149900</td>\n",
       "    </tr>\n",
       "  </tbody>\n",
       "</table>\n",
       "</div>"
      ],
      "text/plain": [
       "        Id  LotArea  OverallQual  OverallCond  YearRemodAdd  MasVnrArea  \\\n",
       "326    327    10846            8            5          1993         0.0   \n",
       "342    343     8544            3            4          1950       340.0   \n",
       "740    741     9600            5            7          2002         0.0   \n",
       "1275  1276    11345            5            5          1950       567.0   \n",
       "303    304     9800            5            7          1972         0.0   \n",
       "\n",
       "      GrLivArea  BsmtFullBath  BsmtHalfBath  FullBath  HalfBath  BedroomAbvGr  \\\n",
       "326        1719             2             0         1         1             1   \n",
       "342        1040             0             0         2         0             2   \n",
       "740        1432             0             0         2         0             2   \n",
       "1275       1920             0             0         2         0             4   \n",
       "303         894             1             0         1         0             3   \n",
       "\n",
       "      Fireplaces  GarageArea  SalePrice  \n",
       "326            2         473     324000  \n",
       "342            0         400      87500  \n",
       "740            0         360     132000  \n",
       "1275           0         400     137000  \n",
       "303            0         552     149900  "
      ]
     },
     "execution_count": 27,
     "metadata": {},
     "output_type": "execute_result"
    }
   ],
   "source": [
    "X_train.head()"
   ]
  },
  {
   "cell_type": "code",
   "execution_count": 28,
   "metadata": {},
   "outputs": [
    {
     "data": {
      "text/plain": [
       "(1089, 15)"
      ]
     },
     "execution_count": 28,
     "metadata": {},
     "output_type": "execute_result"
    }
   ],
   "source": [
    "X_train.shape"
   ]
  },
  {
   "cell_type": "code",
   "execution_count": 29,
   "metadata": {},
   "outputs": [
    {
     "data": {
      "text/plain": [
       "(1089,)"
      ]
     },
     "execution_count": 29,
     "metadata": {},
     "output_type": "execute_result"
    }
   ],
   "source": [
    "y_train.shape"
   ]
  },
  {
   "cell_type": "markdown",
   "metadata": {},
   "source": [
    "# Pre-processing"
   ]
  },
  {
   "cell_type": "code",
   "execution_count": 30,
   "metadata": {},
   "outputs": [],
   "source": [
    "# Create a StandardScaler model and fit it to the training data\n",
    "from sklearn.preprocessing import MinMaxScaler\n",
    "X_scaler = MinMaxScaler().fit(X_train)"
   ]
  },
  {
   "cell_type": "code",
   "execution_count": 31,
   "metadata": {},
   "outputs": [],
   "source": [
    "# Transform the training and testing data using the X_scaler\n",
    "X_train_scaled = X_scaler.transform(X_train)"
   ]
  },
  {
   "cell_type": "code",
   "execution_count": 32,
   "metadata": {},
   "outputs": [],
   "source": [
    "X_test_scaled = X_scaler.transform(X_test)"
   ]
  },
  {
   "cell_type": "markdown",
   "metadata": {},
   "source": [
    "# Train the Model "
   ]
  },
  {
   "cell_type": "code",
   "execution_count": 33,
   "metadata": {},
   "outputs": [
    {
     "name": "stderr",
     "output_type": "stream",
     "text": [
      "C:\\Users\\sanak\\Anaconda3\\lib\\site-packages\\sklearn\\linear_model\\logistic.py:432: FutureWarning: Default solver will be changed to 'lbfgs' in 0.22. Specify a solver to silence this warning.\n",
      "  FutureWarning)\n",
      "C:\\Users\\sanak\\Anaconda3\\lib\\site-packages\\sklearn\\linear_model\\logistic.py:469: FutureWarning: Default multi_class will be changed to 'auto' in 0.22. Specify the multi_class option to silence this warning.\n",
      "  \"this warning.\", FutureWarning)\n"
     ]
    },
    {
     "data": {
      "text/plain": [
       "LogisticRegression(C=1.0, class_weight=None, dual=False, fit_intercept=True,\n",
       "                   intercept_scaling=1, l1_ratio=None, max_iter=100,\n",
       "                   multi_class='warn', n_jobs=None, penalty='l2',\n",
       "                   random_state=None, solver='warn', tol=0.0001, verbose=0,\n",
       "                   warm_start=False)"
      ]
     },
     "execution_count": 33,
     "metadata": {},
     "output_type": "execute_result"
    }
   ],
   "source": [
    "from sklearn.linear_model import LogisticRegression\n",
    "model3 = LogisticRegression()\n",
    "model3.fit(X_train, y_train)"
   ]
  },
  {
   "cell_type": "code",
   "execution_count": 34,
   "metadata": {},
   "outputs": [
    {
     "name": "stdout",
     "output_type": "stream",
     "text": [
      "Training Data Score: 0.0\n",
      "Testing Data Score: 0.0\n"
     ]
    }
   ],
   "source": [
    "print(f\"Training Data Score: {model.score(X_train, y_train)}\")\n",
    "print(f\"Testing Data Score: {model.score(X_test, y_test)}\")"
   ]
  },
  {
   "cell_type": "code",
   "execution_count": 35,
   "metadata": {},
   "outputs": [
    {
     "name": "stderr",
     "output_type": "stream",
     "text": [
      "C:\\Users\\sanak\\Anaconda3\\lib\\site-packages\\sklearn\\linear_model\\logistic.py:432: FutureWarning: Default solver will be changed to 'lbfgs' in 0.22. Specify a solver to silence this warning.\n",
      "  FutureWarning)\n",
      "C:\\Users\\sanak\\Anaconda3\\lib\\site-packages\\sklearn\\linear_model\\logistic.py:469: FutureWarning: Default multi_class will be changed to 'auto' in 0.22. Specify the multi_class option to silence this warning.\n",
      "  \"this warning.\", FutureWarning)\n"
     ]
    },
    {
     "data": {
      "text/plain": [
       "LogisticRegression(C=1.0, class_weight=None, dual=False, fit_intercept=True,\n",
       "                   intercept_scaling=1, l1_ratio=None, max_iter=100,\n",
       "                   multi_class='warn', n_jobs=None, penalty='l2',\n",
       "                   random_state=None, solver='warn', tol=0.0001, verbose=0,\n",
       "                   warm_start=False)"
      ]
     },
     "execution_count": 35,
     "metadata": {},
     "output_type": "execute_result"
    }
   ],
   "source": [
    "from sklearn.linear_model import LogisticRegression\n",
    "model4 = LogisticRegression()\n",
    "model4.fit(X_train_scaled, y_train)"
   ]
  },
  {
   "cell_type": "code",
   "execution_count": 36,
   "metadata": {},
   "outputs": [
    {
     "name": "stdout",
     "output_type": "stream",
     "text": [
      "Training Data Score: 0.0\n",
      "Testing Data Score: 0.0\n"
     ]
    }
   ],
   "source": [
    "print(f\"Training Data Score: {model2.score(X_train_scaled, y_train)}\")\n",
    "print(f\"Testing Data Score: {model2.score(X_test_scaled, y_test)}\")"
   ]
  },
  {
   "cell_type": "markdown",
   "metadata": {},
   "source": [
    "# Hyperparameter Tuning"
   ]
  },
  {
   "cell_type": "code",
   "execution_count": 37,
   "metadata": {},
   "outputs": [],
   "source": [
    "# Create the GridSearchCV model\n",
    "from sklearn.model_selection import GridSearchCV \n",
    "param_grid = {'C': [1, 5, 10],\n",
    "              'max_iter': [500, 1000, 5000],\n",
    "              'penalty': [\"l1\", \"l2\"]}\n",
    "grid = GridSearchCV(model, param_grid, verbose=3)"
   ]
  },
  {
   "cell_type": "code",
   "execution_count": 38,
   "metadata": {},
   "outputs": [
    {
     "name": "stderr",
     "output_type": "stream",
     "text": [
      "C:\\Users\\sanak\\Anaconda3\\lib\\site-packages\\sklearn\\model_selection\\_split.py:1978: FutureWarning: The default value of cv will change from 3 to 5 in version 0.22. Specify it explicitly to silence this warning.\n",
      "  warnings.warn(CV_WARNING, FutureWarning)\n",
      "C:\\Users\\sanak\\Anaconda3\\lib\\site-packages\\sklearn\\model_selection\\_split.py:657: Warning: The least populated class in y has only 1 members, which is too few. The minimum number of members in any class cannot be less than n_splits=3.\n",
      "  % (min_groups, self.n_splits)), Warning)\n",
      "[Parallel(n_jobs=1)]: Using backend SequentialBackend with 1 concurrent workers.\n",
      "C:\\Users\\sanak\\Anaconda3\\lib\\site-packages\\sklearn\\linear_model\\logistic.py:432: FutureWarning: Default solver will be changed to 'lbfgs' in 0.22. Specify a solver to silence this warning.\n",
      "  FutureWarning)\n",
      "C:\\Users\\sanak\\Anaconda3\\lib\\site-packages\\sklearn\\linear_model\\logistic.py:469: FutureWarning: Default multi_class will be changed to 'auto' in 0.22. Specify the multi_class option to silence this warning.\n",
      "  \"this warning.\", FutureWarning)\n"
     ]
    },
    {
     "name": "stdout",
     "output_type": "stream",
     "text": [
      "Fitting 3 folds for each of 18 candidates, totalling 54 fits\n",
      "[CV] C=1, max_iter=500, penalty=l1 ...................................\n",
      "[CV] ....... C=1, max_iter=500, penalty=l1, score=0.391, total=   0.3s\n",
      "[CV] C=1, max_iter=500, penalty=l1 ...................................\n"
     ]
    },
    {
     "name": "stderr",
     "output_type": "stream",
     "text": [
      "[Parallel(n_jobs=1)]: Done   1 out of   1 | elapsed:    0.2s remaining:    0.0s\n",
      "C:\\Users\\sanak\\Anaconda3\\lib\\site-packages\\sklearn\\linear_model\\logistic.py:432: FutureWarning: Default solver will be changed to 'lbfgs' in 0.22. Specify a solver to silence this warning.\n",
      "  FutureWarning)\n",
      "C:\\Users\\sanak\\Anaconda3\\lib\\site-packages\\sklearn\\linear_model\\logistic.py:469: FutureWarning: Default multi_class will be changed to 'auto' in 0.22. Specify the multi_class option to silence this warning.\n",
      "  \"this warning.\", FutureWarning)\n"
     ]
    },
    {
     "name": "stdout",
     "output_type": "stream",
     "text": [
      "[CV] ....... C=1, max_iter=500, penalty=l1, score=0.360, total=   0.3s\n",
      "[CV] C=1, max_iter=500, penalty=l1 ...................................\n"
     ]
    },
    {
     "name": "stderr",
     "output_type": "stream",
     "text": [
      "[Parallel(n_jobs=1)]: Done   2 out of   2 | elapsed:    0.5s remaining:    0.0s\n",
      "C:\\Users\\sanak\\Anaconda3\\lib\\site-packages\\sklearn\\linear_model\\logistic.py:432: FutureWarning: Default solver will be changed to 'lbfgs' in 0.22. Specify a solver to silence this warning.\n",
      "  FutureWarning)\n",
      "C:\\Users\\sanak\\Anaconda3\\lib\\site-packages\\sklearn\\linear_model\\logistic.py:469: FutureWarning: Default multi_class will be changed to 'auto' in 0.22. Specify the multi_class option to silence this warning.\n",
      "  \"this warning.\", FutureWarning)\n"
     ]
    },
    {
     "name": "stdout",
     "output_type": "stream",
     "text": [
      "[CV] ....... C=1, max_iter=500, penalty=l1, score=0.383, total=   0.4s\n",
      "[CV] C=1, max_iter=500, penalty=l2 ...................................\n",
      "[CV] ....... C=1, max_iter=500, penalty=l2, score=0.314, total=   0.1s\n",
      "[CV] C=1, max_iter=500, penalty=l2 ...................................\n"
     ]
    },
    {
     "name": "stderr",
     "output_type": "stream",
     "text": [
      "C:\\Users\\sanak\\Anaconda3\\lib\\site-packages\\sklearn\\linear_model\\logistic.py:432: FutureWarning: Default solver will be changed to 'lbfgs' in 0.22. Specify a solver to silence this warning.\n",
      "  FutureWarning)\n",
      "C:\\Users\\sanak\\Anaconda3\\lib\\site-packages\\sklearn\\linear_model\\logistic.py:469: FutureWarning: Default multi_class will be changed to 'auto' in 0.22. Specify the multi_class option to silence this warning.\n",
      "  \"this warning.\", FutureWarning)\n",
      "C:\\Users\\sanak\\Anaconda3\\lib\\site-packages\\sklearn\\linear_model\\logistic.py:432: FutureWarning: Default solver will be changed to 'lbfgs' in 0.22. Specify a solver to silence this warning.\n",
      "  FutureWarning)\n",
      "C:\\Users\\sanak\\Anaconda3\\lib\\site-packages\\sklearn\\linear_model\\logistic.py:469: FutureWarning: Default multi_class will be changed to 'auto' in 0.22. Specify the multi_class option to silence this warning.\n",
      "  \"this warning.\", FutureWarning)\n"
     ]
    },
    {
     "name": "stdout",
     "output_type": "stream",
     "text": [
      "[CV] ....... C=1, max_iter=500, penalty=l2, score=0.293, total=   0.1s\n",
      "[CV] C=1, max_iter=500, penalty=l2 ...................................\n",
      "[CV] ....... C=1, max_iter=500, penalty=l2, score=0.310, total=   0.1s\n",
      "[CV] C=1, max_iter=1000, penalty=l1 ..................................\n"
     ]
    },
    {
     "name": "stderr",
     "output_type": "stream",
     "text": [
      "C:\\Users\\sanak\\Anaconda3\\lib\\site-packages\\sklearn\\linear_model\\logistic.py:432: FutureWarning: Default solver will be changed to 'lbfgs' in 0.22. Specify a solver to silence this warning.\n",
      "  FutureWarning)\n",
      "C:\\Users\\sanak\\Anaconda3\\lib\\site-packages\\sklearn\\linear_model\\logistic.py:469: FutureWarning: Default multi_class will be changed to 'auto' in 0.22. Specify the multi_class option to silence this warning.\n",
      "  \"this warning.\", FutureWarning)\n",
      "C:\\Users\\sanak\\Anaconda3\\lib\\site-packages\\sklearn\\linear_model\\logistic.py:432: FutureWarning: Default solver will be changed to 'lbfgs' in 0.22. Specify a solver to silence this warning.\n",
      "  FutureWarning)\n",
      "C:\\Users\\sanak\\Anaconda3\\lib\\site-packages\\sklearn\\linear_model\\logistic.py:469: FutureWarning: Default multi_class will be changed to 'auto' in 0.22. Specify the multi_class option to silence this warning.\n",
      "  \"this warning.\", FutureWarning)\n"
     ]
    },
    {
     "name": "stdout",
     "output_type": "stream",
     "text": [
      "[CV] ...... C=1, max_iter=1000, penalty=l1, score=0.394, total=   0.3s\n",
      "[CV] C=1, max_iter=1000, penalty=l1 ..................................\n"
     ]
    },
    {
     "name": "stderr",
     "output_type": "stream",
     "text": [
      "C:\\Users\\sanak\\Anaconda3\\lib\\site-packages\\sklearn\\linear_model\\logistic.py:432: FutureWarning: Default solver will be changed to 'lbfgs' in 0.22. Specify a solver to silence this warning.\n",
      "  FutureWarning)\n",
      "C:\\Users\\sanak\\Anaconda3\\lib\\site-packages\\sklearn\\linear_model\\logistic.py:469: FutureWarning: Default multi_class will be changed to 'auto' in 0.22. Specify the multi_class option to silence this warning.\n",
      "  \"this warning.\", FutureWarning)\n"
     ]
    },
    {
     "name": "stdout",
     "output_type": "stream",
     "text": [
      "[CV] ...... C=1, max_iter=1000, penalty=l1, score=0.363, total=   0.3s\n",
      "[CV] C=1, max_iter=1000, penalty=l1 ..................................\n"
     ]
    },
    {
     "name": "stderr",
     "output_type": "stream",
     "text": [
      "C:\\Users\\sanak\\Anaconda3\\lib\\site-packages\\sklearn\\linear_model\\logistic.py:432: FutureWarning: Default solver will be changed to 'lbfgs' in 0.22. Specify a solver to silence this warning.\n",
      "  FutureWarning)\n",
      "C:\\Users\\sanak\\Anaconda3\\lib\\site-packages\\sklearn\\linear_model\\logistic.py:469: FutureWarning: Default multi_class will be changed to 'auto' in 0.22. Specify the multi_class option to silence this warning.\n",
      "  \"this warning.\", FutureWarning)\n"
     ]
    },
    {
     "name": "stdout",
     "output_type": "stream",
     "text": [
      "[CV] ...... C=1, max_iter=1000, penalty=l1, score=0.383, total=   0.4s\n",
      "[CV] C=1, max_iter=1000, penalty=l2 ..................................\n",
      "[CV] ...... C=1, max_iter=1000, penalty=l2, score=0.314, total=   0.1s\n",
      "[CV] C=1, max_iter=1000, penalty=l2 ..................................\n",
      "[CV] ...... C=1, max_iter=1000, penalty=l2, score=0.293, total=   0.1s"
     ]
    },
    {
     "name": "stderr",
     "output_type": "stream",
     "text": [
      "C:\\Users\\sanak\\Anaconda3\\lib\\site-packages\\sklearn\\linear_model\\logistic.py:432: FutureWarning: Default solver will be changed to 'lbfgs' in 0.22. Specify a solver to silence this warning.\n",
      "  FutureWarning)\n",
      "C:\\Users\\sanak\\Anaconda3\\lib\\site-packages\\sklearn\\linear_model\\logistic.py:469: FutureWarning: Default multi_class will be changed to 'auto' in 0.22. Specify the multi_class option to silence this warning.\n",
      "  \"this warning.\", FutureWarning)\n",
      "C:\\Users\\sanak\\Anaconda3\\lib\\site-packages\\sklearn\\linear_model\\logistic.py:432: FutureWarning: Default solver will be changed to 'lbfgs' in 0.22. Specify a solver to silence this warning.\n",
      "  FutureWarning)\n",
      "C:\\Users\\sanak\\Anaconda3\\lib\\site-packages\\sklearn\\linear_model\\logistic.py:469: FutureWarning: Default multi_class will be changed to 'auto' in 0.22. Specify the multi_class option to silence this warning.\n",
      "  \"this warning.\", FutureWarning)\n"
     ]
    },
    {
     "name": "stdout",
     "output_type": "stream",
     "text": [
      "\n",
      "[CV] C=1, max_iter=1000, penalty=l2 ..................................\n",
      "[CV] ...... C=1, max_iter=1000, penalty=l2, score=0.310, total=   0.1s\n",
      "[CV] C=1, max_iter=5000, penalty=l1 ..................................\n"
     ]
    },
    {
     "name": "stderr",
     "output_type": "stream",
     "text": [
      "C:\\Users\\sanak\\Anaconda3\\lib\\site-packages\\sklearn\\linear_model\\logistic.py:432: FutureWarning: Default solver will be changed to 'lbfgs' in 0.22. Specify a solver to silence this warning.\n",
      "  FutureWarning)\n",
      "C:\\Users\\sanak\\Anaconda3\\lib\\site-packages\\sklearn\\linear_model\\logistic.py:469: FutureWarning: Default multi_class will be changed to 'auto' in 0.22. Specify the multi_class option to silence this warning.\n",
      "  \"this warning.\", FutureWarning)\n",
      "C:\\Users\\sanak\\Anaconda3\\lib\\site-packages\\sklearn\\linear_model\\logistic.py:432: FutureWarning: Default solver will be changed to 'lbfgs' in 0.22. Specify a solver to silence this warning.\n",
      "  FutureWarning)\n",
      "C:\\Users\\sanak\\Anaconda3\\lib\\site-packages\\sklearn\\linear_model\\logistic.py:469: FutureWarning: Default multi_class will be changed to 'auto' in 0.22. Specify the multi_class option to silence this warning.\n",
      "  \"this warning.\", FutureWarning)\n"
     ]
    },
    {
     "name": "stdout",
     "output_type": "stream",
     "text": [
      "[CV] ...... C=1, max_iter=5000, penalty=l1, score=0.391, total=   0.4s\n",
      "[CV] C=1, max_iter=5000, penalty=l1 ..................................\n"
     ]
    },
    {
     "name": "stderr",
     "output_type": "stream",
     "text": [
      "C:\\Users\\sanak\\Anaconda3\\lib\\site-packages\\sklearn\\linear_model\\logistic.py:432: FutureWarning: Default solver will be changed to 'lbfgs' in 0.22. Specify a solver to silence this warning.\n",
      "  FutureWarning)\n",
      "C:\\Users\\sanak\\Anaconda3\\lib\\site-packages\\sklearn\\linear_model\\logistic.py:469: FutureWarning: Default multi_class will be changed to 'auto' in 0.22. Specify the multi_class option to silence this warning.\n",
      "  \"this warning.\", FutureWarning)\n"
     ]
    },
    {
     "name": "stdout",
     "output_type": "stream",
     "text": [
      "[CV] ...... C=1, max_iter=5000, penalty=l1, score=0.358, total=   0.2s\n",
      "[CV] C=1, max_iter=5000, penalty=l1 ..................................\n"
     ]
    },
    {
     "name": "stderr",
     "output_type": "stream",
     "text": [
      "C:\\Users\\sanak\\Anaconda3\\lib\\site-packages\\sklearn\\linear_model\\logistic.py:432: FutureWarning: Default solver will be changed to 'lbfgs' in 0.22. Specify a solver to silence this warning.\n",
      "  FutureWarning)\n",
      "C:\\Users\\sanak\\Anaconda3\\lib\\site-packages\\sklearn\\linear_model\\logistic.py:469: FutureWarning: Default multi_class will be changed to 'auto' in 0.22. Specify the multi_class option to silence this warning.\n",
      "  \"this warning.\", FutureWarning)\n"
     ]
    },
    {
     "name": "stdout",
     "output_type": "stream",
     "text": [
      "[CV] ...... C=1, max_iter=5000, penalty=l1, score=0.383, total=   0.4s\n",
      "[CV] C=1, max_iter=5000, penalty=l2 ..................................\n",
      "[CV] ...... C=1, max_iter=5000, penalty=l2, score=0.314, total=   0.1s\n",
      "[CV] C=1, max_iter=5000, penalty=l2 ..................................\n",
      "[CV] ...... C=1, max_iter=5000, penalty=l2, score=0.293, total=   0.1s\n",
      "[CV] C=1, max_iter=5000, penalty=l2 ..................................\n"
     ]
    },
    {
     "name": "stderr",
     "output_type": "stream",
     "text": [
      "C:\\Users\\sanak\\Anaconda3\\lib\\site-packages\\sklearn\\linear_model\\logistic.py:432: FutureWarning: Default solver will be changed to 'lbfgs' in 0.22. Specify a solver to silence this warning.\n",
      "  FutureWarning)\n",
      "C:\\Users\\sanak\\Anaconda3\\lib\\site-packages\\sklearn\\linear_model\\logistic.py:469: FutureWarning: Default multi_class will be changed to 'auto' in 0.22. Specify the multi_class option to silence this warning.\n",
      "  \"this warning.\", FutureWarning)\n",
      "C:\\Users\\sanak\\Anaconda3\\lib\\site-packages\\sklearn\\linear_model\\logistic.py:432: FutureWarning: Default solver will be changed to 'lbfgs' in 0.22. Specify a solver to silence this warning.\n",
      "  FutureWarning)\n",
      "C:\\Users\\sanak\\Anaconda3\\lib\\site-packages\\sklearn\\linear_model\\logistic.py:469: FutureWarning: Default multi_class will be changed to 'auto' in 0.22. Specify the multi_class option to silence this warning.\n",
      "  \"this warning.\", FutureWarning)\n",
      "C:\\Users\\sanak\\Anaconda3\\lib\\site-packages\\sklearn\\linear_model\\logistic.py:432: FutureWarning: Default solver will be changed to 'lbfgs' in 0.22. Specify a solver to silence this warning.\n",
      "  FutureWarning)\n",
      "C:\\Users\\sanak\\Anaconda3\\lib\\site-packages\\sklearn\\linear_model\\logistic.py:469: FutureWarning: Default multi_class will be changed to 'auto' in 0.22. Specify the multi_class option to silence this warning.\n",
      "  \"this warning.\", FutureWarning)\n"
     ]
    },
    {
     "name": "stdout",
     "output_type": "stream",
     "text": [
      "[CV] ...... C=1, max_iter=5000, penalty=l2, score=0.310, total=   0.1s\n",
      "[CV] C=5, max_iter=500, penalty=l1 ...................................\n"
     ]
    },
    {
     "name": "stderr",
     "output_type": "stream",
     "text": [
      "C:\\Users\\sanak\\Anaconda3\\lib\\site-packages\\sklearn\\linear_model\\logistic.py:432: FutureWarning: Default solver will be changed to 'lbfgs' in 0.22. Specify a solver to silence this warning.\n",
      "  FutureWarning)\n",
      "C:\\Users\\sanak\\Anaconda3\\lib\\site-packages\\sklearn\\linear_model\\logistic.py:469: FutureWarning: Default multi_class will be changed to 'auto' in 0.22. Specify the multi_class option to silence this warning.\n",
      "  \"this warning.\", FutureWarning)\n"
     ]
    },
    {
     "name": "stdout",
     "output_type": "stream",
     "text": [
      "[CV] ....... C=5, max_iter=500, penalty=l1, score=0.394, total=   0.5s\n",
      "[CV] C=5, max_iter=500, penalty=l1 ...................................\n"
     ]
    },
    {
     "name": "stderr",
     "output_type": "stream",
     "text": [
      "C:\\Users\\sanak\\Anaconda3\\lib\\site-packages\\sklearn\\linear_model\\logistic.py:432: FutureWarning: Default solver will be changed to 'lbfgs' in 0.22. Specify a solver to silence this warning.\n",
      "  FutureWarning)\n",
      "C:\\Users\\sanak\\Anaconda3\\lib\\site-packages\\sklearn\\linear_model\\logistic.py:469: FutureWarning: Default multi_class will be changed to 'auto' in 0.22. Specify the multi_class option to silence this warning.\n",
      "  \"this warning.\", FutureWarning)\n"
     ]
    },
    {
     "name": "stdout",
     "output_type": "stream",
     "text": [
      "[CV] ....... C=5, max_iter=500, penalty=l1, score=0.360, total=   0.4s\n",
      "[CV] C=5, max_iter=500, penalty=l1 ...................................\n"
     ]
    },
    {
     "name": "stderr",
     "output_type": "stream",
     "text": [
      "C:\\Users\\sanak\\Anaconda3\\lib\\site-packages\\sklearn\\linear_model\\logistic.py:432: FutureWarning: Default solver will be changed to 'lbfgs' in 0.22. Specify a solver to silence this warning.\n",
      "  FutureWarning)\n",
      "C:\\Users\\sanak\\Anaconda3\\lib\\site-packages\\sklearn\\linear_model\\logistic.py:469: FutureWarning: Default multi_class will be changed to 'auto' in 0.22. Specify the multi_class option to silence this warning.\n",
      "  \"this warning.\", FutureWarning)\n"
     ]
    },
    {
     "name": "stdout",
     "output_type": "stream",
     "text": [
      "[CV] ....... C=5, max_iter=500, penalty=l1, score=0.377, total=   0.4s\n",
      "[CV] C=5, max_iter=500, penalty=l2 ...................................\n",
      "[CV] ....... C=5, max_iter=500, penalty=l2, score=0.311, total=   0.1s\n",
      "[CV] C=5, max_iter=500, penalty=l2 ...................................\n",
      "[CV] ....... C=5, max_iter=500, penalty=l2, score=0.293, total=   0.1s\n",
      "[CV] C=5, max_iter=500, penalty=l2 ...................................\n"
     ]
    },
    {
     "name": "stderr",
     "output_type": "stream",
     "text": [
      "C:\\Users\\sanak\\Anaconda3\\lib\\site-packages\\sklearn\\linear_model\\logistic.py:432: FutureWarning: Default solver will be changed to 'lbfgs' in 0.22. Specify a solver to silence this warning.\n",
      "  FutureWarning)\n",
      "C:\\Users\\sanak\\Anaconda3\\lib\\site-packages\\sklearn\\linear_model\\logistic.py:469: FutureWarning: Default multi_class will be changed to 'auto' in 0.22. Specify the multi_class option to silence this warning.\n",
      "  \"this warning.\", FutureWarning)\n",
      "C:\\Users\\sanak\\Anaconda3\\lib\\site-packages\\sklearn\\linear_model\\logistic.py:432: FutureWarning: Default solver will be changed to 'lbfgs' in 0.22. Specify a solver to silence this warning.\n",
      "  FutureWarning)\n",
      "C:\\Users\\sanak\\Anaconda3\\lib\\site-packages\\sklearn\\linear_model\\logistic.py:469: FutureWarning: Default multi_class will be changed to 'auto' in 0.22. Specify the multi_class option to silence this warning.\n",
      "  \"this warning.\", FutureWarning)\n"
     ]
    },
    {
     "name": "stdout",
     "output_type": "stream",
     "text": [
      "[CV] ....... C=5, max_iter=500, penalty=l2, score=0.310, total=   0.1s\n",
      "[CV] C=5, max_iter=1000, penalty=l1 ..................................\n"
     ]
    },
    {
     "name": "stderr",
     "output_type": "stream",
     "text": [
      "C:\\Users\\sanak\\Anaconda3\\lib\\site-packages\\sklearn\\linear_model\\logistic.py:432: FutureWarning: Default solver will be changed to 'lbfgs' in 0.22. Specify a solver to silence this warning.\n",
      "  FutureWarning)\n",
      "C:\\Users\\sanak\\Anaconda3\\lib\\site-packages\\sklearn\\linear_model\\logistic.py:469: FutureWarning: Default multi_class will be changed to 'auto' in 0.22. Specify the multi_class option to silence this warning.\n",
      "  \"this warning.\", FutureWarning)\n",
      "C:\\Users\\sanak\\Anaconda3\\lib\\site-packages\\sklearn\\linear_model\\logistic.py:432: FutureWarning: Default solver will be changed to 'lbfgs' in 0.22. Specify a solver to silence this warning.\n",
      "  FutureWarning)\n",
      "C:\\Users\\sanak\\Anaconda3\\lib\\site-packages\\sklearn\\linear_model\\logistic.py:469: FutureWarning: Default multi_class will be changed to 'auto' in 0.22. Specify the multi_class option to silence this warning.\n",
      "  \"this warning.\", FutureWarning)\n"
     ]
    },
    {
     "name": "stdout",
     "output_type": "stream",
     "text": [
      "[CV] ...... C=5, max_iter=1000, penalty=l1, score=0.394, total=   0.5s\n",
      "[CV] C=5, max_iter=1000, penalty=l1 ..................................\n"
     ]
    },
    {
     "name": "stderr",
     "output_type": "stream",
     "text": [
      "C:\\Users\\sanak\\Anaconda3\\lib\\site-packages\\sklearn\\linear_model\\logistic.py:432: FutureWarning: Default solver will be changed to 'lbfgs' in 0.22. Specify a solver to silence this warning.\n",
      "  FutureWarning)\n",
      "C:\\Users\\sanak\\Anaconda3\\lib\\site-packages\\sklearn\\linear_model\\logistic.py:469: FutureWarning: Default multi_class will be changed to 'auto' in 0.22. Specify the multi_class option to silence this warning.\n",
      "  \"this warning.\", FutureWarning)\n"
     ]
    },
    {
     "name": "stdout",
     "output_type": "stream",
     "text": [
      "[CV] ...... C=5, max_iter=1000, penalty=l1, score=0.363, total=   0.4s\n",
      "[CV] C=5, max_iter=1000, penalty=l1 ..................................\n"
     ]
    },
    {
     "name": "stderr",
     "output_type": "stream",
     "text": [
      "C:\\Users\\sanak\\Anaconda3\\lib\\site-packages\\sklearn\\linear_model\\logistic.py:432: FutureWarning: Default solver will be changed to 'lbfgs' in 0.22. Specify a solver to silence this warning.\n",
      "  FutureWarning)\n",
      "C:\\Users\\sanak\\Anaconda3\\lib\\site-packages\\sklearn\\linear_model\\logistic.py:469: FutureWarning: Default multi_class will be changed to 'auto' in 0.22. Specify the multi_class option to silence this warning.\n",
      "  \"this warning.\", FutureWarning)\n"
     ]
    },
    {
     "name": "stdout",
     "output_type": "stream",
     "text": [
      "[CV] ...... C=5, max_iter=1000, penalty=l1, score=0.380, total=   0.5s\n",
      "[CV] C=5, max_iter=1000, penalty=l2 ..................................\n",
      "[CV] ...... C=5, max_iter=1000, penalty=l2, score=0.311, total=   0.1s\n",
      "[CV] C=5, max_iter=1000, penalty=l2 ..................................\n",
      "[CV] ...... C=5, max_iter=1000, penalty=l2, score=0.293, total=   0.1s\n",
      "[CV] C=5, max_iter=1000, penalty=l2 ..................................\n"
     ]
    },
    {
     "name": "stderr",
     "output_type": "stream",
     "text": [
      "C:\\Users\\sanak\\Anaconda3\\lib\\site-packages\\sklearn\\linear_model\\logistic.py:432: FutureWarning: Default solver will be changed to 'lbfgs' in 0.22. Specify a solver to silence this warning.\n",
      "  FutureWarning)\n",
      "C:\\Users\\sanak\\Anaconda3\\lib\\site-packages\\sklearn\\linear_model\\logistic.py:469: FutureWarning: Default multi_class will be changed to 'auto' in 0.22. Specify the multi_class option to silence this warning.\n",
      "  \"this warning.\", FutureWarning)\n",
      "C:\\Users\\sanak\\Anaconda3\\lib\\site-packages\\sklearn\\linear_model\\logistic.py:432: FutureWarning: Default solver will be changed to 'lbfgs' in 0.22. Specify a solver to silence this warning.\n",
      "  FutureWarning)\n",
      "C:\\Users\\sanak\\Anaconda3\\lib\\site-packages\\sklearn\\linear_model\\logistic.py:469: FutureWarning: Default multi_class will be changed to 'auto' in 0.22. Specify the multi_class option to silence this warning.\n",
      "  \"this warning.\", FutureWarning)\n",
      "C:\\Users\\sanak\\Anaconda3\\lib\\site-packages\\sklearn\\linear_model\\logistic.py:432: FutureWarning: Default solver will be changed to 'lbfgs' in 0.22. Specify a solver to silence this warning.\n",
      "  FutureWarning)\n",
      "C:\\Users\\sanak\\Anaconda3\\lib\\site-packages\\sklearn\\linear_model\\logistic.py:469: FutureWarning: Default multi_class will be changed to 'auto' in 0.22. Specify the multi_class option to silence this warning.\n",
      "  \"this warning.\", FutureWarning)\n"
     ]
    },
    {
     "name": "stdout",
     "output_type": "stream",
     "text": [
      "[CV] ...... C=5, max_iter=1000, penalty=l2, score=0.310, total=   0.1s\n",
      "[CV] C=5, max_iter=5000, penalty=l1 ..................................\n"
     ]
    },
    {
     "name": "stderr",
     "output_type": "stream",
     "text": [
      "C:\\Users\\sanak\\Anaconda3\\lib\\site-packages\\sklearn\\linear_model\\logistic.py:432: FutureWarning: Default solver will be changed to 'lbfgs' in 0.22. Specify a solver to silence this warning.\n",
      "  FutureWarning)\n",
      "C:\\Users\\sanak\\Anaconda3\\lib\\site-packages\\sklearn\\linear_model\\logistic.py:469: FutureWarning: Default multi_class will be changed to 'auto' in 0.22. Specify the multi_class option to silence this warning.\n",
      "  \"this warning.\", FutureWarning)\n"
     ]
    },
    {
     "name": "stdout",
     "output_type": "stream",
     "text": [
      "[CV] ...... C=5, max_iter=5000, penalty=l1, score=0.391, total=   0.5s\n",
      "[CV] C=5, max_iter=5000, penalty=l1 ..................................\n"
     ]
    },
    {
     "name": "stderr",
     "output_type": "stream",
     "text": [
      "C:\\Users\\sanak\\Anaconda3\\lib\\site-packages\\sklearn\\linear_model\\logistic.py:432: FutureWarning: Default solver will be changed to 'lbfgs' in 0.22. Specify a solver to silence this warning.\n",
      "  FutureWarning)\n",
      "C:\\Users\\sanak\\Anaconda3\\lib\\site-packages\\sklearn\\linear_model\\logistic.py:469: FutureWarning: Default multi_class will be changed to 'auto' in 0.22. Specify the multi_class option to silence this warning.\n",
      "  \"this warning.\", FutureWarning)\n"
     ]
    },
    {
     "name": "stdout",
     "output_type": "stream",
     "text": [
      "[CV] ...... C=5, max_iter=5000, penalty=l1, score=0.366, total=   0.4s\n",
      "[CV] C=5, max_iter=5000, penalty=l1 ..................................\n"
     ]
    },
    {
     "name": "stderr",
     "output_type": "stream",
     "text": [
      "C:\\Users\\sanak\\Anaconda3\\lib\\site-packages\\sklearn\\linear_model\\logistic.py:432: FutureWarning: Default solver will be changed to 'lbfgs' in 0.22. Specify a solver to silence this warning.\n",
      "  FutureWarning)\n",
      "C:\\Users\\sanak\\Anaconda3\\lib\\site-packages\\sklearn\\linear_model\\logistic.py:469: FutureWarning: Default multi_class will be changed to 'auto' in 0.22. Specify the multi_class option to silence this warning.\n",
      "  \"this warning.\", FutureWarning)\n"
     ]
    },
    {
     "name": "stdout",
     "output_type": "stream",
     "text": [
      "[CV] ...... C=5, max_iter=5000, penalty=l1, score=0.380, total=   0.4s\n",
      "[CV] C=5, max_iter=5000, penalty=l2 ..................................\n",
      "[CV] ...... C=5, max_iter=5000, penalty=l2, score=0.311, total=   0.1s\n",
      "[CV] C=5, max_iter=5000, penalty=l2 ..................................\n",
      "[CV] ...... C=5, max_iter=5000, penalty=l2, score=0.293, total=   0.1s"
     ]
    },
    {
     "name": "stderr",
     "output_type": "stream",
     "text": [
      "C:\\Users\\sanak\\Anaconda3\\lib\\site-packages\\sklearn\\linear_model\\logistic.py:432: FutureWarning: Default solver will be changed to 'lbfgs' in 0.22. Specify a solver to silence this warning.\n",
      "  FutureWarning)\n",
      "C:\\Users\\sanak\\Anaconda3\\lib\\site-packages\\sklearn\\linear_model\\logistic.py:469: FutureWarning: Default multi_class will be changed to 'auto' in 0.22. Specify the multi_class option to silence this warning.\n",
      "  \"this warning.\", FutureWarning)\n",
      "C:\\Users\\sanak\\Anaconda3\\lib\\site-packages\\sklearn\\linear_model\\logistic.py:432: FutureWarning: Default solver will be changed to 'lbfgs' in 0.22. Specify a solver to silence this warning.\n",
      "  FutureWarning)\n",
      "C:\\Users\\sanak\\Anaconda3\\lib\\site-packages\\sklearn\\linear_model\\logistic.py:469: FutureWarning: Default multi_class will be changed to 'auto' in 0.22. Specify the multi_class option to silence this warning.\n",
      "  \"this warning.\", FutureWarning)\n"
     ]
    },
    {
     "name": "stdout",
     "output_type": "stream",
     "text": [
      "\n",
      "[CV] C=5, max_iter=5000, penalty=l2 ..................................\n",
      "[CV] ...... C=5, max_iter=5000, penalty=l2, score=0.310, total=   0.1s\n",
      "[CV] C=10, max_iter=500, penalty=l1 ..................................\n"
     ]
    },
    {
     "name": "stderr",
     "output_type": "stream",
     "text": [
      "C:\\Users\\sanak\\Anaconda3\\lib\\site-packages\\sklearn\\linear_model\\logistic.py:432: FutureWarning: Default solver will be changed to 'lbfgs' in 0.22. Specify a solver to silence this warning.\n",
      "  FutureWarning)\n",
      "C:\\Users\\sanak\\Anaconda3\\lib\\site-packages\\sklearn\\linear_model\\logistic.py:469: FutureWarning: Default multi_class will be changed to 'auto' in 0.22. Specify the multi_class option to silence this warning.\n",
      "  \"this warning.\", FutureWarning)\n",
      "C:\\Users\\sanak\\Anaconda3\\lib\\site-packages\\sklearn\\linear_model\\logistic.py:432: FutureWarning: Default solver will be changed to 'lbfgs' in 0.22. Specify a solver to silence this warning.\n",
      "  FutureWarning)\n",
      "C:\\Users\\sanak\\Anaconda3\\lib\\site-packages\\sklearn\\linear_model\\logistic.py:469: FutureWarning: Default multi_class will be changed to 'auto' in 0.22. Specify the multi_class option to silence this warning.\n",
      "  \"this warning.\", FutureWarning)\n"
     ]
    },
    {
     "name": "stdout",
     "output_type": "stream",
     "text": [
      "[CV] ...... C=10, max_iter=500, penalty=l1, score=0.396, total=   0.6s\n",
      "[CV] C=10, max_iter=500, penalty=l1 ..................................\n"
     ]
    },
    {
     "name": "stderr",
     "output_type": "stream",
     "text": [
      "C:\\Users\\sanak\\Anaconda3\\lib\\site-packages\\sklearn\\linear_model\\logistic.py:432: FutureWarning: Default solver will be changed to 'lbfgs' in 0.22. Specify a solver to silence this warning.\n",
      "  FutureWarning)\n",
      "C:\\Users\\sanak\\Anaconda3\\lib\\site-packages\\sklearn\\linear_model\\logistic.py:469: FutureWarning: Default multi_class will be changed to 'auto' in 0.22. Specify the multi_class option to silence this warning.\n",
      "  \"this warning.\", FutureWarning)\n"
     ]
    },
    {
     "name": "stdout",
     "output_type": "stream",
     "text": [
      "[CV] ...... C=10, max_iter=500, penalty=l1, score=0.358, total=   0.5s\n",
      "[CV] C=10, max_iter=500, penalty=l1 ..................................\n"
     ]
    },
    {
     "name": "stderr",
     "output_type": "stream",
     "text": [
      "C:\\Users\\sanak\\Anaconda3\\lib\\site-packages\\sklearn\\linear_model\\logistic.py:432: FutureWarning: Default solver will be changed to 'lbfgs' in 0.22. Specify a solver to silence this warning.\n",
      "  FutureWarning)\n",
      "C:\\Users\\sanak\\Anaconda3\\lib\\site-packages\\sklearn\\linear_model\\logistic.py:469: FutureWarning: Default multi_class will be changed to 'auto' in 0.22. Specify the multi_class option to silence this warning.\n",
      "  \"this warning.\", FutureWarning)\n"
     ]
    },
    {
     "name": "stdout",
     "output_type": "stream",
     "text": [
      "[CV] ...... C=10, max_iter=500, penalty=l1, score=0.380, total=   0.4s\n",
      "[CV] C=10, max_iter=500, penalty=l2 ..................................\n",
      "[CV] ...... C=10, max_iter=500, penalty=l2, score=0.309, total=   0.1s\n",
      "[CV] C=10, max_iter=500, penalty=l2 ..................................\n",
      "[CV] ...... C=10, max_iter=500, penalty=l2, score=0.293, total=   0.1s\n",
      "[CV] C=10, max_iter=500, penalty=l2 ..................................\n"
     ]
    },
    {
     "name": "stderr",
     "output_type": "stream",
     "text": [
      "C:\\Users\\sanak\\Anaconda3\\lib\\site-packages\\sklearn\\linear_model\\logistic.py:432: FutureWarning: Default solver will be changed to 'lbfgs' in 0.22. Specify a solver to silence this warning.\n",
      "  FutureWarning)\n",
      "C:\\Users\\sanak\\Anaconda3\\lib\\site-packages\\sklearn\\linear_model\\logistic.py:469: FutureWarning: Default multi_class will be changed to 'auto' in 0.22. Specify the multi_class option to silence this warning.\n",
      "  \"this warning.\", FutureWarning)\n",
      "C:\\Users\\sanak\\Anaconda3\\lib\\site-packages\\sklearn\\linear_model\\logistic.py:432: FutureWarning: Default solver will be changed to 'lbfgs' in 0.22. Specify a solver to silence this warning.\n",
      "  FutureWarning)\n",
      "C:\\Users\\sanak\\Anaconda3\\lib\\site-packages\\sklearn\\linear_model\\logistic.py:469: FutureWarning: Default multi_class will be changed to 'auto' in 0.22. Specify the multi_class option to silence this warning.\n",
      "  \"this warning.\", FutureWarning)\n",
      "C:\\Users\\sanak\\Anaconda3\\lib\\site-packages\\sklearn\\linear_model\\logistic.py:432: FutureWarning: Default solver will be changed to 'lbfgs' in 0.22. Specify a solver to silence this warning.\n",
      "  FutureWarning)\n",
      "C:\\Users\\sanak\\Anaconda3\\lib\\site-packages\\sklearn\\linear_model\\logistic.py:469: FutureWarning: Default multi_class will be changed to 'auto' in 0.22. Specify the multi_class option to silence this warning.\n",
      "  \"this warning.\", FutureWarning)\n"
     ]
    },
    {
     "name": "stdout",
     "output_type": "stream",
     "text": [
      "[CV] ...... C=10, max_iter=500, penalty=l2, score=0.310, total=   0.1s\n",
      "[CV] C=10, max_iter=1000, penalty=l1 .................................\n"
     ]
    },
    {
     "name": "stderr",
     "output_type": "stream",
     "text": [
      "C:\\Users\\sanak\\Anaconda3\\lib\\site-packages\\sklearn\\linear_model\\logistic.py:432: FutureWarning: Default solver will be changed to 'lbfgs' in 0.22. Specify a solver to silence this warning.\n",
      "  FutureWarning)\n",
      "C:\\Users\\sanak\\Anaconda3\\lib\\site-packages\\sklearn\\linear_model\\logistic.py:469: FutureWarning: Default multi_class will be changed to 'auto' in 0.22. Specify the multi_class option to silence this warning.\n",
      "  \"this warning.\", FutureWarning)\n"
     ]
    },
    {
     "name": "stdout",
     "output_type": "stream",
     "text": [
      "[CV] ..... C=10, max_iter=1000, penalty=l1, score=0.396, total=   0.5s\n",
      "[CV] C=10, max_iter=1000, penalty=l1 .................................\n"
     ]
    },
    {
     "name": "stderr",
     "output_type": "stream",
     "text": [
      "C:\\Users\\sanak\\Anaconda3\\lib\\site-packages\\sklearn\\linear_model\\logistic.py:432: FutureWarning: Default solver will be changed to 'lbfgs' in 0.22. Specify a solver to silence this warning.\n",
      "  FutureWarning)\n",
      "C:\\Users\\sanak\\Anaconda3\\lib\\site-packages\\sklearn\\linear_model\\logistic.py:469: FutureWarning: Default multi_class will be changed to 'auto' in 0.22. Specify the multi_class option to silence this warning.\n",
      "  \"this warning.\", FutureWarning)\n"
     ]
    },
    {
     "name": "stdout",
     "output_type": "stream",
     "text": [
      "[CV] ..... C=10, max_iter=1000, penalty=l1, score=0.360, total=   0.5s\n",
      "[CV] C=10, max_iter=1000, penalty=l1 .................................\n"
     ]
    },
    {
     "name": "stderr",
     "output_type": "stream",
     "text": [
      "C:\\Users\\sanak\\Anaconda3\\lib\\site-packages\\sklearn\\linear_model\\logistic.py:432: FutureWarning: Default solver will be changed to 'lbfgs' in 0.22. Specify a solver to silence this warning.\n",
      "  FutureWarning)\n",
      "C:\\Users\\sanak\\Anaconda3\\lib\\site-packages\\sklearn\\linear_model\\logistic.py:469: FutureWarning: Default multi_class will be changed to 'auto' in 0.22. Specify the multi_class option to silence this warning.\n",
      "  \"this warning.\", FutureWarning)\n"
     ]
    },
    {
     "name": "stdout",
     "output_type": "stream",
     "text": [
      "[CV] ..... C=10, max_iter=1000, penalty=l1, score=0.380, total=   0.5s\n",
      "[CV] C=10, max_iter=1000, penalty=l2 .................................\n",
      "[CV] ..... C=10, max_iter=1000, penalty=l2, score=0.309, total=   0.1s\n",
      "[CV] C=10, max_iter=1000, penalty=l2 .................................\n",
      "[CV] ..... C=10, max_iter=1000, penalty=l2, score=0.293, total=   0.1s"
     ]
    },
    {
     "name": "stderr",
     "output_type": "stream",
     "text": [
      "C:\\Users\\sanak\\Anaconda3\\lib\\site-packages\\sklearn\\linear_model\\logistic.py:432: FutureWarning: Default solver will be changed to 'lbfgs' in 0.22. Specify a solver to silence this warning.\n",
      "  FutureWarning)\n",
      "C:\\Users\\sanak\\Anaconda3\\lib\\site-packages\\sklearn\\linear_model\\logistic.py:469: FutureWarning: Default multi_class will be changed to 'auto' in 0.22. Specify the multi_class option to silence this warning.\n",
      "  \"this warning.\", FutureWarning)\n",
      "C:\\Users\\sanak\\Anaconda3\\lib\\site-packages\\sklearn\\linear_model\\logistic.py:432: FutureWarning: Default solver will be changed to 'lbfgs' in 0.22. Specify a solver to silence this warning.\n",
      "  FutureWarning)\n",
      "C:\\Users\\sanak\\Anaconda3\\lib\\site-packages\\sklearn\\linear_model\\logistic.py:469: FutureWarning: Default multi_class will be changed to 'auto' in 0.22. Specify the multi_class option to silence this warning.\n",
      "  \"this warning.\", FutureWarning)\n"
     ]
    },
    {
     "name": "stdout",
     "output_type": "stream",
     "text": [
      "\n",
      "[CV] C=10, max_iter=1000, penalty=l2 .................................\n",
      "[CV] ..... C=10, max_iter=1000, penalty=l2, score=0.310, total=   0.1s\n",
      "[CV] C=10, max_iter=5000, penalty=l1 .................................\n"
     ]
    },
    {
     "name": "stderr",
     "output_type": "stream",
     "text": [
      "C:\\Users\\sanak\\Anaconda3\\lib\\site-packages\\sklearn\\linear_model\\logistic.py:432: FutureWarning: Default solver will be changed to 'lbfgs' in 0.22. Specify a solver to silence this warning.\n",
      "  FutureWarning)\n",
      "C:\\Users\\sanak\\Anaconda3\\lib\\site-packages\\sklearn\\linear_model\\logistic.py:469: FutureWarning: Default multi_class will be changed to 'auto' in 0.22. Specify the multi_class option to silence this warning.\n",
      "  \"this warning.\", FutureWarning)\n",
      "C:\\Users\\sanak\\Anaconda3\\lib\\site-packages\\sklearn\\linear_model\\logistic.py:432: FutureWarning: Default solver will be changed to 'lbfgs' in 0.22. Specify a solver to silence this warning.\n",
      "  FutureWarning)\n",
      "C:\\Users\\sanak\\Anaconda3\\lib\\site-packages\\sklearn\\linear_model\\logistic.py:469: FutureWarning: Default multi_class will be changed to 'auto' in 0.22. Specify the multi_class option to silence this warning.\n",
      "  \"this warning.\", FutureWarning)\n"
     ]
    },
    {
     "name": "stdout",
     "output_type": "stream",
     "text": [
      "[CV] ..... C=10, max_iter=5000, penalty=l1, score=0.394, total=   0.5s\n",
      "[CV] C=10, max_iter=5000, penalty=l1 .................................\n"
     ]
    },
    {
     "name": "stderr",
     "output_type": "stream",
     "text": [
      "C:\\Users\\sanak\\Anaconda3\\lib\\site-packages\\sklearn\\linear_model\\logistic.py:432: FutureWarning: Default solver will be changed to 'lbfgs' in 0.22. Specify a solver to silence this warning.\n",
      "  FutureWarning)\n",
      "C:\\Users\\sanak\\Anaconda3\\lib\\site-packages\\sklearn\\linear_model\\logistic.py:469: FutureWarning: Default multi_class will be changed to 'auto' in 0.22. Specify the multi_class option to silence this warning.\n",
      "  \"this warning.\", FutureWarning)\n"
     ]
    },
    {
     "name": "stdout",
     "output_type": "stream",
     "text": [
      "[CV] ..... C=10, max_iter=5000, penalty=l1, score=0.363, total=   0.4s\n",
      "[CV] C=10, max_iter=5000, penalty=l1 .................................\n"
     ]
    },
    {
     "name": "stderr",
     "output_type": "stream",
     "text": [
      "C:\\Users\\sanak\\Anaconda3\\lib\\site-packages\\sklearn\\linear_model\\logistic.py:432: FutureWarning: Default solver will be changed to 'lbfgs' in 0.22. Specify a solver to silence this warning.\n",
      "  FutureWarning)\n",
      "C:\\Users\\sanak\\Anaconda3\\lib\\site-packages\\sklearn\\linear_model\\logistic.py:469: FutureWarning: Default multi_class will be changed to 'auto' in 0.22. Specify the multi_class option to silence this warning.\n",
      "  \"this warning.\", FutureWarning)\n"
     ]
    },
    {
     "name": "stdout",
     "output_type": "stream",
     "text": [
      "[CV] ..... C=10, max_iter=5000, penalty=l1, score=0.386, total=   0.4s\n",
      "[CV] C=10, max_iter=5000, penalty=l2 .................................\n",
      "[CV] ..... C=10, max_iter=5000, penalty=l2, score=0.309, total=   0.1s\n",
      "[CV] C=10, max_iter=5000, penalty=l2 .................................\n",
      "[CV] ..... C=10, max_iter=5000, penalty=l2, score=0.293, total=   0.1s\n",
      "[CV] C=10, max_iter=5000, penalty=l2 .................................\n"
     ]
    },
    {
     "name": "stderr",
     "output_type": "stream",
     "text": [
      "C:\\Users\\sanak\\Anaconda3\\lib\\site-packages\\sklearn\\linear_model\\logistic.py:432: FutureWarning: Default solver will be changed to 'lbfgs' in 0.22. Specify a solver to silence this warning.\n",
      "  FutureWarning)\n",
      "C:\\Users\\sanak\\Anaconda3\\lib\\site-packages\\sklearn\\linear_model\\logistic.py:469: FutureWarning: Default multi_class will be changed to 'auto' in 0.22. Specify the multi_class option to silence this warning.\n",
      "  \"this warning.\", FutureWarning)\n",
      "C:\\Users\\sanak\\Anaconda3\\lib\\site-packages\\sklearn\\linear_model\\logistic.py:432: FutureWarning: Default solver will be changed to 'lbfgs' in 0.22. Specify a solver to silence this warning.\n",
      "  FutureWarning)\n",
      "C:\\Users\\sanak\\Anaconda3\\lib\\site-packages\\sklearn\\linear_model\\logistic.py:469: FutureWarning: Default multi_class will be changed to 'auto' in 0.22. Specify the multi_class option to silence this warning.\n",
      "  \"this warning.\", FutureWarning)\n",
      "C:\\Users\\sanak\\Anaconda3\\lib\\site-packages\\sklearn\\linear_model\\logistic.py:432: FutureWarning: Default solver will be changed to 'lbfgs' in 0.22. Specify a solver to silence this warning.\n",
      "  FutureWarning)\n",
      "C:\\Users\\sanak\\Anaconda3\\lib\\site-packages\\sklearn\\linear_model\\logistic.py:469: FutureWarning: Default multi_class will be changed to 'auto' in 0.22. Specify the multi_class option to silence this warning.\n",
      "  \"this warning.\", FutureWarning)\n"
     ]
    },
    {
     "name": "stdout",
     "output_type": "stream",
     "text": [
      "[CV] ..... C=10, max_iter=5000, penalty=l2, score=0.310, total=   0.1s\n"
     ]
    },
    {
     "name": "stderr",
     "output_type": "stream",
     "text": [
      "[Parallel(n_jobs=1)]: Done  54 out of  54 | elapsed:   13.8s finished\n",
      "C:\\Users\\sanak\\Anaconda3\\lib\\site-packages\\sklearn\\model_selection\\_search.py:814: DeprecationWarning: The default of the `iid` parameter will change from True to False in version 0.22 and will be removed in 0.24. This will change numeric results when test-set sizes are unequal.\n",
      "  DeprecationWarning)\n",
      "C:\\Users\\sanak\\Anaconda3\\lib\\site-packages\\sklearn\\linear_model\\logistic.py:432: FutureWarning: Default solver will be changed to 'lbfgs' in 0.22. Specify a solver to silence this warning.\n",
      "  FutureWarning)\n",
      "C:\\Users\\sanak\\Anaconda3\\lib\\site-packages\\sklearn\\linear_model\\logistic.py:469: FutureWarning: Default multi_class will be changed to 'auto' in 0.22. Specify the multi_class option to silence this warning.\n",
      "  \"this warning.\", FutureWarning)\n"
     ]
    },
    {
     "data": {
      "text/plain": [
       "GridSearchCV(cv='warn', error_score='raise-deprecating',\n",
       "             estimator=LogisticRegression(C=1.0, class_weight=None, dual=False,\n",
       "                                          fit_intercept=True,\n",
       "                                          intercept_scaling=1, l1_ratio=None,\n",
       "                                          max_iter=100, multi_class='warn',\n",
       "                                          n_jobs=None, penalty='l2',\n",
       "                                          random_state=None, solver='warn',\n",
       "                                          tol=0.0001, verbose=0,\n",
       "                                          warm_start=False),\n",
       "             iid='warn', n_jobs=None,\n",
       "             param_grid={'C': [1, 5, 10], 'max_iter': [500, 1000, 5000],\n",
       "                         'penalty': ['l1', 'l2']},\n",
       "             pre_dispatch='2*n_jobs', refit=True, return_train_score=False,\n",
       "             scoring=None, verbose=3)"
      ]
     },
     "execution_count": 38,
     "metadata": {},
     "output_type": "execute_result"
    }
   ],
   "source": [
    "# Train the model with GridSearch\n",
    "grid.fit(X_train, y_train)"
   ]
  },
  {
   "cell_type": "code",
   "execution_count": 39,
   "metadata": {},
   "outputs": [
    {
     "name": "stdout",
     "output_type": "stream",
     "text": [
      "{'C': 10, 'max_iter': 5000, 'penalty': 'l1'}\n",
      "0.3810835629017447\n"
     ]
    }
   ],
   "source": [
    "print(grid.best_params_)\n",
    "print(grid.best_score_)"
   ]
  },
  {
   "cell_type": "markdown",
   "metadata": {},
   "source": [
    "# Save the Model"
   ]
  },
  {
   "cell_type": "code",
   "execution_count": 40,
   "metadata": {},
   "outputs": [
    {
     "data": {
      "text/plain": [
       "['logistic.joblib']"
      ]
     },
     "execution_count": 40,
     "metadata": {},
     "output_type": "execute_result"
    }
   ],
   "source": [
    "import joblib\n",
    "joblib.dump(model4, \"logistic.joblib\")"
   ]
  },
  {
   "cell_type": "markdown",
   "metadata": {},
   "source": [
    "# Grid Search #3"
   ]
  },
  {
   "cell_type": "code",
   "execution_count": 41,
   "metadata": {},
   "outputs": [],
   "source": [
    "import pandas as pd\n",
    "from sklearn import preprocessing\n",
    "import numpy as np"
   ]
  },
  {
   "cell_type": "code",
   "execution_count": 42,
   "metadata": {},
   "outputs": [
    {
     "data": {
      "text/html": [
       "<div>\n",
       "<style scoped>\n",
       "    .dataframe tbody tr th:only-of-type {\n",
       "        vertical-align: middle;\n",
       "    }\n",
       "\n",
       "    .dataframe tbody tr th {\n",
       "        vertical-align: top;\n",
       "    }\n",
       "\n",
       "    .dataframe thead th {\n",
       "        text-align: right;\n",
       "    }\n",
       "</style>\n",
       "<table border=\"1\" class=\"dataframe\">\n",
       "  <thead>\n",
       "    <tr style=\"text-align: right;\">\n",
       "      <th></th>\n",
       "      <th>Id</th>\n",
       "      <th>HouseStyle</th>\n",
       "      <th>LotArea</th>\n",
       "      <th>OverallQual</th>\n",
       "      <th>OverallCond</th>\n",
       "      <th>YearRemodAdd</th>\n",
       "      <th>MasVnrArea</th>\n",
       "      <th>GrLivArea</th>\n",
       "      <th>BsmtFullBath</th>\n",
       "      <th>BsmtHalfBath</th>\n",
       "      <th>FullBath</th>\n",
       "      <th>HalfBath</th>\n",
       "      <th>BedroomAbvGr</th>\n",
       "      <th>Fireplaces</th>\n",
       "      <th>GarageArea</th>\n",
       "      <th>SalePrice</th>\n",
       "    </tr>\n",
       "  </thead>\n",
       "  <tbody>\n",
       "    <tr>\n",
       "      <td>0</td>\n",
       "      <td>1</td>\n",
       "      <td>2Story</td>\n",
       "      <td>8450</td>\n",
       "      <td>7</td>\n",
       "      <td>5</td>\n",
       "      <td>2003</td>\n",
       "      <td>196.0</td>\n",
       "      <td>1710</td>\n",
       "      <td>1</td>\n",
       "      <td>0</td>\n",
       "      <td>2</td>\n",
       "      <td>1</td>\n",
       "      <td>3</td>\n",
       "      <td>0</td>\n",
       "      <td>548</td>\n",
       "      <td>208500</td>\n",
       "    </tr>\n",
       "    <tr>\n",
       "      <td>1</td>\n",
       "      <td>2</td>\n",
       "      <td>1Story</td>\n",
       "      <td>9600</td>\n",
       "      <td>6</td>\n",
       "      <td>8</td>\n",
       "      <td>1976</td>\n",
       "      <td>0.0</td>\n",
       "      <td>1262</td>\n",
       "      <td>0</td>\n",
       "      <td>1</td>\n",
       "      <td>2</td>\n",
       "      <td>0</td>\n",
       "      <td>3</td>\n",
       "      <td>1</td>\n",
       "      <td>460</td>\n",
       "      <td>181500</td>\n",
       "    </tr>\n",
       "    <tr>\n",
       "      <td>2</td>\n",
       "      <td>3</td>\n",
       "      <td>2Story</td>\n",
       "      <td>11250</td>\n",
       "      <td>7</td>\n",
       "      <td>5</td>\n",
       "      <td>2002</td>\n",
       "      <td>162.0</td>\n",
       "      <td>1786</td>\n",
       "      <td>1</td>\n",
       "      <td>0</td>\n",
       "      <td>2</td>\n",
       "      <td>1</td>\n",
       "      <td>3</td>\n",
       "      <td>1</td>\n",
       "      <td>608</td>\n",
       "      <td>223500</td>\n",
       "    </tr>\n",
       "    <tr>\n",
       "      <td>3</td>\n",
       "      <td>4</td>\n",
       "      <td>2Story</td>\n",
       "      <td>9550</td>\n",
       "      <td>7</td>\n",
       "      <td>5</td>\n",
       "      <td>1970</td>\n",
       "      <td>0.0</td>\n",
       "      <td>1717</td>\n",
       "      <td>1</td>\n",
       "      <td>0</td>\n",
       "      <td>1</td>\n",
       "      <td>0</td>\n",
       "      <td>3</td>\n",
       "      <td>1</td>\n",
       "      <td>642</td>\n",
       "      <td>140000</td>\n",
       "    </tr>\n",
       "    <tr>\n",
       "      <td>4</td>\n",
       "      <td>5</td>\n",
       "      <td>2Story</td>\n",
       "      <td>14260</td>\n",
       "      <td>8</td>\n",
       "      <td>5</td>\n",
       "      <td>2000</td>\n",
       "      <td>350.0</td>\n",
       "      <td>2198</td>\n",
       "      <td>1</td>\n",
       "      <td>0</td>\n",
       "      <td>2</td>\n",
       "      <td>1</td>\n",
       "      <td>4</td>\n",
       "      <td>1</td>\n",
       "      <td>836</td>\n",
       "      <td>250000</td>\n",
       "    </tr>\n",
       "  </tbody>\n",
       "</table>\n",
       "</div>"
      ],
      "text/plain": [
       "   Id HouseStyle  LotArea  OverallQual  OverallCond  YearRemodAdd  MasVnrArea  \\\n",
       "0   1     2Story     8450            7            5          2003       196.0   \n",
       "1   2     1Story     9600            6            8          1976         0.0   \n",
       "2   3     2Story    11250            7            5          2002       162.0   \n",
       "3   4     2Story     9550            7            5          1970         0.0   \n",
       "4   5     2Story    14260            8            5          2000       350.0   \n",
       "\n",
       "   GrLivArea  BsmtFullBath  BsmtHalfBath  FullBath  HalfBath  BedroomAbvGr  \\\n",
       "0       1710             1             0         2         1             3   \n",
       "1       1262             0             1         2         0             3   \n",
       "2       1786             1             0         2         1             3   \n",
       "3       1717             1             0         1         0             3   \n",
       "4       2198             1             0         2         1             4   \n",
       "\n",
       "   Fireplaces  GarageArea  SalePrice  \n",
       "0           0         548     208500  \n",
       "1           1         460     181500  \n",
       "2           1         608     223500  \n",
       "3           1         642     140000  \n",
       "4           1         836     250000  "
      ]
     },
     "execution_count": 42,
     "metadata": {},
     "output_type": "execute_result"
    }
   ],
   "source": [
    "home_prices3 = pd.read_csv(\"Grid_search3_housestyle.csv\")\n",
    "home_prices3 = home_prices3.dropna(axis='columns', how='all')\n",
    "home_prices3 = home_prices3.dropna()\n",
    "home_prices3.head()"
   ]
  },
  {
   "cell_type": "markdown",
   "metadata": {},
   "source": [
    "# Create a Train Test Split"
   ]
  },
  {
   "cell_type": "code",
   "execution_count": 43,
   "metadata": {},
   "outputs": [],
   "source": [
    "# Using SaleCondition for y values"
   ]
  },
  {
   "cell_type": "code",
   "execution_count": 44,
   "metadata": {},
   "outputs": [],
   "source": [
    "y = home_prices3[\"HouseStyle\"]\n",
    "X = home_prices3.drop(columns=[\"HouseStyle\"])"
   ]
  },
  {
   "cell_type": "code",
   "execution_count": 45,
   "metadata": {},
   "outputs": [],
   "source": [
    "from sklearn.model_selection import train_test_split\n",
    "from sklearn.preprocessing import LabelEncoder, StandardScaler"
   ]
  },
  {
   "cell_type": "code",
   "execution_count": 46,
   "metadata": {},
   "outputs": [],
   "source": [
    "X_train, X_test, y_train, y_test = train_test_split(\n",
    "    X, y, random_state=1, stratify=y)"
   ]
  },
  {
   "cell_type": "code",
   "execution_count": 47,
   "metadata": {},
   "outputs": [
    {
     "data": {
      "text/html": [
       "<div>\n",
       "<style scoped>\n",
       "    .dataframe tbody tr th:only-of-type {\n",
       "        vertical-align: middle;\n",
       "    }\n",
       "\n",
       "    .dataframe tbody tr th {\n",
       "        vertical-align: top;\n",
       "    }\n",
       "\n",
       "    .dataframe thead th {\n",
       "        text-align: right;\n",
       "    }\n",
       "</style>\n",
       "<table border=\"1\" class=\"dataframe\">\n",
       "  <thead>\n",
       "    <tr style=\"text-align: right;\">\n",
       "      <th></th>\n",
       "      <th>Id</th>\n",
       "      <th>LotArea</th>\n",
       "      <th>OverallQual</th>\n",
       "      <th>OverallCond</th>\n",
       "      <th>YearRemodAdd</th>\n",
       "      <th>MasVnrArea</th>\n",
       "      <th>GrLivArea</th>\n",
       "      <th>BsmtFullBath</th>\n",
       "      <th>BsmtHalfBath</th>\n",
       "      <th>FullBath</th>\n",
       "      <th>HalfBath</th>\n",
       "      <th>BedroomAbvGr</th>\n",
       "      <th>Fireplaces</th>\n",
       "      <th>GarageArea</th>\n",
       "      <th>SalePrice</th>\n",
       "    </tr>\n",
       "  </thead>\n",
       "  <tbody>\n",
       "    <tr>\n",
       "      <td>829</td>\n",
       "      <td>830</td>\n",
       "      <td>2544</td>\n",
       "      <td>7</td>\n",
       "      <td>5</td>\n",
       "      <td>2005</td>\n",
       "      <td>0.0</td>\n",
       "      <td>1223</td>\n",
       "      <td>0</td>\n",
       "      <td>0</td>\n",
       "      <td>2</td>\n",
       "      <td>1</td>\n",
       "      <td>2</td>\n",
       "      <td>0</td>\n",
       "      <td>480</td>\n",
       "      <td>147400</td>\n",
       "    </tr>\n",
       "    <tr>\n",
       "      <td>612</td>\n",
       "      <td>613</td>\n",
       "      <td>11885</td>\n",
       "      <td>8</td>\n",
       "      <td>5</td>\n",
       "      <td>2001</td>\n",
       "      <td>108.0</td>\n",
       "      <td>1872</td>\n",
       "      <td>1</td>\n",
       "      <td>0</td>\n",
       "      <td>2</td>\n",
       "      <td>1</td>\n",
       "      <td>3</td>\n",
       "      <td>1</td>\n",
       "      <td>531</td>\n",
       "      <td>261500</td>\n",
       "    </tr>\n",
       "    <tr>\n",
       "      <td>813</td>\n",
       "      <td>814</td>\n",
       "      <td>9750</td>\n",
       "      <td>6</td>\n",
       "      <td>6</td>\n",
       "      <td>1958</td>\n",
       "      <td>243.0</td>\n",
       "      <td>1442</td>\n",
       "      <td>0</td>\n",
       "      <td>0</td>\n",
       "      <td>1</td>\n",
       "      <td>1</td>\n",
       "      <td>4</td>\n",
       "      <td>0</td>\n",
       "      <td>301</td>\n",
       "      <td>157900</td>\n",
       "    </tr>\n",
       "    <tr>\n",
       "      <td>267</td>\n",
       "      <td>268</td>\n",
       "      <td>8400</td>\n",
       "      <td>5</td>\n",
       "      <td>8</td>\n",
       "      <td>1997</td>\n",
       "      <td>0.0</td>\n",
       "      <td>2192</td>\n",
       "      <td>0</td>\n",
       "      <td>0</td>\n",
       "      <td>2</td>\n",
       "      <td>1</td>\n",
       "      <td>4</td>\n",
       "      <td>1</td>\n",
       "      <td>240</td>\n",
       "      <td>179500</td>\n",
       "    </tr>\n",
       "    <tr>\n",
       "      <td>1061</td>\n",
       "      <td>1062</td>\n",
       "      <td>18000</td>\n",
       "      <td>3</td>\n",
       "      <td>4</td>\n",
       "      <td>1950</td>\n",
       "      <td>0.0</td>\n",
       "      <td>894</td>\n",
       "      <td>0</td>\n",
       "      <td>0</td>\n",
       "      <td>1</td>\n",
       "      <td>0</td>\n",
       "      <td>2</td>\n",
       "      <td>0</td>\n",
       "      <td>1248</td>\n",
       "      <td>81000</td>\n",
       "    </tr>\n",
       "  </tbody>\n",
       "</table>\n",
       "</div>"
      ],
      "text/plain": [
       "        Id  LotArea  OverallQual  OverallCond  YearRemodAdd  MasVnrArea  \\\n",
       "829    830     2544            7            5          2005         0.0   \n",
       "612    613    11885            8            5          2001       108.0   \n",
       "813    814     9750            6            6          1958       243.0   \n",
       "267    268     8400            5            8          1997         0.0   \n",
       "1061  1062    18000            3            4          1950         0.0   \n",
       "\n",
       "      GrLivArea  BsmtFullBath  BsmtHalfBath  FullBath  HalfBath  BedroomAbvGr  \\\n",
       "829        1223             0             0         2         1             2   \n",
       "612        1872             1             0         2         1             3   \n",
       "813        1442             0             0         1         1             4   \n",
       "267        2192             0             0         2         1             4   \n",
       "1061        894             0             0         1         0             2   \n",
       "\n",
       "      Fireplaces  GarageArea  SalePrice  \n",
       "829            0         480     147400  \n",
       "612            1         531     261500  \n",
       "813            0         301     157900  \n",
       "267            1         240     179500  \n",
       "1061           0        1248      81000  "
      ]
     },
     "execution_count": 47,
     "metadata": {},
     "output_type": "execute_result"
    }
   ],
   "source": [
    "X_train.head()"
   ]
  },
  {
   "cell_type": "code",
   "execution_count": 48,
   "metadata": {},
   "outputs": [
    {
     "data": {
      "text/plain": [
       "(1089, 15)"
      ]
     },
     "execution_count": 48,
     "metadata": {},
     "output_type": "execute_result"
    }
   ],
   "source": [
    "X_train.shape"
   ]
  },
  {
   "cell_type": "code",
   "execution_count": 49,
   "metadata": {},
   "outputs": [
    {
     "data": {
      "text/plain": [
       "(1089,)"
      ]
     },
     "execution_count": 49,
     "metadata": {},
     "output_type": "execute_result"
    }
   ],
   "source": [
    "y_train.shape"
   ]
  },
  {
   "cell_type": "markdown",
   "metadata": {},
   "source": [
    "# Pre-processing"
   ]
  },
  {
   "cell_type": "code",
   "execution_count": 50,
   "metadata": {},
   "outputs": [],
   "source": [
    "# Create a StandardScaler model and fit it to the training data\n",
    "from sklearn.preprocessing import MinMaxScaler\n",
    "X_scaler = MinMaxScaler().fit(X_train)"
   ]
  },
  {
   "cell_type": "code",
   "execution_count": 51,
   "metadata": {},
   "outputs": [],
   "source": [
    "# Transform the training and testing data using the X_scaler\n",
    "X_train_scaled = X_scaler.transform(X_train)"
   ]
  },
  {
   "cell_type": "code",
   "execution_count": 52,
   "metadata": {},
   "outputs": [],
   "source": [
    "X_test_scaled = X_scaler.transform(X_test)"
   ]
  },
  {
   "cell_type": "markdown",
   "metadata": {},
   "source": [
    "# Train the Model"
   ]
  },
  {
   "cell_type": "code",
   "execution_count": 53,
   "metadata": {},
   "outputs": [
    {
     "name": "stderr",
     "output_type": "stream",
     "text": [
      "C:\\Users\\sanak\\Anaconda3\\lib\\site-packages\\sklearn\\linear_model\\logistic.py:432: FutureWarning: Default solver will be changed to 'lbfgs' in 0.22. Specify a solver to silence this warning.\n",
      "  FutureWarning)\n",
      "C:\\Users\\sanak\\Anaconda3\\lib\\site-packages\\sklearn\\linear_model\\logistic.py:469: FutureWarning: Default multi_class will be changed to 'auto' in 0.22. Specify the multi_class option to silence this warning.\n",
      "  \"this warning.\", FutureWarning)\n"
     ]
    },
    {
     "data": {
      "text/plain": [
       "LogisticRegression(C=1.0, class_weight=None, dual=False, fit_intercept=True,\n",
       "                   intercept_scaling=1, l1_ratio=None, max_iter=100,\n",
       "                   multi_class='warn', n_jobs=None, penalty='l2',\n",
       "                   random_state=None, solver='warn', tol=0.0001, verbose=0,\n",
       "                   warm_start=False)"
      ]
     },
     "execution_count": 53,
     "metadata": {},
     "output_type": "execute_result"
    }
   ],
   "source": [
    "from sklearn.linear_model import LogisticRegression\n",
    "model5 = LogisticRegression()\n",
    "model5.fit(X_train, y_train)"
   ]
  },
  {
   "cell_type": "code",
   "execution_count": 54,
   "metadata": {},
   "outputs": [
    {
     "name": "stdout",
     "output_type": "stream",
     "text": [
      "Training Data Score: 0.0\n",
      "Testing Data Score: 0.0\n"
     ]
    }
   ],
   "source": [
    "print(f\"Training Data Score: {model.score(X_train, y_train)}\")\n",
    "print(f\"Testing Data Score: {model.score(X_test, y_test)}\")"
   ]
  },
  {
   "cell_type": "code",
   "execution_count": 55,
   "metadata": {},
   "outputs": [
    {
     "name": "stderr",
     "output_type": "stream",
     "text": [
      "C:\\Users\\sanak\\Anaconda3\\lib\\site-packages\\sklearn\\linear_model\\logistic.py:432: FutureWarning: Default solver will be changed to 'lbfgs' in 0.22. Specify a solver to silence this warning.\n",
      "  FutureWarning)\n",
      "C:\\Users\\sanak\\Anaconda3\\lib\\site-packages\\sklearn\\linear_model\\logistic.py:469: FutureWarning: Default multi_class will be changed to 'auto' in 0.22. Specify the multi_class option to silence this warning.\n",
      "  \"this warning.\", FutureWarning)\n"
     ]
    },
    {
     "data": {
      "text/plain": [
       "LogisticRegression(C=1.0, class_weight=None, dual=False, fit_intercept=True,\n",
       "                   intercept_scaling=1, l1_ratio=None, max_iter=100,\n",
       "                   multi_class='warn', n_jobs=None, penalty='l2',\n",
       "                   random_state=None, solver='warn', tol=0.0001, verbose=0,\n",
       "                   warm_start=False)"
      ]
     },
     "execution_count": 55,
     "metadata": {},
     "output_type": "execute_result"
    }
   ],
   "source": [
    "from sklearn.linear_model import LogisticRegression\n",
    "model6 = LogisticRegression()\n",
    "model6.fit(X_train_scaled, y_train)"
   ]
  },
  {
   "cell_type": "code",
   "execution_count": 56,
   "metadata": {},
   "outputs": [
    {
     "name": "stdout",
     "output_type": "stream",
     "text": [
      "Training Data Score: 0.0\n",
      "Testing Data Score: 0.0\n"
     ]
    }
   ],
   "source": [
    "print(f\"Training Data Score: {model2.score(X_train_scaled, y_train)}\")\n",
    "print(f\"Testing Data Score: {model2.score(X_test_scaled, y_test)}\")"
   ]
  },
  {
   "cell_type": "markdown",
   "metadata": {},
   "source": [
    "# Hyperparameter Tuning"
   ]
  },
  {
   "cell_type": "code",
   "execution_count": 57,
   "metadata": {},
   "outputs": [],
   "source": [
    "# Create the GridSearchCV model\n",
    "from sklearn.model_selection import GridSearchCV \n",
    "param_grid = {'C': [1, 5, 10],\n",
    "              'max_iter': [500, 1000, 5000],\n",
    "              'penalty': [\"l1\", \"l2\"]}\n",
    "grid = GridSearchCV(model, param_grid, verbose=3)"
   ]
  },
  {
   "cell_type": "code",
   "execution_count": 58,
   "metadata": {},
   "outputs": [
    {
     "name": "stderr",
     "output_type": "stream",
     "text": [
      "C:\\Users\\sanak\\Anaconda3\\lib\\site-packages\\sklearn\\model_selection\\_split.py:1978: FutureWarning: The default value of cv will change from 3 to 5 in version 0.22. Specify it explicitly to silence this warning.\n",
      "  warnings.warn(CV_WARNING, FutureWarning)\n",
      "[Parallel(n_jobs=1)]: Using backend SequentialBackend with 1 concurrent workers.\n",
      "C:\\Users\\sanak\\Anaconda3\\lib\\site-packages\\sklearn\\linear_model\\logistic.py:432: FutureWarning: Default solver will be changed to 'lbfgs' in 0.22. Specify a solver to silence this warning.\n",
      "  FutureWarning)\n",
      "C:\\Users\\sanak\\Anaconda3\\lib\\site-packages\\sklearn\\linear_model\\logistic.py:469: FutureWarning: Default multi_class will be changed to 'auto' in 0.22. Specify the multi_class option to silence this warning.\n",
      "  \"this warning.\", FutureWarning)\n"
     ]
    },
    {
     "name": "stdout",
     "output_type": "stream",
     "text": [
      "Fitting 3 folds for each of 18 candidates, totalling 54 fits\n",
      "[CV] C=1, max_iter=500, penalty=l1 ...................................\n",
      "[CV] ....... C=1, max_iter=500, penalty=l1, score=0.719, total=   0.2s\n",
      "[CV] C=1, max_iter=500, penalty=l1 ...................................\n",
      "[CV] ....... C=1, max_iter=500, penalty=l1, score=0.732, total=   0.1s\n",
      "[CV] C=1, max_iter=500, penalty=l1 ...................................\n"
     ]
    },
    {
     "name": "stderr",
     "output_type": "stream",
     "text": [
      "[Parallel(n_jobs=1)]: Done   1 out of   1 | elapsed:    0.1s remaining:    0.0s\n",
      "C:\\Users\\sanak\\Anaconda3\\lib\\site-packages\\sklearn\\linear_model\\logistic.py:432: FutureWarning: Default solver will be changed to 'lbfgs' in 0.22. Specify a solver to silence this warning.\n",
      "  FutureWarning)\n",
      "C:\\Users\\sanak\\Anaconda3\\lib\\site-packages\\sklearn\\linear_model\\logistic.py:469: FutureWarning: Default multi_class will be changed to 'auto' in 0.22. Specify the multi_class option to silence this warning.\n",
      "  \"this warning.\", FutureWarning)\n",
      "[Parallel(n_jobs=1)]: Done   2 out of   2 | elapsed:    0.3s remaining:    0.0s\n",
      "C:\\Users\\sanak\\Anaconda3\\lib\\site-packages\\sklearn\\linear_model\\logistic.py:432: FutureWarning: Default solver will be changed to 'lbfgs' in 0.22. Specify a solver to silence this warning.\n",
      "  FutureWarning)\n",
      "C:\\Users\\sanak\\Anaconda3\\lib\\site-packages\\sklearn\\linear_model\\logistic.py:469: FutureWarning: Default multi_class will be changed to 'auto' in 0.22. Specify the multi_class option to silence this warning.\n",
      "  \"this warning.\", FutureWarning)\n"
     ]
    },
    {
     "name": "stdout",
     "output_type": "stream",
     "text": [
      "[CV] ....... C=1, max_iter=500, penalty=l1, score=0.764, total=   0.2s\n",
      "[CV] C=1, max_iter=500, penalty=l2 ...................................\n",
      "[CV] ....... C=1, max_iter=500, penalty=l2, score=0.676, total=   0.0s\n",
      "[CV] C=1, max_iter=500, penalty=l2 ...................................\n",
      "[CV] ....... C=1, max_iter=500, penalty=l2, score=0.663, total=   0.0s\n",
      "[CV] C=1, max_iter=500, penalty=l2 ...................................\n",
      "[CV] ....... C=1, max_iter=500, penalty=l2, score=0.703, total=   0.0s\n",
      "[CV] C=1, max_iter=1000, penalty=l1 ..................................\n"
     ]
    },
    {
     "name": "stderr",
     "output_type": "stream",
     "text": [
      "C:\\Users\\sanak\\Anaconda3\\lib\\site-packages\\sklearn\\linear_model\\logistic.py:432: FutureWarning: Default solver will be changed to 'lbfgs' in 0.22. Specify a solver to silence this warning.\n",
      "  FutureWarning)\n",
      "C:\\Users\\sanak\\Anaconda3\\lib\\site-packages\\sklearn\\linear_model\\logistic.py:469: FutureWarning: Default multi_class will be changed to 'auto' in 0.22. Specify the multi_class option to silence this warning.\n",
      "  \"this warning.\", FutureWarning)\n",
      "C:\\Users\\sanak\\Anaconda3\\lib\\site-packages\\sklearn\\linear_model\\logistic.py:432: FutureWarning: Default solver will be changed to 'lbfgs' in 0.22. Specify a solver to silence this warning.\n",
      "  FutureWarning)\n",
      "C:\\Users\\sanak\\Anaconda3\\lib\\site-packages\\sklearn\\linear_model\\logistic.py:469: FutureWarning: Default multi_class will be changed to 'auto' in 0.22. Specify the multi_class option to silence this warning.\n",
      "  \"this warning.\", FutureWarning)\n",
      "C:\\Users\\sanak\\Anaconda3\\lib\\site-packages\\sklearn\\linear_model\\logistic.py:432: FutureWarning: Default solver will be changed to 'lbfgs' in 0.22. Specify a solver to silence this warning.\n",
      "  FutureWarning)\n",
      "C:\\Users\\sanak\\Anaconda3\\lib\\site-packages\\sklearn\\linear_model\\logistic.py:469: FutureWarning: Default multi_class will be changed to 'auto' in 0.22. Specify the multi_class option to silence this warning.\n",
      "  \"this warning.\", FutureWarning)\n",
      "C:\\Users\\sanak\\Anaconda3\\lib\\site-packages\\sklearn\\linear_model\\logistic.py:432: FutureWarning: Default solver will be changed to 'lbfgs' in 0.22. Specify a solver to silence this warning.\n",
      "  FutureWarning)\n",
      "C:\\Users\\sanak\\Anaconda3\\lib\\site-packages\\sklearn\\linear_model\\logistic.py:469: FutureWarning: Default multi_class will be changed to 'auto' in 0.22. Specify the multi_class option to silence this warning.\n",
      "  \"this warning.\", FutureWarning)\n"
     ]
    },
    {
     "name": "stdout",
     "output_type": "stream",
     "text": [
      "[CV] ...... C=1, max_iter=1000, penalty=l1, score=0.719, total=   0.2s\n",
      "[CV] C=1, max_iter=1000, penalty=l1 ..................................\n",
      "[CV] ...... C=1, max_iter=1000, penalty=l1, score=0.732, total=   0.1s\n",
      "[CV] C=1, max_iter=1000, penalty=l1 ..................................\n"
     ]
    },
    {
     "name": "stderr",
     "output_type": "stream",
     "text": [
      "C:\\Users\\sanak\\Anaconda3\\lib\\site-packages\\sklearn\\linear_model\\logistic.py:432: FutureWarning: Default solver will be changed to 'lbfgs' in 0.22. Specify a solver to silence this warning.\n",
      "  FutureWarning)\n",
      "C:\\Users\\sanak\\Anaconda3\\lib\\site-packages\\sklearn\\linear_model\\logistic.py:469: FutureWarning: Default multi_class will be changed to 'auto' in 0.22. Specify the multi_class option to silence this warning.\n",
      "  \"this warning.\", FutureWarning)\n",
      "C:\\Users\\sanak\\Anaconda3\\lib\\site-packages\\sklearn\\linear_model\\logistic.py:432: FutureWarning: Default solver will be changed to 'lbfgs' in 0.22. Specify a solver to silence this warning.\n",
      "  FutureWarning)\n",
      "C:\\Users\\sanak\\Anaconda3\\lib\\site-packages\\sklearn\\linear_model\\logistic.py:469: FutureWarning: Default multi_class will be changed to 'auto' in 0.22. Specify the multi_class option to silence this warning.\n",
      "  \"this warning.\", FutureWarning)\n"
     ]
    },
    {
     "name": "stdout",
     "output_type": "stream",
     "text": [
      "[CV] ...... C=1, max_iter=1000, penalty=l1, score=0.764, total=   0.1s\n",
      "[CV] C=1, max_iter=1000, penalty=l2 ..................................\n",
      "[CV] ...... C=1, max_iter=1000, penalty=l2, score=0.676, total=   0.0s\n",
      "[CV] C=1, max_iter=1000, penalty=l2 ..................................\n",
      "[CV] ...... C=1, max_iter=1000, penalty=l2, score=0.663, total=   0.0s\n",
      "[CV] C=1, max_iter=1000, penalty=l2 ..................................\n",
      "[CV] ...... C=1, max_iter=1000, penalty=l2, score=0.703, total=   0.0s\n",
      "[CV] C=1, max_iter=5000, penalty=l1 ..................................\n"
     ]
    },
    {
     "name": "stderr",
     "output_type": "stream",
     "text": [
      "C:\\Users\\sanak\\Anaconda3\\lib\\site-packages\\sklearn\\linear_model\\logistic.py:432: FutureWarning: Default solver will be changed to 'lbfgs' in 0.22. Specify a solver to silence this warning.\n",
      "  FutureWarning)\n",
      "C:\\Users\\sanak\\Anaconda3\\lib\\site-packages\\sklearn\\linear_model\\logistic.py:469: FutureWarning: Default multi_class will be changed to 'auto' in 0.22. Specify the multi_class option to silence this warning.\n",
      "  \"this warning.\", FutureWarning)\n",
      "C:\\Users\\sanak\\Anaconda3\\lib\\site-packages\\sklearn\\linear_model\\logistic.py:432: FutureWarning: Default solver will be changed to 'lbfgs' in 0.22. Specify a solver to silence this warning.\n",
      "  FutureWarning)\n",
      "C:\\Users\\sanak\\Anaconda3\\lib\\site-packages\\sklearn\\linear_model\\logistic.py:469: FutureWarning: Default multi_class will be changed to 'auto' in 0.22. Specify the multi_class option to silence this warning.\n",
      "  \"this warning.\", FutureWarning)\n",
      "C:\\Users\\sanak\\Anaconda3\\lib\\site-packages\\sklearn\\linear_model\\logistic.py:432: FutureWarning: Default solver will be changed to 'lbfgs' in 0.22. Specify a solver to silence this warning.\n",
      "  FutureWarning)\n",
      "C:\\Users\\sanak\\Anaconda3\\lib\\site-packages\\sklearn\\linear_model\\logistic.py:469: FutureWarning: Default multi_class will be changed to 'auto' in 0.22. Specify the multi_class option to silence this warning.\n",
      "  \"this warning.\", FutureWarning)\n",
      "C:\\Users\\sanak\\Anaconda3\\lib\\site-packages\\sklearn\\linear_model\\logistic.py:432: FutureWarning: Default solver will be changed to 'lbfgs' in 0.22. Specify a solver to silence this warning.\n",
      "  FutureWarning)\n",
      "C:\\Users\\sanak\\Anaconda3\\lib\\site-packages\\sklearn\\linear_model\\logistic.py:469: FutureWarning: Default multi_class will be changed to 'auto' in 0.22. Specify the multi_class option to silence this warning.\n",
      "  \"this warning.\", FutureWarning)\n"
     ]
    },
    {
     "name": "stdout",
     "output_type": "stream",
     "text": [
      "[CV] ...... C=1, max_iter=5000, penalty=l1, score=0.719, total=   0.2s\n",
      "[CV] C=1, max_iter=5000, penalty=l1 ..................................\n",
      "[CV] ...... C=1, max_iter=5000, penalty=l1, score=0.732, total=   0.1s\n",
      "[CV] C=1, max_iter=5000, penalty=l1 ..................................\n"
     ]
    },
    {
     "name": "stderr",
     "output_type": "stream",
     "text": [
      "C:\\Users\\sanak\\Anaconda3\\lib\\site-packages\\sklearn\\linear_model\\logistic.py:432: FutureWarning: Default solver will be changed to 'lbfgs' in 0.22. Specify a solver to silence this warning.\n",
      "  FutureWarning)\n",
      "C:\\Users\\sanak\\Anaconda3\\lib\\site-packages\\sklearn\\linear_model\\logistic.py:469: FutureWarning: Default multi_class will be changed to 'auto' in 0.22. Specify the multi_class option to silence this warning.\n",
      "  \"this warning.\", FutureWarning)\n",
      "C:\\Users\\sanak\\Anaconda3\\lib\\site-packages\\sklearn\\linear_model\\logistic.py:432: FutureWarning: Default solver will be changed to 'lbfgs' in 0.22. Specify a solver to silence this warning.\n",
      "  FutureWarning)\n",
      "C:\\Users\\sanak\\Anaconda3\\lib\\site-packages\\sklearn\\linear_model\\logistic.py:469: FutureWarning: Default multi_class will be changed to 'auto' in 0.22. Specify the multi_class option to silence this warning.\n",
      "  \"this warning.\", FutureWarning)\n"
     ]
    },
    {
     "name": "stdout",
     "output_type": "stream",
     "text": [
      "[CV] ...... C=1, max_iter=5000, penalty=l1, score=0.764, total=   0.2s\n",
      "[CV] C=1, max_iter=5000, penalty=l2 ..................................\n",
      "[CV] ...... C=1, max_iter=5000, penalty=l2, score=0.676, total=   0.0s\n",
      "[CV] C=1, max_iter=5000, penalty=l2 ..................................\n",
      "[CV] ...... C=1, max_iter=5000, penalty=l2, score=0.663, total=   0.0s\n",
      "[CV] C=1, max_iter=5000, penalty=l2 ..................................\n",
      "[CV] ...... C=1, max_iter=5000, penalty=l2, score=0.703, total=   0.0s\n",
      "[CV] C=5, max_iter=500, penalty=l1 ...................................\n"
     ]
    },
    {
     "name": "stderr",
     "output_type": "stream",
     "text": [
      "C:\\Users\\sanak\\Anaconda3\\lib\\site-packages\\sklearn\\linear_model\\logistic.py:432: FutureWarning: Default solver will be changed to 'lbfgs' in 0.22. Specify a solver to silence this warning.\n",
      "  FutureWarning)\n",
      "C:\\Users\\sanak\\Anaconda3\\lib\\site-packages\\sklearn\\linear_model\\logistic.py:469: FutureWarning: Default multi_class will be changed to 'auto' in 0.22. Specify the multi_class option to silence this warning.\n",
      "  \"this warning.\", FutureWarning)\n",
      "C:\\Users\\sanak\\Anaconda3\\lib\\site-packages\\sklearn\\linear_model\\logistic.py:432: FutureWarning: Default solver will be changed to 'lbfgs' in 0.22. Specify a solver to silence this warning.\n",
      "  FutureWarning)\n",
      "C:\\Users\\sanak\\Anaconda3\\lib\\site-packages\\sklearn\\linear_model\\logistic.py:469: FutureWarning: Default multi_class will be changed to 'auto' in 0.22. Specify the multi_class option to silence this warning.\n",
      "  \"this warning.\", FutureWarning)\n",
      "C:\\Users\\sanak\\Anaconda3\\lib\\site-packages\\sklearn\\linear_model\\logistic.py:432: FutureWarning: Default solver will be changed to 'lbfgs' in 0.22. Specify a solver to silence this warning.\n",
      "  FutureWarning)\n",
      "C:\\Users\\sanak\\Anaconda3\\lib\\site-packages\\sklearn\\linear_model\\logistic.py:469: FutureWarning: Default multi_class will be changed to 'auto' in 0.22. Specify the multi_class option to silence this warning.\n",
      "  \"this warning.\", FutureWarning)\n",
      "C:\\Users\\sanak\\Anaconda3\\lib\\site-packages\\sklearn\\linear_model\\logistic.py:432: FutureWarning: Default solver will be changed to 'lbfgs' in 0.22. Specify a solver to silence this warning.\n",
      "  FutureWarning)\n",
      "C:\\Users\\sanak\\Anaconda3\\lib\\site-packages\\sklearn\\linear_model\\logistic.py:469: FutureWarning: Default multi_class will be changed to 'auto' in 0.22. Specify the multi_class option to silence this warning.\n",
      "  \"this warning.\", FutureWarning)\n"
     ]
    },
    {
     "name": "stdout",
     "output_type": "stream",
     "text": [
      "[CV] ....... C=5, max_iter=500, penalty=l1, score=0.717, total=   0.3s\n",
      "[CV] C=5, max_iter=500, penalty=l1 ...................................\n"
     ]
    },
    {
     "name": "stderr",
     "output_type": "stream",
     "text": [
      "C:\\Users\\sanak\\Anaconda3\\lib\\site-packages\\sklearn\\linear_model\\logistic.py:432: FutureWarning: Default solver will be changed to 'lbfgs' in 0.22. Specify a solver to silence this warning.\n",
      "  FutureWarning)\n",
      "C:\\Users\\sanak\\Anaconda3\\lib\\site-packages\\sklearn\\linear_model\\logistic.py:469: FutureWarning: Default multi_class will be changed to 'auto' in 0.22. Specify the multi_class option to silence this warning.\n",
      "  \"this warning.\", FutureWarning)\n"
     ]
    },
    {
     "name": "stdout",
     "output_type": "stream",
     "text": [
      "[CV] ....... C=5, max_iter=500, penalty=l1, score=0.732, total=   0.2s\n",
      "[CV] C=5, max_iter=500, penalty=l1 ...................................\n"
     ]
    },
    {
     "name": "stderr",
     "output_type": "stream",
     "text": [
      "C:\\Users\\sanak\\Anaconda3\\lib\\site-packages\\sklearn\\linear_model\\logistic.py:432: FutureWarning: Default solver will be changed to 'lbfgs' in 0.22. Specify a solver to silence this warning.\n",
      "  FutureWarning)\n",
      "C:\\Users\\sanak\\Anaconda3\\lib\\site-packages\\sklearn\\linear_model\\logistic.py:469: FutureWarning: Default multi_class will be changed to 'auto' in 0.22. Specify the multi_class option to silence this warning.\n",
      "  \"this warning.\", FutureWarning)\n"
     ]
    },
    {
     "name": "stdout",
     "output_type": "stream",
     "text": [
      "[CV] ....... C=5, max_iter=500, penalty=l1, score=0.758, total=   0.3s\n",
      "[CV] C=5, max_iter=500, penalty=l2 ...................................\n",
      "[CV] ....... C=5, max_iter=500, penalty=l2, score=0.659, total=   0.0s\n",
      "[CV] C=5, max_iter=500, penalty=l2 ...................................\n",
      "[CV] ....... C=5, max_iter=500, penalty=l2, score=0.663, total=   0.0s\n",
      "[CV] C=5, max_iter=500, penalty=l2 ...................................\n",
      "[CV] ....... C=5, max_iter=500, penalty=l2, score=0.703, total=   0.0s\n",
      "[CV] C=5, max_iter=1000, penalty=l1 ..................................\n"
     ]
    },
    {
     "name": "stderr",
     "output_type": "stream",
     "text": [
      "C:\\Users\\sanak\\Anaconda3\\lib\\site-packages\\sklearn\\linear_model\\logistic.py:432: FutureWarning: Default solver will be changed to 'lbfgs' in 0.22. Specify a solver to silence this warning.\n",
      "  FutureWarning)\n",
      "C:\\Users\\sanak\\Anaconda3\\lib\\site-packages\\sklearn\\linear_model\\logistic.py:469: FutureWarning: Default multi_class will be changed to 'auto' in 0.22. Specify the multi_class option to silence this warning.\n",
      "  \"this warning.\", FutureWarning)\n",
      "C:\\Users\\sanak\\Anaconda3\\lib\\site-packages\\sklearn\\linear_model\\logistic.py:432: FutureWarning: Default solver will be changed to 'lbfgs' in 0.22. Specify a solver to silence this warning.\n",
      "  FutureWarning)\n",
      "C:\\Users\\sanak\\Anaconda3\\lib\\site-packages\\sklearn\\linear_model\\logistic.py:469: FutureWarning: Default multi_class will be changed to 'auto' in 0.22. Specify the multi_class option to silence this warning.\n",
      "  \"this warning.\", FutureWarning)\n",
      "C:\\Users\\sanak\\Anaconda3\\lib\\site-packages\\sklearn\\linear_model\\logistic.py:432: FutureWarning: Default solver will be changed to 'lbfgs' in 0.22. Specify a solver to silence this warning.\n",
      "  FutureWarning)\n",
      "C:\\Users\\sanak\\Anaconda3\\lib\\site-packages\\sklearn\\linear_model\\logistic.py:469: FutureWarning: Default multi_class will be changed to 'auto' in 0.22. Specify the multi_class option to silence this warning.\n",
      "  \"this warning.\", FutureWarning)\n",
      "C:\\Users\\sanak\\Anaconda3\\lib\\site-packages\\sklearn\\linear_model\\logistic.py:432: FutureWarning: Default solver will be changed to 'lbfgs' in 0.22. Specify a solver to silence this warning.\n",
      "  FutureWarning)\n",
      "C:\\Users\\sanak\\Anaconda3\\lib\\site-packages\\sklearn\\linear_model\\logistic.py:469: FutureWarning: Default multi_class will be changed to 'auto' in 0.22. Specify the multi_class option to silence this warning.\n",
      "  \"this warning.\", FutureWarning)\n"
     ]
    },
    {
     "name": "stdout",
     "output_type": "stream",
     "text": [
      "[CV] ...... C=5, max_iter=1000, penalty=l1, score=0.717, total=   0.3s\n",
      "[CV] C=5, max_iter=1000, penalty=l1 ..................................\n",
      "[CV] ...... C=5, max_iter=1000, penalty=l1, score=0.732, total=   0.2s\n",
      "[CV] C=5, max_iter=1000, penalty=l1 ..................................\n"
     ]
    },
    {
     "name": "stderr",
     "output_type": "stream",
     "text": [
      "C:\\Users\\sanak\\Anaconda3\\lib\\site-packages\\sklearn\\linear_model\\logistic.py:432: FutureWarning: Default solver will be changed to 'lbfgs' in 0.22. Specify a solver to silence this warning.\n",
      "  FutureWarning)\n",
      "C:\\Users\\sanak\\Anaconda3\\lib\\site-packages\\sklearn\\linear_model\\logistic.py:469: FutureWarning: Default multi_class will be changed to 'auto' in 0.22. Specify the multi_class option to silence this warning.\n",
      "  \"this warning.\", FutureWarning)\n",
      "C:\\Users\\sanak\\Anaconda3\\lib\\site-packages\\sklearn\\linear_model\\logistic.py:432: FutureWarning: Default solver will be changed to 'lbfgs' in 0.22. Specify a solver to silence this warning.\n",
      "  FutureWarning)\n",
      "C:\\Users\\sanak\\Anaconda3\\lib\\site-packages\\sklearn\\linear_model\\logistic.py:469: FutureWarning: Default multi_class will be changed to 'auto' in 0.22. Specify the multi_class option to silence this warning.\n",
      "  \"this warning.\", FutureWarning)\n"
     ]
    },
    {
     "name": "stdout",
     "output_type": "stream",
     "text": [
      "[CV] ...... C=5, max_iter=1000, penalty=l1, score=0.758, total=   0.4s\n",
      "[CV] C=5, max_iter=1000, penalty=l2 ..................................\n",
      "[CV] ...... C=5, max_iter=1000, penalty=l2, score=0.659, total=   0.0s\n",
      "[CV] C=5, max_iter=1000, penalty=l2 ..................................\n",
      "[CV] ...... C=5, max_iter=1000, penalty=l2, score=0.663, total=   0.0s\n",
      "[CV] C=5, max_iter=1000, penalty=l2 ..................................\n",
      "[CV] ...... C=5, max_iter=1000, penalty=l2, score=0.703, total=   0.0s\n",
      "[CV] C=5, max_iter=5000, penalty=l1 ..................................\n"
     ]
    },
    {
     "name": "stderr",
     "output_type": "stream",
     "text": [
      "C:\\Users\\sanak\\Anaconda3\\lib\\site-packages\\sklearn\\linear_model\\logistic.py:432: FutureWarning: Default solver will be changed to 'lbfgs' in 0.22. Specify a solver to silence this warning.\n",
      "  FutureWarning)\n",
      "C:\\Users\\sanak\\Anaconda3\\lib\\site-packages\\sklearn\\linear_model\\logistic.py:469: FutureWarning: Default multi_class will be changed to 'auto' in 0.22. Specify the multi_class option to silence this warning.\n",
      "  \"this warning.\", FutureWarning)\n",
      "C:\\Users\\sanak\\Anaconda3\\lib\\site-packages\\sklearn\\linear_model\\logistic.py:432: FutureWarning: Default solver will be changed to 'lbfgs' in 0.22. Specify a solver to silence this warning.\n",
      "  FutureWarning)\n",
      "C:\\Users\\sanak\\Anaconda3\\lib\\site-packages\\sklearn\\linear_model\\logistic.py:469: FutureWarning: Default multi_class will be changed to 'auto' in 0.22. Specify the multi_class option to silence this warning.\n",
      "  \"this warning.\", FutureWarning)\n",
      "C:\\Users\\sanak\\Anaconda3\\lib\\site-packages\\sklearn\\linear_model\\logistic.py:432: FutureWarning: Default solver will be changed to 'lbfgs' in 0.22. Specify a solver to silence this warning.\n",
      "  FutureWarning)\n",
      "C:\\Users\\sanak\\Anaconda3\\lib\\site-packages\\sklearn\\linear_model\\logistic.py:469: FutureWarning: Default multi_class will be changed to 'auto' in 0.22. Specify the multi_class option to silence this warning.\n",
      "  \"this warning.\", FutureWarning)\n",
      "C:\\Users\\sanak\\Anaconda3\\lib\\site-packages\\sklearn\\linear_model\\logistic.py:432: FutureWarning: Default solver will be changed to 'lbfgs' in 0.22. Specify a solver to silence this warning.\n",
      "  FutureWarning)\n",
      "C:\\Users\\sanak\\Anaconda3\\lib\\site-packages\\sklearn\\linear_model\\logistic.py:469: FutureWarning: Default multi_class will be changed to 'auto' in 0.22. Specify the multi_class option to silence this warning.\n",
      "  \"this warning.\", FutureWarning)\n"
     ]
    },
    {
     "name": "stdout",
     "output_type": "stream",
     "text": [
      "[CV] ...... C=5, max_iter=5000, penalty=l1, score=0.719, total=   0.3s\n",
      "[CV] C=5, max_iter=5000, penalty=l1 ..................................\n",
      "[CV] ...... C=5, max_iter=5000, penalty=l1, score=0.729, total=   0.2s\n",
      "[CV] C=5, max_iter=5000, penalty=l1 ..................................\n"
     ]
    },
    {
     "name": "stderr",
     "output_type": "stream",
     "text": [
      "C:\\Users\\sanak\\Anaconda3\\lib\\site-packages\\sklearn\\linear_model\\logistic.py:432: FutureWarning: Default solver will be changed to 'lbfgs' in 0.22. Specify a solver to silence this warning.\n",
      "  FutureWarning)\n",
      "C:\\Users\\sanak\\Anaconda3\\lib\\site-packages\\sklearn\\linear_model\\logistic.py:469: FutureWarning: Default multi_class will be changed to 'auto' in 0.22. Specify the multi_class option to silence this warning.\n",
      "  \"this warning.\", FutureWarning)\n",
      "C:\\Users\\sanak\\Anaconda3\\lib\\site-packages\\sklearn\\linear_model\\logistic.py:432: FutureWarning: Default solver will be changed to 'lbfgs' in 0.22. Specify a solver to silence this warning.\n",
      "  FutureWarning)\n",
      "C:\\Users\\sanak\\Anaconda3\\lib\\site-packages\\sklearn\\linear_model\\logistic.py:469: FutureWarning: Default multi_class will be changed to 'auto' in 0.22. Specify the multi_class option to silence this warning.\n",
      "  \"this warning.\", FutureWarning)\n"
     ]
    },
    {
     "name": "stdout",
     "output_type": "stream",
     "text": [
      "[CV] ...... C=5, max_iter=5000, penalty=l1, score=0.758, total=   0.3s\n",
      "[CV] C=5, max_iter=5000, penalty=l2 ..................................\n",
      "[CV] ...... C=5, max_iter=5000, penalty=l2, score=0.659, total=   0.0s\n",
      "[CV] C=5, max_iter=5000, penalty=l2 ..................................\n",
      "[CV] ...... C=5, max_iter=5000, penalty=l2, score=0.663, total=   0.0s\n",
      "[CV] C=5, max_iter=5000, penalty=l2 ..................................\n",
      "[CV] ...... C=5, max_iter=5000, penalty=l2, score=0.703, total=   0.0s\n",
      "[CV] C=10, max_iter=500, penalty=l1 ..................................\n"
     ]
    },
    {
     "name": "stderr",
     "output_type": "stream",
     "text": [
      "C:\\Users\\sanak\\Anaconda3\\lib\\site-packages\\sklearn\\linear_model\\logistic.py:432: FutureWarning: Default solver will be changed to 'lbfgs' in 0.22. Specify a solver to silence this warning.\n",
      "  FutureWarning)\n",
      "C:\\Users\\sanak\\Anaconda3\\lib\\site-packages\\sklearn\\linear_model\\logistic.py:469: FutureWarning: Default multi_class will be changed to 'auto' in 0.22. Specify the multi_class option to silence this warning.\n",
      "  \"this warning.\", FutureWarning)\n",
      "C:\\Users\\sanak\\Anaconda3\\lib\\site-packages\\sklearn\\linear_model\\logistic.py:432: FutureWarning: Default solver will be changed to 'lbfgs' in 0.22. Specify a solver to silence this warning.\n",
      "  FutureWarning)\n",
      "C:\\Users\\sanak\\Anaconda3\\lib\\site-packages\\sklearn\\linear_model\\logistic.py:469: FutureWarning: Default multi_class will be changed to 'auto' in 0.22. Specify the multi_class option to silence this warning.\n",
      "  \"this warning.\", FutureWarning)\n",
      "C:\\Users\\sanak\\Anaconda3\\lib\\site-packages\\sklearn\\linear_model\\logistic.py:432: FutureWarning: Default solver will be changed to 'lbfgs' in 0.22. Specify a solver to silence this warning.\n",
      "  FutureWarning)\n",
      "C:\\Users\\sanak\\Anaconda3\\lib\\site-packages\\sklearn\\linear_model\\logistic.py:469: FutureWarning: Default multi_class will be changed to 'auto' in 0.22. Specify the multi_class option to silence this warning.\n",
      "  \"this warning.\", FutureWarning)\n",
      "C:\\Users\\sanak\\Anaconda3\\lib\\site-packages\\sklearn\\linear_model\\logistic.py:432: FutureWarning: Default solver will be changed to 'lbfgs' in 0.22. Specify a solver to silence this warning.\n",
      "  FutureWarning)\n",
      "C:\\Users\\sanak\\Anaconda3\\lib\\site-packages\\sklearn\\linear_model\\logistic.py:469: FutureWarning: Default multi_class will be changed to 'auto' in 0.22. Specify the multi_class option to silence this warning.\n",
      "  \"this warning.\", FutureWarning)\n"
     ]
    },
    {
     "name": "stdout",
     "output_type": "stream",
     "text": [
      "[CV] ...... C=10, max_iter=500, penalty=l1, score=0.719, total=   0.2s\n",
      "[CV] C=10, max_iter=500, penalty=l1 ..................................\n",
      "[CV] ...... C=10, max_iter=500, penalty=l1, score=0.721, total=   0.2s"
     ]
    },
    {
     "name": "stderr",
     "output_type": "stream",
     "text": [
      "C:\\Users\\sanak\\Anaconda3\\lib\\site-packages\\sklearn\\linear_model\\logistic.py:432: FutureWarning: Default solver will be changed to 'lbfgs' in 0.22. Specify a solver to silence this warning.\n",
      "  FutureWarning)\n",
      "C:\\Users\\sanak\\Anaconda3\\lib\\site-packages\\sklearn\\linear_model\\logistic.py:469: FutureWarning: Default multi_class will be changed to 'auto' in 0.22. Specify the multi_class option to silence this warning.\n",
      "  \"this warning.\", FutureWarning)\n"
     ]
    },
    {
     "name": "stdout",
     "output_type": "stream",
     "text": [
      "\n",
      "[CV] C=10, max_iter=500, penalty=l1 ..................................\n"
     ]
    },
    {
     "name": "stderr",
     "output_type": "stream",
     "text": [
      "C:\\Users\\sanak\\Anaconda3\\lib\\site-packages\\sklearn\\linear_model\\logistic.py:432: FutureWarning: Default solver will be changed to 'lbfgs' in 0.22. Specify a solver to silence this warning.\n",
      "  FutureWarning)\n",
      "C:\\Users\\sanak\\Anaconda3\\lib\\site-packages\\sklearn\\linear_model\\logistic.py:469: FutureWarning: Default multi_class will be changed to 'auto' in 0.22. Specify the multi_class option to silence this warning.\n",
      "  \"this warning.\", FutureWarning)\n"
     ]
    },
    {
     "name": "stdout",
     "output_type": "stream",
     "text": [
      "[CV] ...... C=10, max_iter=500, penalty=l1, score=0.758, total=   0.3s\n",
      "[CV] C=10, max_iter=500, penalty=l2 ..................................\n",
      "[CV] ...... C=10, max_iter=500, penalty=l2, score=0.657, total=   0.0s\n",
      "[CV] C=10, max_iter=500, penalty=l2 ..................................\n",
      "[CV] ...... C=10, max_iter=500, penalty=l2, score=0.663, total=   0.0s\n",
      "[CV] C=10, max_iter=500, penalty=l2 ..................................\n",
      "[CV] ...... C=10, max_iter=500, penalty=l2, score=0.703, total=   0.0s\n",
      "[CV] C=10, max_iter=1000, penalty=l1 .................................\n"
     ]
    },
    {
     "name": "stderr",
     "output_type": "stream",
     "text": [
      "C:\\Users\\sanak\\Anaconda3\\lib\\site-packages\\sklearn\\linear_model\\logistic.py:432: FutureWarning: Default solver will be changed to 'lbfgs' in 0.22. Specify a solver to silence this warning.\n",
      "  FutureWarning)\n",
      "C:\\Users\\sanak\\Anaconda3\\lib\\site-packages\\sklearn\\linear_model\\logistic.py:469: FutureWarning: Default multi_class will be changed to 'auto' in 0.22. Specify the multi_class option to silence this warning.\n",
      "  \"this warning.\", FutureWarning)\n",
      "C:\\Users\\sanak\\Anaconda3\\lib\\site-packages\\sklearn\\linear_model\\logistic.py:432: FutureWarning: Default solver will be changed to 'lbfgs' in 0.22. Specify a solver to silence this warning.\n",
      "  FutureWarning)\n",
      "C:\\Users\\sanak\\Anaconda3\\lib\\site-packages\\sklearn\\linear_model\\logistic.py:469: FutureWarning: Default multi_class will be changed to 'auto' in 0.22. Specify the multi_class option to silence this warning.\n",
      "  \"this warning.\", FutureWarning)\n",
      "C:\\Users\\sanak\\Anaconda3\\lib\\site-packages\\sklearn\\linear_model\\logistic.py:432: FutureWarning: Default solver will be changed to 'lbfgs' in 0.22. Specify a solver to silence this warning.\n",
      "  FutureWarning)\n",
      "C:\\Users\\sanak\\Anaconda3\\lib\\site-packages\\sklearn\\linear_model\\logistic.py:469: FutureWarning: Default multi_class will be changed to 'auto' in 0.22. Specify the multi_class option to silence this warning.\n",
      "  \"this warning.\", FutureWarning)\n",
      "C:\\Users\\sanak\\Anaconda3\\lib\\site-packages\\sklearn\\linear_model\\logistic.py:432: FutureWarning: Default solver will be changed to 'lbfgs' in 0.22. Specify a solver to silence this warning.\n",
      "  FutureWarning)\n",
      "C:\\Users\\sanak\\Anaconda3\\lib\\site-packages\\sklearn\\linear_model\\logistic.py:469: FutureWarning: Default multi_class will be changed to 'auto' in 0.22. Specify the multi_class option to silence this warning.\n",
      "  \"this warning.\", FutureWarning)\n"
     ]
    },
    {
     "name": "stdout",
     "output_type": "stream",
     "text": [
      "[CV] ..... C=10, max_iter=1000, penalty=l1, score=0.722, total=   0.2s\n",
      "[CV] C=10, max_iter=1000, penalty=l1 .................................\n"
     ]
    },
    {
     "name": "stderr",
     "output_type": "stream",
     "text": [
      "C:\\Users\\sanak\\Anaconda3\\lib\\site-packages\\sklearn\\linear_model\\logistic.py:432: FutureWarning: Default solver will be changed to 'lbfgs' in 0.22. Specify a solver to silence this warning.\n",
      "  FutureWarning)\n",
      "C:\\Users\\sanak\\Anaconda3\\lib\\site-packages\\sklearn\\linear_model\\logistic.py:469: FutureWarning: Default multi_class will be changed to 'auto' in 0.22. Specify the multi_class option to silence this warning.\n",
      "  \"this warning.\", FutureWarning)\n"
     ]
    },
    {
     "name": "stdout",
     "output_type": "stream",
     "text": [
      "[CV] ..... C=10, max_iter=1000, penalty=l1, score=0.721, total=   0.2s\n",
      "[CV] C=10, max_iter=1000, penalty=l1 .................................\n"
     ]
    },
    {
     "name": "stderr",
     "output_type": "stream",
     "text": [
      "C:\\Users\\sanak\\Anaconda3\\lib\\site-packages\\sklearn\\linear_model\\logistic.py:432: FutureWarning: Default solver will be changed to 'lbfgs' in 0.22. Specify a solver to silence this warning.\n",
      "  FutureWarning)\n",
      "C:\\Users\\sanak\\Anaconda3\\lib\\site-packages\\sklearn\\linear_model\\logistic.py:469: FutureWarning: Default multi_class will be changed to 'auto' in 0.22. Specify the multi_class option to silence this warning.\n",
      "  \"this warning.\", FutureWarning)\n"
     ]
    },
    {
     "name": "stdout",
     "output_type": "stream",
     "text": [
      "[CV] ..... C=10, max_iter=1000, penalty=l1, score=0.758, total=   0.3s\n",
      "[CV] C=10, max_iter=1000, penalty=l2 .................................\n",
      "[CV] ..... C=10, max_iter=1000, penalty=l2, score=0.657, total=   0.0s\n",
      "[CV] C=10, max_iter=1000, penalty=l2 .................................\n",
      "[CV] ..... C=10, max_iter=1000, penalty=l2, score=0.663, total=   0.0s\n",
      "[CV] C=10, max_iter=1000, penalty=l2 .................................\n",
      "[CV] ..... C=10, max_iter=1000, penalty=l2, score=0.703, total=   0.0s\n",
      "[CV] C=10, max_iter=5000, penalty=l1 .................................\n"
     ]
    },
    {
     "name": "stderr",
     "output_type": "stream",
     "text": [
      "C:\\Users\\sanak\\Anaconda3\\lib\\site-packages\\sklearn\\linear_model\\logistic.py:432: FutureWarning: Default solver will be changed to 'lbfgs' in 0.22. Specify a solver to silence this warning.\n",
      "  FutureWarning)\n",
      "C:\\Users\\sanak\\Anaconda3\\lib\\site-packages\\sklearn\\linear_model\\logistic.py:469: FutureWarning: Default multi_class will be changed to 'auto' in 0.22. Specify the multi_class option to silence this warning.\n",
      "  \"this warning.\", FutureWarning)\n",
      "C:\\Users\\sanak\\Anaconda3\\lib\\site-packages\\sklearn\\linear_model\\logistic.py:432: FutureWarning: Default solver will be changed to 'lbfgs' in 0.22. Specify a solver to silence this warning.\n",
      "  FutureWarning)\n",
      "C:\\Users\\sanak\\Anaconda3\\lib\\site-packages\\sklearn\\linear_model\\logistic.py:469: FutureWarning: Default multi_class will be changed to 'auto' in 0.22. Specify the multi_class option to silence this warning.\n",
      "  \"this warning.\", FutureWarning)\n",
      "C:\\Users\\sanak\\Anaconda3\\lib\\site-packages\\sklearn\\linear_model\\logistic.py:432: FutureWarning: Default solver will be changed to 'lbfgs' in 0.22. Specify a solver to silence this warning.\n",
      "  FutureWarning)\n",
      "C:\\Users\\sanak\\Anaconda3\\lib\\site-packages\\sklearn\\linear_model\\logistic.py:469: FutureWarning: Default multi_class will be changed to 'auto' in 0.22. Specify the multi_class option to silence this warning.\n",
      "  \"this warning.\", FutureWarning)\n",
      "C:\\Users\\sanak\\Anaconda3\\lib\\site-packages\\sklearn\\linear_model\\logistic.py:432: FutureWarning: Default solver will be changed to 'lbfgs' in 0.22. Specify a solver to silence this warning.\n",
      "  FutureWarning)\n",
      "C:\\Users\\sanak\\Anaconda3\\lib\\site-packages\\sklearn\\linear_model\\logistic.py:469: FutureWarning: Default multi_class will be changed to 'auto' in 0.22. Specify the multi_class option to silence this warning.\n",
      "  \"this warning.\", FutureWarning)\n"
     ]
    },
    {
     "name": "stdout",
     "output_type": "stream",
     "text": [
      "[CV] ..... C=10, max_iter=5000, penalty=l1, score=0.719, total=   0.2s\n",
      "[CV] C=10, max_iter=5000, penalty=l1 .................................\n",
      "[CV] ..... C=10, max_iter=5000, penalty=l1, score=0.721, total=   0.2s\n",
      "[CV] C=10, max_iter=5000, penalty=l1 .................................\n"
     ]
    },
    {
     "name": "stderr",
     "output_type": "stream",
     "text": [
      "C:\\Users\\sanak\\Anaconda3\\lib\\site-packages\\sklearn\\linear_model\\logistic.py:432: FutureWarning: Default solver will be changed to 'lbfgs' in 0.22. Specify a solver to silence this warning.\n",
      "  FutureWarning)\n",
      "C:\\Users\\sanak\\Anaconda3\\lib\\site-packages\\sklearn\\linear_model\\logistic.py:469: FutureWarning: Default multi_class will be changed to 'auto' in 0.22. Specify the multi_class option to silence this warning.\n",
      "  \"this warning.\", FutureWarning)\n",
      "C:\\Users\\sanak\\Anaconda3\\lib\\site-packages\\sklearn\\linear_model\\logistic.py:432: FutureWarning: Default solver will be changed to 'lbfgs' in 0.22. Specify a solver to silence this warning.\n",
      "  FutureWarning)\n",
      "C:\\Users\\sanak\\Anaconda3\\lib\\site-packages\\sklearn\\linear_model\\logistic.py:469: FutureWarning: Default multi_class will be changed to 'auto' in 0.22. Specify the multi_class option to silence this warning.\n",
      "  \"this warning.\", FutureWarning)\n"
     ]
    },
    {
     "name": "stdout",
     "output_type": "stream",
     "text": [
      "[CV] ..... C=10, max_iter=5000, penalty=l1, score=0.758, total=   0.3s\n",
      "[CV] C=10, max_iter=5000, penalty=l2 .................................\n",
      "[CV] ..... C=10, max_iter=5000, penalty=l2, score=0.657, total=   0.0s\n",
      "[CV] C=10, max_iter=5000, penalty=l2 .................................\n",
      "[CV] ..... C=10, max_iter=5000, penalty=l2, score=0.663, total=   0.0s\n",
      "[CV] C=10, max_iter=5000, penalty=l2 .................................\n",
      "[CV] ..... C=10, max_iter=5000, penalty=l2, score=0.703, total=   0.0s\n"
     ]
    },
    {
     "name": "stderr",
     "output_type": "stream",
     "text": [
      "C:\\Users\\sanak\\Anaconda3\\lib\\site-packages\\sklearn\\linear_model\\logistic.py:432: FutureWarning: Default solver will be changed to 'lbfgs' in 0.22. Specify a solver to silence this warning.\n",
      "  FutureWarning)\n",
      "C:\\Users\\sanak\\Anaconda3\\lib\\site-packages\\sklearn\\linear_model\\logistic.py:469: FutureWarning: Default multi_class will be changed to 'auto' in 0.22. Specify the multi_class option to silence this warning.\n",
      "  \"this warning.\", FutureWarning)\n",
      "C:\\Users\\sanak\\Anaconda3\\lib\\site-packages\\sklearn\\linear_model\\logistic.py:432: FutureWarning: Default solver will be changed to 'lbfgs' in 0.22. Specify a solver to silence this warning.\n",
      "  FutureWarning)\n",
      "C:\\Users\\sanak\\Anaconda3\\lib\\site-packages\\sklearn\\linear_model\\logistic.py:469: FutureWarning: Default multi_class will be changed to 'auto' in 0.22. Specify the multi_class option to silence this warning.\n",
      "  \"this warning.\", FutureWarning)\n",
      "C:\\Users\\sanak\\Anaconda3\\lib\\site-packages\\sklearn\\linear_model\\logistic.py:432: FutureWarning: Default solver will be changed to 'lbfgs' in 0.22. Specify a solver to silence this warning.\n",
      "  FutureWarning)\n",
      "C:\\Users\\sanak\\Anaconda3\\lib\\site-packages\\sklearn\\linear_model\\logistic.py:469: FutureWarning: Default multi_class will be changed to 'auto' in 0.22. Specify the multi_class option to silence this warning.\n",
      "  \"this warning.\", FutureWarning)\n",
      "[Parallel(n_jobs=1)]: Done  54 out of  54 | elapsed:    6.9s finished\n",
      "C:\\Users\\sanak\\Anaconda3\\lib\\site-packages\\sklearn\\linear_model\\logistic.py:432: FutureWarning: Default solver will be changed to 'lbfgs' in 0.22. Specify a solver to silence this warning.\n",
      "  FutureWarning)\n",
      "C:\\Users\\sanak\\Anaconda3\\lib\\site-packages\\sklearn\\linear_model\\logistic.py:469: FutureWarning: Default multi_class will be changed to 'auto' in 0.22. Specify the multi_class option to silence this warning.\n",
      "  \"this warning.\", FutureWarning)\n"
     ]
    },
    {
     "data": {
      "text/plain": [
       "GridSearchCV(cv='warn', error_score='raise-deprecating',\n",
       "             estimator=LogisticRegression(C=1.0, class_weight=None, dual=False,\n",
       "                                          fit_intercept=True,\n",
       "                                          intercept_scaling=1, l1_ratio=None,\n",
       "                                          max_iter=100, multi_class='warn',\n",
       "                                          n_jobs=None, penalty='l2',\n",
       "                                          random_state=None, solver='warn',\n",
       "                                          tol=0.0001, verbose=0,\n",
       "                                          warm_start=False),\n",
       "             iid='warn', n_jobs=None,\n",
       "             param_grid={'C': [1, 5, 10], 'max_iter': [500, 1000, 5000],\n",
       "                         'penalty': ['l1', 'l2']},\n",
       "             pre_dispatch='2*n_jobs', refit=True, return_train_score=False,\n",
       "             scoring=None, verbose=3)"
      ]
     },
     "execution_count": 58,
     "metadata": {},
     "output_type": "execute_result"
    }
   ],
   "source": [
    "# Train the model with GridSearch\n",
    "grid.fit(X_train, y_train)"
   ]
  },
  {
   "cell_type": "code",
   "execution_count": 59,
   "metadata": {},
   "outputs": [
    {
     "name": "stdout",
     "output_type": "stream",
     "text": [
      "{'C': 1, 'max_iter': 500, 'penalty': 'l1'}\n",
      "0.7382920110192838\n"
     ]
    }
   ],
   "source": [
    "print(grid.best_params_)\n",
    "print(grid.best_score_)"
   ]
  },
  {
   "cell_type": "markdown",
   "metadata": {},
   "source": [
    "# Save the Model"
   ]
  },
  {
   "cell_type": "code",
   "execution_count": 60,
   "metadata": {},
   "outputs": [
    {
     "data": {
      "text/plain": [
       "['logistic.joblib']"
      ]
     },
     "execution_count": 60,
     "metadata": {},
     "output_type": "execute_result"
    }
   ],
   "source": [
    "import joblib\n",
    "joblib.dump(model5, \"logistic.joblib\")"
   ]
  }
 ],
 "metadata": {
  "celltoolbar": "Slideshow",
  "kernelspec": {
   "display_name": "Python 3",
   "language": "python",
   "name": "python3"
  },
  "language_info": {
   "codemirror_mode": {
    "name": "ipython",
    "version": 3
   },
   "file_extension": ".py",
   "mimetype": "text/x-python",
   "name": "python",
   "nbconvert_exporter": "python",
   "pygments_lexer": "ipython3",
   "version": "3.7.7"
  }
 },
 "nbformat": 4,
 "nbformat_minor": 4
}
